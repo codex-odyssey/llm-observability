{
 "cells": [
  {
   "cell_type": "markdown",
   "metadata": {},
   "source": [
    "## オブザーバビリティを高める機能"
   ]
  },
  {
   "cell_type": "markdown",
   "metadata": {},
   "source": [
    "必要なライブラリをダウンロードします。"
   ]
  },
  {
   "cell_type": "code",
   "execution_count": null,
   "metadata": {},
   "outputs": [],
   "source": [
    "%pip install -r ../requirements.txt"
   ]
  },
  {
   "cell_type": "markdown",
   "metadata": {},
   "source": [
    "実行に必要な環境変数を読み込みます。"
   ]
  },
  {
   "cell_type": "code",
   "execution_count": 1,
   "metadata": {},
   "outputs": [],
   "source": [
    "import os, warnings, time, uuid\n",
    "\n",
    "# おまじない\n",
    "warnings.filterwarnings(\"ignore\")\n",
    "\n",
    "endpoint = \"http://localhost:3000\"\n",
    "public_key = os.getenv(\"PUBLIC_KEY\")\n",
    "secret_key = os.getenv(\"SECRET_KEY\")"
   ]
  },
  {
   "cell_type": "markdown",
   "metadata": {},
   "source": [
    "### セッション"
   ]
  },
  {
   "cell_type": "markdown",
   "metadata": {},
   "source": [
    "各トレースを同一グループにするために、セッションIDをUUID v4ベースで生成する"
   ]
  },
  {
   "cell_type": "code",
   "execution_count": 2,
   "metadata": {},
   "outputs": [],
   "source": [
    "import uuid\n",
    "\n",
    "session_id = str(uuid.uuid4())"
   ]
  },
  {
   "cell_type": "markdown",
   "metadata": {},
   "source": [
    "`@observe()`デコレーターを使用した場合"
   ]
  },
  {
   "cell_type": "code",
   "execution_count": 6,
   "metadata": {},
   "outputs": [],
   "source": [
    "from langfuse.decorators import langfuse_context, observe\n",
    "\n",
    "langfuse_context.configure(\n",
    "    public_key=public_key,\n",
    "    secret_key=secret_key,\n",
    "    host=endpoint\n",
    ")\n",
    "\n",
    "@observe()\n",
    "def search_the_bigbaby():\n",
    "    # 同期の検索処理を想定\n",
    "    time.sleep(2)\n",
    "    langfuse_context.update_current_trace(\n",
    "        session_id=session_id\n",
    "    )\n",
    "\n",
    "search_the_bigbaby()\n",
    "search_the_bigbaby()"
   ]
  },
  {
   "cell_type": "markdown",
   "metadata": {},
   "source": [
    "Low-Level SDKを使用した場合"
   ]
  },
  {
   "cell_type": "code",
   "execution_count": 7,
   "metadata": {},
   "outputs": [
    {
     "data": {
      "text/plain": [
       "<langfuse.client.StatefulSpanClient at 0x7fb5c6b83980>"
      ]
     },
     "execution_count": 7,
     "metadata": {},
     "output_type": "execute_result"
    }
   ],
   "source": [
    "from langfuse import Langfuse\n",
    "\n",
    "langfuse = Langfuse(\n",
    "    public_key=public_key,\n",
    "    secret_key=secret_key,\n",
    "    host=endpoint\n",
    ")\n",
    "\n",
    "trace = langfuse.trace(\n",
    "    name=\"Ask the BigBaBy\",\n",
    "    session_id=session_id\n",
    ")\n",
    "\n",
    "span = trace.span(\n",
    "    name=\"Search the BigBaBy's dictionary\"\n",
    ")\n",
    "# 同期の検索処理を想定\n",
    "time.sleep(2)\n",
    "span.end()"
   ]
  },
  {
   "cell_type": "markdown",
   "metadata": {},
   "source": [
    "LangChainのCallback実装を使った場合"
   ]
  },
  {
   "cell_type": "code",
   "execution_count": 9,
   "metadata": {},
   "outputs": [
    {
     "name": "stdout",
     "output_type": "stream",
     "text": [
      "validate_env\n",
      "generate\n",
      "<cohere.client.Client object at 0x7fb5c5a8dd30>\n",
      "{'message': '肉料理のおすすめ教えて', 'chat_history': [], 'model': 'command-r-plus'}\n",
      "basecohere.chat\n",
      "text='喜んでいただけるか分かりませんが、いくつかおすすめの肉料理を紹介します。\\n\\n- ローストビーフ： 牛肉の塊をオーブンで焼いた料理で、柔らかくジューシーな食感と深い味わいが楽しめます。\\n- 豚の角煮： 豚バラ肉を醤油や砂糖などで長時間煮込んだ料理で、とろけるような食感と甘辛い味付けがご飯に良く合います。\\n- チキンティッカ： インド料理のグリルチキンで、ヨーグルトと香辛料に漬け込んだ鶏肉を串に刺して焼いたものです。香り高くジューシーな味わいが特徴です。\\n- ラムチョップ： 仔羊の骨付きロース肉をグリルしたもので、柔らかくクセのない赤身肉が楽しめます。\\n- 牛タン焼き： 牛タンをスライスして焼いた料理で、柔らかくて旨味たっぷりの味わいが魅力です。\\n\\n以上、お好みや気分に合わせてお楽しみください。' generation_id='99632c08-b0d9-4778-a9ca-c59a6e5fe1ec' citations=None documents=None is_search_required=None search_queries=None search_results=None finish_reason='COMPLETE' tool_calls=None chat_history=[Message_User(message='肉料理のおすすめ教えて', tool_calls=None, role='USER'), Message_Chatbot(message='喜んでいただけるか分かりませんが、いくつかおすすめの肉料理を紹介します。\\n\\n- ローストビーフ： 牛肉の塊をオーブンで焼いた料理で、柔らかくジューシーな食感と深い味わいが楽しめます。\\n- 豚の角煮： 豚バラ肉を醤油や砂糖などで長時間煮込んだ料理で、とろけるような食感と甘辛い味付けがご飯に良く合います。\\n- チキンティッカ： インド料理のグリルチキンで、ヨーグルトと香辛料に漬け込んだ鶏肉を串に刺して焼いたものです。香り高くジューシーな味わいが特徴です。\\n- ラムチョップ： 仔羊の骨付きロース肉をグリルしたもので、柔らかくクセのない赤身肉が楽しめます。\\n- 牛タン焼き： 牛タンをスライスして焼いた料理で、柔らかくて旨味たっぷりの味わいが魅力です。\\n\\n以上、お好みや気分に合わせてお楽しみください。', tool_calls=None, role='CHATBOT')] prompt=None meta=ApiMeta(api_version=ApiMetaApiVersion(version='1', is_deprecated=None, is_experimental=None), billed_units=ApiMetaBilledUnits(input_tokens=8.0, output_tokens=254.0, search_units=None, classifications=None), tokens=ApiMetaTokens(input_tokens=206.0, output_tokens=254.0), warnings=None) response_id='93c1bfb2-6a54-4825-8096-740ce0b78aa2'\n",
      "generate\n",
      "<cohere.client.Client object at 0x7fb5c5a8dd30>\n",
      "{'message': '肉料理のおすすめ教えて', 'chat_history': [], 'model': 'command-r-plus'}\n",
      "basecohere.chat\n",
      "text='喜んでいただけるか分かりませんが、いくつかおすすめの肉料理を紹介します。\\n\\n- ローストビーフ： 牛肉の塊をオーブンでゆっくりと焼き上げた料理です。ジューシーで柔らかく、赤身の美味しさを存分に楽しめます。\\n- 豚の角煮： 豚バラ肉を醤油や砂糖などで長時間煮込んだ料理です。脂が柔らかく、とろけるような食感が魅力です。\\n- チキンティッカ： インド料理のグリルチキンで、ヨーグルトと香辛料に漬け込んだ鶏肉を串に刺して焼き上げます。香り高く、ジューシーな味わいです。\\n- ラムチョップ： ラム肉のリブ（肋骨）部分をカットしたもので、骨付きのままグリルしたり、オーブンで焼いたりして楽しめます。独特の香りと旨味があります。\\n- 牛タン焼き： 牛タンをスライスして焼き上げた料理で、仙台の名物としても知られています。柔らかく、噛むほどに旨味が広がります。\\n\\nこれらの料理は、家庭でも比較的簡単に作れるものから、少し手間のかかるものまで様々ですが、ぜひお試しください。' generation_id='cbbc5721-d4b8-4f16-9d1a-4241031955c5' citations=None documents=None is_search_required=None search_queries=None search_results=None finish_reason='COMPLETE' tool_calls=None chat_history=[Message_User(message='肉料理のおすすめ教えて', tool_calls=None, role='USER'), Message_Chatbot(message='喜んでいただけるか分かりませんが、いくつかおすすめの肉料理を紹介します。\\n\\n- ローストビーフ： 牛肉の塊をオーブンでゆっくりと焼き上げた料理です。ジューシーで柔らかく、赤身の美味しさを存分に楽しめます。\\n- 豚の角煮： 豚バラ肉を醤油や砂糖などで長時間煮込んだ料理です。脂が柔らかく、とろけるような食感が魅力です。\\n- チキンティッカ： インド料理のグリルチキンで、ヨーグルトと香辛料に漬け込んだ鶏肉を串に刺して焼き上げます。香り高く、ジューシーな味わいです。\\n- ラムチョップ： ラム肉のリブ（肋骨）部分をカットしたもので、骨付きのままグリルしたり、オーブンで焼いたりして楽しめます。独特の香りと旨味があります。\\n- 牛タン焼き： 牛タンをスライスして焼き上げた料理で、仙台の名物としても知られています。柔らかく、噛むほどに旨味が広がります。\\n\\nこれらの料理は、家庭でも比較的簡単に作れるものから、少し手間のかかるものまで様々ですが、ぜひお試しください。', tool_calls=None, role='CHATBOT')] prompt=None meta=ApiMeta(api_version=ApiMetaApiVersion(version='1', is_deprecated=None, is_experimental=None), billed_units=ApiMetaBilledUnits(input_tokens=8.0, output_tokens=294.0, search_units=None, classifications=None), tokens=ApiMetaTokens(input_tokens=206.0, output_tokens=294.0), warnings=None) response_id='63101769-efcf-4894-b2e1-f891ae614b8e'\n"
     ]
    },
    {
     "data": {
      "text/plain": [
       "AIMessage(content='喜んでいただけるか分かりませんが、いくつかおすすめの肉料理を紹介します。\\n\\n- ローストビーフ： 牛肉の塊をオーブンでゆっくりと焼き上げた料理です。ジューシーで柔らかく、赤身の美味しさを存分に楽しめます。\\n- 豚の角煮： 豚バラ肉を醤油や砂糖などで長時間煮込んだ料理です。脂が柔らかく、とろけるような食感が魅力です。\\n- チキンティッカ： インド料理のグリルチキンで、ヨーグルトと香辛料に漬け込んだ鶏肉を串に刺して焼き上げます。香り高く、ジューシーな味わいです。\\n- ラムチョップ： ラム肉のリブ（肋骨）部分をカットしたもので、骨付きのままグリルしたり、オーブンで焼いたりして楽しめます。独特の香りと旨味があります。\\n- 牛タン焼き： 牛タンをスライスして焼き上げた料理で、仙台の名物としても知られています。柔らかく、噛むほどに旨味が広がります。\\n\\nこれらの料理は、家庭でも比較的簡単に作れるものから、少し手間のかかるものまで様々ですが、ぜひお試しください。', additional_kwargs={'documents': None, 'citations': None, 'search_results': None, 'search_queries': None, 'is_search_required': None, 'generation_id': 'cbbc5721-d4b8-4f16-9d1a-4241031955c5', 'token_count': {'input_tokens': 206.0, 'output_tokens': 294.0}}, response_metadata={'documents': None, 'citations': None, 'search_results': None, 'search_queries': None, 'is_search_required': None, 'generation_id': 'cbbc5721-d4b8-4f16-9d1a-4241031955c5', 'token_count': {'input_tokens': 206.0, 'output_tokens': 294.0}}, id='run-5b1ff9af-87c0-4729-b84e-427543221de3-0', usage_metadata={'input_tokens': 206, 'output_tokens': 294, 'total_tokens': 500})"
      ]
     },
     "execution_count": 9,
     "metadata": {},
     "output_type": "execute_result"
    }
   ],
   "source": [
    "from langfuse.callback import CallbackHandler\n",
    "\n",
    "callback_handler = CallbackHandler(\n",
    "    public_key=public_key,\n",
    "    secret_key=secret_key,\n",
    "    host=endpoint,\n",
    "    session_id=session_id\n",
    ")\n",
    "\n",
    "if os.getenv(\"COHERE_API_KEY\") == None:\n",
    "    from langchain_openai.chat_models import ChatOpenAI\n",
    "    openai_api_key = os.getenv(\"OPENAI_API_KEY\")\n",
    "    model = \"gpt-4o-mini\"\n",
    "    chat = ChatOpenAI(api_key=openai_api_key, model=model)\n",
    "else:\n",
    "    from langchain_cohere.chat_models import ChatCohere\n",
    "    cohere_api_key = os.getenv(\"COHERE_API_KEY\")\n",
    "    model = \"command-r-plus\"\n",
    "    chat = ChatCohere(cohere_api_key=cohere_api_key, model=model)\n",
    "\n",
    "chat.invoke(\n",
    "    input=\"肉料理のおすすめ教えて\",\n",
    "    config={\"callbacks\": [callback_handler]}\n",
    ")\n",
    "chat.invoke(\n",
    "    input=\"肉料理のおすすめ教えて\",\n",
    "    config={\"callbacks\": [callback_handler]}\n",
    ")"
   ]
  },
  {
   "cell_type": "markdown",
   "metadata": {},
   "source": [
    "### ユーザー"
   ]
  },
  {
   "cell_type": "markdown",
   "metadata": {},
   "source": [
    "`@observe()`デコレーターを使用した場合"
   ]
  },
  {
   "cell_type": "code",
   "execution_count": 10,
   "metadata": {},
   "outputs": [],
   "source": [
    "from langfuse.decorators import langfuse_context, observe\n",
    "\n",
    "langfuse_context.configure(\n",
    "    public_key=public_key,\n",
    "    secret_key=secret_key,\n",
    "    host=endpoint\n",
    ")\n",
    "\n",
    "@observe()\n",
    "def search_the_bigbaby():\n",
    "    # 同期の検索処理を想定\n",
    "    time.sleep(2)\n",
    "    langfuse_context.update_current_trace(\n",
    "        user_id=\"user@example.com\"\n",
    "    )\n",
    "\n",
    "search_the_bigbaby()"
   ]
  },
  {
   "cell_type": "markdown",
   "metadata": {},
   "source": [
    "Low-Level SDKを使用した場合"
   ]
  },
  {
   "cell_type": "code",
   "execution_count": 11,
   "metadata": {},
   "outputs": [
    {
     "data": {
      "text/plain": [
       "<langfuse.client.StatefulSpanClient at 0x7fb58dcbdcd0>"
      ]
     },
     "execution_count": 11,
     "metadata": {},
     "output_type": "execute_result"
    }
   ],
   "source": [
    "from langfuse import Langfuse\n",
    "\n",
    "langfuse = Langfuse(\n",
    "    public_key=public_key,\n",
    "    secret_key=secret_key,\n",
    "    host=endpoint\n",
    ")\n",
    "\n",
    "trace = langfuse.trace(\n",
    "    name=\"Ask the BigBaBy\",\n",
    "    user_id=\"user@example.com\"\n",
    ")\n",
    "\n",
    "span = trace.span(\n",
    "    name=\"Search the BigBaBy's dictionary\"\n",
    ")\n",
    "# 同期の検索処理を想定\n",
    "time.sleep(2)\n",
    "span.end()"
   ]
  },
  {
   "cell_type": "markdown",
   "metadata": {},
   "source": [
    "LangChainのCallback実装を使った場合"
   ]
  },
  {
   "cell_type": "code",
   "execution_count": 12,
   "metadata": {},
   "outputs": [
    {
     "name": "stdout",
     "output_type": "stream",
     "text": [
      "validate_env\n",
      "generate\n",
      "<cohere.client.Client object at 0x7fb58dc2fbf0>\n",
      "{'message': '肉料理のおすすめ教えて', 'chat_history': [], 'model': 'command-r-plus'}\n",
      "basecohere.chat\n",
      "text='喜んでいただけるか分かりませんが、いくつかおすすめの肉料理を紹介します。\\n\\n- ローストビーフ： 牛肉の塊をオーブンなどでゆっくりと焼き上げた料理です。ジューシーでやわらかな食感と、深い味わいが楽しめます。\\n- 豚の角煮： 豚バラ肉を醤油や砂糖などで甘辛く煮込んだ料理です。とろけるような食感と、濃厚な味わいが魅力です。\\n- チキンティッカ： インド料理の代表的な肉料理で、ヨーグルトと香辛料に漬け込んだ鶏肉を串に刺して焼いたものです。スパイシーでジューシーな味わいが楽しめます。\\n- ラムチョップ： ラム肉のロース部分を骨付きのまま焼いた料理です。やわらかな食感と、独特の香りと風味が魅力です。\\n- 牛タン焼き： 牛タンをスライスして焼いた料理です。やわらかな食感と、独特の旨みが楽しめます。\\n\\n以上、お口に合うものがあれば幸いです。' generation_id='86439133-24a5-4b93-a14a-7890004e8ac6' citations=None documents=None is_search_required=None search_queries=None search_results=None finish_reason='COMPLETE' tool_calls=None chat_history=[Message_User(message='肉料理のおすすめ教えて', tool_calls=None, role='USER'), Message_Chatbot(message='喜んでいただけるか分かりませんが、いくつかおすすめの肉料理を紹介します。\\n\\n- ローストビーフ： 牛肉の塊をオーブンなどでゆっくりと焼き上げた料理です。ジューシーでやわらかな食感と、深い味わいが楽しめます。\\n- 豚の角煮： 豚バラ肉を醤油や砂糖などで甘辛く煮込んだ料理です。とろけるような食感と、濃厚な味わいが魅力です。\\n- チキンティッカ： インド料理の代表的な肉料理で、ヨーグルトと香辛料に漬け込んだ鶏肉を串に刺して焼いたものです。スパイシーでジューシーな味わいが楽しめます。\\n- ラムチョップ： ラム肉のロース部分を骨付きのまま焼いた料理です。やわらかな食感と、独特の香りと風味が魅力です。\\n- 牛タン焼き： 牛タンをスライスして焼いた料理です。やわらかな食感と、独特の旨みが楽しめます。\\n\\n以上、お口に合うものがあれば幸いです。', tool_calls=None, role='CHATBOT')] prompt=None meta=ApiMeta(api_version=ApiMetaApiVersion(version='1', is_deprecated=None, is_experimental=None), billed_units=ApiMetaBilledUnits(input_tokens=8.0, output_tokens=258.0, search_units=None, classifications=None), tokens=ApiMetaTokens(input_tokens=206.0, output_tokens=258.0), warnings=None) response_id='eb42d4e1-276f-48bc-a52e-aa78ae495af1'\n"
     ]
    },
    {
     "data": {
      "text/plain": [
       "AIMessage(content='喜んでいただけるか分かりませんが、いくつかおすすめの肉料理を紹介します。\\n\\n- ローストビーフ： 牛肉の塊をオーブンなどでゆっくりと焼き上げた料理です。ジューシーでやわらかな食感と、深い味わいが楽しめます。\\n- 豚の角煮： 豚バラ肉を醤油や砂糖などで甘辛く煮込んだ料理です。とろけるような食感と、濃厚な味わいが魅力です。\\n- チキンティッカ： インド料理の代表的な肉料理で、ヨーグルトと香辛料に漬け込んだ鶏肉を串に刺して焼いたものです。スパイシーでジューシーな味わいが楽しめます。\\n- ラムチョップ： ラム肉のロース部分を骨付きのまま焼いた料理です。やわらかな食感と、独特の香りと風味が魅力です。\\n- 牛タン焼き： 牛タンをスライスして焼いた料理です。やわらかな食感と、独特の旨みが楽しめます。\\n\\n以上、お口に合うものがあれば幸いです。', additional_kwargs={'documents': None, 'citations': None, 'search_results': None, 'search_queries': None, 'is_search_required': None, 'generation_id': '86439133-24a5-4b93-a14a-7890004e8ac6', 'token_count': {'input_tokens': 206.0, 'output_tokens': 258.0}}, response_metadata={'documents': None, 'citations': None, 'search_results': None, 'search_queries': None, 'is_search_required': None, 'generation_id': '86439133-24a5-4b93-a14a-7890004e8ac6', 'token_count': {'input_tokens': 206.0, 'output_tokens': 258.0}}, id='run-51bee2bb-7493-4abd-9b23-65f3679d45a2-0', usage_metadata={'input_tokens': 206, 'output_tokens': 258, 'total_tokens': 464})"
      ]
     },
     "execution_count": 12,
     "metadata": {},
     "output_type": "execute_result"
    }
   ],
   "source": [
    "from langfuse.callback import CallbackHandler\n",
    "\n",
    "callback_handler = CallbackHandler(\n",
    "    public_key=public_key,\n",
    "    secret_key=secret_key,\n",
    "    host=endpoint,\n",
    "    user_id=\"user@example.com\"\n",
    ")\n",
    "\n",
    "if os.getenv(\"COHERE_API_KEY\") == None:\n",
    "    from langchain_openai.chat_models import ChatOpenAI\n",
    "    openai_api_key = os.getenv(\"OPENAI_API_KEY\")\n",
    "    model = \"gpt-4o-mini\"\n",
    "    chat = ChatOpenAI(api_key=openai_api_key, model=model)\n",
    "else:\n",
    "    from langchain_cohere.chat_models import ChatCohere\n",
    "    cohere_api_key = os.getenv(\"COHERE_API_KEY\")\n",
    "    model = \"command-r-plus\"\n",
    "    chat = ChatCohere(cohere_api_key=cohere_api_key, model=model)\n",
    "\n",
    "chat.invoke(\n",
    "    input=\"肉料理のおすすめ教えて\",\n",
    "    config={\"callbacks\": [callback_handler]}\n",
    ")"
   ]
  },
  {
   "cell_type": "markdown",
   "metadata": {},
   "source": [
    "### メタデータ"
   ]
  },
  {
   "cell_type": "markdown",
   "metadata": {},
   "source": [
    "`@observe()`デコレーターを使用した場合"
   ]
  },
  {
   "cell_type": "code",
   "execution_count": 13,
   "metadata": {},
   "outputs": [],
   "source": [
    "from langfuse.decorators import langfuse_context, observe\n",
    "\n",
    "langfuse_context.configure(\n",
    "    public_key=public_key,\n",
    "    secret_key=secret_key,\n",
    "    host=endpoint\n",
    ")\n",
    "\n",
    "@observe()\n",
    "def search_the_bigbaby():\n",
    "    # 同期の検索処理を想定\n",
    "    time.sleep(2)\n",
    "    langfuse_context.update_current_trace(\n",
    "        metadata={\n",
    "            \"search_params_top_k\": 3\n",
    "        }\n",
    "    )\n",
    "\n",
    "search_the_bigbaby()"
   ]
  },
  {
   "cell_type": "markdown",
   "metadata": {},
   "source": [
    "Low-Level SDKを使用した場合"
   ]
  },
  {
   "cell_type": "code",
   "execution_count": 11,
   "metadata": {},
   "outputs": [
    {
     "data": {
      "text/plain": [
       "<langfuse.client.StatefulSpanClient at 0x73784950acf0>"
      ]
     },
     "execution_count": 11,
     "metadata": {},
     "output_type": "execute_result"
    }
   ],
   "source": [
    "from langfuse import Langfuse\n",
    "\n",
    "langfuse = Langfuse(\n",
    "    public_key=public_key,\n",
    "    secret_key=secret_key,\n",
    "    host=endpoint\n",
    ")\n",
    "\n",
    "trace = langfuse.trace(\n",
    "    name=\"Ask the BigBaBy\",\n",
    "    metadata={\n",
    "        \"search_params_top_k\": 3\n",
    "    }\n",
    ")\n",
    "\n",
    "span = trace.span(\n",
    "    name=\"Search the BigBaBy's dictionary\"\n",
    ")\n",
    "# 同期の検索処理を想定\n",
    "time.sleep(2)\n",
    "span.end()"
   ]
  },
  {
   "cell_type": "markdown",
   "metadata": {},
   "source": [
    "LangChainのCallback実装を使った場合"
   ]
  },
  {
   "cell_type": "code",
   "execution_count": 12,
   "metadata": {},
   "outputs": [
    {
     "data": {
      "text/plain": [
       "AIMessage(content='喜んで！肉料理のおすすめをいくつか紹介しますね。\\n\\n- ローストビーフ： 牛肉の塊を低温でじっくりと焼き上げた料理です。柔らかくジューシーな食感と、赤身の美味しさを楽しめます。\\n- 豚の角煮： 豚バラ肉を醤油や砂糖などで甘辛く煮込んだ料理です。柔らかくホロホロとした食感と、濃厚な味わいが魅力です。\\n- チキンのトマト煮込み： 鶏もも肉をトマト缶や野菜と一緒に煮込んだ料理です。トマトの酸味と鶏肉の旨味が絡み合い、さっぱりとした味わいです。\\n- ラムチョップのグリル： ラム肉の骨付きロース肉をグリルした料理です。香草やスパイスでマリネして焼くことで、独特の香りとジューシーな味わいを楽しめます。\\n- 牛タン焼き： 牛タンを薄切りにして焼き上げた料理です。柔らかくて旨味たっぷりで、ビールや日本酒などのお酒にもよく合います。\\n\\n以上、肉料理のおすすめでした。ぜひお試しください！', additional_kwargs={'documents': None, 'citations': None, 'search_results': None, 'search_queries': None, 'is_search_required': None, 'generation_id': 'b0990de7-a09b-4c59-b932-21ee013abbba', 'token_count': {'input_tokens': 206.0, 'output_tokens': 290.0}}, response_metadata={'documents': None, 'citations': None, 'search_results': None, 'search_queries': None, 'is_search_required': None, 'generation_id': 'b0990de7-a09b-4c59-b932-21ee013abbba', 'token_count': {'input_tokens': 206.0, 'output_tokens': 290.0}}, id='run-d121b12a-6815-4f14-bd37-f282f358d442-0', usage_metadata={'input_tokens': 206, 'output_tokens': 290, 'total_tokens': 496})"
      ]
     },
     "execution_count": 12,
     "metadata": {},
     "output_type": "execute_result"
    }
   ],
   "source": [
    "from langfuse.callback import CallbackHandler\n",
    "\n",
    "callback_handler = CallbackHandler(\n",
    "    public_key=public_key,\n",
    "    secret_key=secret_key,\n",
    "    host=endpoint,\n",
    "    metadata={\n",
    "        \"search_params_top_k\": 3\n",
    "    }\n",
    ")\n",
    "\n",
    "if os.getenv(\"COHERE_API_KEY\") == None:\n",
    "    from langchain_openai.chat_models import ChatOpenAI\n",
    "    openai_api_key = os.getenv(\"OPENAI_API_KEY\")\n",
    "    model = \"gpt-4o-mini\"\n",
    "    chat = ChatOpenAI(api_key=openai_api_key, model=model)\n",
    "else:\n",
    "    from langchain_cohere.chat_models import ChatCohere\n",
    "    cohere_api_key = os.getenv(\"COHERE_API_KEY\")\n",
    "    model = \"command-r-plus\"\n",
    "    chat = ChatCohere(cohere_api_key=cohere_api_key, model=model)\n",
    "\n",
    "chat.invoke(\n",
    "    input=\"肉料理のおすすめ教えて\",\n",
    "    config={\"callbacks\": [callback_handler]}\n",
    ")"
   ]
  },
  {
   "cell_type": "markdown",
   "metadata": {},
   "source": [
    "### タグ"
   ]
  },
  {
   "cell_type": "markdown",
   "metadata": {},
   "source": [
    "`@observe()`デコレーターを使用した場合"
   ]
  },
  {
   "cell_type": "code",
   "execution_count": 13,
   "metadata": {},
   "outputs": [],
   "source": [
    "from langfuse.decorators import langfuse_context, observe\n",
    "\n",
    "langfuse_context.configure(\n",
    "    public_key=public_key,\n",
    "    secret_key=secret_key,\n",
    "    host=endpoint\n",
    ")\n",
    "\n",
    "@observe()\n",
    "def search_the_bigbaby():\n",
    "    # 同期の検索処理を想定\n",
    "    time.sleep(2)\n",
    "    langfuse_context.update_current_trace(\n",
    "        tags=[\"production\", \"summarize\"]\n",
    "    )\n",
    "\n",
    "search_the_bigbaby()"
   ]
  },
  {
   "cell_type": "markdown",
   "metadata": {},
   "source": [
    "Low-Level SDKを使った場合"
   ]
  },
  {
   "cell_type": "code",
   "execution_count": 14,
   "metadata": {},
   "outputs": [
    {
     "data": {
      "text/plain": [
       "<langfuse.client.StatefulSpanClient at 0x737849eb9460>"
      ]
     },
     "execution_count": 14,
     "metadata": {},
     "output_type": "execute_result"
    }
   ],
   "source": [
    "from langfuse import Langfuse\n",
    "\n",
    "langfuse = Langfuse(\n",
    "    public_key=public_key,\n",
    "    secret_key=secret_key,\n",
    "    host=endpoint\n",
    ")\n",
    "\n",
    "trace = langfuse.trace(\n",
    "    name=\"Ask the BigBaBy\",\n",
    "    tags=[\"production\", \"summarize\"]\n",
    ")\n",
    "\n",
    "span = trace.span(\n",
    "    name=\"Search the BigBaBy's dictionary\"\n",
    ")\n",
    "# 同期の検索処理を想定\n",
    "time.sleep(2)\n",
    "span.end()"
   ]
  },
  {
   "cell_type": "markdown",
   "metadata": {},
   "source": [
    "LangChainのCallback実装を使った場合"
   ]
  },
  {
   "cell_type": "code",
   "execution_count": 15,
   "metadata": {},
   "outputs": [
    {
     "data": {
      "text/plain": [
       "AIMessage(content='喜んでいただけるか分かりませんが、いくつかおすすめの肉料理を紹介します。\\n\\n- ローストビーフ： 牛肉の塊をオーブンなどでゆっくりと焼き上げた料理です。ジューシーでやわらかな食感と、深い味わいが楽しめます。\\n- 豚の角煮： 豚バラ肉を醤油や砂糖などで長時間煮込んだ料理です。とろけるような食感と、甘辛い味付けがご飯によく合います。\\n- チキンティッカ： インド料理のグリルチキンです。ヨーグルトや香辛料に漬け込んだ鶏肉を串に刺して焼き上げます。香り高く、ジューシーな味わいが特徴です。\\n- ラムチョップ： 子羊のリブ（あばら骨）部分をグリルしたり、オーブンで焼いたりした料理です。やわらかな食感と、独特の香りが楽しめます。\\n- 牛タン焼き： 牛タンをスライスして焼き上げた料理です。やわらかな食感と、独特の風味が人気です。\\n\\n以上、お口に合うものがあれば幸いです。', additional_kwargs={'documents': None, 'citations': None, 'search_results': None, 'search_queries': None, 'is_search_required': None, 'generation_id': '486a822b-8bf0-4087-94eb-8f17c70020b8', 'token_count': {'input_tokens': 206.0, 'output_tokens': 270.0}}, response_metadata={'documents': None, 'citations': None, 'search_results': None, 'search_queries': None, 'is_search_required': None, 'generation_id': '486a822b-8bf0-4087-94eb-8f17c70020b8', 'token_count': {'input_tokens': 206.0, 'output_tokens': 270.0}}, id='run-e361d9af-0903-4a0d-ac6b-ffc802bcf855-0', usage_metadata={'input_tokens': 206, 'output_tokens': 270, 'total_tokens': 476})"
      ]
     },
     "execution_count": 15,
     "metadata": {},
     "output_type": "execute_result"
    }
   ],
   "source": [
    "from langfuse.callback import CallbackHandler\n",
    "\n",
    "callback_handler = CallbackHandler(\n",
    "    public_key=public_key,\n",
    "    secret_key=secret_key,\n",
    "    host=endpoint,\n",
    "    tags=[\"production\", \"summarize\"]\n",
    ")\n",
    "\n",
    "if os.getenv(\"COHERE_API_KEY\") == None:\n",
    "    from langchain_openai.chat_models import ChatOpenAI\n",
    "    openai_api_key = os.getenv(\"OPENAI_API_KEY\")\n",
    "    model = \"gpt-4o-mini\"\n",
    "    chat = ChatOpenAI(api_key=openai_api_key, model=model)\n",
    "else:\n",
    "    from langchain_cohere.chat_models import ChatCohere\n",
    "    cohere_api_key = os.getenv(\"COHERE_API_KEY\")\n",
    "    model = \"command-r-plus\"\n",
    "    chat = ChatCohere(cohere_api_key=cohere_api_key, model=model)\n",
    "\n",
    "chat.invoke(\n",
    "    input=\"肉料理のおすすめ教えて\",\n",
    "    config={\"callbacks\": [callback_handler]}\n",
    ")"
   ]
  }
 ],
 "metadata": {
  "kernelspec": {
   "display_name": "venv",
   "language": "python",
   "name": "python3"
  },
  "language_info": {
   "codemirror_mode": {
    "name": "ipython",
    "version": 3
   },
   "file_extension": ".py",
   "mimetype": "text/x-python",
   "name": "python",
   "nbconvert_exporter": "python",
   "pygments_lexer": "ipython3",
   "version": "3.12.6"
  }
 },
 "nbformat": 4,
 "nbformat_minor": 2
}
