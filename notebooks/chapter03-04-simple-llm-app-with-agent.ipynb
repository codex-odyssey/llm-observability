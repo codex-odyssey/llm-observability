{
 "cells": [
  {
   "cell_type": "markdown",
   "metadata": {},
   "source": [
    "## agentを利用したアプリケーション"
   ]
  },
  {
   "cell_type": "markdown",
   "metadata": {},
   "source": [
    "### 準備\n",
    "\n",
    "必要なライブラリのインストール"
   ]
  },
  {
   "cell_type": "code",
   "execution_count": null,
   "metadata": {},
   "outputs": [],
   "source": [
    "%pip install -r ../requirements.txt"
   ]
  },
  {
   "cell_type": "code",
   "execution_count": 1,
   "metadata": {},
   "outputs": [
    {
     "name": "stderr",
     "output_type": "stream",
     "text": [
      "USER_AGENT environment variable not set, consider setting it to identify your requests.\n",
      "/opt/conda/lib/python3.11/site-packages/pydantic/_internal/_config.py:341: UserWarning: Valid config keys have changed in V2:\n",
      "* 'allow_population_by_field_name' has been renamed to 'populate_by_name'\n",
      "* 'smart_union' has been removed\n",
      "  warnings.warn(message, UserWarning)\n"
     ]
    },
    {
     "data": {
      "text/plain": [
       "Document(metadata={'source': 'https://docs.smith.langchain.com/overview', 'title': 'Get started with LangSmith | 🦜️🛠️ LangSmith', 'description': 'LangSmith is a platform for building production-grade LLM applications. It allows you to closely monitor and evaluate your application, so you can ship quickly and with confidence. Use of LangChain is not necessary - LangSmith works on its own!', 'language': 'en'}, page_content='grade over  evaluators=[exact_match], # The evaluators to score the results  experiment_prefix=\"sample-experiment\", # The name of the experiment  metadata={    \"version\": \"1.0.0\",    \"revision_id\": \"beta\"  },)import { Client, Run, Example } from \"langsmith\";import { evaluate } from \"langsmith/evaluation\";import { EvaluationResult } from \"langsmith/evaluation\";const client = new Client();// Define dataset: these are your test casesconst datasetName = \"Sample Dataset\";const dataset = await client.createDataset(datasetName, {  description: \"A sample dataset in LangSmith.\",});await client.createExamples({  inputs: [    { postfix: \"to LangSmith\" },    { postfix: \"to Evaluations in LangSmith\" },  ],  outputs: [    { output: \"Welcome to LangSmith\" },    { output: \"Welcome to Evaluations in LangSmith\" },  ],  datasetId: dataset.id,});// Define your evaluatorconst exactMatch = async (  run: Run,  example: Example): Promise<EvaluationResult> => {  return {    key: \"exact_match\",    score:')"
      ]
     },
     "execution_count": 1,
     "metadata": {},
     "output_type": "execute_result"
    }
   ],
   "source": [
    "from langchain_community.document_loaders import WebBaseLoader\n",
    "from langchain_community.vectorstores import FAISS\n",
    "from langchain_cohere import CohereEmbeddings\n",
    "from langchain_text_splitters import RecursiveCharacterTextSplitter\n",
    "\n",
    "loader = WebBaseLoader(\"https://docs.smith.langchain.com/overview\")\n",
    "docs = loader.load()\n",
    "documents = RecursiveCharacterTextSplitter(\n",
    "    chunk_size=1000, chunk_overlap=200\n",
    ").split_documents(docs)\n",
    "vector = FAISS.from_documents(documents, CohereEmbeddings(model=\"embed-multilingual-v3.0\"))\n",
    "retriever = vector.as_retriever()\n",
    "\n",
    "retriever.invoke(\"how to upload a dataset\")[0]"
   ]
  },
  {
   "cell_type": "markdown",
   "metadata": {},
   "source": [
    "### Tool"
   ]
  },
  {
   "cell_type": "code",
   "execution_count": 2,
   "metadata": {},
   "outputs": [
    {
     "name": "stdout",
     "output_type": "stream",
     "text": [
      "combat_power\n",
      "曜日に対応するBigBaByの戦闘力を計算します。\n",
      "\n",
      "Args:\n",
      "  day: 曜日です。\n",
      "{'day': {'$ref': '#/$defs/DayOfWeek'}}\n",
      "name='combat_power' description='曜日に対応するBigBaByの戦闘力を計算します。\\n\\nArgs:\\n  day: 曜日です。' args_schema=<class 'langchain_core.utils.pydantic.combat_power'> func=<function combat_power at 0x795a0c9bbba0>\n"
     ]
    }
   ],
   "source": [
    "from langchain_core.tools import tool\n",
    "from enum import Enum\n",
    "\n",
    "# 曜日のEnum定義\n",
    "class DayOfWeek(Enum):\n",
    "    MONDAY = 'Monday!'\n",
    "    TUESDAY = 'Tuesday!'\n",
    "    WEDNESDAY = 'Wednesday!'\n",
    "    THURSDAY = 'Thursday!'\n",
    "    FRIDAY = 'Friday!'\n",
    "    SATURDAY = 'Saturday!'\n",
    "    SUNDAY = 'Sunday!'\n",
    "\n",
    "day_values_map = {\n",
    "    DayOfWeek.MONDAY: 0,\n",
    "    DayOfWeek.TUESDAY: 10,\n",
    "    DayOfWeek.WEDNESDAY: 20,\n",
    "    DayOfWeek.THURSDAY: 30,\n",
    "    DayOfWeek.FRIDAY: 40,\n",
    "    DayOfWeek.SATURDAY: 50,\n",
    "    DayOfWeek.SUNDAY: 100,\n",
    "}\n",
    "\n",
    "@tool\n",
    "def combat_power(day: DayOfWeek) -> int:\n",
    "    \"\"\"\n",
    "    曜日に対応するBigBaByの戦闘力を計算します。\n",
    "\n",
    "    Args:\n",
    "      day: 曜日です。\n",
    "    \"\"\"\n",
    "\n",
    "    return day_values_map.get(day)\n",
    "\n",
    "print(combat_power.name)\n",
    "print(combat_power.description)\n",
    "print(combat_power.args)\n",
    "print(combat_power)\n"
   ]
  },
  {
   "cell_type": "code",
   "execution_count": 3,
   "metadata": {},
   "outputs": [
    {
     "data": {
      "text/plain": [
       "[StructuredTool(name='combat_power', description='曜日に対応するBigBaByの戦闘力を計算します。\\n\\nArgs:\\n  day: 曜日です。', args_schema=<class 'langchain_core.utils.pydantic.combat_power'>, func=<function combat_power at 0x795a0c9bbba0>)]"
      ]
     },
     "execution_count": 3,
     "metadata": {},
     "output_type": "execute_result"
    }
   ],
   "source": [
    "from langchain.tools.retriever import create_retriever_tool\n",
    "\n",
    "retriever_tool = create_retriever_tool(\n",
    "    retriever,\n",
    "    \"langsmith_search\",\n",
    "    \"Search for information about LangSmith. For any questions about LangSmith, you must use this tool!\",\n",
    ")\n",
    "tools = [combat_power]#, retriever_tool]\n",
    "tools"
   ]
  },
  {
   "cell_type": "code",
   "execution_count": 4,
   "metadata": {},
   "outputs": [
    {
     "name": "stdout",
     "output_type": "stream",
     "text": [
      "ContentString: おはようございます！今日も一日頑張りましょう。\n",
      "ToolCalls: []\n"
     ]
    }
   ],
   "source": [
    "from langchain_cohere import ChatCohere\n",
    "\n",
    "model = ChatCohere(model=\"command-r\")\n",
    "model_with_tools = model.bind_tools(tools)\n",
    "response = model_with_tools.invoke(\"おはよう\")\n",
    "print(f\"ContentString: {response.content}\")\n",
    "print(f\"ToolCalls: {response.tool_calls}\")"
   ]
  },
  {
   "cell_type": "code",
   "execution_count": 5,
   "metadata": {},
   "outputs": [
    {
     "name": "stdout",
     "output_type": "stream",
     "text": [
      "ContentString: I will use the provided function to find out the combat power for the day after Monday, and relay this information to the user.\n",
      "ToolCalls: [{'name': 'combat_power', 'args': {'day': 'Monday'}, 'id': '404b21b856f74d4ea834783268eac228', 'type': 'tool_call'}]\n"
     ]
    }
   ],
   "source": [
    "response = model_with_tools.invoke(\"BigBaByの月曜の次の日の戦闘力は？\")\n",
    "print(f\"ContentString: {response.content}\")\n",
    "print(f\"ToolCalls: {response.tool_calls}\")"
   ]
  },
  {
   "cell_type": "code",
   "execution_count": 6,
   "metadata": {},
   "outputs": [
    {
     "data": {
      "text/plain": [
       "[HumanMessage(content='BigBaByの木曜の戦闘力は？', additional_kwargs={}, response_metadata={}, id='30824695-7463-47f9-9f07-243c3766cc09'),\n",
       " AIMessage(content='I will use the provided function to find out the combat power for Thursday and relay this information to the user.', additional_kwargs={'documents': None, 'citations': None, 'search_results': None, 'search_queries': None, 'is_search_required': None, 'generation_id': '5b6041ef-4f5f-4ffe-a1af-12733d37f484', 'tool_calls': [{'id': '2544a0e9c046432286ea32162c62832c', 'function': {'name': 'combat_power', 'arguments': '{\"day\": \"Thursday\"}'}, 'type': 'function'}], 'token_count': {'input_tokens': 925.0, 'output_tokens': 64.0}}, response_metadata={'documents': None, 'citations': None, 'search_results': None, 'search_queries': None, 'is_search_required': None, 'generation_id': '5b6041ef-4f5f-4ffe-a1af-12733d37f484', 'tool_calls': [{'id': '2544a0e9c046432286ea32162c62832c', 'function': {'name': 'combat_power', 'arguments': '{\"day\": \"Thursday\"}'}, 'type': 'function'}], 'token_count': {'input_tokens': 925.0, 'output_tokens': 64.0}}, id='run-dd63891a-5f13-4280-b4fa-a318c8a01f68-0', tool_calls=[{'name': 'combat_power', 'args': {'day': 'Thursday'}, 'id': 'cdb21c9fdf9d4b6e943540734d97c59a', 'type': 'tool_call'}], usage_metadata={'input_tokens': 925, 'output_tokens': 64, 'total_tokens': 989}),\n",
       " ToolMessage(content=\"Error: 1 validation error for combat_power\\nday\\n  Input should be 'Monday!', 'Tuesday!', 'Wednesday!', 'Thursday!', 'Friday!', 'Saturday!' or 'Sunday!' [type=enum, input_value='Thursday', input_type=str]\\n    For further information visit https://errors.pydantic.dev/2.8/v/enum\\n Please fix your mistakes.\", name='combat_power', id='3cc00271-c55c-400d-af6e-e44319734539', tool_call_id='cdb21c9fdf9d4b6e943540734d97c59a'),\n",
       " AIMessage(content=\"The input for the function must be in the form of an exclamation mark ending e.g. 'Thursday!'. I will now re-input the function with the correct formatting.\", additional_kwargs={'documents': None, 'citations': None, 'search_results': None, 'search_queries': None, 'is_search_required': None, 'generation_id': '53457825-39f2-426f-9a3f-3bd06e040edf', 'tool_calls': [{'id': 'a6edc915357345f39f91bf3317c894dc', 'function': {'name': 'combat_power', 'arguments': '{\"day\": \"Thursday!\"}'}, 'type': 'function'}], 'token_count': {'input_tokens': 1101.0, 'output_tokens': 79.0}}, response_metadata={'documents': None, 'citations': None, 'search_results': None, 'search_queries': None, 'is_search_required': None, 'generation_id': '53457825-39f2-426f-9a3f-3bd06e040edf', 'tool_calls': [{'id': 'a6edc915357345f39f91bf3317c894dc', 'function': {'name': 'combat_power', 'arguments': '{\"day\": \"Thursday!\"}'}, 'type': 'function'}], 'token_count': {'input_tokens': 1101.0, 'output_tokens': 79.0}}, id='run-1ed6ee4c-c1be-4d93-a0a6-f6bb6728da3b-0', tool_calls=[{'name': 'combat_power', 'args': {'day': 'Thursday!'}, 'id': 'e723b4969ef94c70ba4180bb69c3dd07', 'type': 'tool_call'}], usage_metadata={'input_tokens': 1101, 'output_tokens': 79, 'total_tokens': 1180}),\n",
       " ToolMessage(content='30', name='combat_power', id='83f107ee-fe0a-44fc-96c2-42fb4d935319', tool_call_id='e723b4969ef94c70ba4180bb69c3dd07'),\n",
       " AIMessage(content='The combat power for Thursday is **30**.', additional_kwargs={'documents': [{'id': 'combat_power:0:5:0', 'output': '30', 'tool_name': 'combat_power'}], 'citations': [ChatCitation(start=34, end=37, text='*30', document_ids=['combat_power:0:5:0'])], 'search_results': None, 'search_queries': None, 'is_search_required': None, 'generation_id': '563b0ea8-e163-443e-9572-510164b1bb79', 'token_count': {'input_tokens': 1212.0, 'output_tokens': 54.0}}, response_metadata={'documents': [{'id': 'combat_power:0:5:0', 'output': '30', 'tool_name': 'combat_power'}], 'citations': [ChatCitation(start=34, end=37, text='*30', document_ids=['combat_power:0:5:0'])], 'search_results': None, 'search_queries': None, 'is_search_required': None, 'generation_id': '563b0ea8-e163-443e-9572-510164b1bb79', 'token_count': {'input_tokens': 1212.0, 'output_tokens': 54.0}}, id='run-268acb6f-f85f-4b42-af93-f115442f259f-0', usage_metadata={'input_tokens': 1212, 'output_tokens': 54, 'total_tokens': 1266})]"
      ]
     },
     "execution_count": 6,
     "metadata": {},
     "output_type": "execute_result"
    }
   ],
   "source": [
    "from langgraph.prebuilt import create_react_agent\n",
    "from langgraph.checkpoint.memory import MemorySaver  # an in-memory checkpointer\n",
    "\n",
    "system_message = \"あなたは有用なアシスタントです。\"\n",
    "memory = MemorySaver()\n",
    "langgraph_agent_executor = create_react_agent(\n",
    "  model, tools,state_modifier=system_message, checkpointer=memory\n",
    ")\n",
    "config = {\"configurable\": {\"thread_id\": \"test-thread\"}}\n",
    "langgraph_agent_executor.invoke(\n",
    "  {\n",
    "    \"messages\": [\n",
    "      (\"user\",\"BigBaByの木曜の戦闘力は？\"),\n",
    "    ]\n",
    "  },\n",
    "  config,\n",
    ")['messages']"
   ]
  }
 ],
 "metadata": {
  "kernelspec": {
   "display_name": "Python 3 (ipykernel)",
   "language": "python",
   "name": "python3"
  },
  "language_info": {
   "codemirror_mode": {
    "name": "ipython",
    "version": 3
   },
   "file_extension": ".py",
   "mimetype": "text/x-python",
   "name": "python",
   "nbconvert_exporter": "python",
   "pygments_lexer": "ipython3",
   "version": "3.11.6"
  }
 },
 "nbformat": 4,
 "nbformat_minor": 4
}
