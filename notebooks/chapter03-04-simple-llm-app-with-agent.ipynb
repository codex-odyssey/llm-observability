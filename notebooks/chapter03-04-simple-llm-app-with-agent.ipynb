{
 "cells": [
  {
   "cell_type": "markdown",
   "metadata": {},
   "source": [
    "## agentを利用したアプリケーション"
   ]
  },
  {
   "cell_type": "markdown",
   "metadata": {},
   "source": [
    "### 準備\n",
    "\n",
    "必要なライブラリのインストール"
   ]
  },
  {
   "cell_type": "code",
   "execution_count": null,
   "metadata": {},
   "outputs": [],
   "source": [
    "%pip install -r ../requirements.txt"
   ]
  },
  {
   "cell_type": "markdown",
   "metadata": {},
   "source": [
    "環境変数の読み込み"
   ]
  },
  {
   "cell_type": "code",
   "execution_count": 2,
   "metadata": {},
   "outputs": [
    {
     "data": {
      "text/plain": [
       "True"
      ]
     },
     "execution_count": 2,
     "metadata": {},
     "output_type": "execute_result"
    }
   ],
   "source": [
    "from dotenv import load_dotenv\n",
    "\n",
    "load_dotenv(\"../.env\")"
   ]
  },
  {
   "cell_type": "code",
   "execution_count": 7,
   "metadata": {},
   "outputs": [
    {
     "name": "stderr",
     "output_type": "stream",
     "text": [
      "USER_AGENT environment variable not set, consider setting it to identify your requests.\n"
     ]
    },
    {
     "data": {
      "text/plain": [
       "Document(metadata={'source': 'https://docs.smith.langchain.com/overview', 'title': 'Get started with LangSmith | 🦜️🛠️ LangSmith', 'description': 'LangSmith is a platform for building production-grade LLM applications. It allows you to closely monitor and evaluate your application, so you can ship quickly and with confidence. Use of LangChain is not necessary - LangSmith works on its own!', 'language': 'en'}, page_content='\"revision_id\": \"beta\"    },)import { Client, Run, Example } from \"langsmith\";import { evaluate } from \"langsmith/evaluation\";import { EvaluationResult } from \"langsmith/evaluation\";const client = new Client();// Define dataset: these are your test casesconst datasetName = \"Sample Dataset\";const dataset = await client.createDataset(datasetName, {  description: \"A sample dataset in LangSmith.\",});await client.createExamples({  inputs: [    { postfix: \"to LangSmith\" },    { postfix: \"to Evaluations in LangSmith\" },  ],  outputs: [    { output: \"Welcome to LangSmith\" },    { output: \"Welcome to Evaluations in LangSmith\" },  ],  datasetId: dataset.id,});// Define your evaluatorconst exactMatch = async (  run: Run,  example: Example): Promise<EvaluationResult> => {  return {    key: \"exact_match\",    score: run.outputs?.output === example?.outputs?.output,  };};await evaluate(  (input: { postfix: string }) => ({ output: `Welcome ${input.postfix}` }),  {    data: datasetName,    evaluators:')"
      ]
     },
     "execution_count": 7,
     "metadata": {},
     "output_type": "execute_result"
    }
   ],
   "source": [
    "\n",
    "from langchain_community.document_loaders import WebBaseLoader\n",
    "from langchain_community.vectorstores import FAISS\n",
    "from langchain_cohere import CohereEmbeddings\n",
    "from langchain_text_splitters import RecursiveCharacterTextSplitter\n",
    "\n",
    "loader = WebBaseLoader(\"https://docs.smith.langchain.com/overview\")\n",
    "docs = loader.load()\n",
    "documents = RecursiveCharacterTextSplitter(\n",
    "    chunk_size=1000, chunk_overlap=200\n",
    ").split_documents(docs)\n",
    "vector = FAISS.from_documents(documents, CohereEmbeddings(model=\"embed-multilingual-v3.0\"))\n",
    "retriever = vector.as_retriever()\n",
    "\n",
    "retriever.invoke(\"how to upload a dataset\")[0]"
   ]
  },
  {
   "cell_type": "markdown",
   "metadata": {},
   "source": [
    "### Tool"
   ]
  },
  {
   "cell_type": "code",
   "execution_count": 44,
   "metadata": {},
   "outputs": [
    {
     "name": "stdout",
     "output_type": "stream",
     "text": [
      "name='combat_power' description='曜日に対応するBigBaByの戦闘力を計算します。\\n\\nArgs:\\n  day: 曜日です。' args_schema=<class 'langchain_core.utils.pydantic.combat_power'> func=<function combat_power at 0x7f9ad8cab240>\n"
     ]
    }
   ],
   "source": [
    "from langchain_core.tools import tool\n",
    "from enum import Enum\n",
    "\n",
    "# 曜日のEnum定義\n",
    "class DayOfWeek(Enum):\n",
    "    MONDAY = 'Monday!'\n",
    "    TUESDAY = 'Tuesday!'\n",
    "    WEDNESDAY = 'Wednesday!'\n",
    "    THURSDAY = 'Thursday!'\n",
    "    FRIDAY = 'Friday!'\n",
    "    SATURDAY = 'Saturday!'\n",
    "    SUNDAY = 'Sunday!'\n",
    "\n",
    "day_values_map = {\n",
    "    DayOfWeek.MONDAY: 0,\n",
    "    DayOfWeek.TUESDAY: 10,\n",
    "    DayOfWeek.WEDNESDAY: 20,\n",
    "    DayOfWeek.THURSDAY: 30,\n",
    "    DayOfWeek.FRIDAY: 40,\n",
    "    DayOfWeek.SATURDAY: 50,\n",
    "    DayOfWeek.SUNDAY: 100,\n",
    "}\n",
    "\n",
    "@tool\n",
    "def combat_power(day: DayOfWeek) -> int:\n",
    "    \"\"\"\n",
    "    曜日に対応するBigBaByの戦闘力を計算します。\n",
    "\n",
    "    Args:\n",
    "      day: 曜日です。\n",
    "    \"\"\"\n",
    "\n",
    "    return day_values_map.get(day)\n",
    "\n",
    "print(combat_power.name)\n",
    "print(combat_power.description)\n",
    "print(combat_power.args)\n",
    "print(combat_power)\n"
   ]
  },
  {
   "cell_type": "code",
   "execution_count": 37,
   "metadata": {},
   "outputs": [
    {
     "data": {
      "text/plain": [
       "[StructuredTool(name='combat_power', description='曜日に対応するBigBaByの戦闘力を計算します。\\n\\nArgs:\\n  day: 曜日です。', args_schema=<class 'langchain_core.utils.pydantic.combat_power'>, func=<function combat_power at 0x7f9ad8898540>)]"
      ]
     },
     "execution_count": 37,
     "metadata": {},
     "output_type": "execute_result"
    }
   ],
   "source": [
    "from langchain.tools.retriever import create_retriever_tool\n",
    "\n",
    "retriever_tool = create_retriever_tool(\n",
    "    retriever,\n",
    "    \"langsmith_search\",\n",
    "    \"Search for information about LangSmith. For any questions about LangSmith, you must use this tool!\",\n",
    ")\n",
    "tools = [combat_power]#, retriever_tool]\n",
    "tools"
   ]
  },
  {
   "cell_type": "code",
   "execution_count": 38,
   "metadata": {},
   "outputs": [
    {
     "name": "stdout",
     "output_type": "stream",
     "text": [
      "ContentString: おはようございます！今日も一日頑張りましょう。\n",
      "ToolCalls: []\n"
     ]
    }
   ],
   "source": [
    "from langchain_cohere import ChatCohere\n",
    "\n",
    "model = ChatCohere(model=\"command-r\")\n",
    "model_with_tools = model.bind_tools(tools)\n",
    "response = model_with_tools.invoke(\"おはよう\")\n",
    "print(f\"ContentString: {response.content}\")\n",
    "print(f\"ToolCalls: {response.tool_calls}\")"
   ]
  },
  {
   "cell_type": "code",
   "execution_count": 39,
   "metadata": {},
   "outputs": [
    {
     "name": "stdout",
     "output_type": "stream",
     "text": [
      "ContentString: I will use the provided function to find out the combat power on the day after Monday, which will allow me to answer the question in full.\n",
      "ToolCalls: [{'name': 'combat_power', 'args': {'day': 'Monday'}, 'id': '373722c85d974a38acfd3e3cb754e17f', 'type': 'tool_call'}]\n"
     ]
    }
   ],
   "source": [
    "response = model_with_tools.invoke(\"BigBaByの月曜の次の日の戦闘力は？\")\n",
    "print(f\"ContentString: {response.content}\")\n",
    "print(f\"ToolCalls: {response.tool_calls}\")"
   ]
  },
  {
   "cell_type": "code",
   "execution_count": 42,
   "metadata": {},
   "outputs": [
    {
     "data": {
      "text/plain": [
       "[HumanMessage(content='BigBaByの木曜の戦闘力は？', additional_kwargs={}, response_metadata={}, id='3072873c-ce02-45e3-b6e2-7250bc7d565c'),\n",
       " AIMessage(content='I will use the provided function to find out the combat power corresponding to Thursday, and relay this information to the user.', additional_kwargs={'documents': None, 'citations': None, 'search_results': None, 'search_queries': None, 'is_search_required': None, 'generation_id': 'e1598148-553f-4a85-bc88-8b5d0bf6fb75', 'tool_calls': [{'id': '9b06278491d44673802b26a52155bf37', 'function': {'name': 'combat_power', 'arguments': '{\"day\": \"Thursday\"}'}, 'type': 'function'}], 'token_count': {'input_tokens': 925.0, 'output_tokens': 66.0}}, response_metadata={'documents': None, 'citations': None, 'search_results': None, 'search_queries': None, 'is_search_required': None, 'generation_id': 'e1598148-553f-4a85-bc88-8b5d0bf6fb75', 'tool_calls': [{'id': '9b06278491d44673802b26a52155bf37', 'function': {'name': 'combat_power', 'arguments': '{\"day\": \"Thursday\"}'}, 'type': 'function'}], 'token_count': {'input_tokens': 925.0, 'output_tokens': 66.0}}, id='run-eace4578-4a36-4031-9c59-a8c929646862-0', tool_calls=[{'name': 'combat_power', 'args': {'day': 'Thursday'}, 'id': '2c240667b8f74e57af0025cce91dda61', 'type': 'tool_call'}], usage_metadata={'input_tokens': 925, 'output_tokens': 66, 'total_tokens': 991}),\n",
       " ToolMessage(content=\"Error: 1 validation error for combat_power\\nday\\n  Input should be 'Monday!', 'Tuesday!', 'Wednesday!', 'Thursday!', 'Friday!', 'Saturday!' or 'Sunday!' [type=enum, input_value='Thursday', input_type=str]\\n    For further information visit https://errors.pydantic.dev/2.8/v/enum\\n Please fix your mistakes.\", name='combat_power', id='112cb7d2-b148-4b5c-a54c-8b5a18f1748e', tool_call_id='2c240667b8f74e57af0025cce91dda61'),\n",
       " AIMessage(content='The input must be in the form of an exclamation mark ending sentence. I will run the function again with the corrected input.', additional_kwargs={'documents': None, 'citations': None, 'search_results': None, 'search_queries': None, 'is_search_required': None, 'generation_id': '2267ab14-7b0a-45b7-8bdf-aa2b9e830ba6', 'tool_calls': [{'id': '34648f8267ca4a92b7254251aa67397f', 'function': {'name': 'combat_power', 'arguments': '{\"day\": \"Thursday!\"}'}, 'type': 'function'}], 'token_count': {'input_tokens': 1103.0, 'output_tokens': 68.0}}, response_metadata={'documents': None, 'citations': None, 'search_results': None, 'search_queries': None, 'is_search_required': None, 'generation_id': '2267ab14-7b0a-45b7-8bdf-aa2b9e830ba6', 'tool_calls': [{'id': '34648f8267ca4a92b7254251aa67397f', 'function': {'name': 'combat_power', 'arguments': '{\"day\": \"Thursday!\"}'}, 'type': 'function'}], 'token_count': {'input_tokens': 1103.0, 'output_tokens': 68.0}}, id='run-4baef92b-bf76-429e-b7ab-039df5f4b48d-0', tool_calls=[{'name': 'combat_power', 'args': {'day': 'Thursday!'}, 'id': 'dc931b0b7a9c47a6a6581e534eea545b', 'type': 'tool_call'}], usage_metadata={'input_tokens': 1103, 'output_tokens': 68, 'total_tokens': 1171}),\n",
       " ToolMessage(content='30', name='combat_power', id='c2cc9ac9-13fd-4609-8bd6-577dadcfb3ef', tool_call_id='dc931b0b7a9c47a6a6581e534eea545b'),\n",
       " AIMessage(content=\"BigBaBy's combat power on Thursdays is **30**.\", additional_kwargs={'documents': [{'id': 'combat_power:0:5:0', 'output': '30', 'tool_name': 'combat_power'}], 'citations': [ChatCitation(start=40, end=43, text='*30', document_ids=['combat_power:0:5:0'])], 'search_results': None, 'search_queries': None, 'is_search_required': None, 'generation_id': '933400d7-27c6-45ce-9414-2e36056f2abe', 'token_count': {'input_tokens': 1203.0, 'output_tokens': 60.0}}, response_metadata={'documents': [{'id': 'combat_power:0:5:0', 'output': '30', 'tool_name': 'combat_power'}], 'citations': [ChatCitation(start=40, end=43, text='*30', document_ids=['combat_power:0:5:0'])], 'search_results': None, 'search_queries': None, 'is_search_required': None, 'generation_id': '933400d7-27c6-45ce-9414-2e36056f2abe', 'token_count': {'input_tokens': 1203.0, 'output_tokens': 60.0}}, id='run-e85bf826-a41c-4d9d-a88c-af7888657b9d-0', usage_metadata={'input_tokens': 1203, 'output_tokens': 60, 'total_tokens': 1263})]"
      ]
     },
     "execution_count": 42,
     "metadata": {},
     "output_type": "execute_result"
    }
   ],
   "source": [
    "from langgraph.prebuilt import create_react_agent\n",
    "from langgraph.checkpoint.memory import MemorySaver  # an in-memory checkpointer\n",
    "\n",
    "system_message = \"あなたは有用なアシスタントです。\"\n",
    "memory = MemorySaver()\n",
    "langgraph_agent_executor = create_react_agent(\n",
    "  model, tools,state_modifier=system_message, checkpointer=memory\n",
    ")\n",
    "config = {\"configurable\": {\"thread_id\": \"test-thread\"}}\n",
    "langgraph_agent_executor.invoke(\n",
    "  {\n",
    "    \"messages\": [\n",
    "      (\"user\",\"BigBaByの木曜の戦闘力は？\"),\n",
    "    ]\n",
    "  },\n",
    "  config,\n",
    ")['messages']"
   ]
  }
 ],
 "metadata": {
  "kernelspec": {
   "display_name": "venv",
   "language": "python",
   "name": "python3"
  },
  "language_info": {
   "codemirror_mode": {
    "name": "ipython",
    "version": 3
   },
   "file_extension": ".py",
   "mimetype": "text/x-python",
   "name": "python",
   "nbconvert_exporter": "python",
   "pygments_lexer": "ipython3",
   "version": "3.12.6"
  }
 },
 "nbformat": 4,
 "nbformat_minor": 2
}
