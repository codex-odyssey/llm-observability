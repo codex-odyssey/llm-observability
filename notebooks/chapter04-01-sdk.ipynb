{
 "cells": [
  {
   "cell_type": "markdown",
   "metadata": {},
   "source": [
    "## SDKを用いた計装"
   ]
  },
  {
   "cell_type": "markdown",
   "metadata": {},
   "source": [
    "必要なライブラリをダウンロードします。"
   ]
  },
  {
   "cell_type": "code",
   "execution_count": 1,
   "metadata": {
    "scrolled": true
   },
   "outputs": [
    {
     "name": "stdout",
     "output_type": "stream",
     "text": [
      "Requirement already satisfied: aiohappyeyeballs==2.4.0 in /opt/conda/lib/python3.11/site-packages (from -r ../requirements.txt (line 1)) (2.4.0)\n",
      "Requirement already satisfied: aiohttp==3.10.5 in /opt/conda/lib/python3.11/site-packages (from -r ../requirements.txt (line 2)) (3.10.5)\n",
      "Requirement already satisfied: aiosignal==1.3.1 in /opt/conda/lib/python3.11/site-packages (from -r ../requirements.txt (line 3)) (1.3.1)\n",
      "Requirement already satisfied: altair==5.4.1 in /opt/conda/lib/python3.11/site-packages (from -r ../requirements.txt (line 4)) (5.4.1)\n",
      "Requirement already satisfied: annotated-types==0.7.0 in /opt/conda/lib/python3.11/site-packages (from -r ../requirements.txt (line 5)) (0.7.0)\n",
      "Requirement already satisfied: anyio==4.4.0 in /opt/conda/lib/python3.11/site-packages (from -r ../requirements.txt (line 6)) (4.4.0)\n",
      "Requirement already satisfied: asttokens==2.4.1 in /opt/conda/lib/python3.11/site-packages (from -r ../requirements.txt (line 7)) (2.4.1)\n",
      "Requirement already satisfied: attrs==24.2.0 in /opt/conda/lib/python3.11/site-packages (from -r ../requirements.txt (line 8)) (24.2.0)\n",
      "Requirement already satisfied: backoff==2.2.1 in /opt/conda/lib/python3.11/site-packages (from -r ../requirements.txt (line 9)) (2.2.1)\n",
      "Requirement already satisfied: beautifulsoup4==4.12.3 in /opt/conda/lib/python3.11/site-packages (from -r ../requirements.txt (line 10)) (4.12.3)\n",
      "Requirement already satisfied: blinker==1.8.2 in /opt/conda/lib/python3.11/site-packages (from -r ../requirements.txt (line 11)) (1.8.2)\n",
      "Requirement already satisfied: boto3==1.35.10 in /opt/conda/lib/python3.11/site-packages (from -r ../requirements.txt (line 12)) (1.35.10)\n",
      "Requirement already satisfied: botocore==1.35.10 in /opt/conda/lib/python3.11/site-packages (from -r ../requirements.txt (line 13)) (1.35.10)\n",
      "Requirement already satisfied: bs4==0.0.2 in /opt/conda/lib/python3.11/site-packages (from -r ../requirements.txt (line 14)) (0.0.2)\n",
      "Requirement already satisfied: cachetools==5.5.0 in /opt/conda/lib/python3.11/site-packages (from -r ../requirements.txt (line 15)) (5.5.0)\n",
      "Requirement already satisfied: certifi==2024.8.30 in /opt/conda/lib/python3.11/site-packages (from -r ../requirements.txt (line 16)) (2024.8.30)\n",
      "Requirement already satisfied: charset-normalizer==3.3.2 in /opt/conda/lib/python3.11/site-packages (from -r ../requirements.txt (line 17)) (3.3.2)\n",
      "Requirement already satisfied: click==8.1.7 in /opt/conda/lib/python3.11/site-packages (from -r ../requirements.txt (line 18)) (8.1.7)\n",
      "Requirement already satisfied: cohere==5.9.0 in /opt/conda/lib/python3.11/site-packages (from -r ../requirements.txt (line 19)) (5.9.0)\n",
      "Requirement already satisfied: comm==0.2.2 in /opt/conda/lib/python3.11/site-packages (from -r ../requirements.txt (line 20)) (0.2.2)\n",
      "Requirement already satisfied: dataclasses-json==0.6.7 in /opt/conda/lib/python3.11/site-packages (from -r ../requirements.txt (line 21)) (0.6.7)\n",
      "Requirement already satisfied: debugpy==1.8.5 in /opt/conda/lib/python3.11/site-packages (from -r ../requirements.txt (line 22)) (1.8.5)\n",
      "Requirement already satisfied: decorator==5.1.1 in /opt/conda/lib/python3.11/site-packages (from -r ../requirements.txt (line 23)) (5.1.1)\n",
      "Requirement already satisfied: defusedxml==0.7.1 in /opt/conda/lib/python3.11/site-packages (from -r ../requirements.txt (line 24)) (0.7.1)\n",
      "Requirement already satisfied: distro==1.9.0 in /opt/conda/lib/python3.11/site-packages (from -r ../requirements.txt (line 25)) (1.9.0)\n",
      "Requirement already satisfied: executing==2.1.0 in /opt/conda/lib/python3.11/site-packages (from -r ../requirements.txt (line 26)) (2.1.0)\n",
      "Requirement already satisfied: faiss-cpu==1.8.0.post1 in /opt/conda/lib/python3.11/site-packages (from -r ../requirements.txt (line 27)) (1.8.0.post1)\n",
      "Requirement already satisfied: fastavro==1.9.5 in /opt/conda/lib/python3.11/site-packages (from -r ../requirements.txt (line 28)) (1.9.5)\n",
      "Requirement already satisfied: filelock==3.15.4 in /opt/conda/lib/python3.11/site-packages (from -r ../requirements.txt (line 29)) (3.15.4)\n",
      "Requirement already satisfied: frozenlist==1.4.1 in /opt/conda/lib/python3.11/site-packages (from -r ../requirements.txt (line 30)) (1.4.1)\n",
      "Requirement already satisfied: fsspec==2024.6.1 in /opt/conda/lib/python3.11/site-packages (from -r ../requirements.txt (line 31)) (2024.6.1)\n",
      "Requirement already satisfied: gitdb==4.0.11 in /opt/conda/lib/python3.11/site-packages (from -r ../requirements.txt (line 32)) (4.0.11)\n",
      "Requirement already satisfied: GitPython==3.1.43 in /opt/conda/lib/python3.11/site-packages (from -r ../requirements.txt (line 33)) (3.1.43)\n",
      "Requirement already satisfied: greenlet==3.0.3 in /opt/conda/lib/python3.11/site-packages (from -r ../requirements.txt (line 34)) (3.0.3)\n",
      "Requirement already satisfied: h11==0.14.0 in /opt/conda/lib/python3.11/site-packages (from -r ../requirements.txt (line 35)) (0.14.0)\n",
      "Requirement already satisfied: httpcore==1.0.5 in /opt/conda/lib/python3.11/site-packages (from -r ../requirements.txt (line 36)) (1.0.5)\n",
      "Requirement already satisfied: httpx==0.27.2 in /opt/conda/lib/python3.11/site-packages (from -r ../requirements.txt (line 37)) (0.27.2)\n",
      "Requirement already satisfied: httpx-sse==0.4.0 in /opt/conda/lib/python3.11/site-packages (from -r ../requirements.txt (line 38)) (0.4.0)\n",
      "Requirement already satisfied: huggingface-hub==0.24.6 in /opt/conda/lib/python3.11/site-packages (from -r ../requirements.txt (line 39)) (0.24.6)\n",
      "Requirement already satisfied: idna==3.8 in /opt/conda/lib/python3.11/site-packages (from -r ../requirements.txt (line 40)) (3.8)\n",
      "Requirement already satisfied: ipykernel==6.29.5 in /opt/conda/lib/python3.11/site-packages (from -r ../requirements.txt (line 41)) (6.29.5)\n",
      "Requirement already satisfied: ipython==8.27.0 in /opt/conda/lib/python3.11/site-packages (from -r ../requirements.txt (line 42)) (8.27.0)\n",
      "Requirement already satisfied: jedi==0.19.1 in /opt/conda/lib/python3.11/site-packages (from -r ../requirements.txt (line 43)) (0.19.1)\n",
      "Requirement already satisfied: Jinja2==3.1.4 in /opt/conda/lib/python3.11/site-packages (from -r ../requirements.txt (line 44)) (3.1.4)\n",
      "Requirement already satisfied: jiter==0.5.0 in /opt/conda/lib/python3.11/site-packages (from -r ../requirements.txt (line 45)) (0.5.0)\n",
      "Requirement already satisfied: jmespath==1.0.1 in /opt/conda/lib/python3.11/site-packages (from -r ../requirements.txt (line 46)) (1.0.1)\n",
      "Requirement already satisfied: jsonpatch==1.33 in /opt/conda/lib/python3.11/site-packages (from -r ../requirements.txt (line 47)) (1.33)\n",
      "Requirement already satisfied: jsonpointer==3.0.0 in /opt/conda/lib/python3.11/site-packages (from -r ../requirements.txt (line 48)) (3.0.0)\n",
      "Requirement already satisfied: jsonschema==4.23.0 in /opt/conda/lib/python3.11/site-packages (from -r ../requirements.txt (line 49)) (4.23.0)\n",
      "Requirement already satisfied: jsonschema-specifications==2023.12.1 in /opt/conda/lib/python3.11/site-packages (from -r ../requirements.txt (line 50)) (2023.12.1)\n",
      "Requirement already satisfied: jupyter_client==8.6.2 in /opt/conda/lib/python3.11/site-packages (from -r ../requirements.txt (line 51)) (8.6.2)\n",
      "Requirement already satisfied: jupyter_core==5.7.2 in /opt/conda/lib/python3.11/site-packages (from -r ../requirements.txt (line 52)) (5.7.2)\n",
      "Requirement already satisfied: langchain==0.3.1 in /opt/conda/lib/python3.11/site-packages (from -r ../requirements.txt (line 53)) (0.3.1)\n",
      "Requirement already satisfied: langchain-cohere==0.3.0 in /opt/conda/lib/python3.11/site-packages (from -r ../requirements.txt (line 54)) (0.3.0)\n",
      "Requirement already satisfied: langchain-community==0.3.1 in /opt/conda/lib/python3.11/site-packages (from -r ../requirements.txt (line 55)) (0.3.1)\n",
      "Requirement already satisfied: langchain-core==0.3.6 in /opt/conda/lib/python3.11/site-packages (from -r ../requirements.txt (line 56)) (0.3.6)\n",
      "Requirement already satisfied: langchain-experimental==0.3.1.post1 in /opt/conda/lib/python3.11/site-packages (from -r ../requirements.txt (line 57)) (0.3.1.post1)\n",
      "Requirement already satisfied: langchain-openai==0.2.1 in /opt/conda/lib/python3.11/site-packages (from -r ../requirements.txt (line 58)) (0.2.1)\n",
      "Requirement already satisfied: langchain-text-splitters==0.3.0 in /opt/conda/lib/python3.11/site-packages (from -r ../requirements.txt (line 59)) (0.3.0)\n",
      "Requirement already satisfied: langfuse==2.45.2 in /opt/conda/lib/python3.11/site-packages (from -r ../requirements.txt (line 60)) (2.45.2)\n",
      "Requirement already satisfied: langgraph==0.2.32 in /opt/conda/lib/python3.11/site-packages (from -r ../requirements.txt (line 61)) (0.2.32)\n",
      "Requirement already satisfied: langgraph-checkpoint==2.0.0 in /opt/conda/lib/python3.11/site-packages (from -r ../requirements.txt (line 62)) (2.0.0)\n",
      "Requirement already satisfied: langsmith==0.1.125 in /opt/conda/lib/python3.11/site-packages (from -r ../requirements.txt (line 63)) (0.1.125)\n",
      "Requirement already satisfied: markdown-it-py==3.0.0 in /opt/conda/lib/python3.11/site-packages (from -r ../requirements.txt (line 64)) (3.0.0)\n",
      "Requirement already satisfied: MarkupSafe==2.1.5 in /opt/conda/lib/python3.11/site-packages (from -r ../requirements.txt (line 65)) (2.1.5)\n",
      "Requirement already satisfied: marshmallow==3.22.0 in /opt/conda/lib/python3.11/site-packages (from -r ../requirements.txt (line 66)) (3.22.0)\n",
      "Requirement already satisfied: matplotlib-inline==0.1.7 in /opt/conda/lib/python3.11/site-packages (from -r ../requirements.txt (line 67)) (0.1.7)\n",
      "Requirement already satisfied: mdurl==0.1.2 in /opt/conda/lib/python3.11/site-packages (from -r ../requirements.txt (line 68)) (0.1.2)\n",
      "Requirement already satisfied: msgpack==1.1.0 in /opt/conda/lib/python3.11/site-packages (from -r ../requirements.txt (line 69)) (1.1.0)\n",
      "Requirement already satisfied: multidict==6.0.5 in /opt/conda/lib/python3.11/site-packages (from -r ../requirements.txt (line 70)) (6.0.5)\n",
      "Requirement already satisfied: mypy-extensions==1.0.0 in /opt/conda/lib/python3.11/site-packages (from -r ../requirements.txt (line 71)) (1.0.0)\n",
      "Requirement already satisfied: narwhals==1.7.0 in /opt/conda/lib/python3.11/site-packages (from -r ../requirements.txt (line 72)) (1.7.0)\n",
      "Requirement already satisfied: nest-asyncio==1.6.0 in /opt/conda/lib/python3.11/site-packages (from -r ../requirements.txt (line 73)) (1.6.0)\n",
      "Requirement already satisfied: numpy==1.26.4 in /opt/conda/lib/python3.11/site-packages (from -r ../requirements.txt (line 74)) (1.26.4)\n",
      "Requirement already satisfied: openai==1.43.0 in /opt/conda/lib/python3.11/site-packages (from -r ../requirements.txt (line 75)) (1.43.0)\n",
      "Requirement already satisfied: orjson==3.10.7 in /opt/conda/lib/python3.11/site-packages (from -r ../requirements.txt (line 76)) (3.10.7)\n",
      "Requirement already satisfied: packaging==24.1 in /opt/conda/lib/python3.11/site-packages (from -r ../requirements.txt (line 77)) (24.1)\n",
      "Requirement already satisfied: pandas==2.2.2 in /opt/conda/lib/python3.11/site-packages (from -r ../requirements.txt (line 78)) (2.2.2)\n",
      "Requirement already satisfied: parameterized==0.9.0 in /opt/conda/lib/python3.11/site-packages (from -r ../requirements.txt (line 79)) (0.9.0)\n",
      "Requirement already satisfied: parso==0.8.4 in /opt/conda/lib/python3.11/site-packages (from -r ../requirements.txt (line 80)) (0.8.4)\n",
      "Requirement already satisfied: pexpect==4.9.0 in /opt/conda/lib/python3.11/site-packages (from -r ../requirements.txt (line 81)) (4.9.0)\n",
      "Requirement already satisfied: pillow==10.4.0 in /opt/conda/lib/python3.11/site-packages (from -r ../requirements.txt (line 82)) (10.4.0)\n",
      "Requirement already satisfied: platformdirs==4.2.2 in /opt/conda/lib/python3.11/site-packages (from -r ../requirements.txt (line 83)) (4.2.2)\n",
      "Requirement already satisfied: prompt_toolkit==3.0.47 in /opt/conda/lib/python3.11/site-packages (from -r ../requirements.txt (line 84)) (3.0.47)\n",
      "Requirement already satisfied: protobuf==5.28.1 in /opt/conda/lib/python3.11/site-packages (from -r ../requirements.txt (line 85)) (5.28.1)\n",
      "Requirement already satisfied: psutil==6.0.0 in /opt/conda/lib/python3.11/site-packages (from -r ../requirements.txt (line 86)) (6.0.0)\n",
      "Requirement already satisfied: ptyprocess==0.7.0 in /opt/conda/lib/python3.11/site-packages (from -r ../requirements.txt (line 87)) (0.7.0)\n",
      "Requirement already satisfied: pure_eval==0.2.3 in /opt/conda/lib/python3.11/site-packages (from -r ../requirements.txt (line 88)) (0.2.3)\n",
      "Requirement already satisfied: pyarrow==17.0.0 in /opt/conda/lib/python3.11/site-packages (from -r ../requirements.txt (line 89)) (17.0.0)\n",
      "Requirement already satisfied: pydantic==2.8.2 in /opt/conda/lib/python3.11/site-packages (from -r ../requirements.txt (line 90)) (2.8.2)\n",
      "Requirement already satisfied: pydantic-settings==2.5.2 in /opt/conda/lib/python3.11/site-packages (from -r ../requirements.txt (line 91)) (2.5.2)\n",
      "Requirement already satisfied: pydantic_core==2.20.1 in /opt/conda/lib/python3.11/site-packages (from -r ../requirements.txt (line 92)) (2.20.1)\n",
      "Requirement already satisfied: pydeck==0.9.1 in /opt/conda/lib/python3.11/site-packages (from -r ../requirements.txt (line 93)) (0.9.1)\n",
      "Requirement already satisfied: Pygments==2.18.0 in /opt/conda/lib/python3.11/site-packages (from -r ../requirements.txt (line 94)) (2.18.0)\n",
      "Requirement already satisfied: python-dateutil==2.9.0.post0 in /opt/conda/lib/python3.11/site-packages (from -r ../requirements.txt (line 95)) (2.9.0.post0)\n",
      "Requirement already satisfied: pytz==2024.1 in /opt/conda/lib/python3.11/site-packages (from -r ../requirements.txt (line 96)) (2024.1)\n",
      "Requirement already satisfied: PyYAML==6.0.2 in /opt/conda/lib/python3.11/site-packages (from -r ../requirements.txt (line 97)) (6.0.2)\n",
      "Requirement already satisfied: pyzmq==26.2.0 in /opt/conda/lib/python3.11/site-packages (from -r ../requirements.txt (line 98)) (26.2.0)\n",
      "Requirement already satisfied: referencing==0.35.1 in /opt/conda/lib/python3.11/site-packages (from -r ../requirements.txt (line 99)) (0.35.1)\n",
      "Requirement already satisfied: regex==2024.7.24 in /opt/conda/lib/python3.11/site-packages (from -r ../requirements.txt (line 100)) (2024.7.24)\n",
      "Requirement already satisfied: requests==2.32.3 in /opt/conda/lib/python3.11/site-packages (from -r ../requirements.txt (line 101)) (2.32.3)\n",
      "Requirement already satisfied: rich==13.8.1 in /opt/conda/lib/python3.11/site-packages (from -r ../requirements.txt (line 102)) (13.8.1)\n",
      "Requirement already satisfied: rpds-py==0.20.0 in /opt/conda/lib/python3.11/site-packages (from -r ../requirements.txt (line 103)) (0.20.0)\n",
      "Requirement already satisfied: s3transfer==0.10.2 in /opt/conda/lib/python3.11/site-packages (from -r ../requirements.txt (line 104)) (0.10.2)\n",
      "Requirement already satisfied: six==1.16.0 in /opt/conda/lib/python3.11/site-packages (from -r ../requirements.txt (line 105)) (1.16.0)\n",
      "Requirement already satisfied: smmap==5.0.1 in /opt/conda/lib/python3.11/site-packages (from -r ../requirements.txt (line 106)) (5.0.1)\n",
      "Requirement already satisfied: sniffio==1.3.1 in /opt/conda/lib/python3.11/site-packages (from -r ../requirements.txt (line 107)) (1.3.1)\n",
      "Requirement already satisfied: soupsieve==2.6 in /opt/conda/lib/python3.11/site-packages (from -r ../requirements.txt (line 108)) (2.6)\n",
      "Requirement already satisfied: SQLAlchemy==2.0.32 in /opt/conda/lib/python3.11/site-packages (from -r ../requirements.txt (line 109)) (2.0.32)\n",
      "Requirement already satisfied: stack-data==0.6.3 in /opt/conda/lib/python3.11/site-packages (from -r ../requirements.txt (line 110)) (0.6.3)\n",
      "Requirement already satisfied: streamlit==1.38.0 in /opt/conda/lib/python3.11/site-packages (from -r ../requirements.txt (line 111)) (1.38.0)\n",
      "Requirement already satisfied: tabulate==0.9.0 in /opt/conda/lib/python3.11/site-packages (from -r ../requirements.txt (line 112)) (0.9.0)\n",
      "Requirement already satisfied: tenacity==8.5.0 in /opt/conda/lib/python3.11/site-packages (from -r ../requirements.txt (line 113)) (8.5.0)\n",
      "Requirement already satisfied: tiktoken==0.7.0 in /opt/conda/lib/python3.11/site-packages (from -r ../requirements.txt (line 114)) (0.7.0)\n",
      "Requirement already satisfied: tokenizers==0.20.0 in /opt/conda/lib/python3.11/site-packages (from -r ../requirements.txt (line 115)) (0.20.0)\n",
      "Requirement already satisfied: toml==0.10.2 in /opt/conda/lib/python3.11/site-packages (from -r ../requirements.txt (line 116)) (0.10.2)\n",
      "Requirement already satisfied: tornado==6.4.1 in /opt/conda/lib/python3.11/site-packages (from -r ../requirements.txt (line 117)) (6.4.1)\n",
      "Requirement already satisfied: tqdm==4.66.5 in /opt/conda/lib/python3.11/site-packages (from -r ../requirements.txt (line 118)) (4.66.5)\n",
      "Requirement already satisfied: traitlets==5.14.3 in /opt/conda/lib/python3.11/site-packages (from -r ../requirements.txt (line 119)) (5.14.3)\n",
      "Requirement already satisfied: types-requests==2.32.0.20240712 in /opt/conda/lib/python3.11/site-packages (from -r ../requirements.txt (line 120)) (2.32.0.20240712)\n",
      "Requirement already satisfied: typing-inspect==0.9.0 in /opt/conda/lib/python3.11/site-packages (from -r ../requirements.txt (line 121)) (0.9.0)\n",
      "Requirement already satisfied: typing_extensions==4.12.2 in /opt/conda/lib/python3.11/site-packages (from -r ../requirements.txt (line 122)) (4.12.2)\n",
      "Requirement already satisfied: tzdata==2024.1 in /opt/conda/lib/python3.11/site-packages (from -r ../requirements.txt (line 123)) (2024.1)\n",
      "Requirement already satisfied: urllib3==2.2.2 in /opt/conda/lib/python3.11/site-packages (from -r ../requirements.txt (line 124)) (2.2.2)\n",
      "Requirement already satisfied: watchdog==4.0.2 in /opt/conda/lib/python3.11/site-packages (from -r ../requirements.txt (line 125)) (4.0.2)\n",
      "Requirement already satisfied: wcwidth==0.2.13 in /opt/conda/lib/python3.11/site-packages (from -r ../requirements.txt (line 126)) (0.2.13)\n",
      "Requirement already satisfied: wikipedia==1.4.0 in /opt/conda/lib/python3.11/site-packages (from -r ../requirements.txt (line 127)) (1.4.0)\n",
      "Requirement already satisfied: wrapt==1.16.0 in /opt/conda/lib/python3.11/site-packages (from -r ../requirements.txt (line 128)) (1.16.0)\n",
      "Requirement already satisfied: yarl==1.9.7 in /opt/conda/lib/python3.11/site-packages (from -r ../requirements.txt (line 129)) (1.9.7)\n",
      "Requirement already satisfied: python-dotenv>=0.21.0 in /opt/conda/lib/python3.11/site-packages (from pydantic-settings==2.5.2->-r ../requirements.txt (line 91)) (1.0.1)\n",
      "Note: you may need to restart the kernel to use updated packages.\n"
     ]
    }
   ],
   "source": [
    "%pip install -r ../requirements.txt"
   ]
  },
  {
   "cell_type": "markdown",
   "metadata": {},
   "source": [
    "実行に必要な環境変数を読み込みます。"
   ]
  },
  {
   "cell_type": "code",
   "execution_count": 8,
   "metadata": {},
   "outputs": [],
   "source": [
    "import os, warnings, time\n",
    "from dotenv import load_dotenv\n",
    "\n",
    "load_dotenv(\"../.env\")\n",
    "\n",
    "# おまじない\n",
    "warnings.filterwarnings(\"ignore\")\n",
    "\n",
    "endpoint = \"http://langfuse-server:3000\"\n",
    "public_key = os.getenv(\"PUBLIC_KEY\")\n",
    "secret_key = os.getenv(\"SECRET_KEY\")"
   ]
  },
  {
   "cell_type": "markdown",
   "metadata": {},
   "source": [
    "LangfuseのSDKクライアントを初期化します。"
   ]
  },
  {
   "cell_type": "code",
   "execution_count": 9,
   "metadata": {},
   "outputs": [],
   "source": [
    "from langfuse import Langfuse\n",
    "\n",
    "langfuse = Langfuse(\n",
    "    public_key=public_key,\n",
    "    secret_key=secret_key,\n",
    "    host=endpoint\n",
    ")"
   ]
  },
  {
   "cell_type": "markdown",
   "metadata": {},
   "source": [
    "### Low-Level SDK"
   ]
  },
  {
   "cell_type": "markdown",
   "metadata": {},
   "source": [
    "Low-Level SDKを用いてTraceと各種Observation(Event/Span/Generation)の確認をします。"
   ]
  },
  {
   "cell_type": "code",
   "execution_count": 7,
   "metadata": {},
   "outputs": [],
   "source": [
    "# Traceを作成する\n",
    "trace = langfuse.trace(\n",
    "    name=\"Ask the BigBaBy\"\n",
    ")\n",
    "\n",
    "# Observation - EventをTraceに追加する\n",
    "event = trace.event(\n",
    "    name=\"Meet the BigBaBy\"\n",
    ")\n",
    "\n",
    "# Observation - SpanをTraceに追加する\n",
    "span = trace.span(\n",
    "    name=\"Search the BigBaBy's dictionary\"\n",
    ")\n",
    "# 2秒間スリープ（同期コールする検索システムを想定）\n",
    "time.sleep(2)\n",
    "span.end()\n",
    "\n",
    "if os.getenv(\"COHERE_API_KEY\") == None:\n",
    "    from langchain_openai.chat_models import ChatOpenAI\n",
    "    openai_api_key = os.getenv(\"OPENAI_API_KEY\")\n",
    "    model = \"gpt-4o-mini\"\n",
    "    llm = ChatOpenAI(api_key=openai_api_key, model=model)\n",
    "else:\n",
    "    from langchain_cohere.chat_models import ChatCohere\n",
    "    cohere_api_key = os.getenv(\"COHERE_API_KEY\")\n",
    "    model = \"command-r-plus\"\n",
    "    llm = ChatCohere(cohere_api_key=cohere_api_key, model=model)\n",
    "\n",
    "input = [\n",
    "    {\"role\": \"user\", \"content\": \"おすすめの肉料理おしえて\"}\n",
    "]\n",
    "\n",
    "generation = trace.generation(\n",
    "    name=\"Ask the BigBaBy\",\n",
    "    model=model,\n",
    "    input=input\n",
    ")\n",
    "\n",
    "result = llm.invoke(input=input)\n"
   ]
  },
  {
   "cell_type": "markdown",
   "metadata": {},
   "source": [
    "### Decorator"
   ]
  },
  {
   "cell_type": "markdown",
   "metadata": {},
   "source": [
    "`@obserbe()`デコレーターを用いてTraceと各種Observation(Span/Generation)の確認をします。"
   ]
  },
  {
   "cell_type": "code",
   "execution_count": 19,
   "metadata": {},
   "outputs": [
    {
     "name": "stdout",
     "output_type": "stream",
     "text": [
      "Meet the BigBaBy!\n",
      "response='喜んでいただけるか分かりませんが、いくつかおすすめの肉料理を紹介します。\\n\\n- ローストビーフ： 牛肉の塊をオーブンでゆっくりと焼き上げた料理です。ジューシーでやわらかな食感と、深い味わいが魅力です。\\n- 豚の角煮： 豚バラ肉を醤油や砂糖などで長時間煮込んだ料理です。とろけるような食感と、甘辛い味付けがご飯にもお酒にもよく合います。\\n- チキンティッカ： インド料理のグリルチキンです。ヨーグルトや香辛料に漬け込んだ鶏肉を串に刺して焼き上げます。香り高く、ジューシーな味わいが楽しめます。\\n- ラムチョップ： ラム肉のリブ（あばら骨）部分をグリルしたり、オーブンで焼いたりした料理です。やわらかな食感と、独特の香りが魅力です。\\n- 牛タンのステーキ： 牛タンを厚切りにしてステーキにした料理です。やわらかな食感と、深い味わいが楽しめます。\\n\\n以上、お好みの料理はありましたか？'\n"
     ]
    }
   ],
   "source": [
    "from langfuse.decorators import observe, langfuse_context\n",
    "\n",
    "@observe()\n",
    "def meet_the_bigbaby():\n",
    "    print(\"Meet the BigBaBy!\")\n",
    "\n",
    "@observe(name=\"Search the BigBaBy's dictionary\")\n",
    "def search_the_bigbaby_dict():\n",
    "    time.sleep(2)\n",
    "\n",
    "@observe(name=\"Ask the BigBaBy\", as_type=\"generation\")\n",
    "def ask_the_bigbaby(query: str):\n",
    "    if os.getenv(\"COHERE_API_KEY\") == None:\n",
    "        from langchain_openai.chat_models import ChatOpenAI\n",
    "        openai_api_key = os.getenv(\"OPENAI_API_KEY\")\n",
    "        model = \"gpt-4o-mini\"\n",
    "        llm = ChatOpenAI(api_key=openai_api_key, model=model)\n",
    "    else:\n",
    "        from langchain_cohere.chat_models import ChatCohere\n",
    "        cohere_api_key = os.getenv(\"COHERE_API_KEY\")\n",
    "        model = \"command-r-plus\"\n",
    "        llm = ChatCohere(cohere_api_key=cohere_api_key, model=model)\n",
    "    input = [\n",
    "        {\"role\": \"user\", \"content\": query}\n",
    "    ]\n",
    "    result = llm.invoke(input=input)\n",
    "    return result.content\n",
    "\n",
    "@observe(name=\"Ask the BigBaby\")\n",
    "def main():\n",
    "    meet_the_bigbaby()\n",
    "    search_the_bigbaby_dict()\n",
    "    return ask_the_bigbaby(query=\"肉料理のおすすめ教えて\")\n",
    "\n",
    "langfuse_context.configure(\n",
    "    public_key=public_key,\n",
    "    secret_key=secret_key,\n",
    "    host=endpoint\n",
    ")\n",
    "response = main()\n",
    "print(f\"{response=}\")"
   ]
  },
  {
   "cell_type": "code",
   "execution_count": null,
   "metadata": {},
   "outputs": [],
   "source": []
  }
 ],
 "metadata": {
  "kernelspec": {
   "display_name": "Python 3 (ipykernel)",
   "language": "python",
   "name": "python3"
  },
  "language_info": {
   "codemirror_mode": {
    "name": "ipython",
    "version": 3
   },
   "file_extension": ".py",
   "mimetype": "text/x-python",
   "name": "python",
   "nbconvert_exporter": "python",
   "pygments_lexer": "ipython3",
   "version": "3.11.6"
  }
 },
 "nbformat": 4,
 "nbformat_minor": 4
}
