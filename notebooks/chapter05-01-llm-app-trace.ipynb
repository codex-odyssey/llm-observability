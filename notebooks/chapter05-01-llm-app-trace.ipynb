{
 "cells": [
  {
   "cell_type": "markdown",
   "metadata": {},
   "source": [
    "## ハンズオン01: 回答生成の裏側で何が行われているか確認してみよう"
   ]
  },
  {
   "cell_type": "markdown",
   "metadata": {},
   "source": [
    "🍖 Ask the BigBaBy 🍖 （ http://localhost:8501/ ）にアクセスして「カルビクッパの作り方を教えて」と聞いてみてください。\n",
    "\n",
    "その監視情報を Langfuse ( http://localhost:3000/ ) から確認します。"
   ]
  }
 ],
 "metadata": {
  "kernelspec": {
   "display_name": "Python 3 (ipykernel)",
   "language": "python",
   "name": "python3"
  },
  "language_info": {
   "codemirror_mode": {
    "name": "ipython",
    "version": 3
   },
   "file_extension": ".py",
   "mimetype": "text/x-python",
   "name": "python",
   "nbconvert_exporter": "python",
   "pygments_lexer": "ipython3",
   "version": "3.11.6"
  }
 },
 "nbformat": 4,
 "nbformat_minor": 4
}
