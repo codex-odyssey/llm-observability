{
 "cells": [
  {
   "cell_type": "markdown",
   "metadata": {},
   "source": [
    "## agentを利用したアプリケーション"
   ]
  },
  {
   "cell_type": "markdown",
   "metadata": {},
   "source": [
    "### 準備\n",
    "\n",
    "必要なライブラリのインストール"
   ]
  },
  {
   "cell_type": "code",
   "execution_count": 1,
   "metadata": {},
   "outputs": [
    {
     "name": "stdout",
     "output_type": "stream",
     "text": [
      "Requirement already satisfied: aiohappyeyeballs==2.4.0 in /data/ghq/github.com/codex-odyssey/llm-observability/venv/lib/python3.12/site-packages (from -r ../requirements.txt (line 1)) (2.4.0)\n",
      "Requirement already satisfied: aiohttp==3.10.5 in /data/ghq/github.com/codex-odyssey/llm-observability/venv/lib/python3.12/site-packages (from -r ../requirements.txt (line 2)) (3.10.5)\n",
      "Requirement already satisfied: aiosignal==1.3.1 in /data/ghq/github.com/codex-odyssey/llm-observability/venv/lib/python3.12/site-packages (from -r ../requirements.txt (line 3)) (1.3.1)\n",
      "Requirement already satisfied: altair==5.4.1 in /data/ghq/github.com/codex-odyssey/llm-observability/venv/lib/python3.12/site-packages (from -r ../requirements.txt (line 4)) (5.4.1)\n",
      "Requirement already satisfied: annotated-types==0.7.0 in /data/ghq/github.com/codex-odyssey/llm-observability/venv/lib/python3.12/site-packages (from -r ../requirements.txt (line 5)) (0.7.0)\n",
      "Requirement already satisfied: anyio==4.4.0 in /data/ghq/github.com/codex-odyssey/llm-observability/venv/lib/python3.12/site-packages (from -r ../requirements.txt (line 6)) (4.4.0)\n",
      "Requirement already satisfied: asttokens==2.4.1 in /data/ghq/github.com/codex-odyssey/llm-observability/venv/lib/python3.12/site-packages (from -r ../requirements.txt (line 7)) (2.4.1)\n",
      "Requirement already satisfied: attrs==24.2.0 in /data/ghq/github.com/codex-odyssey/llm-observability/venv/lib/python3.12/site-packages (from -r ../requirements.txt (line 8)) (24.2.0)\n",
      "Requirement already satisfied: backoff==2.2.1 in /data/ghq/github.com/codex-odyssey/llm-observability/venv/lib/python3.12/site-packages (from -r ../requirements.txt (line 9)) (2.2.1)\n",
      "Requirement already satisfied: blinker==1.8.2 in /data/ghq/github.com/codex-odyssey/llm-observability/venv/lib/python3.12/site-packages (from -r ../requirements.txt (line 10)) (1.8.2)\n",
      "Requirement already satisfied: boto3==1.35.10 in /data/ghq/github.com/codex-odyssey/llm-observability/venv/lib/python3.12/site-packages (from -r ../requirements.txt (line 11)) (1.35.10)\n",
      "Requirement already satisfied: botocore==1.35.10 in /data/ghq/github.com/codex-odyssey/llm-observability/venv/lib/python3.12/site-packages (from -r ../requirements.txt (line 12)) (1.35.10)\n",
      "Requirement already satisfied: bs4==0.0.2 in /data/ghq/github.com/codex-odyssey/llm-observability/venv/lib/python3.12/site-packages (from -r ../requirements.txt (line 13)) (0.0.2)\n",
      "Requirement already satisfied: cachetools==5.5.0 in /data/ghq/github.com/codex-odyssey/llm-observability/venv/lib/python3.12/site-packages (from -r ../requirements.txt (line 14)) (5.5.0)\n",
      "Requirement already satisfied: certifi==2024.8.30 in /data/ghq/github.com/codex-odyssey/llm-observability/venv/lib/python3.12/site-packages (from -r ../requirements.txt (line 15)) (2024.8.30)\n",
      "Requirement already satisfied: charset-normalizer==3.3.2 in /data/ghq/github.com/codex-odyssey/llm-observability/venv/lib/python3.12/site-packages (from -r ../requirements.txt (line 16)) (3.3.2)\n",
      "Requirement already satisfied: click==8.1.7 in /data/ghq/github.com/codex-odyssey/llm-observability/venv/lib/python3.12/site-packages (from -r ../requirements.txt (line 17)) (8.1.7)\n",
      "Requirement already satisfied: cohere==5.9.0 in /data/ghq/github.com/codex-odyssey/llm-observability/venv/lib/python3.12/site-packages (from -r ../requirements.txt (line 18)) (5.9.0)\n",
      "Requirement already satisfied: comm==0.2.2 in /data/ghq/github.com/codex-odyssey/llm-observability/venv/lib/python3.12/site-packages (from -r ../requirements.txt (line 19)) (0.2.2)\n",
      "Requirement already satisfied: dataclasses-json==0.6.7 in /data/ghq/github.com/codex-odyssey/llm-observability/venv/lib/python3.12/site-packages (from -r ../requirements.txt (line 20)) (0.6.7)\n",
      "Requirement already satisfied: debugpy==1.8.5 in /data/ghq/github.com/codex-odyssey/llm-observability/venv/lib/python3.12/site-packages (from -r ../requirements.txt (line 21)) (1.8.5)\n",
      "Requirement already satisfied: decorator==5.1.1 in /data/ghq/github.com/codex-odyssey/llm-observability/venv/lib/python3.12/site-packages (from -r ../requirements.txt (line 22)) (5.1.1)\n",
      "Requirement already satisfied: defusedxml==0.7.1 in /data/ghq/github.com/codex-odyssey/llm-observability/venv/lib/python3.12/site-packages (from -r ../requirements.txt (line 23)) (0.7.1)\n",
      "Requirement already satisfied: distro==1.9.0 in /data/ghq/github.com/codex-odyssey/llm-observability/venv/lib/python3.12/site-packages (from -r ../requirements.txt (line 24)) (1.9.0)\n",
      "Requirement already satisfied: executing==2.1.0 in /data/ghq/github.com/codex-odyssey/llm-observability/venv/lib/python3.12/site-packages (from -r ../requirements.txt (line 25)) (2.1.0)\n",
      "Requirement already satisfied: faiss-cpu==1.8.0.post1 in /data/ghq/github.com/codex-odyssey/llm-observability/venv/lib/python3.12/site-packages (from -r ../requirements.txt (line 26)) (1.8.0.post1)\n",
      "Requirement already satisfied: fastavro==1.9.5 in /data/ghq/github.com/codex-odyssey/llm-observability/venv/lib/python3.12/site-packages (from -r ../requirements.txt (line 27)) (1.9.5)\n",
      "Requirement already satisfied: filelock==3.15.4 in /data/ghq/github.com/codex-odyssey/llm-observability/venv/lib/python3.12/site-packages (from -r ../requirements.txt (line 28)) (3.15.4)\n",
      "Requirement already satisfied: frozenlist==1.4.1 in /data/ghq/github.com/codex-odyssey/llm-observability/venv/lib/python3.12/site-packages (from -r ../requirements.txt (line 29)) (1.4.1)\n",
      "Requirement already satisfied: fsspec==2024.6.1 in /data/ghq/github.com/codex-odyssey/llm-observability/venv/lib/python3.12/site-packages (from -r ../requirements.txt (line 30)) (2024.6.1)\n",
      "Requirement already satisfied: gitdb==4.0.11 in /data/ghq/github.com/codex-odyssey/llm-observability/venv/lib/python3.12/site-packages (from -r ../requirements.txt (line 31)) (4.0.11)\n",
      "Requirement already satisfied: GitPython==3.1.43 in /data/ghq/github.com/codex-odyssey/llm-observability/venv/lib/python3.12/site-packages (from -r ../requirements.txt (line 32)) (3.1.43)\n",
      "Requirement already satisfied: greenlet==3.0.3 in /data/ghq/github.com/codex-odyssey/llm-observability/venv/lib/python3.12/site-packages (from -r ../requirements.txt (line 33)) (3.0.3)\n",
      "Requirement already satisfied: h11==0.14.0 in /data/ghq/github.com/codex-odyssey/llm-observability/venv/lib/python3.12/site-packages (from -r ../requirements.txt (line 34)) (0.14.0)\n",
      "Requirement already satisfied: httpcore==1.0.5 in /data/ghq/github.com/codex-odyssey/llm-observability/venv/lib/python3.12/site-packages (from -r ../requirements.txt (line 35)) (1.0.5)\n",
      "Requirement already satisfied: httpx==0.27.2 in /data/ghq/github.com/codex-odyssey/llm-observability/venv/lib/python3.12/site-packages (from -r ../requirements.txt (line 36)) (0.27.2)\n",
      "Requirement already satisfied: httpx-sse==0.4.0 in /data/ghq/github.com/codex-odyssey/llm-observability/venv/lib/python3.12/site-packages (from -r ../requirements.txt (line 37)) (0.4.0)\n",
      "Requirement already satisfied: huggingface-hub==0.24.6 in /data/ghq/github.com/codex-odyssey/llm-observability/venv/lib/python3.12/site-packages (from -r ../requirements.txt (line 38)) (0.24.6)\n",
      "Requirement already satisfied: idna==3.8 in /data/ghq/github.com/codex-odyssey/llm-observability/venv/lib/python3.12/site-packages (from -r ../requirements.txt (line 39)) (3.8)\n",
      "Requirement already satisfied: ipykernel==6.29.5 in /data/ghq/github.com/codex-odyssey/llm-observability/venv/lib/python3.12/site-packages (from -r ../requirements.txt (line 40)) (6.29.5)\n",
      "Requirement already satisfied: ipython==8.27.0 in /data/ghq/github.com/codex-odyssey/llm-observability/venv/lib/python3.12/site-packages (from -r ../requirements.txt (line 41)) (8.27.0)\n",
      "Requirement already satisfied: jedi==0.19.1 in /data/ghq/github.com/codex-odyssey/llm-observability/venv/lib/python3.12/site-packages (from -r ../requirements.txt (line 42)) (0.19.1)\n",
      "Requirement already satisfied: Jinja2==3.1.4 in /data/ghq/github.com/codex-odyssey/llm-observability/venv/lib/python3.12/site-packages (from -r ../requirements.txt (line 43)) (3.1.4)\n",
      "Requirement already satisfied: jiter==0.5.0 in /data/ghq/github.com/codex-odyssey/llm-observability/venv/lib/python3.12/site-packages (from -r ../requirements.txt (line 44)) (0.5.0)\n",
      "Requirement already satisfied: jmespath==1.0.1 in /data/ghq/github.com/codex-odyssey/llm-observability/venv/lib/python3.12/site-packages (from -r ../requirements.txt (line 45)) (1.0.1)\n",
      "Requirement already satisfied: jsonpatch==1.33 in /data/ghq/github.com/codex-odyssey/llm-observability/venv/lib/python3.12/site-packages (from -r ../requirements.txt (line 46)) (1.33)\n",
      "Requirement already satisfied: jsonpointer==3.0.0 in /data/ghq/github.com/codex-odyssey/llm-observability/venv/lib/python3.12/site-packages (from -r ../requirements.txt (line 47)) (3.0.0)\n",
      "Requirement already satisfied: jsonschema==4.23.0 in /data/ghq/github.com/codex-odyssey/llm-observability/venv/lib/python3.12/site-packages (from -r ../requirements.txt (line 48)) (4.23.0)\n",
      "Requirement already satisfied: jsonschema-specifications==2023.12.1 in /data/ghq/github.com/codex-odyssey/llm-observability/venv/lib/python3.12/site-packages (from -r ../requirements.txt (line 49)) (2023.12.1)\n",
      "Requirement already satisfied: jupyter_client==8.6.2 in /data/ghq/github.com/codex-odyssey/llm-observability/venv/lib/python3.12/site-packages (from -r ../requirements.txt (line 50)) (8.6.2)\n",
      "Requirement already satisfied: jupyter_core==5.7.2 in /data/ghq/github.com/codex-odyssey/llm-observability/venv/lib/python3.12/site-packages (from -r ../requirements.txt (line 51)) (5.7.2)\n",
      "Requirement already satisfied: langchain==0.3.1 in /data/ghq/github.com/codex-odyssey/llm-observability/venv/lib/python3.12/site-packages (from -r ../requirements.txt (line 52)) (0.3.1)\n",
      "Requirement already satisfied: langchain-cohere==0.3.0 in /data/ghq/github.com/codex-odyssey/llm-observability/venv/lib/python3.12/site-packages (from -r ../requirements.txt (line 53)) (0.3.0)\n",
      "Requirement already satisfied: langchain-community==0.3.1 in /data/ghq/github.com/codex-odyssey/llm-observability/venv/lib/python3.12/site-packages (from -r ../requirements.txt (line 54)) (0.3.1)\n",
      "Requirement already satisfied: langchain-core==0.3.6 in /data/ghq/github.com/codex-odyssey/llm-observability/venv/lib/python3.12/site-packages (from -r ../requirements.txt (line 55)) (0.3.6)\n",
      "Requirement already satisfied: langchain-experimental==0.3.1.post1 in /data/ghq/github.com/codex-odyssey/llm-observability/venv/lib/python3.12/site-packages (from -r ../requirements.txt (line 56)) (0.3.1.post1)\n",
      "Requirement already satisfied: langchain-openai==0.2.1 in /data/ghq/github.com/codex-odyssey/llm-observability/venv/lib/python3.12/site-packages (from -r ../requirements.txt (line 57)) (0.2.1)\n",
      "Requirement already satisfied: langchain-text-splitters==0.3.0 in /data/ghq/github.com/codex-odyssey/llm-observability/venv/lib/python3.12/site-packages (from -r ../requirements.txt (line 58)) (0.3.0)\n",
      "Requirement already satisfied: langfuse==2.45.2 in /data/ghq/github.com/codex-odyssey/llm-observability/venv/lib/python3.12/site-packages (from -r ../requirements.txt (line 59)) (2.45.2)\n",
      "Requirement already satisfied: langgraph==0.2.32 in /data/ghq/github.com/codex-odyssey/llm-observability/venv/lib/python3.12/site-packages (from -r ../requirements.txt (line 60)) (0.2.32)\n",
      "Requirement already satisfied: langsmith==0.1.125 in /data/ghq/github.com/codex-odyssey/llm-observability/venv/lib/python3.12/site-packages (from -r ../requirements.txt (line 61)) (0.1.125)\n",
      "Requirement already satisfied: markdown-it-py==3.0.0 in /data/ghq/github.com/codex-odyssey/llm-observability/venv/lib/python3.12/site-packages (from -r ../requirements.txt (line 62)) (3.0.0)\n",
      "Requirement already satisfied: MarkupSafe==2.1.5 in /data/ghq/github.com/codex-odyssey/llm-observability/venv/lib/python3.12/site-packages (from -r ../requirements.txt (line 63)) (2.1.5)\n",
      "Requirement already satisfied: marshmallow==3.22.0 in /data/ghq/github.com/codex-odyssey/llm-observability/venv/lib/python3.12/site-packages (from -r ../requirements.txt (line 64)) (3.22.0)\n",
      "Requirement already satisfied: matplotlib-inline==0.1.7 in /data/ghq/github.com/codex-odyssey/llm-observability/venv/lib/python3.12/site-packages (from -r ../requirements.txt (line 65)) (0.1.7)\n",
      "Requirement already satisfied: mdurl==0.1.2 in /data/ghq/github.com/codex-odyssey/llm-observability/venv/lib/python3.12/site-packages (from -r ../requirements.txt (line 66)) (0.1.2)\n",
      "Requirement already satisfied: multidict==6.0.5 in /data/ghq/github.com/codex-odyssey/llm-observability/venv/lib/python3.12/site-packages (from -r ../requirements.txt (line 67)) (6.0.5)\n",
      "Requirement already satisfied: mypy-extensions==1.0.0 in /data/ghq/github.com/codex-odyssey/llm-observability/venv/lib/python3.12/site-packages (from -r ../requirements.txt (line 68)) (1.0.0)\n",
      "Requirement already satisfied: narwhals==1.7.0 in /data/ghq/github.com/codex-odyssey/llm-observability/venv/lib/python3.12/site-packages (from -r ../requirements.txt (line 69)) (1.7.0)\n",
      "Requirement already satisfied: nest-asyncio==1.6.0 in /data/ghq/github.com/codex-odyssey/llm-observability/venv/lib/python3.12/site-packages (from -r ../requirements.txt (line 70)) (1.6.0)\n",
      "Requirement already satisfied: numpy==1.26.4 in /data/ghq/github.com/codex-odyssey/llm-observability/venv/lib/python3.12/site-packages (from -r ../requirements.txt (line 71)) (1.26.4)\n",
      "Requirement already satisfied: openai==1.43.0 in /data/ghq/github.com/codex-odyssey/llm-observability/venv/lib/python3.12/site-packages (from -r ../requirements.txt (line 72)) (1.43.0)\n",
      "Requirement already satisfied: orjson==3.10.7 in /data/ghq/github.com/codex-odyssey/llm-observability/venv/lib/python3.12/site-packages (from -r ../requirements.txt (line 73)) (3.10.7)\n",
      "Requirement already satisfied: packaging==24.1 in /data/ghq/github.com/codex-odyssey/llm-observability/venv/lib/python3.12/site-packages (from -r ../requirements.txt (line 74)) (24.1)\n",
      "Requirement already satisfied: pandas==2.2.2 in /data/ghq/github.com/codex-odyssey/llm-observability/venv/lib/python3.12/site-packages (from -r ../requirements.txt (line 75)) (2.2.2)\n",
      "Requirement already satisfied: parameterized==0.9.0 in /data/ghq/github.com/codex-odyssey/llm-observability/venv/lib/python3.12/site-packages (from -r ../requirements.txt (line 76)) (0.9.0)\n",
      "Requirement already satisfied: parso==0.8.4 in /data/ghq/github.com/codex-odyssey/llm-observability/venv/lib/python3.12/site-packages (from -r ../requirements.txt (line 77)) (0.8.4)\n",
      "Requirement already satisfied: pexpect==4.9.0 in /data/ghq/github.com/codex-odyssey/llm-observability/venv/lib/python3.12/site-packages (from -r ../requirements.txt (line 78)) (4.9.0)\n",
      "Requirement already satisfied: pillow==10.4.0 in /data/ghq/github.com/codex-odyssey/llm-observability/venv/lib/python3.12/site-packages (from -r ../requirements.txt (line 79)) (10.4.0)\n",
      "Requirement already satisfied: platformdirs==4.2.2 in /data/ghq/github.com/codex-odyssey/llm-observability/venv/lib/python3.12/site-packages (from -r ../requirements.txt (line 80)) (4.2.2)\n",
      "Requirement already satisfied: prompt_toolkit==3.0.47 in /data/ghq/github.com/codex-odyssey/llm-observability/venv/lib/python3.12/site-packages (from -r ../requirements.txt (line 81)) (3.0.47)\n",
      "Requirement already satisfied: protobuf==5.28.1 in /data/ghq/github.com/codex-odyssey/llm-observability/venv/lib/python3.12/site-packages (from -r ../requirements.txt (line 82)) (5.28.1)\n",
      "Requirement already satisfied: psutil==6.0.0 in /data/ghq/github.com/codex-odyssey/llm-observability/venv/lib/python3.12/site-packages (from -r ../requirements.txt (line 83)) (6.0.0)\n",
      "Requirement already satisfied: ptyprocess==0.7.0 in /data/ghq/github.com/codex-odyssey/llm-observability/venv/lib/python3.12/site-packages (from -r ../requirements.txt (line 84)) (0.7.0)\n",
      "Requirement already satisfied: pure_eval==0.2.3 in /data/ghq/github.com/codex-odyssey/llm-observability/venv/lib/python3.12/site-packages (from -r ../requirements.txt (line 85)) (0.2.3)\n",
      "Requirement already satisfied: pyarrow==17.0.0 in /data/ghq/github.com/codex-odyssey/llm-observability/venv/lib/python3.12/site-packages (from -r ../requirements.txt (line 86)) (17.0.0)\n",
      "Requirement already satisfied: pydantic==2.8.2 in /data/ghq/github.com/codex-odyssey/llm-observability/venv/lib/python3.12/site-packages (from -r ../requirements.txt (line 87)) (2.8.2)\n",
      "Requirement already satisfied: pydantic-settings==2.5.2 in /data/ghq/github.com/codex-odyssey/llm-observability/venv/lib/python3.12/site-packages (from -r ../requirements.txt (line 88)) (2.5.2)\n",
      "Requirement already satisfied: pydantic_core==2.20.1 in /data/ghq/github.com/codex-odyssey/llm-observability/venv/lib/python3.12/site-packages (from -r ../requirements.txt (line 89)) (2.20.1)\n",
      "Requirement already satisfied: pydeck==0.9.1 in /data/ghq/github.com/codex-odyssey/llm-observability/venv/lib/python3.12/site-packages (from -r ../requirements.txt (line 90)) (0.9.1)\n",
      "Requirement already satisfied: Pygments==2.18.0 in /data/ghq/github.com/codex-odyssey/llm-observability/venv/lib/python3.12/site-packages (from -r ../requirements.txt (line 91)) (2.18.0)\n",
      "Requirement already satisfied: python-dateutil==2.9.0.post0 in /data/ghq/github.com/codex-odyssey/llm-observability/venv/lib/python3.12/site-packages (from -r ../requirements.txt (line 92)) (2.9.0.post0)\n",
      "Requirement already satisfied: python-dotenv==1.0.1 in /data/ghq/github.com/codex-odyssey/llm-observability/venv/lib/python3.12/site-packages (from -r ../requirements.txt (line 93)) (1.0.1)\n",
      "Requirement already satisfied: pytz==2024.1 in /data/ghq/github.com/codex-odyssey/llm-observability/venv/lib/python3.12/site-packages (from -r ../requirements.txt (line 94)) (2024.1)\n",
      "Requirement already satisfied: PyYAML==6.0.2 in /data/ghq/github.com/codex-odyssey/llm-observability/venv/lib/python3.12/site-packages (from -r ../requirements.txt (line 95)) (6.0.2)\n",
      "Requirement already satisfied: pyzmq==26.2.0 in /data/ghq/github.com/codex-odyssey/llm-observability/venv/lib/python3.12/site-packages (from -r ../requirements.txt (line 96)) (26.2.0)\n",
      "Requirement already satisfied: referencing==0.35.1 in /data/ghq/github.com/codex-odyssey/llm-observability/venv/lib/python3.12/site-packages (from -r ../requirements.txt (line 97)) (0.35.1)\n",
      "Requirement already satisfied: regex==2024.7.24 in /data/ghq/github.com/codex-odyssey/llm-observability/venv/lib/python3.12/site-packages (from -r ../requirements.txt (line 98)) (2024.7.24)\n",
      "Requirement already satisfied: requests==2.32.3 in /data/ghq/github.com/codex-odyssey/llm-observability/venv/lib/python3.12/site-packages (from -r ../requirements.txt (line 99)) (2.32.3)\n",
      "Requirement already satisfied: rich==13.8.1 in /data/ghq/github.com/codex-odyssey/llm-observability/venv/lib/python3.12/site-packages (from -r ../requirements.txt (line 100)) (13.8.1)\n",
      "Requirement already satisfied: rpds-py==0.20.0 in /data/ghq/github.com/codex-odyssey/llm-observability/venv/lib/python3.12/site-packages (from -r ../requirements.txt (line 101)) (0.20.0)\n",
      "Requirement already satisfied: s3transfer==0.10.2 in /data/ghq/github.com/codex-odyssey/llm-observability/venv/lib/python3.12/site-packages (from -r ../requirements.txt (line 102)) (0.10.2)\n",
      "Requirement already satisfied: six==1.16.0 in /data/ghq/github.com/codex-odyssey/llm-observability/venv/lib/python3.12/site-packages (from -r ../requirements.txt (line 103)) (1.16.0)\n",
      "Requirement already satisfied: smmap==5.0.1 in /data/ghq/github.com/codex-odyssey/llm-observability/venv/lib/python3.12/site-packages (from -r ../requirements.txt (line 104)) (5.0.1)\n",
      "Requirement already satisfied: sniffio==1.3.1 in /data/ghq/github.com/codex-odyssey/llm-observability/venv/lib/python3.12/site-packages (from -r ../requirements.txt (line 105)) (1.3.1)\n",
      "Requirement already satisfied: SQLAlchemy==2.0.32 in /data/ghq/github.com/codex-odyssey/llm-observability/venv/lib/python3.12/site-packages (from -r ../requirements.txt (line 106)) (2.0.32)\n",
      "Requirement already satisfied: stack-data==0.6.3 in /data/ghq/github.com/codex-odyssey/llm-observability/venv/lib/python3.12/site-packages (from -r ../requirements.txt (line 107)) (0.6.3)\n",
      "Requirement already satisfied: streamlit==1.38.0 in /data/ghq/github.com/codex-odyssey/llm-observability/venv/lib/python3.12/site-packages (from -r ../requirements.txt (line 108)) (1.38.0)\n",
      "Requirement already satisfied: tabulate==0.9.0 in /data/ghq/github.com/codex-odyssey/llm-observability/venv/lib/python3.12/site-packages (from -r ../requirements.txt (line 109)) (0.9.0)\n",
      "Requirement already satisfied: tenacity==8.5.0 in /data/ghq/github.com/codex-odyssey/llm-observability/venv/lib/python3.12/site-packages (from -r ../requirements.txt (line 110)) (8.5.0)\n",
      "Requirement already satisfied: tiktoken==0.7.0 in /data/ghq/github.com/codex-odyssey/llm-observability/venv/lib/python3.12/site-packages (from -r ../requirements.txt (line 111)) (0.7.0)\n",
      "Requirement already satisfied: tokenizers==0.20.0 in /data/ghq/github.com/codex-odyssey/llm-observability/venv/lib/python3.12/site-packages (from -r ../requirements.txt (line 112)) (0.20.0)\n",
      "Requirement already satisfied: toml==0.10.2 in /data/ghq/github.com/codex-odyssey/llm-observability/venv/lib/python3.12/site-packages (from -r ../requirements.txt (line 113)) (0.10.2)\n",
      "Requirement already satisfied: tornado==6.4.1 in /data/ghq/github.com/codex-odyssey/llm-observability/venv/lib/python3.12/site-packages (from -r ../requirements.txt (line 114)) (6.4.1)\n",
      "Requirement already satisfied: tqdm==4.66.5 in /data/ghq/github.com/codex-odyssey/llm-observability/venv/lib/python3.12/site-packages (from -r ../requirements.txt (line 115)) (4.66.5)\n",
      "Requirement already satisfied: traitlets==5.14.3 in /data/ghq/github.com/codex-odyssey/llm-observability/venv/lib/python3.12/site-packages (from -r ../requirements.txt (line 116)) (5.14.3)\n",
      "Requirement already satisfied: types-requests==2.32.0.20240712 in /data/ghq/github.com/codex-odyssey/llm-observability/venv/lib/python3.12/site-packages (from -r ../requirements.txt (line 117)) (2.32.0.20240712)\n",
      "Requirement already satisfied: typing-inspect==0.9.0 in /data/ghq/github.com/codex-odyssey/llm-observability/venv/lib/python3.12/site-packages (from -r ../requirements.txt (line 118)) (0.9.0)\n",
      "Requirement already satisfied: typing_extensions==4.12.2 in /data/ghq/github.com/codex-odyssey/llm-observability/venv/lib/python3.12/site-packages (from -r ../requirements.txt (line 119)) (4.12.2)\n",
      "Requirement already satisfied: tzdata==2024.1 in /data/ghq/github.com/codex-odyssey/llm-observability/venv/lib/python3.12/site-packages (from -r ../requirements.txt (line 120)) (2024.1)\n",
      "Requirement already satisfied: urllib3==2.2.2 in /data/ghq/github.com/codex-odyssey/llm-observability/venv/lib/python3.12/site-packages (from -r ../requirements.txt (line 121)) (2.2.2)\n",
      "Requirement already satisfied: watchdog==4.0.2 in /data/ghq/github.com/codex-odyssey/llm-observability/venv/lib/python3.12/site-packages (from -r ../requirements.txt (line 122)) (4.0.2)\n",
      "Requirement already satisfied: wcwidth==0.2.13 in /data/ghq/github.com/codex-odyssey/llm-observability/venv/lib/python3.12/site-packages (from -r ../requirements.txt (line 123)) (0.2.13)\n",
      "Requirement already satisfied: wrapt==1.16.0 in /data/ghq/github.com/codex-odyssey/llm-observability/venv/lib/python3.12/site-packages (from -r ../requirements.txt (line 124)) (1.16.0)\n",
      "Requirement already satisfied: yarl==1.9.7 in /data/ghq/github.com/codex-odyssey/llm-observability/venv/lib/python3.12/site-packages (from -r ../requirements.txt (line 125)) (1.9.7)\n",
      "Requirement already satisfied: beautifulsoup4 in /data/ghq/github.com/codex-odyssey/llm-observability/venv/lib/python3.12/site-packages (from bs4==0.0.2->-r ../requirements.txt (line 13)) (4.12.3)\n",
      "Requirement already satisfied: langgraph-checkpoint<3.0.0,>=2.0.0 in /data/ghq/github.com/codex-odyssey/llm-observability/venv/lib/python3.12/site-packages (from langgraph==0.2.32->-r ../requirements.txt (line 60)) (2.0.0)\n",
      "Requirement already satisfied: msgpack<2.0.0,>=1.1.0 in /data/ghq/github.com/codex-odyssey/llm-observability/venv/lib/python3.12/site-packages (from langgraph-checkpoint<3.0.0,>=2.0.0->langgraph==0.2.32->-r ../requirements.txt (line 60)) (1.1.0)\n",
      "Requirement already satisfied: soupsieve>1.2 in /data/ghq/github.com/codex-odyssey/llm-observability/venv/lib/python3.12/site-packages (from beautifulsoup4->bs4==0.0.2->-r ../requirements.txt (line 13)) (2.6)\n",
      "Note: you may need to restart the kernel to use updated packages.\n"
     ]
    }
   ],
   "source": [
    "%pip install -r ../requirements.txt"
   ]
  },
  {
   "cell_type": "markdown",
   "metadata": {},
   "source": [
    "環境変数の読み込み"
   ]
  },
  {
   "cell_type": "code",
   "execution_count": 2,
   "metadata": {},
   "outputs": [
    {
     "data": {
      "text/plain": [
       "True"
      ]
     },
     "execution_count": 2,
     "metadata": {},
     "output_type": "execute_result"
    }
   ],
   "source": [
    "from dotenv import load_dotenv\n",
    "\n",
    "load_dotenv(\"../.env\")"
   ]
  },
  {
   "cell_type": "code",
   "execution_count": 7,
   "metadata": {},
   "outputs": [
    {
     "name": "stderr",
     "output_type": "stream",
     "text": [
      "USER_AGENT environment variable not set, consider setting it to identify your requests.\n"
     ]
    },
    {
     "data": {
      "text/plain": [
       "Document(metadata={'source': 'https://docs.smith.langchain.com/overview', 'title': 'Get started with LangSmith | 🦜️🛠️ LangSmith', 'description': 'LangSmith is a platform for building production-grade LLM applications. It allows you to closely monitor and evaluate your application, so you can ship quickly and with confidence. Use of LangChain is not necessary - LangSmith works on its own!', 'language': 'en'}, page_content='\"revision_id\": \"beta\"    },)import { Client, Run, Example } from \"langsmith\";import { evaluate } from \"langsmith/evaluation\";import { EvaluationResult } from \"langsmith/evaluation\";const client = new Client();// Define dataset: these are your test casesconst datasetName = \"Sample Dataset\";const dataset = await client.createDataset(datasetName, {  description: \"A sample dataset in LangSmith.\",});await client.createExamples({  inputs: [    { postfix: \"to LangSmith\" },    { postfix: \"to Evaluations in LangSmith\" },  ],  outputs: [    { output: \"Welcome to LangSmith\" },    { output: \"Welcome to Evaluations in LangSmith\" },  ],  datasetId: dataset.id,});// Define your evaluatorconst exactMatch = async (  run: Run,  example: Example): Promise<EvaluationResult> => {  return {    key: \"exact_match\",    score: run.outputs?.output === example?.outputs?.output,  };};await evaluate(  (input: { postfix: string }) => ({ output: `Welcome ${input.postfix}` }),  {    data: datasetName,    evaluators:')"
      ]
     },
     "execution_count": 7,
     "metadata": {},
     "output_type": "execute_result"
    }
   ],
   "source": [
    "\n",
    "from langchain_community.document_loaders import WebBaseLoader\n",
    "from langchain_community.vectorstores import FAISS\n",
    "from langchain_cohere import CohereEmbeddings\n",
    "from langchain_text_splitters import RecursiveCharacterTextSplitter\n",
    "\n",
    "loader = WebBaseLoader(\"https://docs.smith.langchain.com/overview\")\n",
    "docs = loader.load()\n",
    "documents = RecursiveCharacterTextSplitter(\n",
    "    chunk_size=1000, chunk_overlap=200\n",
    ").split_documents(docs)\n",
    "vector = FAISS.from_documents(documents, CohereEmbeddings(model=\"embed-multilingual-v3.0\"))\n",
    "retriever = vector.as_retriever()\n",
    "\n",
    "retriever.invoke(\"how to upload a dataset\")[0]"
   ]
  },
  {
   "cell_type": "markdown",
   "metadata": {},
   "source": [
    "### Tool"
   ]
  },
  {
   "cell_type": "code",
   "execution_count": 44,
   "metadata": {},
   "outputs": [
    {
     "name": "stdout",
     "output_type": "stream",
     "text": [
      "name='combat_power' description='曜日に対応するBigBaByの戦闘力を計算します。\\n\\nArgs:\\n  day: 曜日です。' args_schema=<class 'langchain_core.utils.pydantic.combat_power'> func=<function combat_power at 0x7f9ad8cab240>\n"
     ]
    }
   ],
   "source": [
    "from langchain_core.tools import tool\n",
    "from enum import Enum\n",
    "\n",
    "# 曜日のEnum定義\n",
    "class DayOfWeek(Enum):\n",
    "    MONDAY = 'Monday!'\n",
    "    TUESDAY = 'Tuesday!'\n",
    "    WEDNESDAY = 'Wednesday!'\n",
    "    THURSDAY = 'Thursday!'\n",
    "    FRIDAY = 'Friday!'\n",
    "    SATURDAY = 'Saturday!'\n",
    "    SUNDAY = 'Sunday!'\n",
    "\n",
    "day_values_map = {\n",
    "    DayOfWeek.MONDAY: 0,\n",
    "    DayOfWeek.TUESDAY: 10,\n",
    "    DayOfWeek.WEDNESDAY: 20,\n",
    "    DayOfWeek.THURSDAY: 30,\n",
    "    DayOfWeek.FRIDAY: 40,\n",
    "    DayOfWeek.SATURDAY: 50,\n",
    "    DayOfWeek.SUNDAY: 100,\n",
    "}\n",
    "\n",
    "@tool\n",
    "def combat_power(day: DayOfWeek) -> int:\n",
    "    \"\"\"\n",
    "    曜日に対応するBigBaByの戦闘力を計算します。\n",
    "\n",
    "    Args:\n",
    "      day: 曜日です。\n",
    "    \"\"\"\n",
    "\n",
    "    return day_values_map.get(day)\n",
    "\n",
    "print(combat_power.name)\n",
    "print(combat_power.description)\n",
    "print(combat_power.args)\n",
    "print(combat_power)\n"
   ]
  },
  {
   "cell_type": "code",
   "execution_count": 37,
   "metadata": {},
   "outputs": [
    {
     "data": {
      "text/plain": [
       "[StructuredTool(name='combat_power', description='曜日に対応するBigBaByの戦闘力を計算します。\\n\\nArgs:\\n  day: 曜日です。', args_schema=<class 'langchain_core.utils.pydantic.combat_power'>, func=<function combat_power at 0x7f9ad8898540>)]"
      ]
     },
     "execution_count": 37,
     "metadata": {},
     "output_type": "execute_result"
    }
   ],
   "source": [
    "from langchain.tools.retriever import create_retriever_tool\n",
    "\n",
    "retriever_tool = create_retriever_tool(\n",
    "    retriever,\n",
    "    \"langsmith_search\",\n",
    "    \"Search for information about LangSmith. For any questions about LangSmith, you must use this tool!\",\n",
    ")\n",
    "tools = [combat_power]#, retriever_tool]\n",
    "tools"
   ]
  },
  {
   "cell_type": "code",
   "execution_count": 38,
   "metadata": {},
   "outputs": [
    {
     "name": "stdout",
     "output_type": "stream",
     "text": [
      "ContentString: おはようございます！今日も一日頑張りましょう。\n",
      "ToolCalls: []\n"
     ]
    }
   ],
   "source": [
    "from langchain_cohere import ChatCohere\n",
    "\n",
    "model = ChatCohere(model=\"command-r\")\n",
    "model_with_tools = model.bind_tools(tools)\n",
    "response = model_with_tools.invoke(\"おはよう\")\n",
    "print(f\"ContentString: {response.content}\")\n",
    "print(f\"ToolCalls: {response.tool_calls}\")"
   ]
  },
  {
   "cell_type": "code",
   "execution_count": 39,
   "metadata": {},
   "outputs": [
    {
     "name": "stdout",
     "output_type": "stream",
     "text": [
      "ContentString: I will use the provided function to find out the combat power on the day after Monday, which will allow me to answer the question in full.\n",
      "ToolCalls: [{'name': 'combat_power', 'args': {'day': 'Monday'}, 'id': '373722c85d974a38acfd3e3cb754e17f', 'type': 'tool_call'}]\n"
     ]
    }
   ],
   "source": [
    "response = model_with_tools.invoke(\"BigBaByの月曜の次の日の戦闘力は？\")\n",
    "print(f\"ContentString: {response.content}\")\n",
    "print(f\"ToolCalls: {response.tool_calls}\")"
   ]
  },
  {
   "cell_type": "code",
   "execution_count": 42,
   "metadata": {},
   "outputs": [
    {
     "data": {
      "text/plain": [
       "[HumanMessage(content='BigBaByの木曜の戦闘力は？', additional_kwargs={}, response_metadata={}, id='3072873c-ce02-45e3-b6e2-7250bc7d565c'),\n",
       " AIMessage(content='I will use the provided function to find out the combat power corresponding to Thursday, and relay this information to the user.', additional_kwargs={'documents': None, 'citations': None, 'search_results': None, 'search_queries': None, 'is_search_required': None, 'generation_id': 'e1598148-553f-4a85-bc88-8b5d0bf6fb75', 'tool_calls': [{'id': '9b06278491d44673802b26a52155bf37', 'function': {'name': 'combat_power', 'arguments': '{\"day\": \"Thursday\"}'}, 'type': 'function'}], 'token_count': {'input_tokens': 925.0, 'output_tokens': 66.0}}, response_metadata={'documents': None, 'citations': None, 'search_results': None, 'search_queries': None, 'is_search_required': None, 'generation_id': 'e1598148-553f-4a85-bc88-8b5d0bf6fb75', 'tool_calls': [{'id': '9b06278491d44673802b26a52155bf37', 'function': {'name': 'combat_power', 'arguments': '{\"day\": \"Thursday\"}'}, 'type': 'function'}], 'token_count': {'input_tokens': 925.0, 'output_tokens': 66.0}}, id='run-eace4578-4a36-4031-9c59-a8c929646862-0', tool_calls=[{'name': 'combat_power', 'args': {'day': 'Thursday'}, 'id': '2c240667b8f74e57af0025cce91dda61', 'type': 'tool_call'}], usage_metadata={'input_tokens': 925, 'output_tokens': 66, 'total_tokens': 991}),\n",
       " ToolMessage(content=\"Error: 1 validation error for combat_power\\nday\\n  Input should be 'Monday!', 'Tuesday!', 'Wednesday!', 'Thursday!', 'Friday!', 'Saturday!' or 'Sunday!' [type=enum, input_value='Thursday', input_type=str]\\n    For further information visit https://errors.pydantic.dev/2.8/v/enum\\n Please fix your mistakes.\", name='combat_power', id='112cb7d2-b148-4b5c-a54c-8b5a18f1748e', tool_call_id='2c240667b8f74e57af0025cce91dda61'),\n",
       " AIMessage(content='The input must be in the form of an exclamation mark ending sentence. I will run the function again with the corrected input.', additional_kwargs={'documents': None, 'citations': None, 'search_results': None, 'search_queries': None, 'is_search_required': None, 'generation_id': '2267ab14-7b0a-45b7-8bdf-aa2b9e830ba6', 'tool_calls': [{'id': '34648f8267ca4a92b7254251aa67397f', 'function': {'name': 'combat_power', 'arguments': '{\"day\": \"Thursday!\"}'}, 'type': 'function'}], 'token_count': {'input_tokens': 1103.0, 'output_tokens': 68.0}}, response_metadata={'documents': None, 'citations': None, 'search_results': None, 'search_queries': None, 'is_search_required': None, 'generation_id': '2267ab14-7b0a-45b7-8bdf-aa2b9e830ba6', 'tool_calls': [{'id': '34648f8267ca4a92b7254251aa67397f', 'function': {'name': 'combat_power', 'arguments': '{\"day\": \"Thursday!\"}'}, 'type': 'function'}], 'token_count': {'input_tokens': 1103.0, 'output_tokens': 68.0}}, id='run-4baef92b-bf76-429e-b7ab-039df5f4b48d-0', tool_calls=[{'name': 'combat_power', 'args': {'day': 'Thursday!'}, 'id': 'dc931b0b7a9c47a6a6581e534eea545b', 'type': 'tool_call'}], usage_metadata={'input_tokens': 1103, 'output_tokens': 68, 'total_tokens': 1171}),\n",
       " ToolMessage(content='30', name='combat_power', id='c2cc9ac9-13fd-4609-8bd6-577dadcfb3ef', tool_call_id='dc931b0b7a9c47a6a6581e534eea545b'),\n",
       " AIMessage(content=\"BigBaBy's combat power on Thursdays is **30**.\", additional_kwargs={'documents': [{'id': 'combat_power:0:5:0', 'output': '30', 'tool_name': 'combat_power'}], 'citations': [ChatCitation(start=40, end=43, text='*30', document_ids=['combat_power:0:5:0'])], 'search_results': None, 'search_queries': None, 'is_search_required': None, 'generation_id': '933400d7-27c6-45ce-9414-2e36056f2abe', 'token_count': {'input_tokens': 1203.0, 'output_tokens': 60.0}}, response_metadata={'documents': [{'id': 'combat_power:0:5:0', 'output': '30', 'tool_name': 'combat_power'}], 'citations': [ChatCitation(start=40, end=43, text='*30', document_ids=['combat_power:0:5:0'])], 'search_results': None, 'search_queries': None, 'is_search_required': None, 'generation_id': '933400d7-27c6-45ce-9414-2e36056f2abe', 'token_count': {'input_tokens': 1203.0, 'output_tokens': 60.0}}, id='run-e85bf826-a41c-4d9d-a88c-af7888657b9d-0', usage_metadata={'input_tokens': 1203, 'output_tokens': 60, 'total_tokens': 1263})]"
      ]
     },
     "execution_count": 42,
     "metadata": {},
     "output_type": "execute_result"
    }
   ],
   "source": [
    "from langgraph.prebuilt import create_react_agent\n",
    "from langgraph.checkpoint.memory import MemorySaver  # an in-memory checkpointer\n",
    "\n",
    "system_message = \"あなたは有用なアシスタントです。\"\n",
    "memory = MemorySaver()\n",
    "langgraph_agent_executor = create_react_agent(\n",
    "  model, tools,state_modifier=system_message, checkpointer=memory\n",
    ")\n",
    "config = {\"configurable\": {\"thread_id\": \"test-thread\"}}\n",
    "langgraph_agent_executor.invoke(\n",
    "  {\n",
    "    \"messages\": [\n",
    "      (\"user\",\"BigBaByの木曜の戦闘力は？\"),\n",
    "    ]\n",
    "  },\n",
    "  config,\n",
    ")['messages']"
   ]
  },
  {
   "cell_type": "code",
   "execution_count": 41,
   "metadata": {},
   "outputs": [
    {
     "ename": "InternalServerError",
     "evalue": "status_code: 500, body: {'message': 'internal server error, this has been reported to our developers. id c00e6658-ca1f-4dab-b904-cad57c8b835b'}",
     "output_type": "error",
     "traceback": [
      "\u001b[0;31m---------------------------------------------------------------------------\u001b[0m",
      "\u001b[0;31mInternalServerError\u001b[0m                       Traceback (most recent call last)",
      "Cell \u001b[0;32mIn[41], line 1\u001b[0m\n\u001b[0;32m----> 1\u001b[0m \u001b[43mlanggraph_agent_executor\u001b[49m\u001b[38;5;241;43m.\u001b[39;49m\u001b[43minvoke\u001b[49m\u001b[43m(\u001b[49m\n\u001b[1;32m      2\u001b[0m \u001b[43m  \u001b[49m\u001b[43m{\u001b[49m\n\u001b[1;32m      3\u001b[0m \u001b[43m    \u001b[49m\u001b[38;5;124;43m\"\u001b[39;49m\u001b[38;5;124;43mmessages\u001b[39;49m\u001b[38;5;124;43m\"\u001b[39;49m\u001b[43m:\u001b[49m\u001b[43m \u001b[49m\u001b[43m[\u001b[49m\n\u001b[1;32m      4\u001b[0m \u001b[43m      \u001b[49m\u001b[43m(\u001b[49m\u001b[38;5;124;43m\"\u001b[39;49m\u001b[38;5;124;43muser\u001b[39;49m\u001b[38;5;124;43m\"\u001b[39;49m\u001b[43m,\u001b[49m\u001b[38;5;124;43m\"\u001b[39;49m\u001b[38;5;124;43mBigBaByの水曜の戦闘力は？\u001b[39;49m\u001b[38;5;124;43m\"\u001b[39;49m\u001b[43m)\u001b[49m\u001b[43m,\u001b[49m\n\u001b[1;32m      5\u001b[0m \u001b[43m    \u001b[49m\u001b[43m]\u001b[49m\n\u001b[1;32m      6\u001b[0m \u001b[43m  \u001b[49m\u001b[43m}\u001b[49m\u001b[43m,\u001b[49m\n\u001b[1;32m      7\u001b[0m \u001b[43m  \u001b[49m\u001b[43mconfig\u001b[49m\u001b[43m,\u001b[49m\n\u001b[1;32m      8\u001b[0m \u001b[43m)\u001b[49m\n",
      "File \u001b[0;32m/data/ghq/github.com/codex-odyssey/llm-observability/venv/lib/python3.12/site-packages/langgraph/pregel/__init__.py:1560\u001b[0m, in \u001b[0;36mPregel.invoke\u001b[0;34m(self, input, config, stream_mode, output_keys, interrupt_before, interrupt_after, debug, **kwargs)\u001b[0m\n\u001b[1;32m   1558\u001b[0m \u001b[38;5;28;01melse\u001b[39;00m:\n\u001b[1;32m   1559\u001b[0m     chunks \u001b[38;5;241m=\u001b[39m []\n\u001b[0;32m-> 1560\u001b[0m \u001b[43m\u001b[49m\u001b[38;5;28;43;01mfor\u001b[39;49;00m\u001b[43m \u001b[49m\u001b[43mchunk\u001b[49m\u001b[43m \u001b[49m\u001b[38;5;129;43;01min\u001b[39;49;00m\u001b[43m \u001b[49m\u001b[38;5;28;43mself\u001b[39;49m\u001b[38;5;241;43m.\u001b[39;49m\u001b[43mstream\u001b[49m\u001b[43m(\u001b[49m\n\u001b[1;32m   1561\u001b[0m \u001b[43m    \u001b[49m\u001b[38;5;28;43minput\u001b[39;49m\u001b[43m,\u001b[49m\n\u001b[1;32m   1562\u001b[0m \u001b[43m    \u001b[49m\u001b[43mconfig\u001b[49m\u001b[43m,\u001b[49m\n\u001b[1;32m   1563\u001b[0m \u001b[43m    \u001b[49m\u001b[43mstream_mode\u001b[49m\u001b[38;5;241;43m=\u001b[39;49m\u001b[43mstream_mode\u001b[49m\u001b[43m,\u001b[49m\n\u001b[1;32m   1564\u001b[0m \u001b[43m    \u001b[49m\u001b[43moutput_keys\u001b[49m\u001b[38;5;241;43m=\u001b[39;49m\u001b[43moutput_keys\u001b[49m\u001b[43m,\u001b[49m\n\u001b[1;32m   1565\u001b[0m \u001b[43m    \u001b[49m\u001b[43minterrupt_before\u001b[49m\u001b[38;5;241;43m=\u001b[39;49m\u001b[43minterrupt_before\u001b[49m\u001b[43m,\u001b[49m\n\u001b[1;32m   1566\u001b[0m \u001b[43m    \u001b[49m\u001b[43minterrupt_after\u001b[49m\u001b[38;5;241;43m=\u001b[39;49m\u001b[43minterrupt_after\u001b[49m\u001b[43m,\u001b[49m\n\u001b[1;32m   1567\u001b[0m \u001b[43m    \u001b[49m\u001b[43mdebug\u001b[49m\u001b[38;5;241;43m=\u001b[39;49m\u001b[43mdebug\u001b[49m\u001b[43m,\u001b[49m\n\u001b[1;32m   1568\u001b[0m \u001b[43m    \u001b[49m\u001b[38;5;241;43m*\u001b[39;49m\u001b[38;5;241;43m*\u001b[39;49m\u001b[43mkwargs\u001b[49m\u001b[43m,\u001b[49m\n\u001b[1;32m   1569\u001b[0m \u001b[43m\u001b[49m\u001b[43m)\u001b[49m\u001b[43m:\u001b[49m\n\u001b[1;32m   1570\u001b[0m \u001b[43m    \u001b[49m\u001b[38;5;28;43;01mif\u001b[39;49;00m\u001b[43m \u001b[49m\u001b[43mstream_mode\u001b[49m\u001b[43m \u001b[49m\u001b[38;5;241;43m==\u001b[39;49m\u001b[43m \u001b[49m\u001b[38;5;124;43m\"\u001b[39;49m\u001b[38;5;124;43mvalues\u001b[39;49m\u001b[38;5;124;43m\"\u001b[39;49m\u001b[43m:\u001b[49m\n\u001b[1;32m   1571\u001b[0m \u001b[43m        \u001b[49m\u001b[43mlatest\u001b[49m\u001b[43m \u001b[49m\u001b[38;5;241;43m=\u001b[39;49m\u001b[43m \u001b[49m\u001b[43mchunk\u001b[49m\n",
      "File \u001b[0;32m/data/ghq/github.com/codex-odyssey/llm-observability/venv/lib/python3.12/site-packages/langgraph/pregel/__init__.py:1298\u001b[0m, in \u001b[0;36mPregel.stream\u001b[0;34m(self, input, config, stream_mode, output_keys, interrupt_before, interrupt_after, debug, subgraphs)\u001b[0m\n\u001b[1;32m   1287\u001b[0m     \u001b[38;5;66;03m# Similarly to Bulk Synchronous Parallel / Pregel model\u001b[39;00m\n\u001b[1;32m   1288\u001b[0m     \u001b[38;5;66;03m# computation proceeds in steps, while there are channel updates\u001b[39;00m\n\u001b[1;32m   1289\u001b[0m     \u001b[38;5;66;03m# channel updates from step N are only visible in step N+1\u001b[39;00m\n\u001b[1;32m   1290\u001b[0m     \u001b[38;5;66;03m# channels are guaranteed to be immutable for the duration of the step,\u001b[39;00m\n\u001b[1;32m   1291\u001b[0m     \u001b[38;5;66;03m# with channel updates applied only at the transition between steps\u001b[39;00m\n\u001b[1;32m   1292\u001b[0m     \u001b[38;5;28;01mwhile\u001b[39;00m loop\u001b[38;5;241m.\u001b[39mtick(\n\u001b[1;32m   1293\u001b[0m         input_keys\u001b[38;5;241m=\u001b[39m\u001b[38;5;28mself\u001b[39m\u001b[38;5;241m.\u001b[39minput_channels,\n\u001b[1;32m   1294\u001b[0m         interrupt_before\u001b[38;5;241m=\u001b[39minterrupt_before_,\n\u001b[1;32m   1295\u001b[0m         interrupt_after\u001b[38;5;241m=\u001b[39minterrupt_after_,\n\u001b[1;32m   1296\u001b[0m         manager\u001b[38;5;241m=\u001b[39mrun_manager,\n\u001b[1;32m   1297\u001b[0m     ):\n\u001b[0;32m-> 1298\u001b[0m \u001b[43m        \u001b[49m\u001b[38;5;28;43;01mfor\u001b[39;49;00m\u001b[43m \u001b[49m\u001b[43m_\u001b[49m\u001b[43m \u001b[49m\u001b[38;5;129;43;01min\u001b[39;49;00m\u001b[43m \u001b[49m\u001b[43mrunner\u001b[49m\u001b[38;5;241;43m.\u001b[39;49m\u001b[43mtick\u001b[49m\u001b[43m(\u001b[49m\n\u001b[1;32m   1299\u001b[0m \u001b[43m            \u001b[49m\u001b[43mloop\u001b[49m\u001b[38;5;241;43m.\u001b[39;49m\u001b[43mtasks\u001b[49m\u001b[38;5;241;43m.\u001b[39;49m\u001b[43mvalues\u001b[49m\u001b[43m(\u001b[49m\u001b[43m)\u001b[49m\u001b[43m,\u001b[49m\n\u001b[1;32m   1300\u001b[0m \u001b[43m            \u001b[49m\u001b[43mtimeout\u001b[49m\u001b[38;5;241;43m=\u001b[39;49m\u001b[38;5;28;43mself\u001b[39;49m\u001b[38;5;241;43m.\u001b[39;49m\u001b[43mstep_timeout\u001b[49m\u001b[43m,\u001b[49m\n\u001b[1;32m   1301\u001b[0m \u001b[43m            \u001b[49m\u001b[43mretry_policy\u001b[49m\u001b[38;5;241;43m=\u001b[39;49m\u001b[38;5;28;43mself\u001b[39;49m\u001b[38;5;241;43m.\u001b[39;49m\u001b[43mretry_policy\u001b[49m\u001b[43m,\u001b[49m\n\u001b[1;32m   1302\u001b[0m \u001b[43m            \u001b[49m\u001b[43mget_waiter\u001b[49m\u001b[38;5;241;43m=\u001b[39;49m\u001b[43mget_waiter\u001b[49m\u001b[43m,\u001b[49m\n\u001b[1;32m   1303\u001b[0m \u001b[43m        \u001b[49m\u001b[43m)\u001b[49m\u001b[43m:\u001b[49m\n\u001b[1;32m   1304\u001b[0m \u001b[43m            \u001b[49m\u001b[38;5;66;43;03m# emit output\u001b[39;49;00m\n\u001b[1;32m   1305\u001b[0m \u001b[43m            \u001b[49m\u001b[38;5;28;43;01myield from\u001b[39;49;00m\u001b[43m \u001b[49m\u001b[43moutput\u001b[49m\u001b[43m(\u001b[49m\u001b[43m)\u001b[49m\n\u001b[1;32m   1306\u001b[0m \u001b[38;5;66;03m# emit output\u001b[39;00m\n",
      "File \u001b[0;32m/data/ghq/github.com/codex-odyssey/llm-observability/venv/lib/python3.12/site-packages/langgraph/pregel/runner.py:56\u001b[0m, in \u001b[0;36mPregelRunner.tick\u001b[0;34m(self, tasks, reraise, timeout, retry_policy, get_waiter)\u001b[0m\n\u001b[1;32m     54\u001b[0m t \u001b[38;5;241m=\u001b[39m tasks[\u001b[38;5;241m0\u001b[39m]\n\u001b[1;32m     55\u001b[0m \u001b[38;5;28;01mtry\u001b[39;00m:\n\u001b[0;32m---> 56\u001b[0m     \u001b[43mrun_with_retry\u001b[49m\u001b[43m(\u001b[49m\u001b[43mt\u001b[49m\u001b[43m,\u001b[49m\u001b[43m \u001b[49m\u001b[43mretry_policy\u001b[49m\u001b[43m)\u001b[49m\n\u001b[1;32m     57\u001b[0m     \u001b[38;5;28mself\u001b[39m\u001b[38;5;241m.\u001b[39mcommit(t, \u001b[38;5;28;01mNone\u001b[39;00m)\n\u001b[1;32m     58\u001b[0m \u001b[38;5;28;01mexcept\u001b[39;00m \u001b[38;5;167;01mException\u001b[39;00m \u001b[38;5;28;01mas\u001b[39;00m exc:\n",
      "File \u001b[0;32m/data/ghq/github.com/codex-odyssey/llm-observability/venv/lib/python3.12/site-packages/langgraph/pregel/retry.py:29\u001b[0m, in \u001b[0;36mrun_with_retry\u001b[0;34m(task, retry_policy)\u001b[0m\n\u001b[1;32m     27\u001b[0m task\u001b[38;5;241m.\u001b[39mwrites\u001b[38;5;241m.\u001b[39mclear()\n\u001b[1;32m     28\u001b[0m \u001b[38;5;66;03m# run the task\u001b[39;00m\n\u001b[0;32m---> 29\u001b[0m \u001b[43mtask\u001b[49m\u001b[38;5;241;43m.\u001b[39;49m\u001b[43mproc\u001b[49m\u001b[38;5;241;43m.\u001b[39;49m\u001b[43minvoke\u001b[49m\u001b[43m(\u001b[49m\u001b[43mtask\u001b[49m\u001b[38;5;241;43m.\u001b[39;49m\u001b[43minput\u001b[49m\u001b[43m,\u001b[49m\u001b[43m \u001b[49m\u001b[43mconfig\u001b[49m\u001b[43m)\u001b[49m\n\u001b[1;32m     30\u001b[0m \u001b[38;5;66;03m# if successful, end\u001b[39;00m\n\u001b[1;32m     31\u001b[0m \u001b[38;5;28;01mbreak\u001b[39;00m\n",
      "File \u001b[0;32m/data/ghq/github.com/codex-odyssey/llm-observability/venv/lib/python3.12/site-packages/langgraph/utils/runnable.py:405\u001b[0m, in \u001b[0;36mRunnableSeq.invoke\u001b[0;34m(self, input, config, **kwargs)\u001b[0m\n\u001b[1;32m    403\u001b[0m context\u001b[38;5;241m.\u001b[39mrun(_set_config_context, config)\n\u001b[1;32m    404\u001b[0m \u001b[38;5;28;01mif\u001b[39;00m i \u001b[38;5;241m==\u001b[39m \u001b[38;5;241m0\u001b[39m:\n\u001b[0;32m--> 405\u001b[0m     \u001b[38;5;28minput\u001b[39m \u001b[38;5;241m=\u001b[39m \u001b[43mcontext\u001b[49m\u001b[38;5;241;43m.\u001b[39;49m\u001b[43mrun\u001b[49m\u001b[43m(\u001b[49m\u001b[43mstep\u001b[49m\u001b[38;5;241;43m.\u001b[39;49m\u001b[43minvoke\u001b[49m\u001b[43m,\u001b[49m\u001b[43m \u001b[49m\u001b[38;5;28;43minput\u001b[39;49m\u001b[43m,\u001b[49m\u001b[43m \u001b[49m\u001b[43mconfig\u001b[49m\u001b[43m,\u001b[49m\u001b[43m \u001b[49m\u001b[38;5;241;43m*\u001b[39;49m\u001b[38;5;241;43m*\u001b[39;49m\u001b[43mkwargs\u001b[49m\u001b[43m)\u001b[49m\n\u001b[1;32m    406\u001b[0m \u001b[38;5;28;01melse\u001b[39;00m:\n\u001b[1;32m    407\u001b[0m     \u001b[38;5;28minput\u001b[39m \u001b[38;5;241m=\u001b[39m context\u001b[38;5;241m.\u001b[39mrun(step\u001b[38;5;241m.\u001b[39minvoke, \u001b[38;5;28minput\u001b[39m, config)\n",
      "File \u001b[0;32m/data/ghq/github.com/codex-odyssey/llm-observability/venv/lib/python3.12/site-packages/langchain_core/runnables/base.py:4706\u001b[0m, in \u001b[0;36mRunnableLambda.invoke\u001b[0;34m(self, input, config, **kwargs)\u001b[0m\n\u001b[1;32m   4692\u001b[0m \u001b[38;5;250m\u001b[39m\u001b[38;5;124;03m\"\"\"Invoke this Runnable synchronously.\u001b[39;00m\n\u001b[1;32m   4693\u001b[0m \n\u001b[1;32m   4694\u001b[0m \u001b[38;5;124;03mArgs:\u001b[39;00m\n\u001b[0;32m   (...)\u001b[0m\n\u001b[1;32m   4703\u001b[0m \u001b[38;5;124;03m    TypeError: If the Runnable is a coroutine function.\u001b[39;00m\n\u001b[1;32m   4704\u001b[0m \u001b[38;5;124;03m\"\"\"\u001b[39;00m\n\u001b[1;32m   4705\u001b[0m \u001b[38;5;28;01mif\u001b[39;00m \u001b[38;5;28mhasattr\u001b[39m(\u001b[38;5;28mself\u001b[39m, \u001b[38;5;124m\"\u001b[39m\u001b[38;5;124mfunc\u001b[39m\u001b[38;5;124m\"\u001b[39m):\n\u001b[0;32m-> 4706\u001b[0m     \u001b[38;5;28;01mreturn\u001b[39;00m \u001b[38;5;28;43mself\u001b[39;49m\u001b[38;5;241;43m.\u001b[39;49m\u001b[43m_call_with_config\u001b[49m\u001b[43m(\u001b[49m\n\u001b[1;32m   4707\u001b[0m \u001b[43m        \u001b[49m\u001b[38;5;28;43mself\u001b[39;49m\u001b[38;5;241;43m.\u001b[39;49m\u001b[43m_invoke\u001b[49m\u001b[43m,\u001b[49m\n\u001b[1;32m   4708\u001b[0m \u001b[43m        \u001b[49m\u001b[38;5;28;43minput\u001b[39;49m\u001b[43m,\u001b[49m\n\u001b[1;32m   4709\u001b[0m \u001b[43m        \u001b[49m\u001b[38;5;28;43mself\u001b[39;49m\u001b[38;5;241;43m.\u001b[39;49m\u001b[43m_config\u001b[49m\u001b[43m(\u001b[49m\u001b[43mconfig\u001b[49m\u001b[43m,\u001b[49m\u001b[43m \u001b[49m\u001b[38;5;28;43mself\u001b[39;49m\u001b[38;5;241;43m.\u001b[39;49m\u001b[43mfunc\u001b[49m\u001b[43m)\u001b[49m\u001b[43m,\u001b[49m\n\u001b[1;32m   4710\u001b[0m \u001b[43m        \u001b[49m\u001b[38;5;241;43m*\u001b[39;49m\u001b[38;5;241;43m*\u001b[39;49m\u001b[43mkwargs\u001b[49m\u001b[43m,\u001b[49m\n\u001b[1;32m   4711\u001b[0m \u001b[43m    \u001b[49m\u001b[43m)\u001b[49m\n\u001b[1;32m   4712\u001b[0m \u001b[38;5;28;01melse\u001b[39;00m:\n\u001b[1;32m   4713\u001b[0m     \u001b[38;5;28;01mraise\u001b[39;00m \u001b[38;5;167;01mTypeError\u001b[39;00m(\n\u001b[1;32m   4714\u001b[0m         \u001b[38;5;124m\"\u001b[39m\u001b[38;5;124mCannot invoke a coroutine function synchronously.\u001b[39m\u001b[38;5;124m\"\u001b[39m\n\u001b[1;32m   4715\u001b[0m         \u001b[38;5;124m\"\u001b[39m\u001b[38;5;124mUse `ainvoke` instead.\u001b[39m\u001b[38;5;124m\"\u001b[39m\n\u001b[1;32m   4716\u001b[0m     )\n",
      "File \u001b[0;32m/data/ghq/github.com/codex-odyssey/llm-observability/venv/lib/python3.12/site-packages/langchain_core/runnables/base.py:1923\u001b[0m, in \u001b[0;36mRunnable._call_with_config\u001b[0;34m(self, func, input, config, run_type, serialized, **kwargs)\u001b[0m\n\u001b[1;32m   1919\u001b[0m     context \u001b[38;5;241m=\u001b[39m copy_context()\n\u001b[1;32m   1920\u001b[0m     context\u001b[38;5;241m.\u001b[39mrun(_set_config_context, child_config)\n\u001b[1;32m   1921\u001b[0m     output \u001b[38;5;241m=\u001b[39m cast(\n\u001b[1;32m   1922\u001b[0m         Output,\n\u001b[0;32m-> 1923\u001b[0m         \u001b[43mcontext\u001b[49m\u001b[38;5;241;43m.\u001b[39;49m\u001b[43mrun\u001b[49m\u001b[43m(\u001b[49m\n\u001b[1;32m   1924\u001b[0m \u001b[43m            \u001b[49m\u001b[43mcall_func_with_variable_args\u001b[49m\u001b[43m,\u001b[49m\u001b[43m  \u001b[49m\u001b[38;5;66;43;03m# type: ignore[arg-type]\u001b[39;49;00m\n\u001b[1;32m   1925\u001b[0m \u001b[43m            \u001b[49m\u001b[43mfunc\u001b[49m\u001b[43m,\u001b[49m\u001b[43m  \u001b[49m\u001b[38;5;66;43;03m# type: ignore[arg-type]\u001b[39;49;00m\n\u001b[1;32m   1926\u001b[0m \u001b[43m            \u001b[49m\u001b[38;5;28;43minput\u001b[39;49m\u001b[43m,\u001b[49m\u001b[43m  \u001b[49m\u001b[38;5;66;43;03m# type: ignore[arg-type]\u001b[39;49;00m\n\u001b[1;32m   1927\u001b[0m \u001b[43m            \u001b[49m\u001b[43mconfig\u001b[49m\u001b[43m,\u001b[49m\n\u001b[1;32m   1928\u001b[0m \u001b[43m            \u001b[49m\u001b[43mrun_manager\u001b[49m\u001b[43m,\u001b[49m\n\u001b[1;32m   1929\u001b[0m \u001b[43m            \u001b[49m\u001b[38;5;241;43m*\u001b[39;49m\u001b[38;5;241;43m*\u001b[39;49m\u001b[43mkwargs\u001b[49m\u001b[43m,\u001b[49m\n\u001b[1;32m   1930\u001b[0m \u001b[43m        \u001b[49m\u001b[43m)\u001b[49m,\n\u001b[1;32m   1931\u001b[0m     )\n\u001b[1;32m   1932\u001b[0m \u001b[38;5;28;01mexcept\u001b[39;00m \u001b[38;5;167;01mBaseException\u001b[39;00m \u001b[38;5;28;01mas\u001b[39;00m e:\n\u001b[1;32m   1933\u001b[0m     run_manager\u001b[38;5;241m.\u001b[39mon_chain_error(e)\n",
      "File \u001b[0;32m/data/ghq/github.com/codex-odyssey/llm-observability/venv/lib/python3.12/site-packages/langchain_core/runnables/config.py:396\u001b[0m, in \u001b[0;36mcall_func_with_variable_args\u001b[0;34m(func, input, config, run_manager, **kwargs)\u001b[0m\n\u001b[1;32m    394\u001b[0m \u001b[38;5;28;01mif\u001b[39;00m run_manager \u001b[38;5;129;01mis\u001b[39;00m \u001b[38;5;129;01mnot\u001b[39;00m \u001b[38;5;28;01mNone\u001b[39;00m \u001b[38;5;129;01mand\u001b[39;00m accepts_run_manager(func):\n\u001b[1;32m    395\u001b[0m     kwargs[\u001b[38;5;124m\"\u001b[39m\u001b[38;5;124mrun_manager\u001b[39m\u001b[38;5;124m\"\u001b[39m] \u001b[38;5;241m=\u001b[39m run_manager\n\u001b[0;32m--> 396\u001b[0m \u001b[38;5;28;01mreturn\u001b[39;00m \u001b[43mfunc\u001b[49m\u001b[43m(\u001b[49m\u001b[38;5;28;43minput\u001b[39;49m\u001b[43m,\u001b[49m\u001b[43m \u001b[49m\u001b[38;5;241;43m*\u001b[39;49m\u001b[38;5;241;43m*\u001b[39;49m\u001b[43mkwargs\u001b[49m\u001b[43m)\u001b[49m\n",
      "File \u001b[0;32m/data/ghq/github.com/codex-odyssey/llm-observability/venv/lib/python3.12/site-packages/langchain_core/runnables/base.py:4562\u001b[0m, in \u001b[0;36mRunnableLambda._invoke\u001b[0;34m(self, input, run_manager, config, **kwargs)\u001b[0m\n\u001b[1;32m   4560\u001b[0m                 output \u001b[38;5;241m=\u001b[39m chunk\n\u001b[1;32m   4561\u001b[0m \u001b[38;5;28;01melse\u001b[39;00m:\n\u001b[0;32m-> 4562\u001b[0m     output \u001b[38;5;241m=\u001b[39m \u001b[43mcall_func_with_variable_args\u001b[49m\u001b[43m(\u001b[49m\n\u001b[1;32m   4563\u001b[0m \u001b[43m        \u001b[49m\u001b[38;5;28;43mself\u001b[39;49m\u001b[38;5;241;43m.\u001b[39;49m\u001b[43mfunc\u001b[49m\u001b[43m,\u001b[49m\u001b[43m \u001b[49m\u001b[38;5;28;43minput\u001b[39;49m\u001b[43m,\u001b[49m\u001b[43m \u001b[49m\u001b[43mconfig\u001b[49m\u001b[43m,\u001b[49m\u001b[43m \u001b[49m\u001b[43mrun_manager\u001b[49m\u001b[43m,\u001b[49m\u001b[43m \u001b[49m\u001b[38;5;241;43m*\u001b[39;49m\u001b[38;5;241;43m*\u001b[39;49m\u001b[43mkwargs\u001b[49m\n\u001b[1;32m   4564\u001b[0m \u001b[43m    \u001b[49m\u001b[43m)\u001b[49m\n\u001b[1;32m   4565\u001b[0m \u001b[38;5;66;03m# If the output is a Runnable, invoke it\u001b[39;00m\n\u001b[1;32m   4566\u001b[0m \u001b[38;5;28;01mif\u001b[39;00m \u001b[38;5;28misinstance\u001b[39m(output, Runnable):\n",
      "File \u001b[0;32m/data/ghq/github.com/codex-odyssey/llm-observability/venv/lib/python3.12/site-packages/langchain_core/runnables/config.py:396\u001b[0m, in \u001b[0;36mcall_func_with_variable_args\u001b[0;34m(func, input, config, run_manager, **kwargs)\u001b[0m\n\u001b[1;32m    394\u001b[0m \u001b[38;5;28;01mif\u001b[39;00m run_manager \u001b[38;5;129;01mis\u001b[39;00m \u001b[38;5;129;01mnot\u001b[39;00m \u001b[38;5;28;01mNone\u001b[39;00m \u001b[38;5;129;01mand\u001b[39;00m accepts_run_manager(func):\n\u001b[1;32m    395\u001b[0m     kwargs[\u001b[38;5;124m\"\u001b[39m\u001b[38;5;124mrun_manager\u001b[39m\u001b[38;5;124m\"\u001b[39m] \u001b[38;5;241m=\u001b[39m run_manager\n\u001b[0;32m--> 396\u001b[0m \u001b[38;5;28;01mreturn\u001b[39;00m \u001b[43mfunc\u001b[49m\u001b[43m(\u001b[49m\u001b[38;5;28;43minput\u001b[39;49m\u001b[43m,\u001b[49m\u001b[43m \u001b[49m\u001b[38;5;241;43m*\u001b[39;49m\u001b[38;5;241;43m*\u001b[39;49m\u001b[43mkwargs\u001b[49m\u001b[43m)\u001b[49m\n",
      "File \u001b[0;32m/data/ghq/github.com/codex-odyssey/llm-observability/venv/lib/python3.12/site-packages/langgraph/prebuilt/chat_agent_executor.py:477\u001b[0m, in \u001b[0;36mcreate_react_agent.<locals>.call_model\u001b[0;34m(state, config)\u001b[0m\n\u001b[1;32m    476\u001b[0m \u001b[38;5;28;01mdef\u001b[39;00m \u001b[38;5;21mcall_model\u001b[39m(state: AgentState, config: RunnableConfig) \u001b[38;5;241m-\u001b[39m\u001b[38;5;241m>\u001b[39m AgentState:\n\u001b[0;32m--> 477\u001b[0m     response \u001b[38;5;241m=\u001b[39m \u001b[43mmodel_runnable\u001b[49m\u001b[38;5;241;43m.\u001b[39;49m\u001b[43minvoke\u001b[49m\u001b[43m(\u001b[49m\u001b[43mstate\u001b[49m\u001b[43m,\u001b[49m\u001b[43m \u001b[49m\u001b[43mconfig\u001b[49m\u001b[43m)\u001b[49m\n\u001b[1;32m    478\u001b[0m     \u001b[38;5;28;01mif\u001b[39;00m (\n\u001b[1;32m    479\u001b[0m         state[\u001b[38;5;124m\"\u001b[39m\u001b[38;5;124mis_last_step\u001b[39m\u001b[38;5;124m\"\u001b[39m]\n\u001b[1;32m    480\u001b[0m         \u001b[38;5;129;01mand\u001b[39;00m \u001b[38;5;28misinstance\u001b[39m(response, AIMessage)\n\u001b[1;32m    481\u001b[0m         \u001b[38;5;129;01mand\u001b[39;00m response\u001b[38;5;241m.\u001b[39mtool_calls\n\u001b[1;32m    482\u001b[0m     ):\n\u001b[1;32m    483\u001b[0m         \u001b[38;5;28;01mreturn\u001b[39;00m {\n\u001b[1;32m    484\u001b[0m             \u001b[38;5;124m\"\u001b[39m\u001b[38;5;124mmessages\u001b[39m\u001b[38;5;124m\"\u001b[39m: [\n\u001b[1;32m    485\u001b[0m                 AIMessage(\n\u001b[0;32m   (...)\u001b[0m\n\u001b[1;32m    489\u001b[0m             ]\n\u001b[1;32m    490\u001b[0m         }\n",
      "File \u001b[0;32m/data/ghq/github.com/codex-odyssey/llm-observability/venv/lib/python3.12/site-packages/langchain_core/runnables/base.py:3022\u001b[0m, in \u001b[0;36mRunnableSequence.invoke\u001b[0;34m(self, input, config, **kwargs)\u001b[0m\n\u001b[1;32m   3020\u001b[0m             \u001b[38;5;28minput\u001b[39m \u001b[38;5;241m=\u001b[39m context\u001b[38;5;241m.\u001b[39mrun(step\u001b[38;5;241m.\u001b[39minvoke, \u001b[38;5;28minput\u001b[39m, config, \u001b[38;5;241m*\u001b[39m\u001b[38;5;241m*\u001b[39mkwargs)\n\u001b[1;32m   3021\u001b[0m         \u001b[38;5;28;01melse\u001b[39;00m:\n\u001b[0;32m-> 3022\u001b[0m             \u001b[38;5;28minput\u001b[39m \u001b[38;5;241m=\u001b[39m \u001b[43mcontext\u001b[49m\u001b[38;5;241;43m.\u001b[39;49m\u001b[43mrun\u001b[49m\u001b[43m(\u001b[49m\u001b[43mstep\u001b[49m\u001b[38;5;241;43m.\u001b[39;49m\u001b[43minvoke\u001b[49m\u001b[43m,\u001b[49m\u001b[43m \u001b[49m\u001b[38;5;28;43minput\u001b[39;49m\u001b[43m,\u001b[49m\u001b[43m \u001b[49m\u001b[43mconfig\u001b[49m\u001b[43m)\u001b[49m\n\u001b[1;32m   3023\u001b[0m \u001b[38;5;66;03m# finish the root run\u001b[39;00m\n\u001b[1;32m   3024\u001b[0m \u001b[38;5;28;01mexcept\u001b[39;00m \u001b[38;5;167;01mBaseException\u001b[39;00m \u001b[38;5;28;01mas\u001b[39;00m e:\n",
      "File \u001b[0;32m/data/ghq/github.com/codex-odyssey/llm-observability/venv/lib/python3.12/site-packages/langchain_core/runnables/base.py:5343\u001b[0m, in \u001b[0;36mRunnableBindingBase.invoke\u001b[0;34m(self, input, config, **kwargs)\u001b[0m\n\u001b[1;32m   5337\u001b[0m \u001b[38;5;28;01mdef\u001b[39;00m \u001b[38;5;21minvoke\u001b[39m(\n\u001b[1;32m   5338\u001b[0m     \u001b[38;5;28mself\u001b[39m,\n\u001b[1;32m   5339\u001b[0m     \u001b[38;5;28minput\u001b[39m: Input,\n\u001b[1;32m   5340\u001b[0m     config: Optional[RunnableConfig] \u001b[38;5;241m=\u001b[39m \u001b[38;5;28;01mNone\u001b[39;00m,\n\u001b[1;32m   5341\u001b[0m     \u001b[38;5;241m*\u001b[39m\u001b[38;5;241m*\u001b[39mkwargs: Optional[Any],\n\u001b[1;32m   5342\u001b[0m ) \u001b[38;5;241m-\u001b[39m\u001b[38;5;241m>\u001b[39m Output:\n\u001b[0;32m-> 5343\u001b[0m     \u001b[38;5;28;01mreturn\u001b[39;00m \u001b[38;5;28;43mself\u001b[39;49m\u001b[38;5;241;43m.\u001b[39;49m\u001b[43mbound\u001b[49m\u001b[38;5;241;43m.\u001b[39;49m\u001b[43minvoke\u001b[49m\u001b[43m(\u001b[49m\n\u001b[1;32m   5344\u001b[0m \u001b[43m        \u001b[49m\u001b[38;5;28;43minput\u001b[39;49m\u001b[43m,\u001b[49m\n\u001b[1;32m   5345\u001b[0m \u001b[43m        \u001b[49m\u001b[38;5;28;43mself\u001b[39;49m\u001b[38;5;241;43m.\u001b[39;49m\u001b[43m_merge_configs\u001b[49m\u001b[43m(\u001b[49m\u001b[43mconfig\u001b[49m\u001b[43m)\u001b[49m\u001b[43m,\u001b[49m\n\u001b[1;32m   5346\u001b[0m \u001b[43m        \u001b[49m\u001b[38;5;241;43m*\u001b[39;49m\u001b[38;5;241;43m*\u001b[39;49m\u001b[43m{\u001b[49m\u001b[38;5;241;43m*\u001b[39;49m\u001b[38;5;241;43m*\u001b[39;49m\u001b[38;5;28;43mself\u001b[39;49m\u001b[38;5;241;43m.\u001b[39;49m\u001b[43mkwargs\u001b[49m\u001b[43m,\u001b[49m\u001b[43m \u001b[49m\u001b[38;5;241;43m*\u001b[39;49m\u001b[38;5;241;43m*\u001b[39;49m\u001b[43mkwargs\u001b[49m\u001b[43m}\u001b[49m\u001b[43m,\u001b[49m\n\u001b[1;32m   5347\u001b[0m \u001b[43m    \u001b[49m\u001b[43m)\u001b[49m\n",
      "File \u001b[0;32m/data/ghq/github.com/codex-odyssey/llm-observability/venv/lib/python3.12/site-packages/langchain_core/language_models/chat_models.py:284\u001b[0m, in \u001b[0;36mBaseChatModel.invoke\u001b[0;34m(self, input, config, stop, **kwargs)\u001b[0m\n\u001b[1;32m    273\u001b[0m \u001b[38;5;28;01mdef\u001b[39;00m \u001b[38;5;21minvoke\u001b[39m(\n\u001b[1;32m    274\u001b[0m     \u001b[38;5;28mself\u001b[39m,\n\u001b[1;32m    275\u001b[0m     \u001b[38;5;28minput\u001b[39m: LanguageModelInput,\n\u001b[0;32m   (...)\u001b[0m\n\u001b[1;32m    279\u001b[0m     \u001b[38;5;241m*\u001b[39m\u001b[38;5;241m*\u001b[39mkwargs: Any,\n\u001b[1;32m    280\u001b[0m ) \u001b[38;5;241m-\u001b[39m\u001b[38;5;241m>\u001b[39m BaseMessage:\n\u001b[1;32m    281\u001b[0m     config \u001b[38;5;241m=\u001b[39m ensure_config(config)\n\u001b[1;32m    282\u001b[0m     \u001b[38;5;28;01mreturn\u001b[39;00m cast(\n\u001b[1;32m    283\u001b[0m         ChatGeneration,\n\u001b[0;32m--> 284\u001b[0m         \u001b[38;5;28;43mself\u001b[39;49m\u001b[38;5;241;43m.\u001b[39;49m\u001b[43mgenerate_prompt\u001b[49m\u001b[43m(\u001b[49m\n\u001b[1;32m    285\u001b[0m \u001b[43m            \u001b[49m\u001b[43m[\u001b[49m\u001b[38;5;28;43mself\u001b[39;49m\u001b[38;5;241;43m.\u001b[39;49m\u001b[43m_convert_input\u001b[49m\u001b[43m(\u001b[49m\u001b[38;5;28;43minput\u001b[39;49m\u001b[43m)\u001b[49m\u001b[43m]\u001b[49m\u001b[43m,\u001b[49m\n\u001b[1;32m    286\u001b[0m \u001b[43m            \u001b[49m\u001b[43mstop\u001b[49m\u001b[38;5;241;43m=\u001b[39;49m\u001b[43mstop\u001b[49m\u001b[43m,\u001b[49m\n\u001b[1;32m    287\u001b[0m \u001b[43m            \u001b[49m\u001b[43mcallbacks\u001b[49m\u001b[38;5;241;43m=\u001b[39;49m\u001b[43mconfig\u001b[49m\u001b[38;5;241;43m.\u001b[39;49m\u001b[43mget\u001b[49m\u001b[43m(\u001b[49m\u001b[38;5;124;43m\"\u001b[39;49m\u001b[38;5;124;43mcallbacks\u001b[39;49m\u001b[38;5;124;43m\"\u001b[39;49m\u001b[43m)\u001b[49m\u001b[43m,\u001b[49m\n\u001b[1;32m    288\u001b[0m \u001b[43m            \u001b[49m\u001b[43mtags\u001b[49m\u001b[38;5;241;43m=\u001b[39;49m\u001b[43mconfig\u001b[49m\u001b[38;5;241;43m.\u001b[39;49m\u001b[43mget\u001b[49m\u001b[43m(\u001b[49m\u001b[38;5;124;43m\"\u001b[39;49m\u001b[38;5;124;43mtags\u001b[39;49m\u001b[38;5;124;43m\"\u001b[39;49m\u001b[43m)\u001b[49m\u001b[43m,\u001b[49m\n\u001b[1;32m    289\u001b[0m \u001b[43m            \u001b[49m\u001b[43mmetadata\u001b[49m\u001b[38;5;241;43m=\u001b[39;49m\u001b[43mconfig\u001b[49m\u001b[38;5;241;43m.\u001b[39;49m\u001b[43mget\u001b[49m\u001b[43m(\u001b[49m\u001b[38;5;124;43m\"\u001b[39;49m\u001b[38;5;124;43mmetadata\u001b[39;49m\u001b[38;5;124;43m\"\u001b[39;49m\u001b[43m)\u001b[49m\u001b[43m,\u001b[49m\n\u001b[1;32m    290\u001b[0m \u001b[43m            \u001b[49m\u001b[43mrun_name\u001b[49m\u001b[38;5;241;43m=\u001b[39;49m\u001b[43mconfig\u001b[49m\u001b[38;5;241;43m.\u001b[39;49m\u001b[43mget\u001b[49m\u001b[43m(\u001b[49m\u001b[38;5;124;43m\"\u001b[39;49m\u001b[38;5;124;43mrun_name\u001b[39;49m\u001b[38;5;124;43m\"\u001b[39;49m\u001b[43m)\u001b[49m\u001b[43m,\u001b[49m\n\u001b[1;32m    291\u001b[0m \u001b[43m            \u001b[49m\u001b[43mrun_id\u001b[49m\u001b[38;5;241;43m=\u001b[39;49m\u001b[43mconfig\u001b[49m\u001b[38;5;241;43m.\u001b[39;49m\u001b[43mpop\u001b[49m\u001b[43m(\u001b[49m\u001b[38;5;124;43m\"\u001b[39;49m\u001b[38;5;124;43mrun_id\u001b[39;49m\u001b[38;5;124;43m\"\u001b[39;49m\u001b[43m,\u001b[49m\u001b[43m \u001b[49m\u001b[38;5;28;43;01mNone\u001b[39;49;00m\u001b[43m)\u001b[49m\u001b[43m,\u001b[49m\n\u001b[1;32m    292\u001b[0m \u001b[43m            \u001b[49m\u001b[38;5;241;43m*\u001b[39;49m\u001b[38;5;241;43m*\u001b[39;49m\u001b[43mkwargs\u001b[49m\u001b[43m,\u001b[49m\n\u001b[1;32m    293\u001b[0m \u001b[43m        \u001b[49m\u001b[43m)\u001b[49m\u001b[38;5;241m.\u001b[39mgenerations[\u001b[38;5;241m0\u001b[39m][\u001b[38;5;241m0\u001b[39m],\n\u001b[1;32m    294\u001b[0m     )\u001b[38;5;241m.\u001b[39mmessage\n",
      "File \u001b[0;32m/data/ghq/github.com/codex-odyssey/llm-observability/venv/lib/python3.12/site-packages/langchain_core/language_models/chat_models.py:784\u001b[0m, in \u001b[0;36mBaseChatModel.generate_prompt\u001b[0;34m(self, prompts, stop, callbacks, **kwargs)\u001b[0m\n\u001b[1;32m    776\u001b[0m \u001b[38;5;28;01mdef\u001b[39;00m \u001b[38;5;21mgenerate_prompt\u001b[39m(\n\u001b[1;32m    777\u001b[0m     \u001b[38;5;28mself\u001b[39m,\n\u001b[1;32m    778\u001b[0m     prompts: \u001b[38;5;28mlist\u001b[39m[PromptValue],\n\u001b[0;32m   (...)\u001b[0m\n\u001b[1;32m    781\u001b[0m     \u001b[38;5;241m*\u001b[39m\u001b[38;5;241m*\u001b[39mkwargs: Any,\n\u001b[1;32m    782\u001b[0m ) \u001b[38;5;241m-\u001b[39m\u001b[38;5;241m>\u001b[39m LLMResult:\n\u001b[1;32m    783\u001b[0m     prompt_messages \u001b[38;5;241m=\u001b[39m [p\u001b[38;5;241m.\u001b[39mto_messages() \u001b[38;5;28;01mfor\u001b[39;00m p \u001b[38;5;129;01min\u001b[39;00m prompts]\n\u001b[0;32m--> 784\u001b[0m     \u001b[38;5;28;01mreturn\u001b[39;00m \u001b[38;5;28;43mself\u001b[39;49m\u001b[38;5;241;43m.\u001b[39;49m\u001b[43mgenerate\u001b[49m\u001b[43m(\u001b[49m\u001b[43mprompt_messages\u001b[49m\u001b[43m,\u001b[49m\u001b[43m \u001b[49m\u001b[43mstop\u001b[49m\u001b[38;5;241;43m=\u001b[39;49m\u001b[43mstop\u001b[49m\u001b[43m,\u001b[49m\u001b[43m \u001b[49m\u001b[43mcallbacks\u001b[49m\u001b[38;5;241;43m=\u001b[39;49m\u001b[43mcallbacks\u001b[49m\u001b[43m,\u001b[49m\u001b[43m \u001b[49m\u001b[38;5;241;43m*\u001b[39;49m\u001b[38;5;241;43m*\u001b[39;49m\u001b[43mkwargs\u001b[49m\u001b[43m)\u001b[49m\n",
      "File \u001b[0;32m/data/ghq/github.com/codex-odyssey/llm-observability/venv/lib/python3.12/site-packages/langchain_core/language_models/chat_models.py:641\u001b[0m, in \u001b[0;36mBaseChatModel.generate\u001b[0;34m(self, messages, stop, callbacks, tags, metadata, run_name, run_id, **kwargs)\u001b[0m\n\u001b[1;32m    639\u001b[0m         \u001b[38;5;28;01mif\u001b[39;00m run_managers:\n\u001b[1;32m    640\u001b[0m             run_managers[i]\u001b[38;5;241m.\u001b[39mon_llm_error(e, response\u001b[38;5;241m=\u001b[39mLLMResult(generations\u001b[38;5;241m=\u001b[39m[]))\n\u001b[0;32m--> 641\u001b[0m         \u001b[38;5;28;01mraise\u001b[39;00m e\n\u001b[1;32m    642\u001b[0m flattened_outputs \u001b[38;5;241m=\u001b[39m [\n\u001b[1;32m    643\u001b[0m     LLMResult(generations\u001b[38;5;241m=\u001b[39m[res\u001b[38;5;241m.\u001b[39mgenerations], llm_output\u001b[38;5;241m=\u001b[39mres\u001b[38;5;241m.\u001b[39mllm_output)  \u001b[38;5;66;03m# type: ignore[list-item]\u001b[39;00m\n\u001b[1;32m    644\u001b[0m     \u001b[38;5;28;01mfor\u001b[39;00m res \u001b[38;5;129;01min\u001b[39;00m results\n\u001b[1;32m    645\u001b[0m ]\n\u001b[1;32m    646\u001b[0m llm_output \u001b[38;5;241m=\u001b[39m \u001b[38;5;28mself\u001b[39m\u001b[38;5;241m.\u001b[39m_combine_llm_outputs([res\u001b[38;5;241m.\u001b[39mllm_output \u001b[38;5;28;01mfor\u001b[39;00m res \u001b[38;5;129;01min\u001b[39;00m results])\n",
      "File \u001b[0;32m/data/ghq/github.com/codex-odyssey/llm-observability/venv/lib/python3.12/site-packages/langchain_core/language_models/chat_models.py:631\u001b[0m, in \u001b[0;36mBaseChatModel.generate\u001b[0;34m(self, messages, stop, callbacks, tags, metadata, run_name, run_id, **kwargs)\u001b[0m\n\u001b[1;32m    628\u001b[0m \u001b[38;5;28;01mfor\u001b[39;00m i, m \u001b[38;5;129;01min\u001b[39;00m \u001b[38;5;28menumerate\u001b[39m(messages):\n\u001b[1;32m    629\u001b[0m     \u001b[38;5;28;01mtry\u001b[39;00m:\n\u001b[1;32m    630\u001b[0m         results\u001b[38;5;241m.\u001b[39mappend(\n\u001b[0;32m--> 631\u001b[0m             \u001b[38;5;28;43mself\u001b[39;49m\u001b[38;5;241;43m.\u001b[39;49m\u001b[43m_generate_with_cache\u001b[49m\u001b[43m(\u001b[49m\n\u001b[1;32m    632\u001b[0m \u001b[43m                \u001b[49m\u001b[43mm\u001b[49m\u001b[43m,\u001b[49m\n\u001b[1;32m    633\u001b[0m \u001b[43m                \u001b[49m\u001b[43mstop\u001b[49m\u001b[38;5;241;43m=\u001b[39;49m\u001b[43mstop\u001b[49m\u001b[43m,\u001b[49m\n\u001b[1;32m    634\u001b[0m \u001b[43m                \u001b[49m\u001b[43mrun_manager\u001b[49m\u001b[38;5;241;43m=\u001b[39;49m\u001b[43mrun_managers\u001b[49m\u001b[43m[\u001b[49m\u001b[43mi\u001b[49m\u001b[43m]\u001b[49m\u001b[43m \u001b[49m\u001b[38;5;28;43;01mif\u001b[39;49;00m\u001b[43m \u001b[49m\u001b[43mrun_managers\u001b[49m\u001b[43m \u001b[49m\u001b[38;5;28;43;01melse\u001b[39;49;00m\u001b[43m \u001b[49m\u001b[38;5;28;43;01mNone\u001b[39;49;00m\u001b[43m,\u001b[49m\n\u001b[1;32m    635\u001b[0m \u001b[43m                \u001b[49m\u001b[38;5;241;43m*\u001b[39;49m\u001b[38;5;241;43m*\u001b[39;49m\u001b[43mkwargs\u001b[49m\u001b[43m,\u001b[49m\n\u001b[1;32m    636\u001b[0m \u001b[43m            \u001b[49m\u001b[43m)\u001b[49m\n\u001b[1;32m    637\u001b[0m         )\n\u001b[1;32m    638\u001b[0m     \u001b[38;5;28;01mexcept\u001b[39;00m \u001b[38;5;167;01mBaseException\u001b[39;00m \u001b[38;5;28;01mas\u001b[39;00m e:\n\u001b[1;32m    639\u001b[0m         \u001b[38;5;28;01mif\u001b[39;00m run_managers:\n",
      "File \u001b[0;32m/data/ghq/github.com/codex-odyssey/llm-observability/venv/lib/python3.12/site-packages/langchain_core/language_models/chat_models.py:853\u001b[0m, in \u001b[0;36mBaseChatModel._generate_with_cache\u001b[0;34m(self, messages, stop, run_manager, **kwargs)\u001b[0m\n\u001b[1;32m    851\u001b[0m \u001b[38;5;28;01melse\u001b[39;00m:\n\u001b[1;32m    852\u001b[0m     \u001b[38;5;28;01mif\u001b[39;00m inspect\u001b[38;5;241m.\u001b[39msignature(\u001b[38;5;28mself\u001b[39m\u001b[38;5;241m.\u001b[39m_generate)\u001b[38;5;241m.\u001b[39mparameters\u001b[38;5;241m.\u001b[39mget(\u001b[38;5;124m\"\u001b[39m\u001b[38;5;124mrun_manager\u001b[39m\u001b[38;5;124m\"\u001b[39m):\n\u001b[0;32m--> 853\u001b[0m         result \u001b[38;5;241m=\u001b[39m \u001b[38;5;28;43mself\u001b[39;49m\u001b[38;5;241;43m.\u001b[39;49m\u001b[43m_generate\u001b[49m\u001b[43m(\u001b[49m\n\u001b[1;32m    854\u001b[0m \u001b[43m            \u001b[49m\u001b[43mmessages\u001b[49m\u001b[43m,\u001b[49m\u001b[43m \u001b[49m\u001b[43mstop\u001b[49m\u001b[38;5;241;43m=\u001b[39;49m\u001b[43mstop\u001b[49m\u001b[43m,\u001b[49m\u001b[43m \u001b[49m\u001b[43mrun_manager\u001b[49m\u001b[38;5;241;43m=\u001b[39;49m\u001b[43mrun_manager\u001b[49m\u001b[43m,\u001b[49m\u001b[43m \u001b[49m\u001b[38;5;241;43m*\u001b[39;49m\u001b[38;5;241;43m*\u001b[39;49m\u001b[43mkwargs\u001b[49m\n\u001b[1;32m    855\u001b[0m \u001b[43m        \u001b[49m\u001b[43m)\u001b[49m\n\u001b[1;32m    856\u001b[0m     \u001b[38;5;28;01melse\u001b[39;00m:\n\u001b[1;32m    857\u001b[0m         result \u001b[38;5;241m=\u001b[39m \u001b[38;5;28mself\u001b[39m\u001b[38;5;241m.\u001b[39m_generate(messages, stop\u001b[38;5;241m=\u001b[39mstop, \u001b[38;5;241m*\u001b[39m\u001b[38;5;241m*\u001b[39mkwargs)\n",
      "File \u001b[0;32m/data/ghq/github.com/codex-odyssey/llm-observability/venv/lib/python3.12/site-packages/langchain_cohere/chat_models.py:597\u001b[0m, in \u001b[0;36mChatCohere._generate\u001b[0;34m(self, messages, stop, run_manager, **kwargs)\u001b[0m\n\u001b[1;32m    592\u001b[0m     \u001b[38;5;28;01mreturn\u001b[39;00m generate_from_stream(stream_iter)\n\u001b[1;32m    594\u001b[0m request \u001b[38;5;241m=\u001b[39m get_cohere_chat_request(\n\u001b[1;32m    595\u001b[0m     messages, stop_sequences\u001b[38;5;241m=\u001b[39mstop, \u001b[38;5;241m*\u001b[39m\u001b[38;5;241m*\u001b[39m\u001b[38;5;28mself\u001b[39m\u001b[38;5;241m.\u001b[39m_default_params, \u001b[38;5;241m*\u001b[39m\u001b[38;5;241m*\u001b[39mkwargs\n\u001b[1;32m    596\u001b[0m )\n\u001b[0;32m--> 597\u001b[0m response \u001b[38;5;241m=\u001b[39m \u001b[38;5;28;43mself\u001b[39;49m\u001b[38;5;241;43m.\u001b[39;49m\u001b[43mclient\u001b[49m\u001b[38;5;241;43m.\u001b[39;49m\u001b[43mchat\u001b[49m\u001b[43m(\u001b[49m\u001b[38;5;241;43m*\u001b[39;49m\u001b[38;5;241;43m*\u001b[39;49m\u001b[43mrequest\u001b[49m\u001b[43m)\u001b[49m\n\u001b[1;32m    599\u001b[0m generation_info \u001b[38;5;241m=\u001b[39m \u001b[38;5;28mself\u001b[39m\u001b[38;5;241m.\u001b[39m_get_generation_info(response)\n\u001b[1;32m    600\u001b[0m \u001b[38;5;28;01mif\u001b[39;00m \u001b[38;5;124m\"\u001b[39m\u001b[38;5;124mtool_calls\u001b[39m\u001b[38;5;124m\"\u001b[39m \u001b[38;5;129;01min\u001b[39;00m generation_info:\n",
      "File \u001b[0;32m/data/ghq/github.com/codex-odyssey/llm-observability/venv/lib/python3.12/site-packages/cohere/client.py:103\u001b[0m, in \u001b[0;36mexperimental_kwarg_decorator.<locals>._wrapped\u001b[0;34m(*args, **kwargs)\u001b[0m\n\u001b[1;32m     98\u001b[0m \u001b[38;5;28;01mif\u001b[39;00m check_kwarg(deprecated_kwarg, kwargs):\n\u001b[1;32m     99\u001b[0m     logger\u001b[38;5;241m.\u001b[39mwarning(\n\u001b[1;32m    100\u001b[0m         \u001b[38;5;124mf\u001b[39m\u001b[38;5;124m\"\u001b[39m\u001b[38;5;124mThe `\u001b[39m\u001b[38;5;132;01m{\u001b[39;00mdeprecated_kwarg\u001b[38;5;132;01m}\u001b[39;00m\u001b[38;5;124m` parameter is an experimental feature and may change in future releases.\u001b[39m\u001b[38;5;130;01m\\n\u001b[39;00m\u001b[38;5;124m\"\u001b[39m\n\u001b[1;32m    101\u001b[0m         \u001b[38;5;124m\"\u001b[39m\u001b[38;5;124mTo suppress this warning, set `log_warning_experimental_features=False` when initializing the client.\u001b[39m\u001b[38;5;124m\"\u001b[39m\n\u001b[1;32m    102\u001b[0m     )\n\u001b[0;32m--> 103\u001b[0m \u001b[38;5;28;01mreturn\u001b[39;00m \u001b[43mfunc\u001b[49m\u001b[43m(\u001b[49m\u001b[38;5;241;43m*\u001b[39;49m\u001b[43margs\u001b[49m\u001b[43m,\u001b[49m\u001b[43m \u001b[49m\u001b[38;5;241;43m*\u001b[39;49m\u001b[38;5;241;43m*\u001b[39;49m\u001b[43mkwargs\u001b[49m\u001b[43m)\u001b[49m\n",
      "File \u001b[0;32m/data/ghq/github.com/codex-odyssey/llm-observability/venv/lib/python3.12/site-packages/cohere/client.py:35\u001b[0m, in \u001b[0;36mvalidate_args.<locals>._wrapped\u001b[0;34m(*args, **kwargs)\u001b[0m\n\u001b[1;32m     33\u001b[0m \u001b[38;5;28;01mdef\u001b[39;00m \u001b[38;5;21m_wrapped\u001b[39m(\u001b[38;5;241m*\u001b[39margs: typing\u001b[38;5;241m.\u001b[39mAny, \u001b[38;5;241m*\u001b[39m\u001b[38;5;241m*\u001b[39mkwargs: typing\u001b[38;5;241m.\u001b[39mAny) \u001b[38;5;241m-\u001b[39m\u001b[38;5;241m>\u001b[39m typing\u001b[38;5;241m.\u001b[39mAny:\n\u001b[1;32m     34\u001b[0m     check_fn(\u001b[38;5;241m*\u001b[39margs, \u001b[38;5;241m*\u001b[39m\u001b[38;5;241m*\u001b[39mkwargs)\n\u001b[0;32m---> 35\u001b[0m     \u001b[38;5;28;01mreturn\u001b[39;00m \u001b[43mmethod\u001b[49m\u001b[43m(\u001b[49m\u001b[38;5;241;43m*\u001b[39;49m\u001b[43margs\u001b[49m\u001b[43m,\u001b[49m\u001b[43m \u001b[49m\u001b[38;5;241;43m*\u001b[39;49m\u001b[38;5;241;43m*\u001b[39;49m\u001b[43mkwargs\u001b[49m\u001b[43m)\u001b[49m\n",
      "File \u001b[0;32m/data/ghq/github.com/codex-odyssey/llm-observability/venv/lib/python3.12/site-packages/cohere/base_client.py:970\u001b[0m, in \u001b[0;36mBaseCohere.chat\u001b[0;34m(self, message, model, preamble, chat_history, conversation_id, prompt_truncation, connectors, search_queries_only, documents, citation_quality, temperature, max_tokens, max_input_tokens, k, p, seed, stop_sequences, frequency_penalty, presence_penalty, raw_prompting, return_prompt, tools, tool_results, force_single_step, response_format, safety_mode, request_options)\u001b[0m\n\u001b[1;32m    966\u001b[0m     \u001b[38;5;28;01mraise\u001b[39;00m ClientClosedRequestError(\n\u001b[1;32m    967\u001b[0m         typing\u001b[38;5;241m.\u001b[39mcast(ClientClosedRequestErrorBody, construct_type(type_\u001b[38;5;241m=\u001b[39mClientClosedRequestErrorBody, object_\u001b[38;5;241m=\u001b[39m_response\u001b[38;5;241m.\u001b[39mjson()))  \u001b[38;5;66;03m# type: ignore\u001b[39;00m\n\u001b[1;32m    968\u001b[0m     )\n\u001b[1;32m    969\u001b[0m \u001b[38;5;28;01mif\u001b[39;00m _response\u001b[38;5;241m.\u001b[39mstatus_code \u001b[38;5;241m==\u001b[39m \u001b[38;5;241m500\u001b[39m:\n\u001b[0;32m--> 970\u001b[0m     \u001b[38;5;28;01mraise\u001b[39;00m InternalServerError(\n\u001b[1;32m    971\u001b[0m         typing\u001b[38;5;241m.\u001b[39mcast(typing\u001b[38;5;241m.\u001b[39mAny, construct_type(type_\u001b[38;5;241m=\u001b[39mtyping\u001b[38;5;241m.\u001b[39mAny, object_\u001b[38;5;241m=\u001b[39m_response\u001b[38;5;241m.\u001b[39mjson()))  \u001b[38;5;66;03m# type: ignore\u001b[39;00m\n\u001b[1;32m    972\u001b[0m     )\n\u001b[1;32m    973\u001b[0m \u001b[38;5;28;01mif\u001b[39;00m _response\u001b[38;5;241m.\u001b[39mstatus_code \u001b[38;5;241m==\u001b[39m \u001b[38;5;241m501\u001b[39m:\n\u001b[1;32m    974\u001b[0m     \u001b[38;5;28;01mraise\u001b[39;00m \u001b[38;5;167;01mNotImplementedError\u001b[39;00m(\n\u001b[1;32m    975\u001b[0m         typing\u001b[38;5;241m.\u001b[39mcast(NotImplementedErrorBody, construct_type(type_\u001b[38;5;241m=\u001b[39mNotImplementedErrorBody, object_\u001b[38;5;241m=\u001b[39m_response\u001b[38;5;241m.\u001b[39mjson()))  \u001b[38;5;66;03m# type: ignore\u001b[39;00m\n\u001b[1;32m    976\u001b[0m     )\n",
      "\u001b[0;31mInternalServerError\u001b[0m: status_code: 500, body: {'message': 'internal server error, this has been reported to our developers. id c00e6658-ca1f-4dab-b904-cad57c8b835b'}"
     ]
    }
   ],
   "source": [
    "langgraph_agent_executor.invoke(\n",
    "  {\n",
    "    \"messages\": [\n",
    "      (\"user\",\"BigBaByの水曜の戦闘力は？\"),\n",
    "    ]\n",
    "  },\n",
    "  config,\n",
    ")"
   ]
  }
 ],
 "metadata": {
  "kernelspec": {
   "display_name": "venv",
   "language": "python",
   "name": "python3"
  },
  "language_info": {
   "codemirror_mode": {
    "name": "ipython",
    "version": 3
   },
   "file_extension": ".py",
   "mimetype": "text/x-python",
   "name": "python",
   "nbconvert_exporter": "python",
   "pygments_lexer": "ipython3",
   "version": "3.12.6"
  }
 },
 "nbformat": 4,
 "nbformat_minor": 2
}
