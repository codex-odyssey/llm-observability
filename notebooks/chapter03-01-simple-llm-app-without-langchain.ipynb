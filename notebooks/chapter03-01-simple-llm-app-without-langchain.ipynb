{
 "cells": [
  {
   "cell_type": "markdown",
   "metadata": {},
   "source": [
    "## SDKを利用したシンプルなLLMアプリケーション"
   ]
  },
  {
   "cell_type": "markdown",
   "metadata": {},
   "source": [
    "### 準備\n",
    "\n",
    "必要なライブラリのインストール"
   ]
  },
  {
   "cell_type": "code",
   "execution_count": null,
   "metadata": {},
   "outputs": [],
   "source": [
    "%pip install -r ../requirements.txt"
   ]
  },
  {
   "cell_type": "markdown",
   "metadata": {},
   "source": [
    "### CohereのSDKを利用したLLMアプリケーション\n",
    "\n",
    "`load_dotenv`で.envに設定したCOHERE_API_KEYを読み込みます。  \n",
    "まずはLangChainを利用せず、Cohere社が提供するSDKを利用して、LLMを利用してみます。\n"
   ]
  },
  {
   "cell_type": "code",
   "execution_count": 3,
   "metadata": {},
   "outputs": [
    {
     "data": {
      "text/plain": [
       "NonStreamedChatResponse(text='申し訳ありませんが、あなたが誰なのかをお教えいただけません。あなたは名前をお持ちですか？ 持っている場合、教えていただけますか？ そうすれば、私はその名前をもとに、あなたについて何か情報をお伝えできるかもしれません。', generation_id='e942961b-966c-4fc1-9cc9-10d762dd775f', citations=None, documents=None, is_search_required=None, search_queries=None, search_results=None, finish_reason='COMPLETE', tool_calls=None, chat_history=[Message_User(message='僕は誰ですか？', tool_calls=None, role='USER'), Message_Chatbot(message='申し訳ありませんが、あなたが誰なのかをお教えいただけません。あなたは名前をお持ちですか？ 持っている場合、教えていただけますか？ そうすれば、私はその名前をもとに、あなたについて何か情報をお伝えできるかもしれません。', tool_calls=None, role='CHATBOT')], prompt=None, meta=ApiMeta(api_version=ApiMetaApiVersion(version='1', is_deprecated=None, is_experimental=None), billed_units=ApiMetaBilledUnits(input_tokens=6.0, output_tokens=60.0, search_units=None, classifications=None), tokens=ApiMetaTokens(input_tokens=72.0, output_tokens=60.0), warnings=None), response_id='eed1e14f-0535-4581-8072-767a1a651654')"
      ]
     },
     "execution_count": 3,
     "metadata": {},
     "output_type": "execute_result"
    }
   ],
   "source": [
    "\n",
    "import cohere\n",
    "from dotenv import load_dotenv\n",
    "\n",
    "load_dotenv(\"../.env\")\n",
    "\n",
    "co = cohere.Client()\n",
    "\n",
    "chat = co.chat(\n",
    "    message=\"僕は誰ですか？\",\n",
    "    model=\"command-r\"\n",
    ")\n",
    "\n",
    "chat"
   ]
  },
  {
   "cell_type": "markdown",
   "metadata": {},
   "source": [
    "chat_historyを利用した例"
   ]
  },
  {
   "cell_type": "code",
   "execution_count": 7,
   "metadata": {},
   "outputs": [
    {
     "data": {
      "text/plain": [
       "NonStreamedChatResponse(text='あなたはBigBaBy、またはBBです。', generation_id='36a16fe5-a157-4d58-80ff-1723fe7ec20d', citations=None, documents=None, is_search_required=None, search_queries=None, search_results=None, finish_reason='COMPLETE', tool_calls=None, chat_history=[Message_User(message='おっす!僕はBigBaBy!BBと呼んでね', tool_calls=None, role='USER'), Message_Chatbot(message='分かりました。あなたのことをBBと呼びます', tool_calls=None, role='CHATBOT'), Message_User(message='僕は誰ですか？', tool_calls=None, role='USER'), Message_Chatbot(message='あなたはBigBaBy、またはBBです。', tool_calls=None, role='CHATBOT')], prompt=None, meta=ApiMeta(api_version=ApiMetaApiVersion(version='1', is_deprecated=None, is_experimental=None), billed_units=ApiMetaBilledUnits(input_tokens=31.0, output_tokens=10.0, search_units=None, classifications=None), tokens=ApiMetaTokens(input_tokens=102.0, output_tokens=10.0), warnings=None), response_id='08dfa271-e2c8-4175-819d-5cec7f4f7651')"
      ]
     },
     "execution_count": 7,
     "metadata": {},
     "output_type": "execute_result"
    }
   ],
   "source": [
    "chat = co.chat(\n",
    "    chat_history=[\n",
    "        {\"role\": \"User\", \"message\": \"おっす!僕はBigBaBy!BBと呼んでね\"},\n",
    "        {\"role\": \"Chatbot\", \"message\": \"分かりました。あなたのことをBBと呼びます\"},\n",
    "    ],\n",
    "    message=\"僕は誰ですか？\",\n",
    "    model=\"command-r\"\n",
    ")\n",
    "\n",
    "chat"
   ]
  }
 ],
 "metadata": {
  "kernelspec": {
   "display_name": "venv",
   "language": "python",
   "name": "python3"
  },
  "language_info": {
   "codemirror_mode": {
    "name": "ipython",
    "version": 3
   },
   "file_extension": ".py",
   "mimetype": "text/x-python",
   "name": "python",
   "nbconvert_exporter": "python",
   "pygments_lexer": "ipython3",
   "version": "3.12.6"
  }
 },
 "nbformat": 4,
 "nbformat_minor": 2
}
