{
 "cells": [
  {
   "cell_type": "markdown",
   "metadata": {},
   "source": [
    "## SDKを利用したシンプルなLLMアプリケーション"
   ]
  },
  {
   "cell_type": "markdown",
   "metadata": {},
   "source": [
    "### 準備\n",
    "\n",
    "必要なライブラリのインストール"
   ]
  },
  {
   "cell_type": "code",
   "execution_count": 2,
   "metadata": {},
   "outputs": [
    {
     "name": "stdout",
     "output_type": "stream",
     "text": [
      "Requirement already satisfied: aiohappyeyeballs==2.4.0 in /data/ghq/github.com/codex-odyssey/llm-observability/venv/lib/python3.12/site-packages (from -r ../requirements.txt (line 1)) (2.4.0)\n",
      "Requirement already satisfied: aiohttp==3.10.5 in /data/ghq/github.com/codex-odyssey/llm-observability/venv/lib/python3.12/site-packages (from -r ../requirements.txt (line 2)) (3.10.5)\n",
      "Requirement already satisfied: aiosignal==1.3.1 in /data/ghq/github.com/codex-odyssey/llm-observability/venv/lib/python3.12/site-packages (from -r ../requirements.txt (line 3)) (1.3.1)\n",
      "Requirement already satisfied: altair==5.4.1 in /data/ghq/github.com/codex-odyssey/llm-observability/venv/lib/python3.12/site-packages (from -r ../requirements.txt (line 4)) (5.4.1)\n",
      "Requirement already satisfied: annotated-types==0.7.0 in /data/ghq/github.com/codex-odyssey/llm-observability/venv/lib/python3.12/site-packages (from -r ../requirements.txt (line 5)) (0.7.0)\n",
      "Requirement already satisfied: anyio==4.4.0 in /data/ghq/github.com/codex-odyssey/llm-observability/venv/lib/python3.12/site-packages (from -r ../requirements.txt (line 6)) (4.4.0)\n",
      "Requirement already satisfied: asttokens==2.4.1 in /data/ghq/github.com/codex-odyssey/llm-observability/venv/lib/python3.12/site-packages (from -r ../requirements.txt (line 7)) (2.4.1)\n",
      "Requirement already satisfied: attrs==24.2.0 in /data/ghq/github.com/codex-odyssey/llm-observability/venv/lib/python3.12/site-packages (from -r ../requirements.txt (line 8)) (24.2.0)\n",
      "Requirement already satisfied: backoff==2.2.1 in /data/ghq/github.com/codex-odyssey/llm-observability/venv/lib/python3.12/site-packages (from -r ../requirements.txt (line 9)) (2.2.1)\n",
      "Requirement already satisfied: blinker==1.8.2 in /data/ghq/github.com/codex-odyssey/llm-observability/venv/lib/python3.12/site-packages (from -r ../requirements.txt (line 10)) (1.8.2)\n",
      "Requirement already satisfied: boto3==1.35.10 in /data/ghq/github.com/codex-odyssey/llm-observability/venv/lib/python3.12/site-packages (from -r ../requirements.txt (line 11)) (1.35.10)\n",
      "Requirement already satisfied: botocore==1.35.10 in /data/ghq/github.com/codex-odyssey/llm-observability/venv/lib/python3.12/site-packages (from -r ../requirements.txt (line 12)) (1.35.10)\n",
      "Requirement already satisfied: bs4==0.0.2 in /data/ghq/github.com/codex-odyssey/llm-observability/venv/lib/python3.12/site-packages (from -r ../requirements.txt (line 13)) (0.0.2)\n",
      "Requirement already satisfied: cachetools==5.5.0 in /data/ghq/github.com/codex-odyssey/llm-observability/venv/lib/python3.12/site-packages (from -r ../requirements.txt (line 14)) (5.5.0)\n",
      "Requirement already satisfied: certifi==2024.8.30 in /data/ghq/github.com/codex-odyssey/llm-observability/venv/lib/python3.12/site-packages (from -r ../requirements.txt (line 15)) (2024.8.30)\n",
      "Requirement already satisfied: charset-normalizer==3.3.2 in /data/ghq/github.com/codex-odyssey/llm-observability/venv/lib/python3.12/site-packages (from -r ../requirements.txt (line 16)) (3.3.2)\n",
      "Requirement already satisfied: click==8.1.7 in /data/ghq/github.com/codex-odyssey/llm-observability/venv/lib/python3.12/site-packages (from -r ../requirements.txt (line 17)) (8.1.7)\n",
      "Requirement already satisfied: cohere==5.9.0 in /data/ghq/github.com/codex-odyssey/llm-observability/venv/lib/python3.12/site-packages (from -r ../requirements.txt (line 18)) (5.9.0)\n",
      "Requirement already satisfied: comm==0.2.2 in /data/ghq/github.com/codex-odyssey/llm-observability/venv/lib/python3.12/site-packages (from -r ../requirements.txt (line 19)) (0.2.2)\n",
      "Requirement already satisfied: dataclasses-json==0.6.7 in /data/ghq/github.com/codex-odyssey/llm-observability/venv/lib/python3.12/site-packages (from -r ../requirements.txt (line 20)) (0.6.7)\n",
      "Requirement already satisfied: debugpy==1.8.5 in /data/ghq/github.com/codex-odyssey/llm-observability/venv/lib/python3.12/site-packages (from -r ../requirements.txt (line 21)) (1.8.5)\n",
      "Requirement already satisfied: decorator==5.1.1 in /data/ghq/github.com/codex-odyssey/llm-observability/venv/lib/python3.12/site-packages (from -r ../requirements.txt (line 22)) (5.1.1)\n",
      "Requirement already satisfied: distro==1.9.0 in /data/ghq/github.com/codex-odyssey/llm-observability/venv/lib/python3.12/site-packages (from -r ../requirements.txt (line 23)) (1.9.0)\n",
      "Requirement already satisfied: executing==2.1.0 in /data/ghq/github.com/codex-odyssey/llm-observability/venv/lib/python3.12/site-packages (from -r ../requirements.txt (line 24)) (2.1.0)\n",
      "Requirement already satisfied: faiss-cpu==1.8.0.post1 in /data/ghq/github.com/codex-odyssey/llm-observability/venv/lib/python3.12/site-packages (from -r ../requirements.txt (line 25)) (1.8.0.post1)\n",
      "Requirement already satisfied: fastavro==1.9.5 in /data/ghq/github.com/codex-odyssey/llm-observability/venv/lib/python3.12/site-packages (from -r ../requirements.txt (line 26)) (1.9.5)\n",
      "Requirement already satisfied: filelock==3.15.4 in /data/ghq/github.com/codex-odyssey/llm-observability/venv/lib/python3.12/site-packages (from -r ../requirements.txt (line 27)) (3.15.4)\n",
      "Requirement already satisfied: frozenlist==1.4.1 in /data/ghq/github.com/codex-odyssey/llm-observability/venv/lib/python3.12/site-packages (from -r ../requirements.txt (line 28)) (1.4.1)\n",
      "Requirement already satisfied: fsspec==2024.6.1 in /data/ghq/github.com/codex-odyssey/llm-observability/venv/lib/python3.12/site-packages (from -r ../requirements.txt (line 29)) (2024.6.1)\n",
      "Requirement already satisfied: gitdb==4.0.11 in /data/ghq/github.com/codex-odyssey/llm-observability/venv/lib/python3.12/site-packages (from -r ../requirements.txt (line 30)) (4.0.11)\n",
      "Requirement already satisfied: GitPython==3.1.43 in /data/ghq/github.com/codex-odyssey/llm-observability/venv/lib/python3.12/site-packages (from -r ../requirements.txt (line 31)) (3.1.43)\n",
      "Requirement already satisfied: greenlet==3.0.3 in /data/ghq/github.com/codex-odyssey/llm-observability/venv/lib/python3.12/site-packages (from -r ../requirements.txt (line 32)) (3.0.3)\n",
      "Requirement already satisfied: h11==0.14.0 in /data/ghq/github.com/codex-odyssey/llm-observability/venv/lib/python3.12/site-packages (from -r ../requirements.txt (line 33)) (0.14.0)\n",
      "Requirement already satisfied: httpcore==1.0.5 in /data/ghq/github.com/codex-odyssey/llm-observability/venv/lib/python3.12/site-packages (from -r ../requirements.txt (line 34)) (1.0.5)\n",
      "Requirement already satisfied: httpx==0.27.2 in /data/ghq/github.com/codex-odyssey/llm-observability/venv/lib/python3.12/site-packages (from -r ../requirements.txt (line 35)) (0.27.2)\n",
      "Requirement already satisfied: httpx-sse==0.4.0 in /data/ghq/github.com/codex-odyssey/llm-observability/venv/lib/python3.12/site-packages (from -r ../requirements.txt (line 36)) (0.4.0)\n",
      "Requirement already satisfied: huggingface-hub==0.24.6 in /data/ghq/github.com/codex-odyssey/llm-observability/venv/lib/python3.12/site-packages (from -r ../requirements.txt (line 37)) (0.24.6)\n",
      "Requirement already satisfied: idna==3.8 in /data/ghq/github.com/codex-odyssey/llm-observability/venv/lib/python3.12/site-packages (from -r ../requirements.txt (line 38)) (3.8)\n",
      "Requirement already satisfied: ipykernel==6.29.5 in /data/ghq/github.com/codex-odyssey/llm-observability/venv/lib/python3.12/site-packages (from -r ../requirements.txt (line 39)) (6.29.5)\n",
      "Requirement already satisfied: ipython==8.27.0 in /data/ghq/github.com/codex-odyssey/llm-observability/venv/lib/python3.12/site-packages (from -r ../requirements.txt (line 40)) (8.27.0)\n",
      "Requirement already satisfied: jedi==0.19.1 in /data/ghq/github.com/codex-odyssey/llm-observability/venv/lib/python3.12/site-packages (from -r ../requirements.txt (line 41)) (0.19.1)\n",
      "Requirement already satisfied: Jinja2==3.1.4 in /data/ghq/github.com/codex-odyssey/llm-observability/venv/lib/python3.12/site-packages (from -r ../requirements.txt (line 42)) (3.1.4)\n",
      "Requirement already satisfied: jiter==0.5.0 in /data/ghq/github.com/codex-odyssey/llm-observability/venv/lib/python3.12/site-packages (from -r ../requirements.txt (line 43)) (0.5.0)\n",
      "Requirement already satisfied: jmespath==1.0.1 in /data/ghq/github.com/codex-odyssey/llm-observability/venv/lib/python3.12/site-packages (from -r ../requirements.txt (line 44)) (1.0.1)\n",
      "Requirement already satisfied: jsonpatch==1.33 in /data/ghq/github.com/codex-odyssey/llm-observability/venv/lib/python3.12/site-packages (from -r ../requirements.txt (line 45)) (1.33)\n",
      "Requirement already satisfied: jsonpointer==3.0.0 in /data/ghq/github.com/codex-odyssey/llm-observability/venv/lib/python3.12/site-packages (from -r ../requirements.txt (line 46)) (3.0.0)\n",
      "Requirement already satisfied: jsonschema==4.23.0 in /data/ghq/github.com/codex-odyssey/llm-observability/venv/lib/python3.12/site-packages (from -r ../requirements.txt (line 47)) (4.23.0)\n",
      "Requirement already satisfied: jsonschema-specifications==2023.12.1 in /data/ghq/github.com/codex-odyssey/llm-observability/venv/lib/python3.12/site-packages (from -r ../requirements.txt (line 48)) (2023.12.1)\n",
      "Requirement already satisfied: jupyter_client==8.6.2 in /data/ghq/github.com/codex-odyssey/llm-observability/venv/lib/python3.12/site-packages (from -r ../requirements.txt (line 49)) (8.6.2)\n",
      "Requirement already satisfied: jupyter_core==5.7.2 in /data/ghq/github.com/codex-odyssey/llm-observability/venv/lib/python3.12/site-packages (from -r ../requirements.txt (line 50)) (5.7.2)\n",
      "Requirement already satisfied: langchain==0.3.1 in /data/ghq/github.com/codex-odyssey/llm-observability/venv/lib/python3.12/site-packages (from -r ../requirements.txt (line 51)) (0.3.1)\n",
      "Requirement already satisfied: langchain-cohere==0.3.0 in /data/ghq/github.com/codex-odyssey/llm-observability/venv/lib/python3.12/site-packages (from -r ../requirements.txt (line 52)) (0.3.0)\n",
      "Requirement already satisfied: langchain-community==0.3.1 in /data/ghq/github.com/codex-odyssey/llm-observability/venv/lib/python3.12/site-packages (from -r ../requirements.txt (line 53)) (0.3.1)\n",
      "Requirement already satisfied: langchain-core==0.3.6 in /data/ghq/github.com/codex-odyssey/llm-observability/venv/lib/python3.12/site-packages (from -r ../requirements.txt (line 54)) (0.3.6)\n",
      "Requirement already satisfied: langchain-experimental==0.3.1.post1 in /data/ghq/github.com/codex-odyssey/llm-observability/venv/lib/python3.12/site-packages (from -r ../requirements.txt (line 55)) (0.3.1.post1)\n",
      "Requirement already satisfied: langchain-openai==0.2.1 in /data/ghq/github.com/codex-odyssey/llm-observability/venv/lib/python3.12/site-packages (from -r ../requirements.txt (line 56)) (0.2.1)\n",
      "Requirement already satisfied: langchain-text-splitters==0.3.0 in /data/ghq/github.com/codex-odyssey/llm-observability/venv/lib/python3.12/site-packages (from -r ../requirements.txt (line 57)) (0.3.0)\n",
      "Requirement already satisfied: langfuse==2.45.2 in /data/ghq/github.com/codex-odyssey/llm-observability/venv/lib/python3.12/site-packages (from -r ../requirements.txt (line 58)) (2.45.2)\n",
      "Requirement already satisfied: langgraph==0.2.32 in /data/ghq/github.com/codex-odyssey/llm-observability/venv/lib/python3.12/site-packages (from -r ../requirements.txt (line 59)) (0.2.32)\n",
      "Requirement already satisfied: langsmith==0.1.125 in /data/ghq/github.com/codex-odyssey/llm-observability/venv/lib/python3.12/site-packages (from -r ../requirements.txt (line 60)) (0.1.125)\n",
      "Requirement already satisfied: markdown-it-py==3.0.0 in /data/ghq/github.com/codex-odyssey/llm-observability/venv/lib/python3.12/site-packages (from -r ../requirements.txt (line 61)) (3.0.0)\n",
      "Requirement already satisfied: MarkupSafe==2.1.5 in /data/ghq/github.com/codex-odyssey/llm-observability/venv/lib/python3.12/site-packages (from -r ../requirements.txt (line 62)) (2.1.5)\n",
      "Requirement already satisfied: marshmallow==3.22.0 in /data/ghq/github.com/codex-odyssey/llm-observability/venv/lib/python3.12/site-packages (from -r ../requirements.txt (line 63)) (3.22.0)\n",
      "Requirement already satisfied: matplotlib-inline==0.1.7 in /data/ghq/github.com/codex-odyssey/llm-observability/venv/lib/python3.12/site-packages (from -r ../requirements.txt (line 64)) (0.1.7)\n",
      "Requirement already satisfied: mdurl==0.1.2 in /data/ghq/github.com/codex-odyssey/llm-observability/venv/lib/python3.12/site-packages (from -r ../requirements.txt (line 65)) (0.1.2)\n",
      "Requirement already satisfied: multidict==6.0.5 in /data/ghq/github.com/codex-odyssey/llm-observability/venv/lib/python3.12/site-packages (from -r ../requirements.txt (line 66)) (6.0.5)\n",
      "Requirement already satisfied: mypy-extensions==1.0.0 in /data/ghq/github.com/codex-odyssey/llm-observability/venv/lib/python3.12/site-packages (from -r ../requirements.txt (line 67)) (1.0.0)\n",
      "Requirement already satisfied: narwhals==1.7.0 in /data/ghq/github.com/codex-odyssey/llm-observability/venv/lib/python3.12/site-packages (from -r ../requirements.txt (line 68)) (1.7.0)\n",
      "Requirement already satisfied: nest-asyncio==1.6.0 in /data/ghq/github.com/codex-odyssey/llm-observability/venv/lib/python3.12/site-packages (from -r ../requirements.txt (line 69)) (1.6.0)\n",
      "Requirement already satisfied: numpy==1.26.4 in /data/ghq/github.com/codex-odyssey/llm-observability/venv/lib/python3.12/site-packages (from -r ../requirements.txt (line 70)) (1.26.4)\n",
      "Requirement already satisfied: openai==1.43.0 in /data/ghq/github.com/codex-odyssey/llm-observability/venv/lib/python3.12/site-packages (from -r ../requirements.txt (line 71)) (1.43.0)\n",
      "Requirement already satisfied: orjson==3.10.7 in /data/ghq/github.com/codex-odyssey/llm-observability/venv/lib/python3.12/site-packages (from -r ../requirements.txt (line 72)) (3.10.7)\n",
      "Requirement already satisfied: packaging==24.1 in /data/ghq/github.com/codex-odyssey/llm-observability/venv/lib/python3.12/site-packages (from -r ../requirements.txt (line 73)) (24.1)\n",
      "Requirement already satisfied: pandas==2.2.2 in /data/ghq/github.com/codex-odyssey/llm-observability/venv/lib/python3.12/site-packages (from -r ../requirements.txt (line 74)) (2.2.2)\n",
      "Requirement already satisfied: parameterized==0.9.0 in /data/ghq/github.com/codex-odyssey/llm-observability/venv/lib/python3.12/site-packages (from -r ../requirements.txt (line 75)) (0.9.0)\n",
      "Requirement already satisfied: parso==0.8.4 in /data/ghq/github.com/codex-odyssey/llm-observability/venv/lib/python3.12/site-packages (from -r ../requirements.txt (line 76)) (0.8.4)\n",
      "Requirement already satisfied: pexpect==4.9.0 in /data/ghq/github.com/codex-odyssey/llm-observability/venv/lib/python3.12/site-packages (from -r ../requirements.txt (line 77)) (4.9.0)\n",
      "Requirement already satisfied: pillow==10.4.0 in /data/ghq/github.com/codex-odyssey/llm-observability/venv/lib/python3.12/site-packages (from -r ../requirements.txt (line 78)) (10.4.0)\n",
      "Requirement already satisfied: platformdirs==4.2.2 in /data/ghq/github.com/codex-odyssey/llm-observability/venv/lib/python3.12/site-packages (from -r ../requirements.txt (line 79)) (4.2.2)\n",
      "Requirement already satisfied: prompt_toolkit==3.0.47 in /data/ghq/github.com/codex-odyssey/llm-observability/venv/lib/python3.12/site-packages (from -r ../requirements.txt (line 80)) (3.0.47)\n",
      "Requirement already satisfied: protobuf==5.28.1 in /data/ghq/github.com/codex-odyssey/llm-observability/venv/lib/python3.12/site-packages (from -r ../requirements.txt (line 81)) (5.28.1)\n",
      "Requirement already satisfied: psutil==6.0.0 in /data/ghq/github.com/codex-odyssey/llm-observability/venv/lib/python3.12/site-packages (from -r ../requirements.txt (line 82)) (6.0.0)\n",
      "Requirement already satisfied: ptyprocess==0.7.0 in /data/ghq/github.com/codex-odyssey/llm-observability/venv/lib/python3.12/site-packages (from -r ../requirements.txt (line 83)) (0.7.0)\n",
      "Requirement already satisfied: pure_eval==0.2.3 in /data/ghq/github.com/codex-odyssey/llm-observability/venv/lib/python3.12/site-packages (from -r ../requirements.txt (line 84)) (0.2.3)\n",
      "Requirement already satisfied: pyarrow==17.0.0 in /data/ghq/github.com/codex-odyssey/llm-observability/venv/lib/python3.12/site-packages (from -r ../requirements.txt (line 85)) (17.0.0)\n",
      "Requirement already satisfied: pydantic==2.8.2 in /data/ghq/github.com/codex-odyssey/llm-observability/venv/lib/python3.12/site-packages (from -r ../requirements.txt (line 86)) (2.8.2)\n",
      "Requirement already satisfied: pydantic-settings==2.5.2 in /data/ghq/github.com/codex-odyssey/llm-observability/venv/lib/python3.12/site-packages (from -r ../requirements.txt (line 87)) (2.5.2)\n",
      "Requirement already satisfied: pydantic_core==2.20.1 in /data/ghq/github.com/codex-odyssey/llm-observability/venv/lib/python3.12/site-packages (from -r ../requirements.txt (line 88)) (2.20.1)\n",
      "Requirement already satisfied: pydeck==0.9.1 in /data/ghq/github.com/codex-odyssey/llm-observability/venv/lib/python3.12/site-packages (from -r ../requirements.txt (line 89)) (0.9.1)\n",
      "Requirement already satisfied: Pygments==2.18.0 in /data/ghq/github.com/codex-odyssey/llm-observability/venv/lib/python3.12/site-packages (from -r ../requirements.txt (line 90)) (2.18.0)\n",
      "Requirement already satisfied: python-dateutil==2.9.0.post0 in /data/ghq/github.com/codex-odyssey/llm-observability/venv/lib/python3.12/site-packages (from -r ../requirements.txt (line 91)) (2.9.0.post0)\n",
      "Requirement already satisfied: python-dotenv==1.0.1 in /data/ghq/github.com/codex-odyssey/llm-observability/venv/lib/python3.12/site-packages (from -r ../requirements.txt (line 92)) (1.0.1)\n",
      "Requirement already satisfied: pytz==2024.1 in /data/ghq/github.com/codex-odyssey/llm-observability/venv/lib/python3.12/site-packages (from -r ../requirements.txt (line 93)) (2024.1)\n",
      "Requirement already satisfied: PyYAML==6.0.2 in /data/ghq/github.com/codex-odyssey/llm-observability/venv/lib/python3.12/site-packages (from -r ../requirements.txt (line 94)) (6.0.2)\n",
      "Requirement already satisfied: pyzmq==26.2.0 in /data/ghq/github.com/codex-odyssey/llm-observability/venv/lib/python3.12/site-packages (from -r ../requirements.txt (line 95)) (26.2.0)\n",
      "Requirement already satisfied: referencing==0.35.1 in /data/ghq/github.com/codex-odyssey/llm-observability/venv/lib/python3.12/site-packages (from -r ../requirements.txt (line 96)) (0.35.1)\n",
      "Requirement already satisfied: regex==2024.7.24 in /data/ghq/github.com/codex-odyssey/llm-observability/venv/lib/python3.12/site-packages (from -r ../requirements.txt (line 97)) (2024.7.24)\n",
      "Requirement already satisfied: requests==2.32.3 in /data/ghq/github.com/codex-odyssey/llm-observability/venv/lib/python3.12/site-packages (from -r ../requirements.txt (line 98)) (2.32.3)\n",
      "Requirement already satisfied: rich==13.8.1 in /data/ghq/github.com/codex-odyssey/llm-observability/venv/lib/python3.12/site-packages (from -r ../requirements.txt (line 99)) (13.8.1)\n",
      "Requirement already satisfied: rpds-py==0.20.0 in /data/ghq/github.com/codex-odyssey/llm-observability/venv/lib/python3.12/site-packages (from -r ../requirements.txt (line 100)) (0.20.0)\n",
      "Requirement already satisfied: s3transfer==0.10.2 in /data/ghq/github.com/codex-odyssey/llm-observability/venv/lib/python3.12/site-packages (from -r ../requirements.txt (line 101)) (0.10.2)\n",
      "Requirement already satisfied: six==1.16.0 in /data/ghq/github.com/codex-odyssey/llm-observability/venv/lib/python3.12/site-packages (from -r ../requirements.txt (line 102)) (1.16.0)\n",
      "Requirement already satisfied: smmap==5.0.1 in /data/ghq/github.com/codex-odyssey/llm-observability/venv/lib/python3.12/site-packages (from -r ../requirements.txt (line 103)) (5.0.1)\n",
      "Requirement already satisfied: sniffio==1.3.1 in /data/ghq/github.com/codex-odyssey/llm-observability/venv/lib/python3.12/site-packages (from -r ../requirements.txt (line 104)) (1.3.1)\n",
      "Requirement already satisfied: SQLAlchemy==2.0.32 in /data/ghq/github.com/codex-odyssey/llm-observability/venv/lib/python3.12/site-packages (from -r ../requirements.txt (line 105)) (2.0.32)\n",
      "Requirement already satisfied: stack-data==0.6.3 in /data/ghq/github.com/codex-odyssey/llm-observability/venv/lib/python3.12/site-packages (from -r ../requirements.txt (line 106)) (0.6.3)\n",
      "Requirement already satisfied: streamlit==1.38.0 in /data/ghq/github.com/codex-odyssey/llm-observability/venv/lib/python3.12/site-packages (from -r ../requirements.txt (line 107)) (1.38.0)\n",
      "Requirement already satisfied: tabulate==0.9.0 in /data/ghq/github.com/codex-odyssey/llm-observability/venv/lib/python3.12/site-packages (from -r ../requirements.txt (line 108)) (0.9.0)\n",
      "Requirement already satisfied: tenacity==8.5.0 in /data/ghq/github.com/codex-odyssey/llm-observability/venv/lib/python3.12/site-packages (from -r ../requirements.txt (line 109)) (8.5.0)\n",
      "Requirement already satisfied: tiktoken==0.7.0 in /data/ghq/github.com/codex-odyssey/llm-observability/venv/lib/python3.12/site-packages (from -r ../requirements.txt (line 110)) (0.7.0)\n",
      "Requirement already satisfied: tokenizers==0.20.0 in /data/ghq/github.com/codex-odyssey/llm-observability/venv/lib/python3.12/site-packages (from -r ../requirements.txt (line 111)) (0.20.0)\n",
      "Requirement already satisfied: toml==0.10.2 in /data/ghq/github.com/codex-odyssey/llm-observability/venv/lib/python3.12/site-packages (from -r ../requirements.txt (line 112)) (0.10.2)\n",
      "Requirement already satisfied: tornado==6.4.1 in /data/ghq/github.com/codex-odyssey/llm-observability/venv/lib/python3.12/site-packages (from -r ../requirements.txt (line 113)) (6.4.1)\n",
      "Requirement already satisfied: tqdm==4.66.5 in /data/ghq/github.com/codex-odyssey/llm-observability/venv/lib/python3.12/site-packages (from -r ../requirements.txt (line 114)) (4.66.5)\n",
      "Requirement already satisfied: traitlets==5.14.3 in /data/ghq/github.com/codex-odyssey/llm-observability/venv/lib/python3.12/site-packages (from -r ../requirements.txt (line 115)) (5.14.3)\n",
      "Requirement already satisfied: types-requests==2.32.0.20240712 in /data/ghq/github.com/codex-odyssey/llm-observability/venv/lib/python3.12/site-packages (from -r ../requirements.txt (line 116)) (2.32.0.20240712)\n",
      "Requirement already satisfied: typing-inspect==0.9.0 in /data/ghq/github.com/codex-odyssey/llm-observability/venv/lib/python3.12/site-packages (from -r ../requirements.txt (line 117)) (0.9.0)\n",
      "Requirement already satisfied: typing_extensions==4.12.2 in /data/ghq/github.com/codex-odyssey/llm-observability/venv/lib/python3.12/site-packages (from -r ../requirements.txt (line 118)) (4.12.2)\n",
      "Requirement already satisfied: tzdata==2024.1 in /data/ghq/github.com/codex-odyssey/llm-observability/venv/lib/python3.12/site-packages (from -r ../requirements.txt (line 119)) (2024.1)\n",
      "Requirement already satisfied: urllib3==2.2.2 in /data/ghq/github.com/codex-odyssey/llm-observability/venv/lib/python3.12/site-packages (from -r ../requirements.txt (line 120)) (2.2.2)\n",
      "Requirement already satisfied: watchdog==4.0.2 in /data/ghq/github.com/codex-odyssey/llm-observability/venv/lib/python3.12/site-packages (from -r ../requirements.txt (line 121)) (4.0.2)\n",
      "Requirement already satisfied: wcwidth==0.2.13 in /data/ghq/github.com/codex-odyssey/llm-observability/venv/lib/python3.12/site-packages (from -r ../requirements.txt (line 122)) (0.2.13)\n",
      "Requirement already satisfied: wrapt==1.16.0 in /data/ghq/github.com/codex-odyssey/llm-observability/venv/lib/python3.12/site-packages (from -r ../requirements.txt (line 123)) (1.16.0)\n",
      "Requirement already satisfied: yarl==1.9.7 in /data/ghq/github.com/codex-odyssey/llm-observability/venv/lib/python3.12/site-packages (from -r ../requirements.txt (line 124)) (1.9.7)\n",
      "Requirement already satisfied: beautifulsoup4 in /data/ghq/github.com/codex-odyssey/llm-observability/venv/lib/python3.12/site-packages (from bs4==0.0.2->-r ../requirements.txt (line 13)) (4.12.3)\n",
      "Requirement already satisfied: langgraph-checkpoint<3.0.0,>=2.0.0 in /data/ghq/github.com/codex-odyssey/llm-observability/venv/lib/python3.12/site-packages (from langgraph==0.2.32->-r ../requirements.txt (line 59)) (2.0.0)\n",
      "Requirement already satisfied: msgpack<2.0.0,>=1.1.0 in /data/ghq/github.com/codex-odyssey/llm-observability/venv/lib/python3.12/site-packages (from langgraph-checkpoint<3.0.0,>=2.0.0->langgraph==0.2.32->-r ../requirements.txt (line 59)) (1.1.0)\n",
      "Requirement already satisfied: soupsieve>1.2 in /data/ghq/github.com/codex-odyssey/llm-observability/venv/lib/python3.12/site-packages (from beautifulsoup4->bs4==0.0.2->-r ../requirements.txt (line 13)) (2.6)\n",
      "Note: you may need to restart the kernel to use updated packages.\n"
     ]
    }
   ],
   "source": [
    "%pip install -r ../requirements.txt"
   ]
  },
  {
   "cell_type": "markdown",
   "metadata": {},
   "source": [
    "### CohereのSDKを利用したLLMアプリケーション\n",
    "\n",
    "`load_dotenv`で.envに設定したCOHERE_API_KEYを読み込みます。  \n",
    "まずはLangChainを利用せず、Cohere社が提供するSDKを利用して、LLMを利用してみます。\n"
   ]
  },
  {
   "cell_type": "code",
   "execution_count": 3,
   "metadata": {},
   "outputs": [
    {
     "data": {
      "text/plain": [
       "NonStreamedChatResponse(text='申し訳ありませんが、あなたが誰なのかをお教えいただけません。あなたは名前をお持ちですか？ 持っている場合、教えていただけますか？ そうすれば、私はその名前をもとに、あなたについて何か情報をお伝えできるかもしれません。', generation_id='e942961b-966c-4fc1-9cc9-10d762dd775f', citations=None, documents=None, is_search_required=None, search_queries=None, search_results=None, finish_reason='COMPLETE', tool_calls=None, chat_history=[Message_User(message='僕は誰ですか？', tool_calls=None, role='USER'), Message_Chatbot(message='申し訳ありませんが、あなたが誰なのかをお教えいただけません。あなたは名前をお持ちですか？ 持っている場合、教えていただけますか？ そうすれば、私はその名前をもとに、あなたについて何か情報をお伝えできるかもしれません。', tool_calls=None, role='CHATBOT')], prompt=None, meta=ApiMeta(api_version=ApiMetaApiVersion(version='1', is_deprecated=None, is_experimental=None), billed_units=ApiMetaBilledUnits(input_tokens=6.0, output_tokens=60.0, search_units=None, classifications=None), tokens=ApiMetaTokens(input_tokens=72.0, output_tokens=60.0), warnings=None), response_id='eed1e14f-0535-4581-8072-767a1a651654')"
      ]
     },
     "execution_count": 3,
     "metadata": {},
     "output_type": "execute_result"
    }
   ],
   "source": [
    "\n",
    "import cohere\n",
    "from dotenv import load_dotenv\n",
    "\n",
    "load_dotenv(\"../.env\")\n",
    "\n",
    "co = cohere.Client()\n",
    "\n",
    "chat = co.chat(\n",
    "    message=\"僕は誰ですか？\",\n",
    "    model=\"command-r\"\n",
    ")\n",
    "\n",
    "chat"
   ]
  },
  {
   "cell_type": "markdown",
   "metadata": {},
   "source": [
    "chat_historyを利用した例"
   ]
  },
  {
   "cell_type": "code",
   "execution_count": 7,
   "metadata": {},
   "outputs": [
    {
     "data": {
      "text/plain": [
       "NonStreamedChatResponse(text='あなたはBigBaBy、またはBBです。', generation_id='36a16fe5-a157-4d58-80ff-1723fe7ec20d', citations=None, documents=None, is_search_required=None, search_queries=None, search_results=None, finish_reason='COMPLETE', tool_calls=None, chat_history=[Message_User(message='おっす!僕はBigBaBy!BBと呼んでね', tool_calls=None, role='USER'), Message_Chatbot(message='分かりました。あなたのことをBBと呼びます', tool_calls=None, role='CHATBOT'), Message_User(message='僕は誰ですか？', tool_calls=None, role='USER'), Message_Chatbot(message='あなたはBigBaBy、またはBBです。', tool_calls=None, role='CHATBOT')], prompt=None, meta=ApiMeta(api_version=ApiMetaApiVersion(version='1', is_deprecated=None, is_experimental=None), billed_units=ApiMetaBilledUnits(input_tokens=31.0, output_tokens=10.0, search_units=None, classifications=None), tokens=ApiMetaTokens(input_tokens=102.0, output_tokens=10.0), warnings=None), response_id='08dfa271-e2c8-4175-819d-5cec7f4f7651')"
      ]
     },
     "execution_count": 7,
     "metadata": {},
     "output_type": "execute_result"
    }
   ],
   "source": [
    "chat = co.chat(\n",
    "    chat_history=[\n",
    "        {\"role\": \"User\", \"message\": \"おっす!僕はBigBaBy!BBと呼んでね\"},\n",
    "        {\"role\": \"Chatbot\", \"message\": \"分かりました。あなたのことをBBと呼びます\"},\n",
    "    ],\n",
    "    message=\"僕は誰ですか？\",\n",
    "    model=\"command-r\"\n",
    ")\n",
    "\n",
    "chat"
   ]
  }
 ],
 "metadata": {
  "kernelspec": {
   "display_name": "venv",
   "language": "python",
   "name": "python3"
  },
  "language_info": {
   "codemirror_mode": {
    "name": "ipython",
    "version": 3
   },
   "file_extension": ".py",
   "mimetype": "text/x-python",
   "name": "python",
   "nbconvert_exporter": "python",
   "pygments_lexer": "ipython3",
   "version": "3.12.6"
  }
 },
 "nbformat": 4,
 "nbformat_minor": 2
}
