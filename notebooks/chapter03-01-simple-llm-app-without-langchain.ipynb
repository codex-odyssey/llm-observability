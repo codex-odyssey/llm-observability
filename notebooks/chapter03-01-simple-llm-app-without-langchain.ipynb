{
 "cells": [
  {
   "cell_type": "markdown",
   "metadata": {},
   "source": [
    "## SDKを利用したシンプルなLLMアプリケーション"
   ]
  },
  {
   "cell_type": "markdown",
   "metadata": {},
   "source": [
    "### 準備\n",
    "\n",
    "必要なライブラリのインストール"
   ]
  },
  {
   "cell_type": "code",
   "execution_count": null,
   "metadata": {},
   "outputs": [],
   "source": [
    "%pip install -r ../requirements.txt"
   ]
  },
  {
   "cell_type": "markdown",
   "metadata": {},
   "source": [
    "### CohereのSDKを利用したLLMアプリケーション\n",
    "\n",
    "`load_dotenv`で.envに設定したCOHERE_API_KEYを読み込みます。  \n",
    "まずはLangChainを利用せず、Cohere社が提供するSDKを利用して、LLMを利用してみます。\n"
   ]
  },
  {
   "cell_type": "code",
   "execution_count": 1,
   "metadata": {},
   "outputs": [
    {
     "name": "stderr",
     "output_type": "stream",
     "text": [
      "/opt/conda/lib/python3.11/site-packages/pydantic/_internal/_config.py:341: UserWarning: Valid config keys have changed in V2:\n",
      "* 'allow_population_by_field_name' has been renamed to 'populate_by_name'\n",
      "* 'smart_union' has been removed\n",
      "  warnings.warn(message, UserWarning)\n"
     ]
    },
    {
     "data": {
      "text/plain": [
       "NonStreamedChatResponse(text='申し訳ありませんが、あなたが誰なのかお答えすることはできません。あなたがお持ちの情報が不十分なためです。あなたがどのような方なのか、もう少し詳細をお教えいただけますか？例えば、お名前やお住まいの地域、趣味など、あなたについて分かっていることを教えてください。その情報をもとに、私なりの推測をお伝えいたします。', generation_id='f28416d4-6ee7-4fe9-96e9-e3fdca34481f', citations=None, documents=None, is_search_required=None, search_queries=None, search_results=None, finish_reason='COMPLETE', tool_calls=None, chat_history=[Message_User(message='僕は誰ですか？', tool_calls=None, role='USER'), Message_Chatbot(message='申し訳ありませんが、あなたが誰なのかお答えすることはできません。あなたがお持ちの情報が不十分なためです。あなたがどのような方なのか、もう少し詳細をお教えいただけますか？例えば、お名前やお住まいの地域、趣味など、あなたについて分かっていることを教えてください。その情報をもとに、私なりの推測をお伝えいたします。', tool_calls=None, role='CHATBOT')], prompt=None, meta=ApiMeta(api_version=ApiMetaApiVersion(version='1', is_deprecated=None, is_experimental=None), billed_units=ApiMetaBilledUnits(input_tokens=6.0, output_tokens=90.0, search_units=None, classifications=None), tokens=ApiMetaTokens(input_tokens=72.0, output_tokens=90.0), warnings=None), response_id='6c635023-0d81-4724-adb0-4b08dbd4ffb5')"
      ]
     },
     "execution_count": 1,
     "metadata": {},
     "output_type": "execute_result"
    }
   ],
   "source": [
    "import cohere\n",
    "\n",
    "co = cohere.Client()\n",
    "\n",
    "chat = co.chat(\n",
    "    message=\"僕は誰ですか？\",\n",
    "    model=\"command-r\"\n",
    ")\n",
    "\n",
    "chat"
   ]
  },
  {
   "cell_type": "markdown",
   "metadata": {},
   "source": [
    "chat_historyを利用した例"
   ]
  },
  {
   "cell_type": "code",
   "execution_count": 2,
   "metadata": {},
   "outputs": [
    {
     "data": {
      "text/plain": [
       "NonStreamedChatResponse(text='あなたはBigBaByです。親しみを込めてBBと呼ばれています。', generation_id='8888bf19-9643-4a0d-9af1-d6735f8b0cf0', citations=None, documents=None, is_search_required=None, search_queries=None, search_results=None, finish_reason='COMPLETE', tool_calls=None, chat_history=[Message_User(message='おっす!僕はBigBaBy!BBと呼んでね', tool_calls=None, role='USER'), Message_Chatbot(message='分かりました。あなたのことをBBと呼びます', tool_calls=None, role='CHATBOT'), Message_User(message='僕は誰ですか？', tool_calls=None, role='USER'), Message_Chatbot(message='あなたはBigBaByです。親しみを込めてBBと呼ばれています。', tool_calls=None, role='CHATBOT')], prompt=None, meta=ApiMeta(api_version=ApiMetaApiVersion(version='1', is_deprecated=None, is_experimental=None), billed_units=ApiMetaBilledUnits(input_tokens=31.0, output_tokens=17.0, search_units=None, classifications=None), tokens=ApiMetaTokens(input_tokens=102.0, output_tokens=17.0), warnings=None), response_id='8b19a04f-3cea-43fe-aae3-09b97f742256')"
      ]
     },
     "execution_count": 2,
     "metadata": {},
     "output_type": "execute_result"
    }
   ],
   "source": [
    "chat = co.chat(\n",
    "    chat_history=[\n",
    "        {\"role\": \"User\", \"message\": \"おっす!僕はBigBaBy!BBと呼んでね\"},\n",
    "        {\"role\": \"Chatbot\", \"message\": \"分かりました。あなたのことをBBと呼びます\"},\n",
    "    ],\n",
    "    message=\"僕は誰ですか？\",\n",
    "    model=\"command-r\"\n",
    ")\n",
    "\n",
    "chat"
   ]
  }
 ],
 "metadata": {
  "kernelspec": {
   "display_name": "Python 3 (ipykernel)",
   "language": "python",
   "name": "python3"
  },
  "language_info": {
   "codemirror_mode": {
    "name": "ipython",
    "version": 3
   },
   "file_extension": ".py",
   "mimetype": "text/x-python",
   "name": "python",
   "nbconvert_exporter": "python",
   "pygments_lexer": "ipython3",
   "version": "3.11.6"
  }
 },
 "nbformat": 4,
 "nbformat_minor": 4
}
