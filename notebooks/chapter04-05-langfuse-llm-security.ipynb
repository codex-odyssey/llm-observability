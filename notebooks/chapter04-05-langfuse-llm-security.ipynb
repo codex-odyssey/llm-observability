{
 "cells": [
  {
   "cell_type": "markdown",
   "metadata": {},
   "source": [
    "## オブザーバビリティを高める機能"
   ]
  },
  {
   "cell_type": "markdown",
   "metadata": {},
   "source": [
    "必要なライブラリをダウンロードします。"
   ]
  },
  {
   "cell_type": "code",
   "execution_count": null,
   "metadata": {},
   "outputs": [],
   "source": [
    "%pip install -r ../requirements.txt"
   ]
  },
  {
   "cell_type": "markdown",
   "metadata": {},
   "source": [
    "実行に必要な環境変数を読み込みます。"
   ]
  },
  {
   "cell_type": "code",
   "execution_count": 2,
   "metadata": {},
   "outputs": [],
   "source": [
    "import os, warnings, time\n",
    "\n",
    "# おまじない\n",
    "warnings.filterwarnings(\"ignore\")\n",
    "\n",
    "endpoint = \"http://localhost:3000\"\n",
    "public_key = os.getenv(\"PUBLIC_KEY\")\n",
    "secret_key = os.getenv(\"SECRET_KEY\")"
   ]
  },
  {
   "cell_type": "markdown",
   "metadata": {},
   "source": [
    "### プロンプト"
   ]
  },
  {
   "cell_type": "markdown",
   "metadata": {},
   "source": [
    "各トレースを同一グループにするために、セッションIDをUUID v4ベースで生成する"
   ]
  },
  {
   "cell_type": "code",
   "execution_count": 3,
   "metadata": {},
   "outputs": [],
   "source": [
    "from langfuse import Langfuse\n",
    "\n",
    "# Initialize Langfuse client\n",
    "langfuse = Langfuse(\n",
    "    public_key=public_key,\n",
    "    secret_key=secret_key,\n",
    "    host=endpoint\n",
    "    )\n"
   ]
  },
  {
   "cell_type": "code",
   "execution_count": 41,
   "metadata": {},
   "outputs": [],
   "source": [
    "from llm_guard.input_scanners import Anonymize\n",
    "from llm_guard.input_scanners.anonymize_helpers import BERT_LARGE_NER_CONF\n",
    "from llm_guard.output_scanners import Deanonymize\n",
    "from llm_guard.vault import Vault\n",
    "from langfuse.decorators import observe\n",
    "from langchain_core.runnables import RunnableLambda\n",
    "\n",
    "vault = Vault()\n",
    "\n",
    "\n",
    "def anonymize(input: dict) -> dict:\n",
    "  scanner = Anonymize(vault, preamble=\"Insert before prompt\", allowed_names=[\"John Doe\"], hidden_names=[\"Test LLC\"],\n",
    "                    recognizer_conf=BERT_LARGE_NER_CONF, language=\"en\")\n",
    "  sanitized_prompt, is_valid, risk_score = scanner.scan(input['prompt'])\n",
    "  return {\"sanitized_prompt\":sanitized_prompt}\n",
    "runnable_add_one = RunnableLambda(anonymize)\n",
    "\n",
    "#@observe()\n",
    "#def deanonymize(sanitized_prompt: str, answer: str):\n",
    "#  scanner = Deanonymize(vault)\n",
    "#  sanitized_model_output, is_valid, risk_score = scanner.scan(sanitized_prompt, answer)\n",
    "#\n",
    "#  return sanitized_model_output"
   ]
  },
  {
   "cell_type": "code",
   "execution_count": 42,
   "metadata": {},
   "outputs": [],
   "source": [
    "from langchain_cohere import ChatCohere\n",
    "from langchain_core.prompts import ChatPromptTemplate\n",
    "from langfuse.decorators import observe\n",
    "from langfuse.callback import CallbackHandler\n",
    "\n",
    "callback_handler = CallbackHandler(\n",
    "    public_key=public_key,\n",
    "    secret_key=secret_key,\n",
    "    host=endpoint,\n",
    ")\n",
    "\n",
    "#@observe()\n",
    "def summarize_transcript(prompt: str):\n",
    "  #sanitized_prompt = anonymize(prompt)\n",
    "\n",
    "  prompt_template = ChatPromptTemplate.from_messages(\n",
    "    [\n",
    "        (\"system\",\"Summarize the given court transcript.\"),\n",
    "        (\"user\",\"{sanitized_prompt}\"),\n",
    "    ]\n",
    "  )\n",
    "  model = ChatCohere(\n",
    "      model=\"command-r-plus\",\n",
    "      temperature=1,\n",
    "  )\n",
    "  chain = runnable_add_one| prompt_template | model\n",
    "\n",
    "  #sanitized_model_output = deanonymize(sanitized_prompt, answer)\n",
    "  chain.invoke(\n",
    "    {\"prompt\":prompt},\n",
    "    config={\"callbacks\": [callback_handler]},\n",
    "  )\n",
    "\n",
    "  return"
   ]
  },
  {
   "cell_type": "code",
   "execution_count": 45,
   "metadata": {},
   "outputs": [
    {
     "name": "stdout",
     "output_type": "stream",
     "text": [
      "validate_env\n",
      "\u001b[2m2024-10-23 04:40:49\u001b[0m [\u001b[32m\u001b[1mdebug    \u001b[0m] \u001b[1mNo entity types provided, using default\u001b[0m \u001b[36mdefault_entities\u001b[0m=\u001b[35m['CREDIT_CARD', 'CRYPTO', 'EMAIL_ADDRESS', 'IBAN_CODE', 'IP_ADDRESS', 'PERSON', 'PHONE_NUMBER', 'US_SSN', 'US_BANK_NUMBER', 'CREDIT_CARD_RE', 'UUID', 'EMAIL_ADDRESS_RE', 'US_SSN_RE']\u001b[0m\n"
     ]
    },
    {
     "name": "stderr",
     "output_type": "stream",
     "text": [
      "Some weights of the model checkpoint at dslim/bert-large-NER were not used when initializing BertForTokenClassification: ['bert.pooler.dense.bias', 'bert.pooler.dense.weight']\n",
      "- This IS expected if you are initializing BertForTokenClassification from the checkpoint of a model trained on another task or with another architecture (e.g. initializing a BertForSequenceClassification model from a BertForPreTraining model).\n",
      "- This IS NOT expected if you are initializing BertForTokenClassification from the checkpoint of a model that you expect to be exactly identical (initializing a BertForSequenceClassification model from a BertForSequenceClassification model).\n"
     ]
    },
    {
     "name": "stdout",
     "output_type": "stream",
     "text": [
      "\u001b[2m2024-10-23 04:40:49\u001b[0m [\u001b[32m\u001b[1mdebug    \u001b[0m] \u001b[1mInitialized NER model         \u001b[0m \u001b[36mdevice\u001b[0m=\u001b[35mdevice(type='cpu')\u001b[0m \u001b[36mmodel\u001b[0m=\u001b[35mModel(path='dslim/bert-large-NER', subfolder='', revision='13e784dccceca07aee7a7aab4ad487c605975423', onnx_path='dslim/bert-large-NER', onnx_revision='13e784dccceca07aee7a7aab4ad487c605975423', onnx_subfolder='onnx', onnx_filename='model.onnx', kwargs={}, pipeline_kwargs={'batch_size': 1, 'device': device(type='cpu'), 'aggregation_strategy': 'simple', 'ignore_labels': ['O', 'CARDINAL']}, tokenizer_kwargs={'model_input_names': ['input_ids', 'attention_mask']})\u001b[0m\n",
      "\u001b[2m2024-10-23 04:40:49\u001b[0m [\u001b[32m\u001b[1mdebug    \u001b[0m] \u001b[1mLoaded regex pattern          \u001b[0m \u001b[36mgroup_name\u001b[0m=\u001b[35mCREDIT_CARD_RE\u001b[0m\n",
      "\u001b[2m2024-10-23 04:40:49\u001b[0m [\u001b[32m\u001b[1mdebug    \u001b[0m] \u001b[1mLoaded regex pattern          \u001b[0m \u001b[36mgroup_name\u001b[0m=\u001b[35mUUID\u001b[0m\n",
      "\u001b[2m2024-10-23 04:40:49\u001b[0m [\u001b[32m\u001b[1mdebug    \u001b[0m] \u001b[1mLoaded regex pattern          \u001b[0m \u001b[36mgroup_name\u001b[0m=\u001b[35mEMAIL_ADDRESS_RE\u001b[0m\n",
      "\u001b[2m2024-10-23 04:40:49\u001b[0m [\u001b[32m\u001b[1mdebug    \u001b[0m] \u001b[1mLoaded regex pattern          \u001b[0m \u001b[36mgroup_name\u001b[0m=\u001b[35mUS_SSN_RE\u001b[0m\n",
      "\u001b[2m2024-10-23 04:40:49\u001b[0m [\u001b[32m\u001b[1mdebug    \u001b[0m] \u001b[1mLoaded regex pattern          \u001b[0m \u001b[36mgroup_name\u001b[0m=\u001b[35mBTC_ADDRESS\u001b[0m\n",
      "\u001b[2m2024-10-23 04:40:49\u001b[0m [\u001b[32m\u001b[1mdebug    \u001b[0m] \u001b[1mLoaded regex pattern          \u001b[0m \u001b[36mgroup_name\u001b[0m=\u001b[35mURL_RE\u001b[0m\n",
      "\u001b[2m2024-10-23 04:40:49\u001b[0m [\u001b[32m\u001b[1mdebug    \u001b[0m] \u001b[1mLoaded regex pattern          \u001b[0m \u001b[36mgroup_name\u001b[0m=\u001b[35mCREDIT_CARD\u001b[0m\n",
      "\u001b[2m2024-10-23 04:40:49\u001b[0m [\u001b[32m\u001b[1mdebug    \u001b[0m] \u001b[1mLoaded regex pattern          \u001b[0m \u001b[36mgroup_name\u001b[0m=\u001b[35mEMAIL_ADDRESS_RE\u001b[0m\n",
      "\u001b[2m2024-10-23 04:40:49\u001b[0m [\u001b[32m\u001b[1mdebug    \u001b[0m] \u001b[1mLoaded regex pattern          \u001b[0m \u001b[36mgroup_name\u001b[0m=\u001b[35mPHONE_NUMBER_ZH\u001b[0m\n",
      "\u001b[2m2024-10-23 04:40:49\u001b[0m [\u001b[32m\u001b[1mdebug    \u001b[0m] \u001b[1mLoaded regex pattern          \u001b[0m \u001b[36mgroup_name\u001b[0m=\u001b[35mPHONE_NUMBER_WITH_EXT\u001b[0m\n",
      "\u001b[2m2024-10-23 04:40:49\u001b[0m [\u001b[32m\u001b[1mdebug    \u001b[0m] \u001b[1mLoaded regex pattern          \u001b[0m \u001b[36mgroup_name\u001b[0m=\u001b[35mDATE_RE\u001b[0m\n",
      "\u001b[2m2024-10-23 04:40:49\u001b[0m [\u001b[32m\u001b[1mdebug    \u001b[0m] \u001b[1mLoaded regex pattern          \u001b[0m \u001b[36mgroup_name\u001b[0m=\u001b[35mTIME_RE\u001b[0m\n",
      "\u001b[2m2024-10-23 04:40:49\u001b[0m [\u001b[32m\u001b[1mdebug    \u001b[0m] \u001b[1mLoaded regex pattern          \u001b[0m \u001b[36mgroup_name\u001b[0m=\u001b[35mHEX_COLOR\u001b[0m\n",
      "\u001b[2m2024-10-23 04:40:49\u001b[0m [\u001b[32m\u001b[1mdebug    \u001b[0m] \u001b[1mLoaded regex pattern          \u001b[0m \u001b[36mgroup_name\u001b[0m=\u001b[35mPRICE_RE\u001b[0m\n",
      "\u001b[2m2024-10-23 04:40:49\u001b[0m [\u001b[32m\u001b[1mdebug    \u001b[0m] \u001b[1mLoaded regex pattern          \u001b[0m \u001b[36mgroup_name\u001b[0m=\u001b[35mPO_BOX_RE\u001b[0m\n",
      "\u001b[2m2024-10-23 04:40:51\u001b[0m [\u001b[33m\u001b[1mwarning  \u001b[0m] \u001b[1mFound sensitive data in the prompt and replaced it\u001b[0m \u001b[36mmerged_results\u001b[0m=\u001b[35m[type: PERSON, start: 0, end: 8, score: 0.9900000095367432, type: PERSON, start: 19, end: 20, score: 0.8399999737739563, type: PERSON, start: 39, end: 43, score: 0.8700000047683716]\u001b[0m \u001b[36mrisk_score\u001b[0m=\u001b[35m0.99\u001b[0m\n",
      "generate\n",
      "<cohere.client.Client object at 0x7f43bb27d8e0>\n",
      "get_role\n",
      "{'message': 'Insert before prompt[REDACTED_PERSON_1]について教えて欲しい。[REDACTED_PERSON_2]れかJohn Doeでもいいんだけど、[REDACTED_PERSON_3] LLCもそうだけど、彼はいま何をしてますか？', 'chat_history': [{'role': 'System', 'message': 'Summarize the given court transcript.'}], 'model': 'command-r-plus', 'temperature': 1.0}\n",
      "basecohere.chat\n",
      "text='申し訳ありませんが、あなたが参照している[REDACTED_PERSON_1]、[REDACTED_PERSON_2]、および/または[REDACTED_PERSON_3]に関する特定の情報を提供することはできません。この転写では、識別可能な個人の名前が秘匿されているようです。そのため、質問に回答することはできません。他の質問がある場合や支援が必要な場合はお気軽にお問い合わせください。' generation_id='58fe4c9d-b7b8-4ea2-a998-43b79326e858' citations=None documents=None is_search_required=None search_queries=None search_results=None finish_reason='COMPLETE' tool_calls=None chat_history=[Message_System(message='Summarize the given court transcript.', tool_calls=None, role='SYSTEM'), Message_User(message='Insert before prompt[REDACTED_PERSON_1]について教えて欲しい。[REDACTED_PERSON_2]れかJohn Doeでもいいんだけど、[REDACTED_PERSON_3] LLCもそうだけど、彼はいま何をしてますか？', tool_calls=None, role='USER'), Message_Chatbot(message='申し訳ありませんが、あなたが参照している[REDACTED_PERSON_1]、[REDACTED_PERSON_2]、および/または[REDACTED_PERSON_3]に関する特定の情報を提供することはできません。この転写では、識別可能な個人の名前が秘匿されているようです。そのため、質問に回答することはできません。他の質問がある場合や支援が必要な場合はお気軽にお問い合わせください。', tool_calls=None, role='CHATBOT')] prompt=None meta=ApiMeta(api_version=ApiMetaApiVersion(version='1', is_deprecated=None, is_experimental=None), billed_units=ApiMetaBilledUnits(input_tokens=66.0, output_tokens=95.0, search_units=None, classifications=None), tokens=ApiMetaTokens(input_tokens=267.0, output_tokens=95.0), warnings=None) response_id='74c4eb51-f697-40cb-8ec9-cee0cb7b9326'\n"
     ]
    }
   ],
   "source": [
    "summarize_transcript(\"Jon Tierについて教えて欲しい。それかJohn Doeでもいいんだけど、Test LLCもそうだけど、彼はいま何をしてますか？\")"
   ]
  },
  {
   "cell_type": "markdown",
   "metadata": {},
   "source": [
    "プロンプトテンプレートの作成"
   ]
  }
 ],
 "metadata": {
  "kernelspec": {
   "display_name": "Python 3 (ipykernel)",
   "language": "python",
   "name": "python3"
  },
  "language_info": {
   "codemirror_mode": {
    "name": "ipython",
    "version": 3
   },
   "file_extension": ".py",
   "mimetype": "text/x-python",
   "name": "python",
   "nbconvert_exporter": "python",
   "pygments_lexer": "ipython3",
   "version": "3.11.6"
  }
 },
 "nbformat": 4,
 "nbformat_minor": 4
}
