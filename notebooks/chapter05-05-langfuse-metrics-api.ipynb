{
 "cells": [
  {
   "cell_type": "markdown",
   "metadata": {},
   "source": [
    "## ハンズオン05: Langfuseが生成するメトリクスを確認してみよう"
   ]
  },
  {
   "cell_type": "markdown",
   "metadata": {},
   "source": [
    "必要なライブラリをダウンロードします。"
   ]
  },
  {
   "cell_type": "code",
   "execution_count": null,
   "metadata": {},
   "outputs": [],
   "source": [
    "%pip install -r ../requirements.txt"
   ]
  },
  {
   "cell_type": "markdown",
   "metadata": {},
   "source": [
    "ハンズオンに必要な環境変数を読み込みます。"
   ]
  },
  {
   "cell_type": "code",
   "execution_count": 2,
   "metadata": {},
   "outputs": [],
   "source": [
    "import os, warnings\n",
    "\n",
    "# おまじない\n",
    "warnings.filterwarnings(\"ignore\")\n",
    "\n",
    "endpoint = os.getenv(\"LANGFUSE_HOST\")\n",
    "public_key = os.getenv(\"LANGFUSE_PUBLIC_KEY\")\n",
    "secret_key = os.getenv(\"LANGFUSE_SECRET_KEY\")"
   ]
  },
  {
   "cell_type": "markdown",
   "metadata": {},
   "source": [
    "メトリクスAPIを実行します。\n",
    "\n",
    "参考: https://langfuse.com/docs/analytics/daily-metrics-api"
   ]
  },
  {
   "cell_type": "code",
   "execution_count": 3,
   "metadata": {},
   "outputs": [
    {
     "name": "stdout",
     "output_type": "stream",
     "text": [
      "{'data': [{'date': '2024-10-17', 'countTraces': 8, 'countObservations': 40, 'totalCost': 0.00039225, 'usage': [{'model': 'command-r-plus', 'inputUsage': 0, 'outputUsage': 0, 'totalUsage': 0, 'totalCost': 0, 'countObservations': 3, 'countTraces': 3}, {'model': 'gpt-4o-mini', 'inputUsage': 1155, 'outputUsage': 365, 'totalUsage': 1520, 'totalCost': 0.00039225, 'countObservations': 1, 'countTraces': 1}, {'model': None, 'inputUsage': 0, 'outputUsage': 0, 'totalUsage': 0, 'totalCost': 0, 'countObservations': 36, 'countTraces': 8}]}], 'meta': {'page': 1, 'limit': 50, 'totalItems': 1, 'totalPages': 1}}\n"
     ]
    }
   ],
   "source": [
    "import requests, json\n",
    "\n",
    "metrics_api_path = \"/api/public/metrics/daily\"\n",
    "\n",
    "response = requests.get(\n",
    "    url=f\"{endpoint}{metrics_api_path}\",\n",
    "    auth=(public_key, secret_key)\n",
    ")\n",
    "\n",
    "print(json.loads(response.content))"
   ]
  }
 ],
 "metadata": {
  "kernelspec": {
   "display_name": "Python 3 (ipykernel)",
   "language": "python",
   "name": "python3"
  },
  "language_info": {
   "codemirror_mode": {
    "name": "ipython",
    "version": 3
   },
   "file_extension": ".py",
   "mimetype": "text/x-python",
   "name": "python",
   "nbconvert_exporter": "python",
   "pygments_lexer": "ipython3",
   "version": "3.11.6"
  }
 },
 "nbformat": 4,
 "nbformat_minor": 4
}
