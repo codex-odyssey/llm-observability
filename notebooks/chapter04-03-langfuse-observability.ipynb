{
 "cells": [
  {
   "cell_type": "markdown",
   "metadata": {},
   "source": [
    "## オブザーバビリティを高める機能"
   ]
  },
  {
   "cell_type": "markdown",
   "metadata": {},
   "source": [
    "必要なライブラリをダウンロードします。"
   ]
  },
  {
   "cell_type": "code",
   "execution_count": null,
   "metadata": {},
   "outputs": [],
   "source": [
    "%pip install -r ../requirements.txt"
   ]
  },
  {
   "cell_type": "markdown",
   "metadata": {},
   "source": [
    "実行に必要な環境変数を読み込みます。"
   ]
  },
  {
   "cell_type": "code",
   "execution_count": 1,
   "metadata": {},
   "outputs": [],
   "source": [
    "import os, warnings, time, uuid\n",
    "\n",
    "# おまじない\n",
    "warnings.filterwarnings(\"ignore\")"
   ]
  },
  {
   "cell_type": "markdown",
   "metadata": {},
   "source": [
    "### セッション"
   ]
  },
  {
   "cell_type": "markdown",
   "metadata": {},
   "source": [
    "各トレースを同一グループにするために、セッションIDをUUID v4ベースで生成する"
   ]
  },
  {
   "cell_type": "code",
   "execution_count": 2,
   "metadata": {},
   "outputs": [],
   "source": [
    "import uuid\n",
    "\n",
    "session_id = str(uuid.uuid4())"
   ]
  },
  {
   "cell_type": "markdown",
   "metadata": {},
   "source": [
    "`@observe()`デコレーターを使用した場合"
   ]
  },
  {
   "cell_type": "code",
   "execution_count": 3,
   "metadata": {},
   "outputs": [],
   "source": [
    "from langfuse.decorators import langfuse_context, observe\n",
    "\n",
    "@observe()\n",
    "def search_the_bigbaby():\n",
    "    # 同期の検索処理を想定\n",
    "    time.sleep(2)\n",
    "    langfuse_context.update_current_trace(\n",
    "        session_id=session_id\n",
    "    )\n",
    "\n",
    "search_the_bigbaby()"
   ]
  },
  {
   "cell_type": "markdown",
   "metadata": {},
   "source": [
    "Low-Level SDKを使用した場合"
   ]
  },
  {
   "cell_type": "code",
   "execution_count": 4,
   "metadata": {},
   "outputs": [
    {
     "data": {
      "text/plain": [
       "<langfuse.client.StatefulSpanClient at 0x748c899fb610>"
      ]
     },
     "execution_count": 4,
     "metadata": {},
     "output_type": "execute_result"
    }
   ],
   "source": [
    "from langfuse import Langfuse\n",
    "\n",
    "langfuse = Langfuse()\n",
    "\n",
    "trace = langfuse.trace(\n",
    "    name=\"Ask the BigBaBy\",\n",
    "    session_id=session_id\n",
    ")\n",
    "\n",
    "span = trace.span(\n",
    "    name=\"Search the BigBaBy's dictionary\"\n",
    ")\n",
    "# 同期の検索処理を想定\n",
    "time.sleep(2)\n",
    "span.end()"
   ]
  },
  {
   "cell_type": "markdown",
   "metadata": {},
   "source": [
    "LangChainのCallback実装を使った場合"
   ]
  },
  {
   "cell_type": "code",
   "execution_count": 5,
   "metadata": {},
   "outputs": [
    {
     "data": {
      "text/plain": [
       "AIMessage(content='喜んでいただけるか分かりませんが、いくつかおすすめの肉料理を紹介します。\\n\\n- ローストビーフ： 牛肉の塊をオーブンで焼いた料理で、柔らかくジューシーな食感と深い味わいが魅力です。\\n- 豚の角煮： 豚バラ肉を醤油や砂糖などで甘辛く煮込んだ料理で、トロトロに柔らかくなった肉の旨味がたまりません。\\n- チキンティッカ： インド料理のグリルチキンで、ヨーグルトとスパイスに漬け込んだ鶏肉を焼いたものです。香り高くジューシーな味わいが楽しめます。\\n- ラムチョップ： 子羊のリブ（あばら骨）肉をグリルしたもので、柔らかくジューシーな肉質と独特の香りが魅力です。\\n- 牛タンのステーキ： 牛タンは独特の食感と旨味があり、ステーキにすると絶品です。\\n\\n以上、お口に合うものが見つかると幸いです。', additional_kwargs={'documents': None, 'citations': None, 'search_results': None, 'search_queries': None, 'is_search_required': None, 'generation_id': 'f78e9290-13ee-425b-9753-da60c3dcbef5', 'token_count': {'input_tokens': 206.0, 'output_tokens': 247.0}}, response_metadata={'documents': None, 'citations': None, 'search_results': None, 'search_queries': None, 'is_search_required': None, 'generation_id': 'f78e9290-13ee-425b-9753-da60c3dcbef5', 'token_count': {'input_tokens': 206.0, 'output_tokens': 247.0}}, id='run-dc66d1b2-8362-4f4b-96fb-37f49f681abd-0', usage_metadata={'input_tokens': 206, 'output_tokens': 247, 'total_tokens': 453})"
      ]
     },
     "execution_count": 5,
     "metadata": {},
     "output_type": "execute_result"
    }
   ],
   "source": [
    "from langfuse.callback import CallbackHandler\n",
    "\n",
    "callback_handler = CallbackHandler(\n",
    "    session_id=session_id\n",
    ")\n",
    "\n",
    "if os.getenv(\"COHERE_API_KEY\") == None:\n",
    "    from langchain_openai.chat_models import ChatOpenAI\n",
    "    openai_api_key = os.getenv(\"OPENAI_API_KEY\")\n",
    "    model = \"gpt-4o-mini\"\n",
    "    chat = ChatOpenAI(api_key=openai_api_key, model=model)\n",
    "else:\n",
    "    from langchain_cohere.chat_models import ChatCohere\n",
    "    cohere_api_key = os.getenv(\"COHERE_API_KEY\")\n",
    "    model = \"command-r-plus\"\n",
    "    chat = ChatCohere(cohere_api_key=cohere_api_key, model=model)\n",
    "\n",
    "chat.invoke(\n",
    "    input=\"肉料理のおすすめ教えて\",\n",
    "    config={\"callbacks\": [callback_handler]}\n",
    ")"
   ]
  },
  {
   "cell_type": "markdown",
   "metadata": {},
   "source": [
    "### ユーザー"
   ]
  },
  {
   "cell_type": "markdown",
   "metadata": {},
   "source": [
    "`@observe()`デコレーターを使用した場合"
   ]
  },
  {
   "cell_type": "code",
   "execution_count": 6,
   "metadata": {},
   "outputs": [],
   "source": [
    "from langfuse.decorators import langfuse_context, observe\n",
    "\n",
    "@observe()\n",
    "def search_the_bigbaby():\n",
    "    # 同期の検索処理を想定\n",
    "    time.sleep(2)\n",
    "    langfuse_context.update_current_trace(\n",
    "        user_id=\"user@example.com\"\n",
    "    )\n",
    "\n",
    "search_the_bigbaby()"
   ]
  },
  {
   "cell_type": "markdown",
   "metadata": {},
   "source": [
    "Low-Level SDKを使用した場合"
   ]
  },
  {
   "cell_type": "code",
   "execution_count": 7,
   "metadata": {},
   "outputs": [
    {
     "data": {
      "text/plain": [
       "<langfuse.client.StatefulSpanClient at 0x748c899f9750>"
      ]
     },
     "execution_count": 7,
     "metadata": {},
     "output_type": "execute_result"
    }
   ],
   "source": [
    "from langfuse import Langfuse\n",
    "\n",
    "langfuse = Langfuse()\n",
    "\n",
    "trace = langfuse.trace(\n",
    "    name=\"Ask the BigBaBy\",\n",
    "    user_id=\"user@example.com\"\n",
    ")\n",
    "\n",
    "span = trace.span(\n",
    "    name=\"Search the BigBaBy's dictionary\"\n",
    ")\n",
    "# 同期の検索処理を想定\n",
    "time.sleep(2)\n",
    "span.end()"
   ]
  },
  {
   "cell_type": "markdown",
   "metadata": {},
   "source": [
    "LangChainのCallback実装を使った場合"
   ]
  },
  {
   "cell_type": "code",
   "execution_count": 8,
   "metadata": {},
   "outputs": [
    {
     "data": {
      "text/plain": [
       "AIMessage(content='喜んでいただけるか分かりませんが、いくつかおすすめの肉料理を紹介します。\\n\\n- ローストビーフ： 牛肉の塊をオーブンで焼いた料理で、柔らかくジューシーな食感と深い味わいが楽しめます。\\n- 豚の角煮： 豚バラ肉を醤油や砂糖などで長時間煮込んだ料理で、トロトロに柔らかくなった肉の旨味がたまりません。\\n- チキンティッカ： インド料理のグリルチキンで、ヨーグルトと香辛料に漬け込んだ鶏肉を串に刺して焼いたものです。香り高くジューシーな味わいが特徴です。\\n- ラムチョップ： ラム肉のロース部分を骨付きのまま焼いた料理で、ジューシーな肉汁と独特の香りが楽しめます。\\n- 牛タン焼き： 牛タンをスライスして焼いた料理で、柔らかくて旨味たっぷりの味わいが魅力です。\\n\\n以上、お口に合うものがあると幸いです。', additional_kwargs={'documents': None, 'citations': None, 'search_results': None, 'search_queries': None, 'is_search_required': None, 'generation_id': '34abb2f4-47fe-4791-b046-f301f3ee329a', 'token_count': {'input_tokens': 206.0, 'output_tokens': 251.0}}, response_metadata={'documents': None, 'citations': None, 'search_results': None, 'search_queries': None, 'is_search_required': None, 'generation_id': '34abb2f4-47fe-4791-b046-f301f3ee329a', 'token_count': {'input_tokens': 206.0, 'output_tokens': 251.0}}, id='run-c74dd8e5-a64c-4577-9ab2-e743d323e064-0', usage_metadata={'input_tokens': 206, 'output_tokens': 251, 'total_tokens': 457})"
      ]
     },
     "execution_count": 8,
     "metadata": {},
     "output_type": "execute_result"
    }
   ],
   "source": [
    "from langfuse.callback import CallbackHandler\n",
    "\n",
    "callback_handler = CallbackHandler(\n",
    "    user_id=\"user@example.com\"\n",
    ")\n",
    "\n",
    "if os.getenv(\"COHERE_API_KEY\") == None:\n",
    "    from langchain_openai.chat_models import ChatOpenAI\n",
    "    openai_api_key = os.getenv(\"OPENAI_API_KEY\")\n",
    "    model = \"gpt-4o-mini\"\n",
    "    chat = ChatOpenAI(api_key=openai_api_key, model=model)\n",
    "else:\n",
    "    from langchain_cohere.chat_models import ChatCohere\n",
    "    cohere_api_key = os.getenv(\"COHERE_API_KEY\")\n",
    "    model = \"command-r-plus\"\n",
    "    chat = ChatCohere(cohere_api_key=cohere_api_key, model=model)\n",
    "\n",
    "chat.invoke(\n",
    "    input=\"肉料理のおすすめ教えて\",\n",
    "    config={\"callbacks\": [callback_handler]}\n",
    ")"
   ]
  },
  {
   "cell_type": "markdown",
   "metadata": {},
   "source": [
    "### メタデータ"
   ]
  },
  {
   "cell_type": "markdown",
   "metadata": {},
   "source": [
    "`@observe()`デコレーターを使用した場合"
   ]
  },
  {
   "cell_type": "code",
   "execution_count": 9,
   "metadata": {},
   "outputs": [],
   "source": [
    "from langfuse.decorators import langfuse_context, observe\n",
    "\n",
    "@observe()\n",
    "def search_the_bigbaby():\n",
    "    # 同期の検索処理を想定\n",
    "    time.sleep(2)\n",
    "    langfuse_context.update_current_trace(\n",
    "        metadata={\n",
    "            \"search_params_top_k\": 3\n",
    "        }\n",
    "    )\n",
    "\n",
    "search_the_bigbaby()"
   ]
  },
  {
   "cell_type": "markdown",
   "metadata": {},
   "source": [
    "Low-Level SDKを使用した場合"
   ]
  },
  {
   "cell_type": "code",
   "execution_count": 10,
   "metadata": {},
   "outputs": [
    {
     "data": {
      "text/plain": [
       "<langfuse.client.StatefulSpanClient at 0x748c5efebd50>"
      ]
     },
     "execution_count": 10,
     "metadata": {},
     "output_type": "execute_result"
    }
   ],
   "source": [
    "from langfuse import Langfuse\n",
    "\n",
    "langfuse = Langfuse()\n",
    "\n",
    "trace = langfuse.trace(\n",
    "    name=\"Ask the BigBaBy\",\n",
    "    metadata={\n",
    "        \"search_params_top_k\": 3\n",
    "    }\n",
    ")\n",
    "\n",
    "span = trace.span(\n",
    "    name=\"Search the BigBaBy's dictionary\"\n",
    ")\n",
    "# 同期の検索処理を想定\n",
    "time.sleep(2)\n",
    "span.end()"
   ]
  },
  {
   "cell_type": "markdown",
   "metadata": {},
   "source": [
    "LangChainのCallback実装を使った場合"
   ]
  },
  {
   "cell_type": "code",
   "execution_count": 11,
   "metadata": {},
   "outputs": [
    {
     "data": {
      "text/plain": [
       "AIMessage(content='喜んでいただけるか分かりませんが、いくつかおすすめの肉料理を紹介します。\\n\\n- ローストビーフ： 牛肉の塊をオーブンで焼いた料理で、柔らかくジューシーな食感と深い味わいが楽しめます。\\n- 豚の角煮： 豚バラ肉を醤油や砂糖などで長時間煮込んだ料理で、トロトロの食感と甘辛い味付けがご飯にもお酒にもよく合います。\\n- 鶏の唐揚げ： 鶏肉に下味をつけて揚げた料理で、サクサクとした食感とジューシーな肉汁が人気です。\\n- ラムチョップ： ラム肉の骨付きロース肉を焼いた料理で、香草やスパイスを使った香り高い味わいが楽しめます。\\n- ハンバーグ： 牛肉や豚肉のひき肉を成形して焼いた料理で、デミグラスソースやトマトソースなど様々な味付けが楽しめます。\\n\\n以上、お好みの料理はありましたか？', additional_kwargs={'documents': None, 'citations': None, 'search_results': None, 'search_queries': None, 'is_search_required': None, 'generation_id': 'f8e91211-29f2-4c26-b976-1422c62c40d5', 'token_count': {'input_tokens': 206.0, 'output_tokens': 244.0}}, response_metadata={'documents': None, 'citations': None, 'search_results': None, 'search_queries': None, 'is_search_required': None, 'generation_id': 'f8e91211-29f2-4c26-b976-1422c62c40d5', 'token_count': {'input_tokens': 206.0, 'output_tokens': 244.0}}, id='run-3f080ce0-9e08-42f8-88b6-441420dc1855-0', usage_metadata={'input_tokens': 206, 'output_tokens': 244, 'total_tokens': 450})"
      ]
     },
     "execution_count": 11,
     "metadata": {},
     "output_type": "execute_result"
    }
   ],
   "source": [
    "from langfuse.callback import CallbackHandler\n",
    "\n",
    "callback_handler = CallbackHandler(\n",
    "    metadata={\n",
    "        \"search_params_top_k\": 3\n",
    "    }\n",
    ")\n",
    "\n",
    "if os.getenv(\"COHERE_API_KEY\") == None:\n",
    "    from langchain_openai.chat_models import ChatOpenAI\n",
    "    openai_api_key = os.getenv(\"OPENAI_API_KEY\")\n",
    "    model = \"gpt-4o-mini\"\n",
    "    chat = ChatOpenAI(api_key=openai_api_key, model=model)\n",
    "else:\n",
    "    from langchain_cohere.chat_models import ChatCohere\n",
    "    cohere_api_key = os.getenv(\"COHERE_API_KEY\")\n",
    "    model = \"command-r-plus\"\n",
    "    chat = ChatCohere(cohere_api_key=cohere_api_key, model=model)\n",
    "\n",
    "chat.invoke(\n",
    "    input=\"肉料理のおすすめ教えて\",\n",
    "    config={\"callbacks\": [callback_handler]}\n",
    ")"
   ]
  },
  {
   "cell_type": "markdown",
   "metadata": {},
   "source": [
    "### タグ"
   ]
  },
  {
   "cell_type": "markdown",
   "metadata": {},
   "source": [
    "`@observe()`デコレーターを使用した場合"
   ]
  },
  {
   "cell_type": "code",
   "execution_count": 12,
   "metadata": {},
   "outputs": [],
   "source": [
    "from langfuse.decorators import langfuse_context, observe\n",
    "\n",
    "@observe()\n",
    "def search_the_bigbaby():\n",
    "    # 同期の検索処理を想定\n",
    "    time.sleep(2)\n",
    "    langfuse_context.update_current_trace(\n",
    "        tags=[\"production\", \"summarize\"]\n",
    "    )\n",
    "\n",
    "search_the_bigbaby()"
   ]
  },
  {
   "cell_type": "markdown",
   "metadata": {},
   "source": [
    "Low-Level SDKを使った場合"
   ]
  },
  {
   "cell_type": "code",
   "execution_count": 13,
   "metadata": {},
   "outputs": [
    {
     "data": {
      "text/plain": [
       "<langfuse.client.StatefulSpanClient at 0x748c5effbf50>"
      ]
     },
     "execution_count": 13,
     "metadata": {},
     "output_type": "execute_result"
    }
   ],
   "source": [
    "from langfuse import Langfuse\n",
    "\n",
    "langfuse = Langfuse()\n",
    "\n",
    "trace = langfuse.trace(\n",
    "    name=\"Ask the BigBaBy\",\n",
    "    tags=[\"production\", \"summarize\"]\n",
    ")\n",
    "\n",
    "span = trace.span(\n",
    "    name=\"Search the BigBaBy's dictionary\"\n",
    ")\n",
    "# 同期の検索処理を想定\n",
    "time.sleep(2)\n",
    "span.end()"
   ]
  },
  {
   "cell_type": "markdown",
   "metadata": {},
   "source": [
    "LangChainのCallback実装を使った場合"
   ]
  },
  {
   "cell_type": "code",
   "execution_count": 14,
   "metadata": {},
   "outputs": [
    {
     "data": {
      "text/plain": [
       "AIMessage(content='喜んでいただけるか分かりませんが、いくつかおすすめの肉料理を紹介します。\\n\\n- ローストビーフ： 牛肉の塊をオーブンで焼いた伝統的なイギリス料理です。焼き加減を調節して、好みのレア加減で楽しめます。\\n\\n- プルコギ： 韓国の伝統的な肉料理で、薄切りにした牛肉や豚肉を甘辛いタレで炒めます。野菜もたっぷり摂れるので栄養的にも優れています。\\n\\n- 酢豚： 中華料理の定番です。甘酸っぱいタレが食欲をそそります。\\n\\n- 牛タン焼き： 牛タンをスライスして焼いた料理で、やわらかくてジューシーな食感が魅力です。\\n\\n- ラムチョップ： 羊肉の肋骨部分をカットしたもので、骨付きのままグリルしたり焼いたりして食べます。独特の香りと旨味が楽しめます。\\n\\n- チキンティッカ： インド料理のタンドリーチキンの一種で、ヨーグルトと香辛料に漬け込んだ鶏肉を串に刺して焼きます。\\n\\n- ポークリブのBBQ： アメリカ南部の伝統料理で、豚のスペアリブを香ばしく焼き上げ、甘辛いBBQソースを絡めます。\\n\\n- ビーフストロガノフ： ロシアの伝統的なシチューで、牛肉と玉ねぎをソテーし、スメタナ（サワークリーム）で煮込みます。\\n\\n- シュラスコ： ブラジルの伝統的なバーベキューで、さまざまな種類の肉を串に刺し、岩塩のみで味付けして焼き上げます。\\n\\n- ミートローフ： 挽肉と野菜を混ぜてオーブンで焼いたアメリカの家庭料理です。肉汁がジューシーで、冷めてもおいしく食べられます。\\n\\n以上、世界各国から選んだ肉料理を紹介しました。ぜひお試しください。', additional_kwargs={'documents': None, 'citations': None, 'search_results': None, 'search_queries': None, 'is_search_required': None, 'generation_id': '358c7f55-86dc-45d4-8ca7-b87be56cabee', 'token_count': {'input_tokens': 206.0, 'output_tokens': 463.0}}, response_metadata={'documents': None, 'citations': None, 'search_results': None, 'search_queries': None, 'is_search_required': None, 'generation_id': '358c7f55-86dc-45d4-8ca7-b87be56cabee', 'token_count': {'input_tokens': 206.0, 'output_tokens': 463.0}}, id='run-7b1c6a8b-203f-4077-8e82-5c0aff38a881-0', usage_metadata={'input_tokens': 206, 'output_tokens': 463, 'total_tokens': 669})"
      ]
     },
     "execution_count": 14,
     "metadata": {},
     "output_type": "execute_result"
    }
   ],
   "source": [
    "from langfuse.callback import CallbackHandler\n",
    "\n",
    "callback_handler = CallbackHandler(\n",
    "    tags=[\"production\", \"summarize\"]\n",
    ")\n",
    "\n",
    "if os.getenv(\"COHERE_API_KEY\") == None:\n",
    "    from langchain_openai.chat_models import ChatOpenAI\n",
    "    openai_api_key = os.getenv(\"OPENAI_API_KEY\")\n",
    "    model = \"gpt-4o-mini\"\n",
    "    chat = ChatOpenAI(api_key=openai_api_key, model=model)\n",
    "else:\n",
    "    from langchain_cohere.chat_models import ChatCohere\n",
    "    cohere_api_key = os.getenv(\"COHERE_API_KEY\")\n",
    "    model = \"command-r-plus\"\n",
    "    chat = ChatCohere(cohere_api_key=cohere_api_key, model=model)\n",
    "\n",
    "chat.invoke(\n",
    "    input=\"肉料理のおすすめ教えて\",\n",
    "    config={\"callbacks\": [callback_handler]}\n",
    ")"
   ]
  }
 ],
 "metadata": {
  "kernelspec": {
   "display_name": "Python 3 (ipykernel)",
   "language": "python",
   "name": "python3"
  },
  "language_info": {
   "codemirror_mode": {
    "name": "ipython",
    "version": 3
   },
   "file_extension": ".py",
   "mimetype": "text/x-python",
   "name": "python",
   "nbconvert_exporter": "python",
   "pygments_lexer": "ipython3",
   "version": "3.11.6"
  }
 },
 "nbformat": 4,
 "nbformat_minor": 4
}
