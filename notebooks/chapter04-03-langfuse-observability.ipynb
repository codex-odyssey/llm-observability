{
 "cells": [
  {
   "cell_type": "markdown",
   "metadata": {},
   "source": [
    "## オブザーバビリティを高める機能"
   ]
  },
  {
   "cell_type": "markdown",
   "metadata": {},
   "source": [
    "必要なライブラリをダウンロードします。"
   ]
  },
  {
   "cell_type": "code",
   "execution_count": null,
   "metadata": {},
   "outputs": [],
   "source": [
    "%pip install -r ../requirements.txt"
   ]
  },
  {
   "cell_type": "markdown",
   "metadata": {},
   "source": [
    "実行に必要な環境変数を読み込みます。"
   ]
  },
  {
   "cell_type": "code",
   "execution_count": 5,
   "metadata": {},
   "outputs": [],
   "source": [
    "import os, warnings, time, uuid\n",
    "\n",
    "# おまじない\n",
    "warnings.filterwarnings(\"ignore\")\n",
    "\n",
    "endpoint = \"http://langfuse-server:3000\"\n",
    "public_key = os.getenv(\"PUBLIC_KEY\")\n",
    "secret_key = os.getenv(\"SECRET_KEY\")"
   ]
  },
  {
   "cell_type": "markdown",
   "metadata": {},
   "source": [
    "### セッション"
   ]
  },
  {
   "cell_type": "markdown",
   "metadata": {},
   "source": [
    "各トレースを同一グループにするために、セッションIDをUUID v4ベースで生成する"
   ]
  },
  {
   "cell_type": "code",
   "execution_count": 6,
   "metadata": {},
   "outputs": [],
   "source": [
    "import uuid\n",
    "\n",
    "session_id = str(uuid.uuid4())"
   ]
  },
  {
   "cell_type": "markdown",
   "metadata": {},
   "source": [
    "`@observe()`デコレーターを使用した場合"
   ]
  },
  {
   "cell_type": "code",
   "execution_count": 7,
   "metadata": {},
   "outputs": [],
   "source": [
    "from langfuse.decorators import langfuse_context, observe\n",
    "\n",
    "langfuse_context.configure(\n",
    "    public_key=public_key,\n",
    "    secret_key=secret_key,\n",
    "    host=endpoint\n",
    ")\n",
    "\n",
    "@observe()\n",
    "def search_the_bigbaby():\n",
    "    # 同期の検索処理を想定\n",
    "    time.sleep(2)\n",
    "    langfuse_context.update_current_trace(\n",
    "        session_id=session_id\n",
    "    )\n",
    "\n",
    "search_the_bigbaby()"
   ]
  },
  {
   "cell_type": "markdown",
   "metadata": {},
   "source": [
    "Low-Level SDKを使用した場合"
   ]
  },
  {
   "cell_type": "code",
   "execution_count": 8,
   "metadata": {},
   "outputs": [
    {
     "data": {
      "text/plain": [
       "<langfuse.client.StatefulSpanClient at 0x7fbdad65b710>"
      ]
     },
     "execution_count": 8,
     "metadata": {},
     "output_type": "execute_result"
    }
   ],
   "source": [
    "from langfuse import Langfuse\n",
    "\n",
    "langfuse = Langfuse(\n",
    "    public_key=public_key,\n",
    "    secret_key=secret_key,\n",
    "    host=endpoint\n",
    ")\n",
    "\n",
    "trace = langfuse.trace(\n",
    "    name=\"Ask the BigBaBy\",\n",
    "    session_id=session_id\n",
    ")\n",
    "\n",
    "span = trace.span(\n",
    "    name=\"Search the BigBaBy's dictionary\"\n",
    ")\n",
    "# 同期の検索処理を想定\n",
    "time.sleep(2)\n",
    "span.end()"
   ]
  },
  {
   "cell_type": "markdown",
   "metadata": {},
   "source": [
    "LangChainのCallback実装を使った場合"
   ]
  },
  {
   "cell_type": "code",
   "execution_count": 9,
   "metadata": {},
   "outputs": [
    {
     "data": {
      "text/plain": [
       "AIMessage(content='喜んでいただけるか分かりませんが、いくつかおすすめの肉料理を紹介します。\\n\\n- ローストビーフ： 牛肉の塊をオーブンなどでゆっくりと焼き上げた料理です。ジューシーで柔らかく、赤身と脂身のバランスが絶妙です。\\n- 豚の角煮： 豚バラ肉を醤油や砂糖などで甘辛く煮込んだ料理です。脂がのった豚肉がとろけるように柔らかく、ご飯にもお酒にもよく合います。\\n- チキンティッカ： インド料理のグリルチキンです。ヨーグルトや香辛料に漬け込んだ鶏肉を串に刺して焼き上げます。スパイシーでジューシーな味わいが特徴です。\\n- ラムチョップ： ラム肉のリブ（あばら骨）部分をグリルしたり焼いたりした料理です。脂がのったラム肉の旨味と香りを楽しめます。\\n- 牛タンの燻製： 牛タンをスモークした料理です。独特の香りと柔らかい食感が魅力で、お酒のおつまみにもぴったりです。\\n\\n以上、お口に合うものが見つかるといいですね。', additional_kwargs={'documents': None, 'citations': None, 'search_results': None, 'search_queries': None, 'is_search_required': None, 'generation_id': 'b142cdd7-1619-4c8a-b8a7-1149a6c769d4', 'token_count': {'input_tokens': 206.0, 'output_tokens': 283.0}}, response_metadata={'documents': None, 'citations': None, 'search_results': None, 'search_queries': None, 'is_search_required': None, 'generation_id': 'b142cdd7-1619-4c8a-b8a7-1149a6c769d4', 'token_count': {'input_tokens': 206.0, 'output_tokens': 283.0}}, id='run-f388b33a-6296-4674-a089-e59a1e94f037-0', usage_metadata={'input_tokens': 206, 'output_tokens': 283, 'total_tokens': 489})"
      ]
     },
     "execution_count": 9,
     "metadata": {},
     "output_type": "execute_result"
    }
   ],
   "source": [
    "from langfuse.callback import CallbackHandler\n",
    "\n",
    "callback_handler = CallbackHandler(\n",
    "    public_key=public_key,\n",
    "    secret_key=secret_key,\n",
    "    host=endpoint,\n",
    "    session_id=session_id\n",
    ")\n",
    "\n",
    "if os.getenv(\"COHERE_API_KEY\") == None:\n",
    "    from langchain_openai.chat_models import ChatOpenAI\n",
    "    openai_api_key = os.getenv(\"OPENAI_API_KEY\")\n",
    "    model = \"gpt-4o-mini\"\n",
    "    chat = ChatOpenAI(api_key=openai_api_key, model=model)\n",
    "else:\n",
    "    from langchain_cohere.chat_models import ChatCohere\n",
    "    cohere_api_key = os.getenv(\"COHERE_API_KEY\")\n",
    "    model = \"command-r-plus\"\n",
    "    chat = ChatCohere(cohere_api_key=cohere_api_key, model=model)\n",
    "\n",
    "chat.invoke(\n",
    "    input=\"肉料理のおすすめ教えて\",\n",
    "    config={\"callbacks\": [callback_handler]}\n",
    ")"
   ]
  },
  {
   "cell_type": "markdown",
   "metadata": {},
   "source": [
    "### ユーザー"
   ]
  },
  {
   "cell_type": "markdown",
   "metadata": {},
   "source": [
    "`@observe()`デコレーターを使用した場合"
   ]
  },
  {
   "cell_type": "code",
   "execution_count": 21,
   "metadata": {},
   "outputs": [],
   "source": [
    "from langfuse.decorators import langfuse_context, observe\n",
    "\n",
    "langfuse_context.configure(\n",
    "    public_key=public_key,\n",
    "    secret_key=secret_key,\n",
    "    host=endpoint\n",
    ")\n",
    "\n",
    "@observe()\n",
    "def search_the_bigbaby():\n",
    "    # 同期の検索処理を想定\n",
    "    time.sleep(2)\n",
    "    langfuse_context.update_current_trace(\n",
    "        user_id=\"user@example.com\"\n",
    "    )\n",
    "\n",
    "search_the_bigbaby()"
   ]
  },
  {
   "cell_type": "markdown",
   "metadata": {},
   "source": [
    "Low-Level SDKを使用した場合"
   ]
  },
  {
   "cell_type": "code",
   "execution_count": 11,
   "metadata": {},
   "outputs": [
    {
     "data": {
      "text/plain": [
       "<langfuse.client.StatefulSpanClient at 0x7fbdad65ad10>"
      ]
     },
     "execution_count": 11,
     "metadata": {},
     "output_type": "execute_result"
    }
   ],
   "source": [
    "from langfuse import Langfuse\n",
    "\n",
    "langfuse = Langfuse(\n",
    "    public_key=public_key,\n",
    "    secret_key=secret_key,\n",
    "    host=endpoint\n",
    ")\n",
    "\n",
    "trace = langfuse.trace(\n",
    "    name=\"Ask the BigBaBy\",\n",
    "    user_id=\"user@example.com\"\n",
    ")\n",
    "\n",
    "span = trace.span(\n",
    "    name=\"Search the BigBaBy's dictionary\"\n",
    ")\n",
    "# 同期の検索処理を想定\n",
    "time.sleep(2)\n",
    "span.end()"
   ]
  },
  {
   "cell_type": "markdown",
   "metadata": {},
   "source": [
    "LangChainのCallback実装を使った場合"
   ]
  },
  {
   "cell_type": "code",
   "execution_count": 12,
   "metadata": {},
   "outputs": [
    {
     "data": {
      "text/plain": [
       "AIMessage(content='喜んでいただけるか分かりませんが、いくつかおすすめの肉料理を紹介します。\\n\\n- ローストビーフ： 牛肉の塊をオーブンなどでゆっくりと焼き上げた料理です。ジューシーでやわらかな食感と、深い味わいが楽しめます。\\n- 豚の角煮： 豚バラ肉を醤油や砂糖などで長時間煮込んだ料理です。とろけるような食感と、甘辛い味付けがご飯によく合います。\\n- チキンティッカ： インド料理のグリルチキンです。ヨーグルトと香辛料に漬け込んだ鶏肉を串に刺して焼き上げます。スパイシーでジューシーな味わいが特徴です。\\n- ラムチョップ： 子羊のリブ（あばら骨）部分を使った料理です。骨付き肉をグリルしたり、オーブンで焼いたりして楽しめます。やわらかな食感と、独特の香りが魅力です。\\n- 牛タンの燻製： 牛タンをスモークした料理です。香ばしく、ジューシーな味わいが楽しめます。スライスしてサラダに乗せたり、サンドイッチにしたりしてもおいしいです。\\n\\n以上、お口に合うものが見つかるといいですね。', additional_kwargs={'documents': None, 'citations': None, 'search_results': None, 'search_queries': None, 'is_search_required': None, 'generation_id': 'cf79729a-9841-48b0-94a7-746ce92d5011', 'token_count': {'input_tokens': 206.0, 'output_tokens': 301.0}}, response_metadata={'documents': None, 'citations': None, 'search_results': None, 'search_queries': None, 'is_search_required': None, 'generation_id': 'cf79729a-9841-48b0-94a7-746ce92d5011', 'token_count': {'input_tokens': 206.0, 'output_tokens': 301.0}}, id='run-02e7fd08-6a0d-4725-80fe-c3d1ac170c95-0', usage_metadata={'input_tokens': 206, 'output_tokens': 301, 'total_tokens': 507})"
      ]
     },
     "execution_count": 12,
     "metadata": {},
     "output_type": "execute_result"
    }
   ],
   "source": [
    "from langfuse.callback import CallbackHandler\n",
    "\n",
    "callback_handler = CallbackHandler(\n",
    "    public_key=public_key,\n",
    "    secret_key=secret_key,\n",
    "    host=endpoint,\n",
    "    user_id=\"user@example.com\"\n",
    ")\n",
    "\n",
    "if os.getenv(\"COHERE_API_KEY\") == None:\n",
    "    from langchain_openai.chat_models import ChatOpenAI\n",
    "    openai_api_key = os.getenv(\"OPENAI_API_KEY\")\n",
    "    model = \"gpt-4o-mini\"\n",
    "    chat = ChatOpenAI(api_key=openai_api_key, model=model)\n",
    "else:\n",
    "    from langchain_cohere.chat_models import ChatCohere\n",
    "    cohere_api_key = os.getenv(\"COHERE_API_KEY\")\n",
    "    model = \"command-r-plus\"\n",
    "    chat = ChatCohere(cohere_api_key=cohere_api_key, model=model)\n",
    "\n",
    "chat.invoke(\n",
    "    input=\"肉料理のおすすめ教えて\",\n",
    "    config={\"callbacks\": [callback_handler]}\n",
    ")"
   ]
  },
  {
   "cell_type": "markdown",
   "metadata": {},
   "source": [
    "### メタデータ"
   ]
  },
  {
   "cell_type": "markdown",
   "metadata": {},
   "source": [
    "`@observe()`デコレーターを使用した場合"
   ]
  },
  {
   "cell_type": "code",
   "execution_count": 13,
   "metadata": {},
   "outputs": [],
   "source": [
    "from langfuse.decorators import langfuse_context, observe\n",
    "\n",
    "langfuse_context.configure(\n",
    "    public_key=public_key,\n",
    "    secret_key=secret_key,\n",
    "    host=endpoint\n",
    ")\n",
    "\n",
    "@observe()\n",
    "def search_the_bigbaby():\n",
    "    # 同期の検索処理を想定\n",
    "    time.sleep(2)\n",
    "    langfuse_context.update_current_trace(\n",
    "        metadata={\n",
    "            \"search_params_top_k\": 3\n",
    "        }\n",
    "    )\n",
    "\n",
    "search_the_bigbaby()"
   ]
  },
  {
   "cell_type": "markdown",
   "metadata": {},
   "source": [
    "Low-Level SDKを使用した場合"
   ]
  },
  {
   "cell_type": "code",
   "execution_count": 14,
   "metadata": {},
   "outputs": [
    {
     "data": {
      "text/plain": [
       "<langfuse.client.StatefulSpanClient at 0x7fbd6fc53b90>"
      ]
     },
     "execution_count": 14,
     "metadata": {},
     "output_type": "execute_result"
    }
   ],
   "source": [
    "from langfuse import Langfuse\n",
    "\n",
    "langfuse = Langfuse(\n",
    "    public_key=public_key,\n",
    "    secret_key=secret_key,\n",
    "    host=endpoint\n",
    ")\n",
    "\n",
    "trace = langfuse.trace(\n",
    "    name=\"Ask the BigBaBy\",\n",
    "    metadata={\n",
    "        \"search_params_top_k\": 3\n",
    "    }\n",
    ")\n",
    "\n",
    "span = trace.span(\n",
    "    name=\"Search the BigBaBy's dictionary\"\n",
    ")\n",
    "# 同期の検索処理を想定\n",
    "time.sleep(2)\n",
    "span.end()"
   ]
  },
  {
   "cell_type": "markdown",
   "metadata": {},
   "source": [
    "LangChainのCallback実装を使った場合"
   ]
  },
  {
   "cell_type": "code",
   "execution_count": 15,
   "metadata": {},
   "outputs": [
    {
     "data": {
      "text/plain": [
       "AIMessage(content='喜んでいただけるか分かりませんが、いくつかおすすめの肉料理を紹介します。\\n\\n- ローストビーフ： 牛肉の塊をオーブンでゆっくりと焼き上げた料理です。ジューシーでやわらかな食感と深い味わいが魅力です。\\n- 豚の角煮： 豚バラ肉を醤油や砂糖などでじっくりと煮込んだ料理です。とろけるような食感と甘辛い味付けがご飯にもお酒にもよく合います。\\n- チキンティッカ： インド料理のグリルチキンです。ヨーグルトと香辛料に漬け込んだ鶏肉を串に刺して焼き上げます。香り高く、ジューシーな味わいが楽しめます。\\n- ラムチョップ： ラム肉のロース部分を骨付きのままグリルした料理です。香草やスパイスで味付けし、香ばしく焼き上げます。ラム肉特有の香りと旨味が楽しめます。\\n- 牛タンの燻製： 牛タンをスモークした料理です。柔らかく、深い味わいで、お酒のおつまみにもぴったりです。\\n\\n以上、お口に合うものが見つかれば幸いです。', additional_kwargs={'documents': None, 'citations': None, 'search_results': None, 'search_queries': None, 'is_search_required': None, 'generation_id': '4c05e7ae-0017-465c-9bc4-539bf3dd54c3', 'token_count': {'input_tokens': 206.0, 'output_tokens': 283.0}}, response_metadata={'documents': None, 'citations': None, 'search_results': None, 'search_queries': None, 'is_search_required': None, 'generation_id': '4c05e7ae-0017-465c-9bc4-539bf3dd54c3', 'token_count': {'input_tokens': 206.0, 'output_tokens': 283.0}}, id='run-46d82dd3-2774-415a-90fe-575a73ba27f8-0', usage_metadata={'input_tokens': 206, 'output_tokens': 283, 'total_tokens': 489})"
      ]
     },
     "execution_count": 15,
     "metadata": {},
     "output_type": "execute_result"
    }
   ],
   "source": [
    "from langfuse.callback import CallbackHandler\n",
    "\n",
    "callback_handler = CallbackHandler(\n",
    "    public_key=public_key,\n",
    "    secret_key=secret_key,\n",
    "    host=endpoint,\n",
    "    metadata={\n",
    "        \"search_params_top_k\": 3\n",
    "    }\n",
    ")\n",
    "\n",
    "if os.getenv(\"COHERE_API_KEY\") == None:\n",
    "    from langchain_openai.chat_models import ChatOpenAI\n",
    "    openai_api_key = os.getenv(\"OPENAI_API_KEY\")\n",
    "    model = \"gpt-4o-mini\"\n",
    "    chat = ChatOpenAI(api_key=openai_api_key, model=model)\n",
    "else:\n",
    "    from langchain_cohere.chat_models import ChatCohere\n",
    "    cohere_api_key = os.getenv(\"COHERE_API_KEY\")\n",
    "    model = \"command-r-plus\"\n",
    "    chat = ChatCohere(cohere_api_key=cohere_api_key, model=model)\n",
    "\n",
    "chat.invoke(\n",
    "    input=\"肉料理のおすすめ教えて\",\n",
    "    config={\"callbacks\": [callback_handler]}\n",
    ")"
   ]
  },
  {
   "cell_type": "markdown",
   "metadata": {},
   "source": [
    "### タグ"
   ]
  },
  {
   "cell_type": "markdown",
   "metadata": {},
   "source": [
    "`@observe()`デコレーターを使用した場合"
   ]
  },
  {
   "cell_type": "code",
   "execution_count": 16,
   "metadata": {},
   "outputs": [],
   "source": [
    "from langfuse.decorators import langfuse_context, observe\n",
    "\n",
    "langfuse_context.configure(\n",
    "    public_key=public_key,\n",
    "    secret_key=secret_key,\n",
    "    host=endpoint\n",
    ")\n",
    "\n",
    "@observe()\n",
    "def search_the_bigbaby():\n",
    "    # 同期の検索処理を想定\n",
    "    time.sleep(2)\n",
    "    langfuse_context.update_current_trace(\n",
    "        tags=[\"production\", \"summarize\"]\n",
    "    )\n",
    "\n",
    "search_the_bigbaby()"
   ]
  },
  {
   "cell_type": "markdown",
   "metadata": {},
   "source": [
    "Low-Level SDKを使った場合"
   ]
  },
  {
   "cell_type": "code",
   "execution_count": 17,
   "metadata": {},
   "outputs": [
    {
     "data": {
      "text/plain": [
       "<langfuse.client.StatefulSpanClient at 0x7fbd6fc673d0>"
      ]
     },
     "execution_count": 17,
     "metadata": {},
     "output_type": "execute_result"
    }
   ],
   "source": [
    "from langfuse import Langfuse\n",
    "\n",
    "langfuse = Langfuse(\n",
    "    public_key=public_key,\n",
    "    secret_key=secret_key,\n",
    "    host=endpoint\n",
    ")\n",
    "\n",
    "trace = langfuse.trace(\n",
    "    name=\"Ask the BigBaBy\",\n",
    "    tags=[\"production\", \"summarize\"]\n",
    ")\n",
    "\n",
    "span = trace.span(\n",
    "    name=\"Search the BigBaBy's dictionary\"\n",
    ")\n",
    "# 同期の検索処理を想定\n",
    "time.sleep(2)\n",
    "span.end()"
   ]
  },
  {
   "cell_type": "markdown",
   "metadata": {},
   "source": [
    "LangChainのCallback実装を使った場合"
   ]
  },
  {
   "cell_type": "code",
   "execution_count": 18,
   "metadata": {},
   "outputs": [
    {
     "data": {
      "text/plain": [
       "AIMessage(content='喜んでいただけるか分かりませんが、いくつかおすすめの肉料理を紹介します。\\n\\n- ローストビーフ： 高品質の牛肉をオーブンでゆっくりと焼き上げた料理です。 レアに仕上げるのが一般的で、柔らかくジューシーな食感が魅力です。\\n\\n- ステーキ： 高級な肉料理の定番です。 好みの焼き加減で仕上げ、塩コショウやステーキソースなどで味付けします。\\n\\n- 焼肉： 牛肉や豚肉、鶏肉などを薄切りにして、タレにつけながら焼いて食べる料理です。 さまざまな部位を楽しめるのが魅力です。\\n\\n- 酢豚： 豚肉を甘酸っぱいタレで炒めた中華料理です。 彩りよく野菜も一緒に炒め、ご飯にもよく合います。\\n\\n- 肉じゃが： 牛肉または豚肉とじゃがいもを甘辛く煮込んだ日本の家庭料理です。 ほっとする味わいで、ご飯のおかずにもぴったりです。\\n\\n- チキンティッカ： インド料理の人気メニューで、ヨーグルトと香辛料に漬け込んだ鶏肉を串焼きにしたものです。 カレー粉などのスパイスが効いていて、独特の風味が楽しめます。\\n\\n- スペアリブ： 豚または牛のあばら骨についた肉をじっくりと焼いた料理です。 骨から肉をほじくり出すのが面白く、食べ応えもあります。\\n\\n- 豚の生姜焼き： 豚肉をしょうがと醤油で味付けして焼いた料理です。 さっぱりとしていて、ご飯が進みます。\\n\\n- ビーフストロガノフ： 牛肉を玉ねぎやマッシュルームと一緒にソテーし、サワークリームで仕上げたロシアの伝統料理です。 クリーミーでコクのある味わいが特徴です。\\n\\n- 豚バラの角煮： 豚バラ肉を醤油や砂糖などで甘辛く煮込んだ料理です。 柔らかくジューシーな肉と、とろとろに煮込まれた脂身が絶妙な味わいです。\\n\\nこれらの料理は、家庭でも比較的簡単に作れるものから、少し手間のかかるものまでさまざまです。 ぜひお試しください。', additional_kwargs={'documents': None, 'citations': None, 'search_results': None, 'search_queries': None, 'is_search_required': None, 'generation_id': '32a69255-4ead-4d6a-a626-9229e38e8d8b', 'token_count': {'input_tokens': 206.0, 'output_tokens': 538.0}}, response_metadata={'documents': None, 'citations': None, 'search_results': None, 'search_queries': None, 'is_search_required': None, 'generation_id': '32a69255-4ead-4d6a-a626-9229e38e8d8b', 'token_count': {'input_tokens': 206.0, 'output_tokens': 538.0}}, id='run-1c125da6-d7a4-42fa-bc72-cd88ba9bdbfe-0', usage_metadata={'input_tokens': 206, 'output_tokens': 538, 'total_tokens': 744})"
      ]
     },
     "execution_count": 18,
     "metadata": {},
     "output_type": "execute_result"
    }
   ],
   "source": [
    "from langfuse.callback import CallbackHandler\n",
    "\n",
    "callback_handler = CallbackHandler(\n",
    "    public_key=public_key,\n",
    "    secret_key=secret_key,\n",
    "    host=endpoint,\n",
    "    tags=[\"production\", \"summarize\"]\n",
    ")\n",
    "\n",
    "if os.getenv(\"COHERE_API_KEY\") == None:\n",
    "    from langchain_openai.chat_models import ChatOpenAI\n",
    "    openai_api_key = os.getenv(\"OPENAI_API_KEY\")\n",
    "    model = \"gpt-4o-mini\"\n",
    "    chat = ChatOpenAI(api_key=openai_api_key, model=model)\n",
    "else:\n",
    "    from langchain_cohere.chat_models import ChatCohere\n",
    "    cohere_api_key = os.getenv(\"COHERE_API_KEY\")\n",
    "    model = \"command-r-plus\"\n",
    "    chat = ChatCohere(cohere_api_key=cohere_api_key, model=model)\n",
    "\n",
    "chat.invoke(\n",
    "    input=\"肉料理のおすすめ教えて\",\n",
    "    config={\"callbacks\": [callback_handler]}\n",
    ")"
   ]
  },
  {
   "cell_type": "code",
   "execution_count": null,
   "metadata": {},
   "outputs": [],
   "source": []
  }
 ],
 "metadata": {
  "kernelspec": {
   "display_name": "Python 3 (ipykernel)",
   "language": "python",
   "name": "python3"
  },
  "language_info": {
   "codemirror_mode": {
    "name": "ipython",
    "version": 3
   },
   "file_extension": ".py",
   "mimetype": "text/x-python",
   "name": "python",
   "nbconvert_exporter": "python",
   "pygments_lexer": "ipython3",
   "version": "3.11.6"
  }
 },
 "nbformat": 4,
 "nbformat_minor": 4
}
