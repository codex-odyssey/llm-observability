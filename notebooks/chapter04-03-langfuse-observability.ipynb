{
 "cells": [
  {
   "cell_type": "markdown",
   "metadata": {},
   "source": [
    "## オブザーバビリティを高める機能"
   ]
  },
  {
   "cell_type": "markdown",
   "metadata": {},
   "source": [
    "必要なライブラリをダウンロードします。"
   ]
  },
  {
   "cell_type": "code",
   "execution_count": null,
   "metadata": {},
   "outputs": [],
   "source": [
    "%pip install -r ../requirements.txt"
   ]
  },
  {
   "cell_type": "markdown",
   "metadata": {},
   "source": [
    "実行に必要な環境変数を読み込みます。"
   ]
  },
  {
   "cell_type": "code",
   "execution_count": 2,
   "metadata": {},
   "outputs": [],
   "source": [
    "import os, warnings, time, uuid\n",
    "\n",
    "# おまじない\n",
    "warnings.filterwarnings(\"ignore\")\n",
    "\n",
    "endpoint = \"http://localhost:3000\"\n",
    "public_key = os.getenv(\"PUBLIC_KEY\")\n",
    "secret_key = os.getenv(\"SECRET_KEY\")"
   ]
  },
  {
   "cell_type": "markdown",
   "metadata": {},
   "source": [
    "### セッション"
   ]
  },
  {
   "cell_type": "markdown",
   "metadata": {},
   "source": [
    "各トレースを同一グループにするために、セッションIDをUUID v4ベースで生成する"
   ]
  },
  {
   "cell_type": "code",
   "execution_count": 3,
   "metadata": {},
   "outputs": [],
   "source": [
    "import uuid\n",
    "\n",
    "session_id = str(uuid.uuid4())"
   ]
  },
  {
   "cell_type": "markdown",
   "metadata": {},
   "source": [
    "`@observe()`デコレーターを使用した場合"
   ]
  },
  {
   "cell_type": "code",
   "execution_count": 4,
   "metadata": {},
   "outputs": [],
   "source": [
    "from langfuse.decorators import langfuse_context, observe\n",
    "\n",
    "langfuse_context.configure(\n",
    "    public_key=public_key,\n",
    "    secret_key=secret_key,\n",
    "    host=endpoint\n",
    ")\n",
    "\n",
    "@observe()\n",
    "def search_the_bigbaby():\n",
    "    # 同期の検索処理を想定\n",
    "    time.sleep(2)\n",
    "    langfuse_context.update_current_trace(\n",
    "        session_id=session_id\n",
    "    )\n",
    "\n",
    "search_the_bigbaby()"
   ]
  },
  {
   "cell_type": "markdown",
   "metadata": {},
   "source": [
    "Low-Level SDKを使用した場合"
   ]
  },
  {
   "cell_type": "code",
   "execution_count": 5,
   "metadata": {},
   "outputs": [
    {
     "data": {
      "text/plain": [
       "<langfuse.client.StatefulSpanClient at 0x73788012b740>"
      ]
     },
     "execution_count": 5,
     "metadata": {},
     "output_type": "execute_result"
    }
   ],
   "source": [
    "from langfuse import Langfuse\n",
    "\n",
    "langfuse = Langfuse(\n",
    "    public_key=public_key,\n",
    "    secret_key=secret_key,\n",
    "    host=endpoint\n",
    ")\n",
    "\n",
    "trace = langfuse.trace(\n",
    "    name=\"Ask the BigBaBy\",\n",
    "    session_id=session_id\n",
    ")\n",
    "\n",
    "span = trace.span(\n",
    "    name=\"Search the BigBaBy's dictionary\"\n",
    ")\n",
    "# 同期の検索処理を想定\n",
    "time.sleep(2)\n",
    "span.end()"
   ]
  },
  {
   "cell_type": "markdown",
   "metadata": {},
   "source": [
    "LangChainのCallback実装を使った場合"
   ]
  },
  {
   "cell_type": "code",
   "execution_count": 6,
   "metadata": {},
   "outputs": [
    {
     "data": {
      "text/plain": [
       "AIMessage(content='喜んで！肉料理のおすすめをいくつか紹介しますね。\\n\\n- ステーキ：牛肉、豚肉、鶏肉など、お好みの肉を厚切りにして、強火で表面を焼き、中をジューシーに仕上げた料理です。好みに応じて、わさびや岩塩、バターなどの調味料をつけて食べるとより美味しくなります。\\n\\n- 焼肉：薄切りにした牛肉や豚肉、鶏肉を、タレや塩などで味付けして焼く料理です。野菜やキノコなどを一緒に焼いても美味しく、ご飯が進みます。\\n\\n- ローストビーフ：牛肉の塊をオーブンなどでゆっくりと焼き上げた料理です。中までしっかり火を通すのではなく、表面を焼き固めて中をレアに仕上げるのがポイントです。薄切りにして、好みのソースやマスタードをつけて食べると美味しいです。\\n\\n- 豚の角煮：豚バラ肉を大きめに切り、長時間煮込んで柔らかくした料理です。甘辛いタレがよく染み込んでいて、ご飯のおかずにもお酒のおつまみにもぴったりです。\\n\\n- 鶏の唐揚げ：鶏肉に下味をつけて、片栗粉や小麦粉をまぶして揚げた料理です。サクサクとした食感とジューシーな肉汁が魅力で、老若男女に人気の一品です。\\n\\n以上、おすすめの肉料理をいくつか紹介しました。ぜひお試しください！', additional_kwargs={'documents': None, 'citations': None, 'search_results': None, 'search_queries': None, 'is_search_required': None, 'generation_id': 'fc41baad-0582-4bbb-acc2-5b3805bf2ef6', 'token_count': {'input_tokens': 206.0, 'output_tokens': 354.0}}, response_metadata={'documents': None, 'citations': None, 'search_results': None, 'search_queries': None, 'is_search_required': None, 'generation_id': 'fc41baad-0582-4bbb-acc2-5b3805bf2ef6', 'token_count': {'input_tokens': 206.0, 'output_tokens': 354.0}}, id='run-a76e3572-d610-4c65-ac7e-b73ba412216b-0', usage_metadata={'input_tokens': 206, 'output_tokens': 354, 'total_tokens': 560})"
      ]
     },
     "execution_count": 6,
     "metadata": {},
     "output_type": "execute_result"
    }
   ],
   "source": [
    "from langfuse.callback import CallbackHandler\n",
    "\n",
    "callback_handler = CallbackHandler(\n",
    "    public_key=public_key,\n",
    "    secret_key=secret_key,\n",
    "    host=endpoint,\n",
    "    session_id=session_id\n",
    ")\n",
    "\n",
    "if os.getenv(\"COHERE_API_KEY\") == None:\n",
    "    from langchain_openai.chat_models import ChatOpenAI\n",
    "    openai_api_key = os.getenv(\"OPENAI_API_KEY\")\n",
    "    model = \"gpt-4o-mini\"\n",
    "    chat = ChatOpenAI(api_key=openai_api_key, model=model)\n",
    "else:\n",
    "    from langchain_cohere.chat_models import ChatCohere\n",
    "    cohere_api_key = os.getenv(\"COHERE_API_KEY\")\n",
    "    model = \"command-r-plus\"\n",
    "    chat = ChatCohere(cohere_api_key=cohere_api_key, model=model)\n",
    "\n",
    "chat.invoke(\n",
    "    input=\"肉料理のおすすめ教えて\",\n",
    "    config={\"callbacks\": [callback_handler]}\n",
    ")"
   ]
  },
  {
   "cell_type": "markdown",
   "metadata": {},
   "source": [
    "### ユーザー"
   ]
  },
  {
   "cell_type": "markdown",
   "metadata": {},
   "source": [
    "`@observe()`デコレーターを使用した場合"
   ]
  },
  {
   "cell_type": "code",
   "execution_count": 7,
   "metadata": {},
   "outputs": [],
   "source": [
    "from langfuse.decorators import langfuse_context, observe\n",
    "\n",
    "langfuse_context.configure(\n",
    "    public_key=public_key,\n",
    "    secret_key=secret_key,\n",
    "    host=endpoint\n",
    ")\n",
    "\n",
    "@observe()\n",
    "def search_the_bigbaby():\n",
    "    # 同期の検索処理を想定\n",
    "    time.sleep(2)\n",
    "    langfuse_context.update_current_trace(\n",
    "        user_id=\"user@example.com\"\n",
    "    )\n",
    "\n",
    "search_the_bigbaby()"
   ]
  },
  {
   "cell_type": "markdown",
   "metadata": {},
   "source": [
    "Low-Level SDKを使用した場合"
   ]
  },
  {
   "cell_type": "code",
   "execution_count": 8,
   "metadata": {},
   "outputs": [
    {
     "data": {
      "text/plain": [
       "<langfuse.client.StatefulSpanClient at 0x737849e870e0>"
      ]
     },
     "execution_count": 8,
     "metadata": {},
     "output_type": "execute_result"
    }
   ],
   "source": [
    "from langfuse import Langfuse\n",
    "\n",
    "langfuse = Langfuse(\n",
    "    public_key=public_key,\n",
    "    secret_key=secret_key,\n",
    "    host=endpoint\n",
    ")\n",
    "\n",
    "trace = langfuse.trace(\n",
    "    name=\"Ask the BigBaBy\",\n",
    "    user_id=\"user@example.com\"\n",
    ")\n",
    "\n",
    "span = trace.span(\n",
    "    name=\"Search the BigBaBy's dictionary\"\n",
    ")\n",
    "# 同期の検索処理を想定\n",
    "time.sleep(2)\n",
    "span.end()"
   ]
  },
  {
   "cell_type": "markdown",
   "metadata": {},
   "source": [
    "LangChainのCallback実装を使った場合"
   ]
  },
  {
   "cell_type": "code",
   "execution_count": 9,
   "metadata": {},
   "outputs": [
    {
     "data": {
      "text/plain": [
       "AIMessage(content='喜んでいただけるか分かりませんが、いくつかおすすめの肉料理を紹介します。\\n\\n- ローストビーフ： 牛肉の塊をオーブンで焼いた料理で、ジューシーで柔らかく、赤身の美味しさを楽しめます。\\n- 豚の角煮： 豚バラ肉を醤油や砂糖などで長時間煮込んだ料理で、柔らかくホロホロとした食感が魅力です。\\n- チキンのトマト煮込み： 鶏肉をトマトソースで煮込んだ料理で、酸味と甘みが効いたさっぱりとした味わいが特徴です。\\n- ラムチョップ： 仔羊の骨付き肉をグリルした料理で、香草やスパイスで味付けし、ジューシーでクセになる味わいです。\\n- 牛タン焼き： 牛タンを薄切りにして焼いた料理で、柔らかくて旨味たっぷりで、ビールなどのお酒にもよく合います。\\n\\n以上、お口に合うものが見つかれば幸いです。', additional_kwargs={'documents': None, 'citations': None, 'search_results': None, 'search_queries': None, 'is_search_required': None, 'generation_id': 'c3581c08-77f4-48e3-b131-388d3d56ff19', 'token_count': {'input_tokens': 206.0, 'output_tokens': 246.0}}, response_metadata={'documents': None, 'citations': None, 'search_results': None, 'search_queries': None, 'is_search_required': None, 'generation_id': 'c3581c08-77f4-48e3-b131-388d3d56ff19', 'token_count': {'input_tokens': 206.0, 'output_tokens': 246.0}}, id='run-9cf1ecf2-28c9-401d-9c4e-e7cc6d432814-0', usage_metadata={'input_tokens': 206, 'output_tokens': 246, 'total_tokens': 452})"
      ]
     },
     "execution_count": 9,
     "metadata": {},
     "output_type": "execute_result"
    }
   ],
   "source": [
    "from langfuse.callback import CallbackHandler\n",
    "\n",
    "callback_handler = CallbackHandler(\n",
    "    public_key=public_key,\n",
    "    secret_key=secret_key,\n",
    "    host=endpoint,\n",
    "    user_id=\"user@example.com\"\n",
    ")\n",
    "\n",
    "if os.getenv(\"COHERE_API_KEY\") == None:\n",
    "    from langchain_openai.chat_models import ChatOpenAI\n",
    "    openai_api_key = os.getenv(\"OPENAI_API_KEY\")\n",
    "    model = \"gpt-4o-mini\"\n",
    "    chat = ChatOpenAI(api_key=openai_api_key, model=model)\n",
    "else:\n",
    "    from langchain_cohere.chat_models import ChatCohere\n",
    "    cohere_api_key = os.getenv(\"COHERE_API_KEY\")\n",
    "    model = \"command-r-plus\"\n",
    "    chat = ChatCohere(cohere_api_key=cohere_api_key, model=model)\n",
    "\n",
    "chat.invoke(\n",
    "    input=\"肉料理のおすすめ教えて\",\n",
    "    config={\"callbacks\": [callback_handler]}\n",
    ")"
   ]
  },
  {
   "cell_type": "markdown",
   "metadata": {},
   "source": [
    "### メタデータ"
   ]
  },
  {
   "cell_type": "markdown",
   "metadata": {},
   "source": [
    "`@observe()`デコレーターを使用した場合"
   ]
  },
  {
   "cell_type": "code",
   "execution_count": 10,
   "metadata": {},
   "outputs": [],
   "source": [
    "from langfuse.decorators import langfuse_context, observe\n",
    "\n",
    "langfuse_context.configure(\n",
    "    public_key=public_key,\n",
    "    secret_key=secret_key,\n",
    "    host=endpoint\n",
    ")\n",
    "\n",
    "@observe()\n",
    "def search_the_bigbaby():\n",
    "    # 同期の検索処理を想定\n",
    "    time.sleep(2)\n",
    "    langfuse_context.update_current_trace(\n",
    "        metadata={\n",
    "            \"search_params_top_k\": 3\n",
    "        }\n",
    "    )\n",
    "\n",
    "search_the_bigbaby()"
   ]
  },
  {
   "cell_type": "markdown",
   "metadata": {},
   "source": [
    "Low-Level SDKを使用した場合"
   ]
  },
  {
   "cell_type": "code",
   "execution_count": 11,
   "metadata": {},
   "outputs": [
    {
     "data": {
      "text/plain": [
       "<langfuse.client.StatefulSpanClient at 0x73784950acf0>"
      ]
     },
     "execution_count": 11,
     "metadata": {},
     "output_type": "execute_result"
    }
   ],
   "source": [
    "from langfuse import Langfuse\n",
    "\n",
    "langfuse = Langfuse(\n",
    "    public_key=public_key,\n",
    "    secret_key=secret_key,\n",
    "    host=endpoint\n",
    ")\n",
    "\n",
    "trace = langfuse.trace(\n",
    "    name=\"Ask the BigBaBy\",\n",
    "    metadata={\n",
    "        \"search_params_top_k\": 3\n",
    "    }\n",
    ")\n",
    "\n",
    "span = trace.span(\n",
    "    name=\"Search the BigBaBy's dictionary\"\n",
    ")\n",
    "# 同期の検索処理を想定\n",
    "time.sleep(2)\n",
    "span.end()"
   ]
  },
  {
   "cell_type": "markdown",
   "metadata": {},
   "source": [
    "LangChainのCallback実装を使った場合"
   ]
  },
  {
   "cell_type": "code",
   "execution_count": 12,
   "metadata": {},
   "outputs": [
    {
     "data": {
      "text/plain": [
       "AIMessage(content='喜んで！肉料理のおすすめをいくつか紹介しますね。\\n\\n- ローストビーフ： 牛肉の塊を低温でじっくりと焼き上げた料理です。柔らかくジューシーな食感と、赤身の美味しさを楽しめます。\\n- 豚の角煮： 豚バラ肉を醤油や砂糖などで甘辛く煮込んだ料理です。柔らかくホロホロとした食感と、濃厚な味わいが魅力です。\\n- チキンのトマト煮込み： 鶏もも肉をトマト缶や野菜と一緒に煮込んだ料理です。トマトの酸味と鶏肉の旨味が絡み合い、さっぱりとした味わいです。\\n- ラムチョップのグリル： ラム肉の骨付きロース肉をグリルした料理です。香草やスパイスでマリネして焼くことで、独特の香りとジューシーな味わいを楽しめます。\\n- 牛タン焼き： 牛タンを薄切りにして焼き上げた料理です。柔らかくて旨味たっぷりで、ビールや日本酒などのお酒にもよく合います。\\n\\n以上、肉料理のおすすめでした。ぜひお試しください！', additional_kwargs={'documents': None, 'citations': None, 'search_results': None, 'search_queries': None, 'is_search_required': None, 'generation_id': 'b0990de7-a09b-4c59-b932-21ee013abbba', 'token_count': {'input_tokens': 206.0, 'output_tokens': 290.0}}, response_metadata={'documents': None, 'citations': None, 'search_results': None, 'search_queries': None, 'is_search_required': None, 'generation_id': 'b0990de7-a09b-4c59-b932-21ee013abbba', 'token_count': {'input_tokens': 206.0, 'output_tokens': 290.0}}, id='run-d121b12a-6815-4f14-bd37-f282f358d442-0', usage_metadata={'input_tokens': 206, 'output_tokens': 290, 'total_tokens': 496})"
      ]
     },
     "execution_count": 12,
     "metadata": {},
     "output_type": "execute_result"
    }
   ],
   "source": [
    "from langfuse.callback import CallbackHandler\n",
    "\n",
    "callback_handler = CallbackHandler(\n",
    "    public_key=public_key,\n",
    "    secret_key=secret_key,\n",
    "    host=endpoint,\n",
    "    metadata={\n",
    "        \"search_params_top_k\": 3\n",
    "    }\n",
    ")\n",
    "\n",
    "if os.getenv(\"COHERE_API_KEY\") == None:\n",
    "    from langchain_openai.chat_models import ChatOpenAI\n",
    "    openai_api_key = os.getenv(\"OPENAI_API_KEY\")\n",
    "    model = \"gpt-4o-mini\"\n",
    "    chat = ChatOpenAI(api_key=openai_api_key, model=model)\n",
    "else:\n",
    "    from langchain_cohere.chat_models import ChatCohere\n",
    "    cohere_api_key = os.getenv(\"COHERE_API_KEY\")\n",
    "    model = \"command-r-plus\"\n",
    "    chat = ChatCohere(cohere_api_key=cohere_api_key, model=model)\n",
    "\n",
    "chat.invoke(\n",
    "    input=\"肉料理のおすすめ教えて\",\n",
    "    config={\"callbacks\": [callback_handler]}\n",
    ")"
   ]
  },
  {
   "cell_type": "markdown",
   "metadata": {},
   "source": [
    "### タグ"
   ]
  },
  {
   "cell_type": "markdown",
   "metadata": {},
   "source": [
    "`@observe()`デコレーターを使用した場合"
   ]
  },
  {
   "cell_type": "code",
   "execution_count": 13,
   "metadata": {},
   "outputs": [],
   "source": [
    "from langfuse.decorators import langfuse_context, observe\n",
    "\n",
    "langfuse_context.configure(\n",
    "    public_key=public_key,\n",
    "    secret_key=secret_key,\n",
    "    host=endpoint\n",
    ")\n",
    "\n",
    "@observe()\n",
    "def search_the_bigbaby():\n",
    "    # 同期の検索処理を想定\n",
    "    time.sleep(2)\n",
    "    langfuse_context.update_current_trace(\n",
    "        tags=[\"production\", \"summarize\"]\n",
    "    )\n",
    "\n",
    "search_the_bigbaby()"
   ]
  },
  {
   "cell_type": "markdown",
   "metadata": {},
   "source": [
    "Low-Level SDKを使った場合"
   ]
  },
  {
   "cell_type": "code",
   "execution_count": 14,
   "metadata": {},
   "outputs": [
    {
     "data": {
      "text/plain": [
       "<langfuse.client.StatefulSpanClient at 0x737849eb9460>"
      ]
     },
     "execution_count": 14,
     "metadata": {},
     "output_type": "execute_result"
    }
   ],
   "source": [
    "from langfuse import Langfuse\n",
    "\n",
    "langfuse = Langfuse(\n",
    "    public_key=public_key,\n",
    "    secret_key=secret_key,\n",
    "    host=endpoint\n",
    ")\n",
    "\n",
    "trace = langfuse.trace(\n",
    "    name=\"Ask the BigBaBy\",\n",
    "    tags=[\"production\", \"summarize\"]\n",
    ")\n",
    "\n",
    "span = trace.span(\n",
    "    name=\"Search the BigBaBy's dictionary\"\n",
    ")\n",
    "# 同期の検索処理を想定\n",
    "time.sleep(2)\n",
    "span.end()"
   ]
  },
  {
   "cell_type": "markdown",
   "metadata": {},
   "source": [
    "LangChainのCallback実装を使った場合"
   ]
  },
  {
   "cell_type": "code",
   "execution_count": 15,
   "metadata": {},
   "outputs": [
    {
     "data": {
      "text/plain": [
       "AIMessage(content='喜んでいただけるか分かりませんが、いくつかおすすめの肉料理を紹介します。\\n\\n- ローストビーフ： 牛肉の塊をオーブンなどでゆっくりと焼き上げた料理です。ジューシーでやわらかな食感と、深い味わいが楽しめます。\\n- 豚の角煮： 豚バラ肉を醤油や砂糖などで長時間煮込んだ料理です。とろけるような食感と、甘辛い味付けがご飯によく合います。\\n- チキンティッカ： インド料理のグリルチキンです。ヨーグルトや香辛料に漬け込んだ鶏肉を串に刺して焼き上げます。香り高く、ジューシーな味わいが特徴です。\\n- ラムチョップ： 子羊のリブ（あばら骨）部分をグリルしたり、オーブンで焼いたりした料理です。やわらかな食感と、独特の香りが楽しめます。\\n- 牛タン焼き： 牛タンをスライスして焼き上げた料理です。やわらかな食感と、独特の風味が人気です。\\n\\n以上、お口に合うものがあれば幸いです。', additional_kwargs={'documents': None, 'citations': None, 'search_results': None, 'search_queries': None, 'is_search_required': None, 'generation_id': '486a822b-8bf0-4087-94eb-8f17c70020b8', 'token_count': {'input_tokens': 206.0, 'output_tokens': 270.0}}, response_metadata={'documents': None, 'citations': None, 'search_results': None, 'search_queries': None, 'is_search_required': None, 'generation_id': '486a822b-8bf0-4087-94eb-8f17c70020b8', 'token_count': {'input_tokens': 206.0, 'output_tokens': 270.0}}, id='run-e361d9af-0903-4a0d-ac6b-ffc802bcf855-0', usage_metadata={'input_tokens': 206, 'output_tokens': 270, 'total_tokens': 476})"
      ]
     },
     "execution_count": 15,
     "metadata": {},
     "output_type": "execute_result"
    }
   ],
   "source": [
    "from langfuse.callback import CallbackHandler\n",
    "\n",
    "callback_handler = CallbackHandler(\n",
    "    public_key=public_key,\n",
    "    secret_key=secret_key,\n",
    "    host=endpoint,\n",
    "    tags=[\"production\", \"summarize\"]\n",
    ")\n",
    "\n",
    "if os.getenv(\"COHERE_API_KEY\") == None:\n",
    "    from langchain_openai.chat_models import ChatOpenAI\n",
    "    openai_api_key = os.getenv(\"OPENAI_API_KEY\")\n",
    "    model = \"gpt-4o-mini\"\n",
    "    chat = ChatOpenAI(api_key=openai_api_key, model=model)\n",
    "else:\n",
    "    from langchain_cohere.chat_models import ChatCohere\n",
    "    cohere_api_key = os.getenv(\"COHERE_API_KEY\")\n",
    "    model = \"command-r-plus\"\n",
    "    chat = ChatCohere(cohere_api_key=cohere_api_key, model=model)\n",
    "\n",
    "chat.invoke(\n",
    "    input=\"肉料理のおすすめ教えて\",\n",
    "    config={\"callbacks\": [callback_handler]}\n",
    ")"
   ]
  }
 ],
 "metadata": {
  "kernelspec": {
   "display_name": ".venv",
   "language": "python",
   "name": "python3"
  },
  "language_info": {
   "codemirror_mode": {
    "name": "ipython",
    "version": 3
   },
   "file_extension": ".py",
   "mimetype": "text/x-python",
   "name": "python",
   "nbconvert_exporter": "python",
   "pygments_lexer": "ipython3",
   "version": "3.12.5"
  }
 },
 "nbformat": 4,
 "nbformat_minor": 2
}
