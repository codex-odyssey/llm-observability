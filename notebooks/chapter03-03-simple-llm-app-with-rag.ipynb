{
 "cells": [
  {
   "cell_type": "markdown",
   "metadata": {},
   "source": [
    "## 埋込モデル"
   ]
  },
  {
   "cell_type": "markdown",
   "metadata": {},
   "source": [
    "### 準備\n",
    "\n",
    "必要なライブラリのインストール"
   ]
  },
  {
   "cell_type": "code",
   "execution_count": null,
   "metadata": {},
   "outputs": [],
   "source": [
    "%pip install -r ../requirements.txt"
   ]
  },
  {
   "cell_type": "markdown",
   "metadata": {},
   "source": [
    "### 埋め込みモデル\n"
   ]
  },
  {
   "cell_type": "code",
   "execution_count": 1,
   "metadata": {},
   "outputs": [
    {
     "name": "stderr",
     "output_type": "stream",
     "text": [
      "/opt/conda/lib/python3.11/site-packages/pydantic/_internal/_config.py:341: UserWarning: Valid config keys have changed in V2:\n",
      "* 'allow_population_by_field_name' has been renamed to 'populate_by_name'\n",
      "* 'smart_union' has been removed\n",
      "  warnings.warn(message, UserWarning)\n"
     ]
    }
   ],
   "source": [
    "from langchain_cohere import CohereEmbeddings\n",
    "\n",
    "embeddings = CohereEmbeddings(\n",
    "    model=\"embed-multilingual-v3.0\"\n",
    ")"
   ]
  },
  {
   "cell_type": "markdown",
   "metadata": {},
   "source": [
    "### Document Loader\n",
    "\n",
    "`../docs/*.txt` に格納されているテキストデータを読み込み、LangChain の Document へ変換します。"
   ]
  },
  {
   "cell_type": "code",
   "execution_count": 2,
   "metadata": {},
   "outputs": [
    {
     "data": {
      "text/plain": [
       "[Document(metadata={'source': '../docs/arani.txt'}, page_content='BB流！200円で作れる真鯛のアラの塩煮の作り方\\n\\n用意するもの\\n\\n- フライパン\\n- アルミホイル\\n- しょうが1欠片\\n- 真鯛のアラ（血とかは洗っておく）\\n- 塩\\n- 水\\n\\n作り方は以下の通りです。\\n\\n1．フライパンに水（落とし蓋をするのでやや少なめ）を生姜のスライスと一緒に入れる\\n2．沸騰したら塩を小さじ2（スープがしょっぱかったので少なくてもいいかも）を入れて溶かしてから真鯛のアラを入れる。沸騰してから入れると前処理無しで臭みなし\\n3．アルミホイルで落とし蓋する\\n4．火が通るまで弱火で適当に煮る\\n5．(゜Д゜)ｳﾏｰ\\n\\nおつまみにぴったりです。ぜひ作ってみてね。\\n'),\n",
       " Document(metadata={'source': '../docs/butakimuchi.txt'}, page_content='BB流！安くて早くて旨い男のための豚キムチの作り方\\n\\n材料は以下の通りです。\\n\\n- 豚ロース薄切り100g\\n- キムチ100g\\n- タマネギ1/2個（レタス少量などでも可）\\n- ごま油\\n- 酒\\n- 醤油\\n\\n作り方は以下の通りです。\\n\\n1. 豚ロース1枚を4分割くらいに切る\\n2. タマネギを適当に切る\\n3. フライパンにごま油を適当に引いて豚ロースを焼く、タマネギも投入\\n4. 肉の色が変わったらキムチ投入、酒と醤油小さじ1ずつ入れて混ぜて焼いて終わり\\n\\n簡単で白米に合うこと間違いなし！ぜひ作ってみてね\\n'),\n",
       " Document(metadata={'source': '../docs/torimomo-shiokouji.txt'}, page_content='BB流！鶏ももの塩麹漬け焼きの作り方です。晩御飯にぴったりだね。\\n\\n材料\\n- 鶏モモ（別に何でも。鮭とか鯛の切り身でも可）\\n- 塩麹\\n\\n作り方は以下の通りです。\\n\\n1. 鶏モモは厚みを揃え（めんどくさければそのまま）、ジップロックとかビニール袋に投入\\n2. 塩麹を両面に塗りつける\\n3. 冷蔵庫に投入して半日～1日そのまま。朝にやって夜に食べるとか前の晩にやっておくとか\\n4. 焦げやすいので塩麹はざっと取る\\n5. フライパンで焼く。魚なら魚焼きグリルで焼く\\n6. 味も付いて柔らかくなって(゜Д゜)ｳﾏｰ\\n\\nぜひ作ってみてね！\\n'),\n",
       " Document(metadata={'source': '../docs/karubikuppa.txt'}, page_content='BB流カルビクッパの作り方です。\\n\\nまずは、以下の材料を用意します。なお、材料は2人分です。\\n\\n- 牛肉: 50g\\n- 大根: 半分\\n- 人参: 1本\\n- シイタケ: 2-3個\\n- ニンニク: 半分\\n- もやし: 1袋\\n- ニラ: 半分\\n- ぜんまい: 40g\\n    - BB流ポイント 「入れなくても良いですが、入れると@<ttb>{めちゃ旨}です！」\\n- つゆ (*)\\n    - 水: 800cc\\n    - コチュジャン: 大さじ2\\n        - BB流ポイント「入れれば入れるだけ美味しい！」\\n    - ウェイパー: 大さじ2\\n    - ごま油: 大さじ2\\n        - BB流ポイント「入れれば入れるだけ美味しい！」\\n    - 酒: 大さじ2\\n    - 醤油: 大さじ2\\n    - 砂糖: 大さじ2\\n- 塩コショウ:適量\\n- 卵: 2個\\n\\nごま油でニンニクを炒め、香りが出たら牛肉を炒めます。つゆ（*）をいれ、ニラともやし以外を入れてひと煮立ちさせます。\\n最後にニラともやしを入れてある程度シャキシャキ感を残しつつ、卵をふんわりさせたらBB流カルビクッパの完成です！\\nなお、卵をふんわりさせるコツはつゆを限界まで沸騰させることです！\\n'),\n",
       " Document(metadata={'source': '../docs/okura-nikumaki.txt'}, page_content='BB流オクラ好きに捧ぐオクラの肉巻きの作り方です。\\n\\n材料は以下の通り\\n\\n- オクラ\\n- 豚バラ薄切り肉（オクラと豚バラの枚数は揃える）\\n- 醤油\\n- 砂糖\\n- みりん\\n- 酒\\n\\n作り方は以下の通りです。\\n\\n1. オクラは塩で板刷りして産毛を取る。ガクは切り取るか、ヘタごと切り落とすか。切り落とす場合は茹でたとき中に水が入らないように注意しておこなう。\\n2. 沸騰したお湯で2分ほど茹で、上げたら水分を取って冷ましておく。\\n3. オクラを1本ずつ端からマキマキ。豚バラが余ったら適当に長ネギでも巻いておく。\\n4. 醤油大さじ1、砂糖小さじ2杯ちょっと、みりん大さじ1、酒大さじ1を混ぜておく。\\n5. フライパンを加熱、肉の巻き終わり部分を下にして焼く。豚バラから油が出るので油は不要。\\n6. 下が焼けたら他の面も焼いておく\\n7. 出た油をキッチンペーパーで拭き取り、4のタレを入れて全面に回す。\\n8. 少し煮詰めて照りが出たら完成。\\n\\nお酒にピッタリだからぜひ晩酌のアテにしてください！\\n'),\n",
       " Document(metadata={'source': '../docs/tonjiru.txt'}, page_content='BB流！オクラとトマトの夏豚汁の作り方です。\\n\\n材料\\n\\n- オクラ4本\\n- トマト1個\\n- 豚バラ50g\\n- 生姜一かけ分（すりおろしでも棒状にカットしても）\\n- 味噌適量\\n- 水500ml\\n- ほんだし\\n\\n作り方は以下の通りです。\\n\\n1. トマトの皮を湯むき。面倒ならスキップでOK\\n2. トマトを一口大にカット\\n3. オクラのガクを取って3、4等分くらいにカット\\n4. 生姜はすりおろしで無ければおろすかカット\\n5. 豚バラも1cm間隔でカット\\n6. 鍋に油を加熱して豚バラと生姜を炒める。豚バラの色が変わって来たらオクラも追加してさっと炒める\\n7. 水とほんだしを追加して加熱してアクを取る。\\n8. トマトを入れて味噌を入れて、トマトが温まるまで弱火で加熱\\n\\n(゜Д゜)ｳﾏｰ\\n'),\n",
       " Document(metadata={'source': '../docs/shokora.txt'}, page_content='たまにはデザートも作るぜ！BB流熱々ショコラの作り方。\\n\\n必要なものは以下の通りです。ないなら買ってくれよな。\\n\\n- 大小のボウル（湯煎に使う）\\n- 耐熱性の容器（ココット等。耐熱性であればマグカップとかでも良い）\\n- お湯\\n\\n材料は以下の通りです。\\n\\n- チョコレート（製菓用でもない市販のものでも可。本当になんでも良い。もちろん製菓用でも）120g\\n- 食塩不使用バター100g\\n- 全卵2個\\n- グラニュー糖120g\\n- 薄力粉10g\\n\\n作り方は以下の通りです。\\n\\n1. オーブンを170度で予熱します\\n2. チョコレートとバターを溶けやすいように小さめにカットして小さめのボウルに入れます\\n3. お湯を入れた大きめのボウルに1のボウルを入れて湯煎で溶かします\\n4. バターが溶けたら湯煎から外してホイッパーで混ぜてチョコレートを溶かします\\n5. 固まらないように湯煎に戻して保温します\\n6. 卵をほぐしてグラニュー糖を溶かし、全体が白っぽくなるまで混ぜます\\n7. 卵に薄力粉を振り入れます。量が少ないから茶こしでOKです。粉が見えなくなるまで混ぜます\\n8. 卵に保温しておいたチョコレート＋バターを追加します。冷えて固まってしまうので手早く混ぜます\\n9. 加熱すると膨らむため、容器に8分目くらいまで分けて入れます\\n10. オーブンに18分入れます\\n\\nオーブンは焦げないように見張っておいてください。\\nそして、熱いうちに食べることをおすすめ！(゜Д゜)ｳﾏｳﾏ。表面はサクッとしてるが中はトロトロ。長くすると中も固まります\\n'),\n",
       " Document(metadata={'source': '../docs/spice-curry.txt'}, page_content='BB流のスパイスカレーのレシピです。\\n\\nまずは、以下の材料を用意します。なお、材料は2人分です。\\n\\n- 鶏モモ肉皮なし: 200g\\n- たまねぎ1/2: 110g\\n- にんにく: 4g（チューブ8㎝）\\n- しょうが: 4g（チューブ8㎝）\\n- 塩: 2g\\n- オリーブ油: 8ｇ\\n- トマト缶1/3: 60g\\n- カレー粉: 5g\\n- ガラムマサラ: 1g\\n- ケチャップ: 18g\\n- ウスターソース: 18g\\n\\n作り方は以下の通りです。\\n\\n1. 玉ねぎを粗みじんに切る\\n2. 鶏モモは皮を外し一口大に切る\\n3. 鍋にオリーブオイルを熱したまねぎ、にんにく、しょうが、塩をいれ中火で炒める\\n4. たまねぎが半透明になったらトマト缶とカレースバイスを入れる\\n5. 強火にかけ全体を混ぜる\\n6. 鶏モモ肉、水100㎖、ケチャップ、ウスターソースを加え蓋をして中火で煮る\\n7. 鶏肉に火が通ったら蓋をとり好みのトロミ具合になるまで煮る\\n\\n鶏モモでのレシピですが、鶏むね肉やサバ缶、ノンオイルツナ缶へ変えると\\nより脂質を減らせアレンジできます\\n是非作ってみてくださいね\\n'),\n",
       " Document(metadata={'source': '../docs/hoiruyaki.txt'}, page_content='BB流の究極のホイル焼きレシピの作り方です。\\n\\n材料\\n- アスパラガス3，4本\\n- ハーフベーコン2枚\\n- 塩\\n- ピザ用チーズ\\n- 黒胡椒\\n\\n作り方は以下の通りです。\\n\\n1. アスパラは根元の皮を剥き食べやすい長さに切る\\n2. 耐熱容器にアスパラを入れてラップを掛けて600Wの電子レンジで3分、塩を振って味を調える\\n3. アルミホイルで器を作り、アスパラと1センチ幅に切ったベーコンを入れる\\n4. ピザ用チーズを掛けてオーブントースターでチーズが溶けるまで加熱\\n5. 仕上げに黒胡椒を掛けて完成\\n\\nぜひ試してみてください\\n'),\n",
       " Document(metadata={'source': '../docs/kinoko-marine.txt'}, page_content='BB流きのこマリネの作り方です。\\n\\nまずは、以下の材料を用意します。なお、材料は2人分です。\\n\\n- お好きなきのこ\\n    - 複数種類用意するととても美味しいです\\n    - BB的には、エリンギ、椎茸、マッシュルーム、しめじ、舞茸、平茸などがおすすめです\\n- バター（無塩）: 10g\\n- にんにく: 1個\\n- マリネ用のたれ (*)\\n    - マスタード: 大さじ2\\n    - 白ワインビネガー: 大さじ1~2\\n    - ケッパー: 15粒程度\\n- パセリ: お好きな方はたくさん\\n\\nフライパンにオリーブオイルをひき、強火できのこを炒めます。ある程度炒まったらちょっと効き過ぎなんじゃないの？ってくらい塩を加えます。\\n火を弱め、きのこをフライパンの端によせ、バターとにんにくを入れ、香りを立たせます。\\nあらかじめ合わせておいたマリネ用のタレと合わせたら完成です！\\nぜひ、お酒と合わせて嗜んでください！白ワイン、ビール、ハイボールとお酒泥棒になること間違いなしでしょう。\\n')]"
      ]
     },
     "execution_count": 2,
     "metadata": {},
     "output_type": "execute_result"
    }
   ],
   "source": [
    "import glob\n",
    "from langchain.document_loaders import TextLoader\n",
    "\n",
    "files = glob.glob(\"../docs/*.txt\")\n",
    "documents = []\n",
    "\n",
    "for file in files:\n",
    "    loader = TextLoader(file_path=file)\n",
    "    document = loader.load()\n",
    "    documents.extend(document)\n",
    "documents"
   ]
  },
  {
   "cell_type": "markdown",
   "metadata": {},
   "source": [
    "### Text Splitters"
   ]
  },
  {
   "cell_type": "code",
   "execution_count": 3,
   "metadata": {},
   "outputs": [
    {
     "name": "stderr",
     "output_type": "stream",
     "text": [
      "USER_AGENT environment variable not set, consider setting it to identify your requests.\n"
     ]
    },
    {
     "data": {
      "text/plain": [
       "15540"
      ]
     },
     "execution_count": 3,
     "metadata": {},
     "output_type": "execute_result"
    }
   ],
   "source": [
    "from langchain_community.document_loaders import WebBaseLoader\n",
    "\n",
    "langchain_doc = WebBaseLoader(\"https://python.langchain.com/docs/concepts/\").load()\n",
    "\n",
    "len(langchain_doc[0].page_content)\n"
   ]
  },
  {
   "cell_type": "code",
   "execution_count": 4,
   "metadata": {},
   "outputs": [
    {
     "data": {
      "text/plain": [
       "23"
      ]
     },
     "execution_count": 4,
     "metadata": {},
     "output_type": "execute_result"
    }
   ],
   "source": [
    "from langchain_text_splitters import RecursiveCharacterTextSplitter\n",
    "\n",
    "langchain_docs = RecursiveCharacterTextSplitter(\n",
    "    chunk_size=1000, chunk_overlap=200\n",
    ").split_documents(langchain_doc)\n",
    "len(langchain_docs)"
   ]
  },
  {
   "cell_type": "code",
   "execution_count": 5,
   "metadata": {},
   "outputs": [
    {
     "data": {
      "text/plain": [
       "[Document(metadata={'source': 'https://python.langchain.com/docs/concepts/', 'title': 'Conceptual guide | 🦜️🔗 LangChain', 'description': 'This guide provides explanations of the key concepts behind the LangChain framework and AI applications more broadly.', 'language': 'en'}, page_content='middle\" effectHow to split Markdown by HeadersHow to merge consecutive messages of the same typeHow to add message historyHow to migrate from legacy LangChain agents to LangGraphHow to retrieve using multiple vectors per documentHow to pass multimodal data directly to modelsHow to use multimodal promptsHow to create a custom Output ParserHow to use the output-fixing parserHow to parse JSON outputHow to retry when a parsing error occursHow to parse XML outputHow to parse YAML outputHow to use the Parent Document RetrieverHow to use LangChain with different Pydantic versionsHow to add chat historyHow to get a RAG application to add citationsHow to do per-user retrievalHow to get your RAG application to return sourcesHow to stream results from your RAG applicationHow to split JSON dataHow to recursively split text by charactersResponse metadataHow to pass runtime secrets to runnablesHow to do \"self-querying\" retrievalHow to split text based on semantic similarityHow to chain runnablesHow'),\n",
       " Document(metadata={'source': 'https://python.langchain.com/docs/concepts/', 'title': 'Conceptual guide | 🦜️🔗 LangChain', 'description': 'This guide provides explanations of the key concepts behind the LangChain framework and AI applications more broadly.', 'language': 'en'}, page_content=\"to add ad-hoc tool calling capability to LLMs and Chat ModelsBuild an Agent with AgentExecutor (Legacy)How to construct knowledge graphsHow to partially format prompt templatesHow to handle multiple queries when doing query analysisHow to use built-in tools and toolkitsHow to pass through arguments from one step to the nextHow to compose prompts togetherHow to handle multiple retrievers when doing query analysisHow to add values to a chain's stateHow to construct filters for query analysisHow to configure runtime chain internalsHow deal with high cardinality categoricals when doing query analysisCustom Document LoaderHow to split by HTML headerHow to split by HTML sectionsHow to use the MultiQueryRetrieverHow to add scores to retriever resultsCachingHow to use callbacks in async environmentsHow to attach callbacks to a runnableHow to propagate callbacks  constructorHow to dispatch custom callback eventsHow to pass callbacks in at runtimeHow to split by characterHow to cache chat model\"),\n",
       " Document(metadata={'source': 'https://python.langchain.com/docs/concepts/', 'title': 'Conceptual guide | 🦜️🔗 LangChain', 'description': 'This guide provides explanations of the key concepts behind the LangChain framework and AI applications more broadly.', 'language': 'en'}, page_content='recursively split text by charactersResponse metadataHow to pass runtime secrets to runnablesHow to do \"self-querying\" retrievalHow to split text based on semantic similarityHow to chain runnablesHow to save and load LangChain objectsHow to split text by tokensHow to do question answering over CSVsHow to deal with large databases when doing SQL question-answeringHow to better prompt when doing SQL question-answeringHow to do query validation as part of SQL question-answeringHow to stream runnablesHow to stream responses from an LLMHow to use a time-weighted vector store retrieverHow to return artifacts from a toolHow to use chat models to call toolsHow to disable parallel tool callingHow to force models to call a toolHow to access the RunnableConfig from a toolHow to pass tool outputs to chat modelsHow to pass run time values to toolsHow to stream events from a toolHow to stream tool callsHow to convert tools to OpenAI FunctionsHow to handle tool errorsHow to use few-shot prompting'),\n",
       " Document(metadata={'source': 'https://python.langchain.com/docs/concepts/', 'title': 'Conceptual guide | 🦜️🔗 LangChain', 'description': 'This guide provides explanations of the key concepts behind the LangChain framework and AI applications more broadly.', 'language': 'en'}, page_content='databaseHow to add a semantic layer over graph databaseHow to invoke runnables in parallelHow to stream chat model responsesHow to add default invocation args to a RunnableHow to add retrieval to chatbotsHow to use few shot examples in chat modelsHow to do tool/function callingHow to best prompt for Graph-RAGHow to install LangChain packagesHow to add examples to the prompt for query analysisHow to use few shot examplesHow to run custom functionsHow to use output parsers to parse an LLM response into structured formatHow to handle cases where no queries are generatedHow to route between sub-chainsHow to return structured data from a modelHow to summarize text through parallelizationHow to summarize text through iterative refinementHow to summarize text in a single LLM callHow to use toolkitsHow to add ad-hoc tool calling capability to LLMs and Chat ModelsBuild an Agent with AgentExecutor (Legacy)How to construct knowledge graphsHow to partially format prompt templatesHow to handle')]"
      ]
     },
     "execution_count": 5,
     "metadata": {},
     "output_type": "execute_result"
    }
   ],
   "source": [
    "from langchain_community.vectorstores import FAISS\n",
    "\n",
    "langchain_db = FAISS.from_documents(langchain_docs, CohereEmbeddings(model=\"embed-multilingual-v3.0\"))\n",
    "result = langchain_db.similarity_search(\"Please tell me how to set up the PR to separate it into minor and patch versions ?\")\n",
    "result"
   ]
  },
  {
   "cell_type": "markdown",
   "metadata": {},
   "source": [
    "### Vector Store"
   ]
  },
  {
   "cell_type": "markdown",
   "metadata": {},
   "source": [
    "自然言語を用いた類似度検索を行います。"
   ]
  },
  {
   "cell_type": "code",
   "execution_count": 6,
   "metadata": {},
   "outputs": [
    {
     "data": {
      "text/plain": [
       "[Document(metadata={'source': '../docs/karubikuppa.txt'}, page_content='BB流カルビクッパの作り方です。\\n\\nまずは、以下の材料を用意します。なお、材料は2人分です。\\n\\n- 牛肉: 50g\\n- 大根: 半分\\n- 人参: 1本\\n- シイタケ: 2-3個\\n- ニンニク: 半分\\n- もやし: 1袋\\n- ニラ: 半分\\n- ぜんまい: 40g\\n    - BB流ポイント 「入れなくても良いですが、入れると@<ttb>{めちゃ旨}です！」\\n- つゆ (*)\\n    - 水: 800cc\\n    - コチュジャン: 大さじ2\\n        - BB流ポイント「入れれば入れるだけ美味しい！」\\n    - ウェイパー: 大さじ2\\n    - ごま油: 大さじ2\\n        - BB流ポイント「入れれば入れるだけ美味しい！」\\n    - 酒: 大さじ2\\n    - 醤油: 大さじ2\\n    - 砂糖: 大さじ2\\n- 塩コショウ:適量\\n- 卵: 2個\\n\\nごま油でニンニクを炒め、香りが出たら牛肉を炒めます。つゆ（*）をいれ、ニラともやし以外を入れてひと煮立ちさせます。\\n最後にニラともやしを入れてある程度シャキシャキ感を残しつつ、卵をふんわりさせたらBB流カルビクッパの完成です！\\nなお、卵をふんわりさせるコツはつゆを限界まで沸騰させることです！\\n')]"
      ]
     },
     "execution_count": 6,
     "metadata": {},
     "output_type": "execute_result"
    }
   ],
   "source": [
    "vector_store = FAISS.from_documents(documents, embeddings)\n",
    "result = vector_store.similarity_search(query=\"カルビクッパ\",k=1)\n",
    "result"
   ]
  },
  {
   "cell_type": "markdown",
   "metadata": {},
   "source": [
    "### Retriever\n",
    "\n",
    "Vector StoreからRetrieverの生成"
   ]
  },
  {
   "cell_type": "code",
   "execution_count": 7,
   "metadata": {},
   "outputs": [
    {
     "data": {
      "text/plain": [
       "[Document(metadata={'source': '../docs/karubikuppa.txt'}, page_content='BB流カルビクッパの作り方です。\\n\\nまずは、以下の材料を用意します。なお、材料は2人分です。\\n\\n- 牛肉: 50g\\n- 大根: 半分\\n- 人参: 1本\\n- シイタケ: 2-3個\\n- ニンニク: 半分\\n- もやし: 1袋\\n- ニラ: 半分\\n- ぜんまい: 40g\\n    - BB流ポイント 「入れなくても良いですが、入れると@<ttb>{めちゃ旨}です！」\\n- つゆ (*)\\n    - 水: 800cc\\n    - コチュジャン: 大さじ2\\n        - BB流ポイント「入れれば入れるだけ美味しい！」\\n    - ウェイパー: 大さじ2\\n    - ごま油: 大さじ2\\n        - BB流ポイント「入れれば入れるだけ美味しい！」\\n    - 酒: 大さじ2\\n    - 醤油: 大さじ2\\n    - 砂糖: 大さじ2\\n- 塩コショウ:適量\\n- 卵: 2個\\n\\nごま油でニンニクを炒め、香りが出たら牛肉を炒めます。つゆ（*）をいれ、ニラともやし以外を入れてひと煮立ちさせます。\\n最後にニラともやしを入れてある程度シャキシャキ感を残しつつ、卵をふんわりさせたらBB流カルビクッパの完成です！\\nなお、卵をふんわりさせるコツはつゆを限界まで沸騰させることです！\\n')]"
      ]
     },
     "execution_count": 7,
     "metadata": {},
     "output_type": "execute_result"
    }
   ],
   "source": [
    "retriever = vector_store.as_retriever(search_kwargs={\"k\": 1})\n",
    "retriever.invoke(\"カルビクッパ\")"
   ]
  },
  {
   "cell_type": "markdown",
   "metadata": {},
   "source": [
    "WikipediaRetriever"
   ]
  },
  {
   "cell_type": "code",
   "execution_count": 8,
   "metadata": {},
   "outputs": [
    {
     "data": {
      "text/plain": [
       "'Mobile Suit Gundam SEED Freedom (Japanese: 機動戦士ガンダ'"
      ]
     },
     "execution_count": 8,
     "metadata": {},
     "output_type": "execute_result"
    }
   ],
   "source": [
    "from langchain_community.retrievers import WikipediaRetriever\n",
    "\n",
    "retriever = WikipediaRetriever()\n",
    "docs = retriever.invoke(\"Mobile Suit Gundam SEED Freedom\")\n",
    "docs[0].page_content[:50]"
   ]
  },
  {
   "cell_type": "markdown",
   "metadata": {},
   "source": [
    "### BB流のレシピを教えてくれるアプリケーション"
   ]
  },
  {
   "cell_type": "code",
   "execution_count": 9,
   "metadata": {},
   "outputs": [
    {
     "name": "stdout",
     "output_type": "stream",
     "text": [
      "カルビクッパの作り方は次のとおりです。\n",
      "\n",
      "**材料（2人分）**\n",
      "\n",
      "- 牛肉 50g\n",
      "- 大根 半分\n",
      "- 人参 1本\n",
      "- シイタケ 2~3個\n",
      "- ニンニク 半分\n",
      "- モヤシ 1袋\n",
      "- ニラ 半分\n",
      "- ゼンマイ 40g （オプション）\n",
      "- 水 800cc\n",
      "- コチュジャン 大さじ2\n",
      "- ウェイパー 大さじ2\n",
      "- ゴマ油 大さじ2\n",
      "- 酒 大さじ2\n",
      "- 醤油 大さじ2\n",
      "- 砂糖 大さじ2\n",
      "- 塩コショウ 適量\n",
      "- 卵 2個\n",
      "\n",
      "**作り方**\n",
      "\n",
      "1. ゴマ油でニンニクを炒め、香りが出たら牛肉を炒めます。\n",
      "2. つゆ（水、コチュジャン、ウェイパー、ゴマ油、酒、醤油、砂糖を混ぜたもの）を入れます。\n",
      "3. ニラともやし以外の材料を入れ、ひと煮立ちさせます。\n",
      "4. 最後にニラともやしを入れてシャキシャキ感を残しつつ、卵をふんわりとさせます。つゆを限界まで沸騰させると卵がふんわり仕上がります。\n",
      "\n",
      "ポイント：ゼンマイを入れると一層美味しくなります。また、コチュジャン、ゴマ油、ウェイパーは多めに入れるとより美味しくなるそうです。\n",
      "\n",
      "以上でBB流カルビクッパの完成です！"
     ]
    }
   ],
   "source": [
    "from langchain_core.runnables import RunnablePassthrough\n",
    "from langchain_core.output_parsers import StrOutputParser\n",
    "from langchain_core.prompts import PromptTemplate\n",
    "\n",
    "from langchain_cohere.chat_models import ChatCohere\n",
    "\n",
    "chat = ChatCohere(\n",
    "    model=\"command-r-plus\"\n",
    ")\n",
    "retriever = vector_store.as_retriever()\n",
    "\n",
    "prompt_template = PromptTemplate.from_template(template=\"\"\"\n",
    "あなたは有能なアシスタントです。\n",
    "以下のコンテキストに基づいて質問に対する回答を作成してください。\n",
    "分からない場合は分からないと回答してください。\n",
    "\n",
    "## コンテキスト\n",
    "\n",
    "{context}\n",
    "\n",
    "## 質問\n",
    "\n",
    "{question}\n",
    "\"\"\")\n",
    "\n",
    "chain = (\n",
    "    {\"question\": RunnablePassthrough(), \"context\": retriever}\n",
    "    | prompt_template\n",
    "    | chat\n",
    "    | StrOutputParser()\n",
    ")\n",
    "\n",
    "response = chain.stream(\"カルビクッパってどうやって作るのでしょうか？\")\n",
    "\n",
    "for chunk in response:\n",
    "    print(chunk, end=\"\")\n"
   ]
  },
  {
   "cell_type": "markdown",
   "metadata": {},
   "source": [
    "### xQL完全ガイドについて教えてくれるアプリケーション"
   ]
  },
  {
   "cell_type": "code",
   "execution_count": 10,
   "metadata": {},
   "outputs": [],
   "source": [
    "xql_doc = WebBaseLoader(\"https://techbookfest.org/product/vwEgK9fAmzRphNukv4E83P?productVariantID=b6iAh0AVyEs4hCUczPiy\").load()\n",
    "xql_db = FAISS.from_documents(xql_doc, CohereEmbeddings(model=\"embed-multilingual-v3.0\"))\n",
    "xql_retriever = xql_db.as_retriever()"
   ]
  },
  {
   "cell_type": "code",
   "execution_count": 11,
   "metadata": {},
   "outputs": [
    {
     "name": "stdout",
     "output_type": "stream",
     "text": [
      "xQL完全ガイドは、PromQL、LogQL、およびTraceQL という3つのクエリ言語に焦点を当てたガイドブックです。これらの言語は、Prometheus、Grafana Loki、およびGrafana Tempo などのオープンソースのモニタリングツールで使用されます。このガイドでは、これらのクエリ言語をマスターすることで、ユーザーが収集したテレメトリ データから必要なメトリクス、ログ、トレースをより簡単に見つけられるようにするのが目的です。\n",
      "\n",
      "このガイドには、メトリクス、ログ、トレースの概要、各クエリ言語の説明、練習問題、およびサンプル アプリと Docker 環境が含まれており、ユーザーが実際にクエリを実行できるようになっています。このガイドを通じて、著者は読者が PromQL、LogQL、および TraceQL をより深く理解し、クラウドネイティブ アプリケーションの運用に効果的に活用できるようになることを願っています。"
     ]
    }
   ],
   "source": [
    "\n",
    "chain = (\n",
    "    {\"question\": RunnablePassthrough(), \"context\": xql_retriever}\n",
    "    | prompt_template\n",
    "    | chat\n",
    "    | StrOutputParser()\n",
    ")\n",
    "\n",
    "response = chain.stream(\"xQL完全ガイドってなに？\")\n",
    "\n",
    "for chunk in response:\n",
    "    print(chunk, end=\"\")\n"
   ]
  }
 ],
 "metadata": {
  "kernelspec": {
   "display_name": "Python 3 (ipykernel)",
   "language": "python",
   "name": "python3"
  },
  "language_info": {
   "codemirror_mode": {
    "name": "ipython",
    "version": 3
   },
   "file_extension": ".py",
   "mimetype": "text/x-python",
   "name": "python",
   "nbconvert_exporter": "python",
   "pygments_lexer": "ipython3",
   "version": "3.11.6"
  }
 },
 "nbformat": 4,
 "nbformat_minor": 4
}
