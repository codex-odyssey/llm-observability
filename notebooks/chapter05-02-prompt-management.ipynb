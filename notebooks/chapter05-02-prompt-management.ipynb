{
 "cells": [
  {
   "cell_type": "markdown",
   "metadata": {},
   "source": [
    "## ハンズオン02: Prompt Management"
   ]
  },
  {
   "cell_type": "markdown",
   "metadata": {},
   "source": [
    "必要なライブラリをダウンロードします。\n"
   ]
  },
  {
   "cell_type": "code",
   "execution_count": null,
   "metadata": {},
   "outputs": [],
   "source": [
    "%pip install -r ../requirements.txt"
   ]
  },
  {
   "cell_type": "markdown",
   "metadata": {},
   "source": [
    "ハンズオンに必要な環境変数を読み込みます。"
   ]
  },
  {
   "cell_type": "code",
   "execution_count": 2,
   "metadata": {},
   "outputs": [],
   "source": [
    "import os, warnings\n",
    "\n",
    "# おまじない\n",
    "warnings.filterwarnings(\"ignore\")\n",
    "\n",
    "endpoint = \"http://langfuse-server:3000\"\n",
    "public_key = os.getenv(\"PUBLIC_KEY\")\n",
    "secret_key = os.getenv(\"SECRET_KEY\")"
   ]
  },
  {
   "cell_type": "markdown",
   "metadata": {},
   "source": [
    "Langfuseのクライアントを初期化します。"
   ]
  },
  {
   "cell_type": "code",
   "execution_count": 3,
   "metadata": {},
   "outputs": [],
   "source": [
    "from langfuse import Langfuse\n",
    "\n",
    "langfuse = Langfuse(\n",
    "    public_key=public_key,\n",
    "    secret_key=secret_key,\n",
    "    host=endpoint\n",
    ")"
   ]
  },
  {
   "cell_type": "markdown",
   "metadata": {},
   "source": [
    "### 検索結果を使用するようにプロンプトを改修する"
   ]
  },
  {
   "cell_type": "markdown",
   "metadata": {},
   "source": [
    "検索結果を使用するようなプロンプトをLangfuseに登録します。  \n",
    "※LangfuseのUIでも同様のことが実施できます。"
   ]
  },
  {
   "cell_type": "code",
   "execution_count": 4,
   "metadata": {},
   "outputs": [
    {
     "data": {
      "text/plain": [
       "<langfuse.model.TextPromptClient at 0x7500c82e9ca0>"
      ]
     },
     "execution_count": 4,
     "metadata": {},
     "output_type": "execute_result"
    }
   ],
   "source": [
    "prompt = \"\"\"\n",
    "以下のコンテキストに基づいて質問に対する回答を作成してください。\n",
    "\n",
    "## コンテキスト\n",
    "{{context}}\n",
    "\n",
    "## 質問\n",
    "{{question}}\n",
    "\"\"\"\n",
    "\n",
    "langfuse.create_prompt(\n",
    "    name=\"bbql-app-prompt\",\n",
    "    prompt=prompt,\n",
    "    labels=[\"production\"],\n",
    "    tags=[\"production\"]\n",
    ")"
   ]
  },
  {
   "cell_type": "markdown",
   "metadata": {},
   "source": [
    "### アプリケーションの再ビルドなしにプロンプトを更新する"
   ]
  },
  {
   "cell_type": "markdown",
   "metadata": {},
   "source": [
    "アプリケーションを再ビルドすることなく、プロンプトを更新します。  \n",
    "※LangfuseのUIでも同様のことが実施できます。"
   ]
  },
  {
   "cell_type": "code",
   "execution_count": 5,
   "metadata": {},
   "outputs": [
    {
     "data": {
      "text/plain": [
       "<langfuse.model.TextPromptClient at 0x7500c82e9ee0>"
      ]
     },
     "execution_count": 5,
     "metadata": {},
     "output_type": "execute_result"
    }
   ],
   "source": [
    "prompt = \"\"\"\n",
    "以下のコンテキストに基づいて質問に対する回答をBBっぽく作成してください。\n",
    "\n",
    "## BBとは？\n",
    "BBは、Cloud Native界隈で数多くのコミュニティのCo-chair, Organizerを務めるすごい肩書を持っている人です。\n",
    "夜はDJ/VJをしており、いつ寝ているかわからない人です。\n",
    "そして、料理を趣味としており数多くの自慢のレシピを持っています。\n",
    "\n",
    "## コンテキスト\n",
    "{{context}}\n",
    "\n",
    "## 質問\n",
    "{{question}}\n",
    "\"\"\"\n",
    "\n",
    "langfuse.create_prompt(\n",
    "    name=\"bbql-app-prompt\",\n",
    "    prompt=prompt,\n",
    "    labels=[\"production\"],\n",
    "    tags=[\"production\"]\n",
    ")"
   ]
  }
 ],
 "metadata": {
  "kernelspec": {
   "display_name": "Python 3 (ipykernel)",
   "language": "python",
   "name": "python3"
  },
  "language_info": {
   "codemirror_mode": {
    "name": "ipython",
    "version": 3
   },
   "file_extension": ".py",
   "mimetype": "text/x-python",
   "name": "python",
   "nbconvert_exporter": "python",
   "pygments_lexer": "ipython3",
   "version": "3.11.6"
  }
 },
 "nbformat": 4,
 "nbformat_minor": 4
}
