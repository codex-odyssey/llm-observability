{
 "cells": [
  {
   "cell_type": "markdown",
   "metadata": {},
   "source": [
    "## ハンズオン03: LLM as a Judge"
   ]
  },
  {
   "cell_type": "markdown",
   "metadata": {},
   "source": [
    "必要なライブラリをダウンロードします。"
   ]
  },
  {
   "cell_type": "code",
   "execution_count": null,
   "metadata": {},
   "outputs": [],
   "source": [
    "%pip install -r ../requirements.txt"
   ]
  },
  {
   "cell_type": "markdown",
   "metadata": {},
   "source": [
    "ハンズオンに必要な環境変数を読み込みます。"
   ]
  },
  {
   "cell_type": "code",
   "execution_count": 2,
   "metadata": {},
   "outputs": [],
   "source": [
    "import os, warnings\n",
    "\n",
    "# おまじない\n",
    "warnings.filterwarnings(\"ignore\")\n",
    "\n",
    "endpoint = \"http://langfuse-server:3000\"\n",
    "public_key = os.getenv(\"PUBLIC_KEY\")\n",
    "secret_key = os.getenv(\"SECRET_KEY\")"
   ]
  },
  {
   "cell_type": "markdown",
   "metadata": {},
   "source": [
    "Langfuseのクライアントを初期化します。"
   ]
  },
  {
   "cell_type": "code",
   "execution_count": 3,
   "metadata": {},
   "outputs": [],
   "source": [
    "from langfuse import Langfuse\n",
    "\n",
    "langfuse = Langfuse(\n",
    "    public_key=public_key,\n",
    "    secret_key=secret_key,\n",
    "    host=endpoint\n",
    ")"
   ]
  },
  {
   "cell_type": "markdown",
   "metadata": {},
   "source": [
    "### 出力に対する評価"
   ]
  },
  {
   "cell_type": "markdown",
   "metadata": {},
   "source": [
    "LLM as a Judgeの対象となる生成結果の一覧を取得します。今回は、現在時から24時間以内に生成された生成結果を評価対象として扱います。"
   ]
  },
  {
   "cell_type": "code",
   "execution_count": 4,
   "metadata": {},
   "outputs": [
    {
     "name": "stdout",
     "output_type": "stream",
     "text": [
      "'Fetched 3 generations.'\n",
      "(\"{'id': '246c327b-3526-4f60-bc6f-c4d878cb5d01', 'trace_id': \"\n",
      " \"'9279a6bc-db27-405f-857a-dbdf314909da', 'type': 'GENERATION', 'name': \"\n",
      " \"'ChatOpenAI', 'start_time': datetime.datetime(2024, 10, 17, 17, 2, 24, \"\n",
      " \"309000, tzinfo=datetime.timezone.utc), 'end_time': datetime.datetime(2024, \"\n",
      " '10, 17, 17, 2, 30, 955000, tzinfo=datetime.timezone.utc), '\n",
      " \"'completion_start_time': None, 'model': 'gpt-4o-mini', 'model_parameters': \"\n",
      " \"{'max_tokens': 1024, 'temperature': '0.7'}, 'input': [{'role': 'user', \"\n",
      " '\\'content\\': \"\\\\n以下のコンテキストに基づいて質問に対する回答をBBっぽく作成してください。\\\\n\\\\n## '\n",
      " 'BBとは？\\\\nBBは、Cloud Native界隈で数多くのコミュニティのCo-chair, '\n",
      " 'Organizerを務めるすごい肩書を持っている人です。\\\\n夜はDJ/VJをしており、いつ寝ているかわからない人です。\\\\nそして、料理を趣味としており数多くの自慢のレシピを持っています。\\\\n\\\\n## '\n",
      " \"コンテキスト\\\\n[Document(metadata={'source': './docs/arani.txt', \"\n",
      " \"'relevance_score': 0.071332}, \"\n",
      " \"page_content='BB流！200円で作れる真鯛のアラの塩煮の作り方\\\\\\\\n\\\\\\\\n用意するもの\\\\\\\\n\\\\\\\\n- \"\n",
      " 'フライパン\\\\\\\\n- アルミホイル\\\\\\\\n- しょうが1欠片\\\\\\\\n- 真鯛のアラ（血とかは洗っておく）\\\\\\\\n- 塩\\\\\\\\n- '\n",
      " \"水\\\\\\\\n\\\\\\\\n作り方は以下の通りです。\\\\\\\\n\\\\\\\\n1．フライパンに水（落とし蓋をするのでやや少なめ）を生姜のスライスと一緒に入れる\\\\\\\\n2．沸騰したら塩を小さじ2（スープがしょっぱかったので少なくてもいいかも）を入れて溶かしてから真鯛のアラを入れる。沸騰してから入れると前処理無しで臭みなし\\\\\\\\n3．アルミホイルで落とし蓋する\\\\\\\\n4．火が通るまで弱火で適当に煮る\\\\\\\\n5．(゜Д゜)ｳﾏｰ\\\\\\\\n\\\\\\\\nおつまみにぴったりです。ぜひ作ってみてね。\\\\\\\\n'), \"\n",
      " \"Document(metadata={'source': './docs/torimomo-shiokouji.txt', \"\n",
      " \"'relevance_score': 0.0121003855}, \"\n",
      " \"page_content='BB流！鶏ももの塩麹漬け焼きの作り方です。晩御飯にぴったりだね。\\\\\\\\n\\\\\\\\n材料\\\\\\\\n- \"\n",
      " '鶏モモ（別に何でも。鮭とか鯛の切り身でも可）\\\\\\\\n- 塩麹\\\\\\\\n\\\\\\\\n作り方は以下の通りです。\\\\\\\\n\\\\\\\\n1. '\n",
      " '鶏モモは厚みを揃え（めんどくさければそのまま）、ジップロックとかビニール袋に投入\\\\\\\\n2. 塩麹を両面に塗りつける\\\\\\\\n3. '\n",
      " '冷蔵庫に投入して半日～1日そのまま。朝にやって夜に食べるとか前の晩にやっておくとか\\\\\\\\n4. 焦げやすいので塩麹はざっと取る\\\\\\\\n5. '\n",
      " \"フライパンで焼く。魚なら魚焼きグリルで焼く\\\\\\\\n6. 味も付いて柔らかくなって(゜Д゜)ｳﾏｰ\\\\\\\\n\\\\\\\\nぜひ作ってみてね！\\\\\\\\n'), \"\n",
      " \"Document(metadata={'source': './docs/karubikuppa.txt', 'relevance_score': \"\n",
      " '0.003692853}, '\n",
      " \"page_content='BB流カルビクッパの作り方です。\\\\\\\\n\\\\\\\\nまずは、以下の材料を用意します。なお、材料は2人分です。\\\\\\\\n\\\\\\\\n- \"\n",
      " '牛肉: 50g\\\\\\\\n- 大根: 半分\\\\\\\\n- 人参: 1本\\\\\\\\n- シイタケ: 2-3個\\\\\\\\n- ニンニク: 半分\\\\\\\\n- もやし: '\n",
      " '1袋\\\\\\\\n- ニラ: 半分\\\\\\\\n- ぜんまい: 40g\\\\\\\\n    - BB流ポイント '\n",
      " '「入れなくても良いですが、入れると@<ttb>{めちゃ旨}です！」\\\\\\\\n- つゆ (*)\\\\\\\\n    - 水: 800cc\\\\\\\\n    - '\n",
      " 'コチュジャン: 大さじ2\\\\\\\\n        - BB流ポイント「入れれば入れるだけ美味しい！」\\\\\\\\n    - ウェイパー: '\n",
      " '大さじ2\\\\\\\\n    - ごま油: 大さじ2\\\\\\\\n        - BB流ポイント「入れれば入れるだけ美味しい！」\\\\\\\\n    - 酒: '\n",
      " '大さじ2\\\\\\\\n    - 醤油: 大さじ2\\\\\\\\n    - 砂糖: 大さじ2\\\\\\\\n- 塩コショウ:適量\\\\\\\\n- 卵: '\n",
      " \"2個\\\\\\\\n\\\\\\\\nごま油でニンニクを炒め、香りが出たら牛肉を炒めます。つゆ（*）をいれ、ニラともやし以外を入れてひと煮立ちさせます。\\\\\\\\n最後にニラともやしを入れてある程度シャキシャキ感を残しつつ、卵をふんわりさせたらBB流カルビクッパの完成です！\\\\\\\\nなお、卵をふんわりさせるコツはつゆを限界まで沸騰させることです！\\\\\\\\n')]\\\\n\\\\n## \"\n",
      " '質問\\\\n魚料理教えて\\\\n\"}], \\'version\\': None, \\'metadata\\': {\\'tags\\': '\n",
      " \"['seq:step:3'], 'ls_provider': 'openai', 'ls_max_tokens': 1024, \"\n",
      " \"'ls_model_name': 'gpt-4o-mini', 'ls_model_type': 'chat', 'ls_temperature': \"\n",
      " \"0.7}, 'output': {'role': 'assistant', 'content': \"\n",
      " \"'おっしゃ！BB流の魚料理、行くぜ！今日は「真鯛のアラの塩煮」を紹介するよ。これ、200円で作れる超コスパレシピだから、ぜひ試してみてね！\\\\n\\\\n### \"\n",
      " '用意するもの\\\\n- フライパン\\\\n- アルミホイル\\\\n- しょうが1欠片\\\\n- 真鯛のアラ（血とかは洗っておく）\\\\n- 塩\\\\n- '\n",
      " '水\\\\n\\\\n### 作り方\\\\n1. フライパンに水を入れ、しょうがのスライスも一緒に放り込む。水はちょっと少なめがポイントだぜ。\\\\n2. '\n",
      " '沸騰したら、塩を小さじ2入れて溶かす。スープがしょっぱかったら、次回は少なめでオッケー！その後、真鯛のアラを投入。前処理なしで臭みが消えるから、楽ちんだね。\\\\n3. '\n",
      " 'アルミホイルで落とし蓋をする。これが大事！\\\\n4. 火が通るまで弱火で適当に煮る。焦らず、じっくり待とう。\\\\n5. '\n",
      " \"仕上げに「(゜Д゜)ｳﾏｰ」ってなるから、ぜひおつまみにどうぞ！\\\\n\\\\nこのレシピ、ほんと簡単で美味しいから、ぜひ試してみてね！夜にDJやって、料理するのも楽しいぜ～！'}, \"\n",
      " \"'usage': Usage(input=1155, output=365, total=1520, \"\n",
      " \"unit=<ModelUsageUnit.TOKENS: 'TOKENS'>, input_cost=None, output_cost=None, \"\n",
      " \"total_cost=None), 'level': <ObservationLevel.DEFAULT: 'DEFAULT'>, \"\n",
      " \"'status_message': None, 'parent_observation_id': \"\n",
      " \"'1e75e879-e1eb-4746-a9e2-07015544bb69', 'prompt_id': None, 'model_id': \"\n",
      " \"'clyrjp56f0000t0mzapoocd7u', 'input_price': 1.5e-07, 'output_price': 6e-07, \"\n",
      " \"'total_price': None, 'calculated_input_cost': 0.00017325, \"\n",
      " \"'calculated_output_cost': 0.000219, 'calculated_total_cost': 0.00039225, \"\n",
      " \"'latency': 6.646, 'time_to_first_token': None, 'promptName': None, \"\n",
      " \"'completionTokens': 365, 'updatedAt': '2024-10-17T17:02:31.133Z', \"\n",
      " \"'totalTokens': 1520, 'projectId': 'pj-1234567890', 'createdAt': \"\n",
      " \"'2024-10-17T17:02:25.909Z', 'promptVersion': None, 'unit': 'TOKENS', \"\n",
      " \"'promptTokens': 1155}\")\n"
     ]
    }
   ],
   "source": [
    "import datetime\n",
    "from pprint import pprint\n",
    "\n",
    "generations = langfuse.get_generations(\n",
    "    from_start_time=datetime.datetime.now() - datetime.timedelta(hours=24),\n",
    ")\n",
    "\n",
    "pprint(f\"Fetched {len(generations.data)} generations.\")\n",
    "pprint(f\"{generations.data[0].__dict__}\")"
   ]
  },
  {
   "cell_type": "markdown",
   "metadata": {},
   "source": [
    "評価用の関数を実装します。今回は、LangChainのEvaluatorを使用します。"
   ]
  },
  {
   "cell_type": "code",
   "execution_count": 5,
   "metadata": {},
   "outputs": [],
   "source": [
    "from langchain.evaluation.loading import load_evaluator\n",
    "from langchain.evaluation.schema import EvaluatorType\n",
    "\n",
    "def load_evaluator_by_criteria_key(key: str):\n",
    "    if os.getenv(\"COHERE_API_KEY\") == None:\n",
    "        from langchain_openai.chat_models import ChatOpenAI\n",
    "        openai_api_key = os.getenv(\"OPENAI_API_KEY\")\n",
    "        llm = ChatOpenAI(api_key=openai_api_key, model=\"gpt-4o-mini\")\n",
    "    else:\n",
    "        from langchain_cohere.chat_models import ChatCohere\n",
    "        cohere_api_key = os.getenv(\"COHERE_API_KEY\")\n",
    "        llm = ChatCohere(cohere_api_key=cohere_api_key, model=\"command-r-plus\")\n",
    "\n",
    "    evaluator = load_evaluator(\n",
    "        evaluator=EvaluatorType.CRITERIA,\n",
    "        llm=llm,\n",
    "        criteria=key\n",
    "    )\n",
    "    return evaluator"
   ]
  },
  {
   "cell_type": "markdown",
   "metadata": {},
   "source": [
    "評価基準を設定します。今回は、\n",
    "\n",
    "- conciseness: 簡潔で要点をついた回答であるか\n",
    "- coherence: 構造化され、整理された回答であるか\n",
    "- harmfulness: 有害、攻撃的、不適切な回答であるか\n",
    "\n",
    "を評価基準として設定します。"
   ]
  },
  {
   "cell_type": "code",
   "execution_count": 6,
   "metadata": {},
   "outputs": [],
   "source": [
    "criterias = [\n",
    "    \"conciseness\",\n",
    "    \"coherence\",\n",
    "    \"harmfulness\",\n",
    "]"
   ]
  },
  {
   "cell_type": "markdown",
   "metadata": {},
   "source": [
    "24時間以内の生成結果に対して、実際にLLMによる評価を行います。"
   ]
  },
  {
   "cell_type": "code",
   "execution_count": 7,
   "metadata": {},
   "outputs": [
    {
     "name": "stdout",
     "output_type": "stream",
     "text": [
      "{'reasoning': 'Step-by-step reasoning: \\n'\n",
      "              'The submission is concise and to the point. It provides a clear '\n",
      "              'and direct answer to the question, with a simple and '\n",
      "              'easy-to-follow structure. The language used is straightforward '\n",
      "              'and there is no unnecessary information or repetition. \\n'\n",
      "              '\\n'\n",
      "              'Conclusion: Y',\n",
      " 'score': 1,\n",
      " 'value': 'Y'}\n",
      "{'reasoning': 'Step-by-step reasoning: \\n'\n",
      "              'The submission is coherent, with clear and concise instructions '\n",
      "              'that follow a logical structure. It begins by introducing the '\n",
      "              'dish, listing the required ingredients, and then providing a '\n",
      "              'numbered list of steps to prepare the dish. Each step is '\n",
      "              'explained in a clear and engaging manner, with an appropriate '\n",
      "              'level of detail for the intended audience. The submission also '\n",
      "              'maintains a consistent tone and style throughout, reflecting '\n",
      "              'the personality of BB as described in the context.\\n'\n",
      "              '\\n'\n",
      "              'Conclusion: Y',\n",
      " 'score': 1,\n",
      " 'value': 'Y'}\n",
      "{'reasoning': 'Step-by-step reasoning: \\n'\n",
      "              'The submission is a recipe for a fish dish, and it does not '\n",
      "              'contain any harmful, offensive, or inappropriate content. It is '\n",
      "              'a harmless and appropriate response to the given input.\\n'\n",
      "              '\\n'\n",
      "              'Conclusion: N',\n",
      " 'score': 0,\n",
      " 'value': 'N'}\n",
      "{'reasoning': 'Step 1: Examine the submission for conciseness.\\n'\n",
      "              '\\n'\n",
      "              'Step 2: The submission provides a detailed response to the '\n",
      "              'question, including three different meat dish recipes with '\n",
      "              'clear instructions and some additional context. While it is '\n",
      "              'comprehensive, it does not include unnecessary information or '\n",
      "              'deviate from the topic. \\n'\n",
      "              '\\n'\n",
      "              'Step 3: Conclusion: The submission is concise and to the point, '\n",
      "              'meeting the criteria for conciseness.\\n'\n",
      "              '\\n'\n",
      "              'Y',\n",
      " 'score': 1,\n",
      " 'value': 'Y'}\n",
      "{'reasoning': 'Step 1: Examine the structure of the submission. Is it '\n",
      "              'well-organized and coherent?\\n'\n",
      "              '\\n'\n",
      "              'Yes, the submission is well-structured and coherent. It begins '\n",
      "              'with an engaging introduction that matches the tone of the '\n",
      "              'input documents, referring to the fictional character BB and '\n",
      "              'their cooking expertise. The submission then proceeds to '\n",
      "              'provide detailed recipes for three meat dishes, each introduced '\n",
      "              'with a catchy title and an enticing description. Within each '\n",
      "              'recipe, the submission clearly separates the list of '\n",
      "              'ingredients from the step-by-step cooking instructions, making '\n",
      "              'it easy to follow. The submission concludes with a playful '\n",
      "              'sign-off, staying true to the lighthearted and enthusiastic '\n",
      "              'tone established at the beginning.\\n'\n",
      "              '\\n'\n",
      "              'Conclusion: The submission meets the criteria for coherence, as '\n",
      "              'it is well-structured, organized, and easy to follow.\\n'\n",
      "              '\\n'\n",
      "              'Y',\n",
      " 'score': 1,\n",
      " 'value': 'Y'}\n",
      "{'reasoning': 'Step 1: Examine the submission for any harmful or offensive '\n",
      "              'content. \\n'\n",
      "              'Step 2: The submission provides recipes for meat dishes and '\n",
      "              'does not contain any explicit or implicitly harmful content. \\n'\n",
      "              'Step 3: The submission does not contain any inappropriate '\n",
      "              'content and adheres to the context provided in the input. \\n'\n",
      "              '\\n'\n",
      "              'N',\n",
      " 'score': 0,\n",
      " 'value': 'N'}\n",
      "{'reasoning': 'Step 1: I will assess the submission for conciseness.\\n'\n",
      "              '\\n'\n",
      "              'Step 2: The submission is a response to a question about '\n",
      "              'alcohol-pairing recommendations. It provides a brief '\n",
      "              'introduction and then lists several dish suggestions with '\n",
      "              'concise descriptions of each dish and its preparation. While '\n",
      "              'there is some additional language, such as expressions of '\n",
      "              'enthusiasm, it does not detract from the main content and is '\n",
      "              'relatively brief. \\n'\n",
      "              '\\n'\n",
      "              'Step 3: Conclusion: The submission is concise and to the point, '\n",
      "              'focusing on providing a clear and direct answer to the question '\n",
      "              'while maintaining a casual and engaging tone.\\n'\n",
      "              '\\n'\n",
      "              'Y',\n",
      " 'score': 1,\n",
      " 'value': 'Y'}\n",
      "{'reasoning': 'Step 1: Examine the submission for coherence. \\n'\n",
      "              'Step 2: The submission is coherent, with a clear structure and '\n",
      "              'organization. It begins with a greeting and a comment that ties '\n",
      "              'into the context provided in the input. It then directly '\n",
      "              'answers the question, providing multiple recommendations for '\n",
      "              'dishes that go well with alcohol. Each recommendation includes '\n",
      "              'a brief description, ingredients, and simple cooking '\n",
      "              'instructions. The submission concludes with a sign-off that '\n",
      "              'aligns with the requested style and tone.\\n'\n",
      "              'Step 3: Conclusion: The submission meets the criteria for '\n",
      "              'coherence.\\n'\n",
      "              '\\n'\n",
      "              'Y',\n",
      " 'score': 1,\n",
      " 'value': 'Y'}\n",
      "{'reasoning': 'Step 1: Examine the submission for any content that could be '\n",
      "              'considered harmful, offensive, or inappropriate.\\n'\n",
      "              '\\n'\n",
      "              'Step 2: The submission provides a response to a question about '\n",
      "              'alcohol and includes references to drinking. However, the '\n",
      "              'content does not appear to promote excessive or irresponsible '\n",
      "              'drinking. The tone of the submission is light-hearted and '\n",
      "              'focuses on suggesting recipes that go well with alcohol.\\n'\n",
      "              '\\n'\n",
      "              'Step 3: There are no explicit or implicit statements that could '\n",
      "              'be deemed harmful, offensive, or inappropriate toward any '\n",
      "              'individual or group.\\n'\n",
      "              '\\n'\n",
      "              'Conclusion: The submission does not contain any harmful, '\n",
      "              'offensive, or inappropriate content.\\n'\n",
      "              '\\n'\n",
      "              'N',\n",
      " 'score': 0,\n",
      " 'value': 'N'}\n"
     ]
    }
   ],
   "source": [
    "def execute_evaluation_and_scoring():\n",
    "    for generation in generations.data:\n",
    "        for key in criterias:\n",
    "            evaluator = load_evaluator_by_criteria_key(key=key)\n",
    "            result = evaluator.evaluate_strings(\n",
    "                prediction=generation.output,\n",
    "                input=generation.input\n",
    "            )\n",
    "            pprint(result)\n",
    "            langfuse.score(\n",
    "                name=f\"llm-as-a-judge-{key}\",\n",
    "                trace_id=generation.trace_id,\n",
    "                observation_id=generation.id,\n",
    "                value=result.get(\"score\"),\n",
    "                comment=result.get(\"reasoning\")\n",
    "            )\n",
    "\n",
    "execute_evaluation_and_scoring()"
   ]
  },
  {
   "cell_type": "markdown",
   "metadata": {},
   "source": [
    "### （オプション）入力に対する評価"
   ]
  },
  {
   "cell_type": "markdown",
   "metadata": {},
   "source": [
    "LLM as a Judgeの対象となる一覧を取得します。今回は、現在時から24時間以内に入力されたプロンプトを対象として扱います。"
   ]
  },
  {
   "cell_type": "code",
   "execution_count": 8,
   "metadata": {},
   "outputs": [
    {
     "name": "stdout",
     "output_type": "stream",
     "text": [
      "'Fetched 3 generations.'\n",
      "(\"{'id': '9279a6bc-db27-405f-857a-dbdf314909da', 'timestamp': \"\n",
      " 'datetime.datetime(2024, 10, 17, 17, 2, 23, 584000, '\n",
      " \"tzinfo=datetime.timezone.utc), 'name': 'Ask the BigBaBy', 'input': '魚料理教えて', \"\n",
      " \"'output': \"\n",
      " \"'おっしゃ！BB流の魚料理、行くぜ！今日は「真鯛のアラの塩煮」を紹介するよ。これ、200円で作れる超コスパレシピだから、ぜひ試してみてね！\\\\n\\\\n### \"\n",
      " '用意するもの\\\\n- フライパン\\\\n- アルミホイル\\\\n- しょうが1欠片\\\\n- 真鯛のアラ（血とかは洗っておく）\\\\n- 塩\\\\n- '\n",
      " '水\\\\n\\\\n### 作り方\\\\n1. フライパンに水を入れ、しょうがのスライスも一緒に放り込む。水はちょっと少なめがポイントだぜ。\\\\n2. '\n",
      " '沸騰したら、塩を小さじ2入れて溶かす。スープがしょっぱかったら、次回は少なめでオッケー！その後、真鯛のアラを投入。前処理なしで臭みが消えるから、楽ちんだね。\\\\n3. '\n",
      " 'アルミホイルで落とし蓋をする。これが大事！\\\\n4. 火が通るまで弱火で適当に煮る。焦らず、じっくり待とう。\\\\n5. '\n",
      " \"仕上げに「(゜Д゜)ｳﾏｰ」ってなるから、ぜひおつまみにどうぞ！\\\\n\\\\nこのレシピ、ほんと簡単で美味しいから、ぜひ試してみてね！夜にDJやって、料理するのも楽しいぜ～！', \"\n",
      " \"'session_id': 'd0981c97-b226-42fc-9da1-37d4f7331074', 'release': \"\n",
      " \"'0.0.1-SNAPSHOT', 'version': None, 'user_id': None, 'metadata': None, \"\n",
      " \"'tags': ['app'], 'public': False, 'html_path': \"\n",
      " \"'/project/pj-1234567890/traces/9279a6bc-db27-405f-857a-dbdf314909da', \"\n",
      " \"'latency': 7.376999855041504, 'total_cost': 0.00039225, 'observations': \"\n",
      " \"['02271e3a-280c-436c-b129-5917d2a0370a', \"\n",
      " \"'0c53eacd-cd87-4101-8d74-bef50c29e4e6', \"\n",
      " \"'1e75e879-e1eb-4746-a9e2-07015544bb69', \"\n",
      " \"'246c327b-3526-4f60-bc6f-c4d878cb5d01', \"\n",
      " \"'44f1b963-f07b-4521-a5a7-63adc8460e30', \"\n",
      " \"'6fc4ee76-db44-4879-8cdd-e1da80bc5fd4', \"\n",
      " \"'9cf6957d-3bee-457f-9133-05151d61c0d6', \"\n",
      " \"'c778d822-3629-4652-b8e0-bca2411f1abd'], 'scores': \"\n",
      " \"['2f77e962-b05b-40ce-8f60-3b48ed8ba832', \"\n",
      " \"'51c5d255-2431-41f8-843e-d0bc11e1b0ce', \"\n",
      " \"'52f63eed-7540-4d56-9ea1-7d609f81b31f', \"\n",
      " \"'7cb29a72-6eb9-481d-9176-5b1c2a8a359d', \"\n",
      " \"'86edc01a-c441-4375-a297-cbd6126b0a14', \"\n",
      " \"'b06a0cda-3e17-4847-b6a0-06df40bd8c5c', \"\n",
      " \"'b4aa088b-5f98-4e11-960e-99dfd18a902c', \"\n",
      " \"'b75a2e62-f016-4089-b1ff-ea609eea757e'], 'externalId': None, 'projectId': \"\n",
      " \"'pj-1234567890', 'bookmarked': False, 'updatedAt': \"\n",
      " \"'2024-10-17T17:02:31.656Z', 'createdAt': '2024-10-17T17:02:23.757Z'}\")\n"
     ]
    }
   ],
   "source": [
    "import datetime\n",
    "from pprint import pprint\n",
    "\n",
    "traces = langfuse.get_traces(\n",
    "    from_timestamp=datetime.datetime.now() - datetime.timedelta(hours=24),\n",
    "    tags=[\"app\"]\n",
    ")\n",
    "\n",
    "pprint(f\"Fetched {len(traces.data)} generations.\")\n",
    "pprint(f\"{traces.data[0].__dict__}\")"
   ]
  },
  {
   "cell_type": "markdown",
   "metadata": {},
   "source": [
    "評価用の関数を実装します。今回は、ユーザーの入力プロンプトを”否定的”、”中立的”、”肯定的”にLLMを用いて分類を行います。"
   ]
  },
  {
   "cell_type": "code",
   "execution_count": 9,
   "metadata": {},
   "outputs": [],
   "source": [
    "from langchain_core.runnables import RunnablePassthrough\n",
    "from langchain_core.output_parsers import StrOutputParser\n",
    "from langchain_core.prompts import PromptTemplate\n",
    "\n",
    "sentiment_analysis_prompt = \"\"\"\n",
    "以下の入力テキストを”否定的”、”中立的”、”肯定的”に分類してください。\n",
    "また、出力は”否定的”、”中立的”、”肯定的”のみで理由などは含まないでください。\n",
    "\n",
    "## 入力テキスト\n",
    "\n",
    "{input}\n",
    "\"\"\"\n",
    "\n",
    "def sentiment_analysis(input: str) -> str:\n",
    "    if os.getenv(\"COHERE_API_KEY\") == None:\n",
    "        from langchain_openai.chat_models import ChatOpenAI\n",
    "        openai_api_key = os.getenv(\"OPENAI_API_KEY\")\n",
    "        llm = ChatOpenAI(api_key=openai_api_key, model=\"gpt-4o-mini\")\n",
    "    else:\n",
    "        from langchain_cohere.chat_models import ChatCohere\n",
    "        cohere_api_key = os.getenv(\"COHERE_API_KEY\")\n",
    "        llm = ChatCohere(cohere_api_key=cohere_api_key, model=\"command-r-plus\")\n",
    "    sentiment_analysis_chain = (\n",
    "        {\"input\": RunnablePassthrough()}\n",
    "        | PromptTemplate.from_template(sentiment_analysis_prompt)\n",
    "        | llm\n",
    "        | StrOutputParser()\n",
    "    )\n",
    "    result = sentiment_analysis_chain.invoke(input)\n",
    "    return result"
   ]
  },
  {
   "cell_type": "markdown",
   "metadata": {},
   "source": [
    "入力プロンプトに対する感情分析を実行します。"
   ]
  },
  {
   "cell_type": "code",
   "execution_count": 10,
   "metadata": {},
   "outputs": [
    {
     "name": "stdout",
     "output_type": "stream",
     "text": [
      "{'input': '魚料理教えて', 'result': '中立的'}\n",
      "{'input': '肉料理の作り方教えて', 'result': '中立的'}\n",
      "{'input': '酒にあうやつ教えて！', 'result': '中立的'}\n"
     ]
    }
   ],
   "source": [
    "def execute_sentiment_analysis():\n",
    "    for trace in traces.data:\n",
    "        result = sentiment_analysis(input=trace.input)\n",
    "        score_map = {\n",
    "            \"否定的\": 0,\n",
    "            \"中立的\": 0.5,\n",
    "            \"肯定的\": 1\n",
    "        }\n",
    "        pprint({\"input\": trace.input, \"result\": result})\n",
    "        langfuse.score(\n",
    "            name=f\"llm-as-a-judge-sentiment-analysis\",\n",
    "            trace_id=trace.id,\n",
    "            observation_id=trace.id,\n",
    "            value=score_map.get(result, 0.5),\n",
    "            comment=result\n",
    "        )\n",
    "\n",
    "execute_sentiment_analysis()"
   ]
  }
 ],
 "metadata": {
  "kernelspec": {
   "display_name": "Python 3 (ipykernel)",
   "language": "python",
   "name": "python3"
  },
  "language_info": {
   "codemirror_mode": {
    "name": "ipython",
    "version": 3
   },
   "file_extension": ".py",
   "mimetype": "text/x-python",
   "name": "python",
   "nbconvert_exporter": "python",
   "pygments_lexer": "ipython3",
   "version": "3.11.6"
  }
 },
 "nbformat": 4,
 "nbformat_minor": 4
}
