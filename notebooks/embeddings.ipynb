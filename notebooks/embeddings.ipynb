{
 "cells": [
  {
   "cell_type": "markdown",
   "metadata": {},
   "source": [
    "## 埋込モデル"
   ]
  },
  {
   "cell_type": "markdown",
   "metadata": {},
   "source": []
  },
  {
   "cell_type": "markdown",
   "metadata": {},
   "source": [
    "### 必要なライブラリのインストール"
   ]
  },
  {
   "cell_type": "code",
   "execution_count": null,
   "metadata": {},
   "outputs": [],
   "source": [
    "%pip install -r ../requirements.txt"
   ]
  },
  {
   "cell_type": "markdown",
   "metadata": {},
   "source": [
    "### 環境変数の設定"
   ]
  },
  {
   "cell_type": "code",
   "execution_count": 1,
   "metadata": {},
   "outputs": [
    {
     "data": {
      "text/plain": [
       "True"
      ]
     },
     "execution_count": 1,
     "metadata": {},
     "output_type": "execute_result"
    }
   ],
   "source": [
    "from dotenv import load_dotenv\n",
    "\n",
    "load_dotenv(\"../.env\")"
   ]
  },
  {
   "cell_type": "markdown",
   "metadata": {},
   "source": [
    "### 埋め込みモデル\n"
   ]
  },
  {
   "cell_type": "code",
   "execution_count": 3,
   "metadata": {},
   "outputs": [],
   "source": [
    "from langchain_cohere import CohereEmbeddings\n",
    "\n",
    "embeddings = CohereEmbeddings(\n",
    "    model=\"embed-multilingual-v3.0\"\n",
    ")"
   ]
  },
  {
   "cell_type": "markdown",
   "metadata": {},
   "source": [
    "### Document Loader\n",
    "\n",
    "`../docs/*.txt` に格納されているテキストデータを読み込み、LangChain の Document へ変換します。"
   ]
  },
  {
   "cell_type": "code",
   "execution_count": 4,
   "metadata": {},
   "outputs": [],
   "source": [
    "import glob\n",
    "from langchain.document_loaders import TextLoader\n",
    "\n",
    "files = glob.glob(\"../docs/*.txt\")\n",
    "documents = []\n",
    "\n",
    "for file in files:\n",
    "    loader = TextLoader(file_path=file)\n",
    "    document = loader.load()\n",
    "    documents.extend(document)"
   ]
  },
  {
   "cell_type": "markdown",
   "metadata": {},
   "source": [
    "### Vector Store"
   ]
  },
  {
   "cell_type": "code",
   "execution_count": 5,
   "metadata": {},
   "outputs": [
    {
     "data": {
      "text/plain": [
       "['9bd3f14e-b51e-4077-a8d2-87bc3cdc6053',\n",
       " '6de8a8aa-5927-4bac-aebc-ba5fdd12c6f8']"
      ]
     },
     "execution_count": 5,
     "metadata": {},
     "output_type": "execute_result"
    }
   ],
   "source": [
    "import faiss\n",
    "from langchain_community.docstore.in_memory import InMemoryDocstore\n",
    "from langchain_community.vectorstores import FAISS\n",
    "\n",
    "index = faiss.IndexFlatL2(len(embeddings.embed_query(\"hello world\")))\n",
    "\n",
    "vector_store = FAISS(\n",
    "    embedding_function=embeddings,\n",
    "    index=index,\n",
    "    docstore=InMemoryDocstore(),\n",
    "    index_to_docstore_id={},\n",
    ")\n",
    "\n",
    "vector_store.add_documents(documents=documents)"
   ]
  },
  {
   "cell_type": "markdown",
   "metadata": {},
   "source": [
    "自然言語を用いた類似度検索を行います。"
   ]
  },
  {
   "cell_type": "code",
   "execution_count": 8,
   "metadata": {},
   "outputs": [
    {
     "data": {
      "text/plain": [
       "[Document(metadata={'source': '../docs/karubikuppa.txt'}, page_content='BB流カルビクッパの作り方です。\\n\\nまずは、以下の材料を用意します。なお、材料は2人分です。\\n\\n- 牛肉: 50g\\n- 大根: 半分\\n- 人参: 1本\\n- シイタケ: 2-3個\\n- ニンニク: 半分\\n- もやし: 1袋\\n- ニラ: 半分\\n- ぜんまい: 40g\\n    - BB流ポイント 「入れなくても良いですが、入れると@<ttb>{めちゃ旨}です！」\\n- つゆ (*)\\n    - 水: 800cc\\n    - コチュジャン: 大さじ2\\n        - BB流ポイント「入れれば入れるだけ美味しい！」\\n    - ウェイパー: 大さじ2\\n    - ごま油: 大さじ2\\n        - BB流ポイント「入れれば入れるだけ美味しい！」\\n    - 酒: 大さじ2\\n    - 醤油: 大さじ2\\n    - 砂糖: 大さじ2\\n- 塩コショウ:適量\\n- 卵: 2個\\n\\nごま油でニンニクを炒め、香りが出たら牛肉を炒めます。つゆ（*）をいれ、ニラともやし以外を入れてひと煮立ちさせます。\\n最後にニラともやしを入れてある程度シャキシャキ感を残しつつ、卵をふんわりさせたらBB流カルビクッパの完成です！\\nなお、卵をふんわりさせるコツはつゆを限界まで沸騰させることです！\\n'),\n",
       " Document(metadata={'source': '../docs/kinoko-marine.txt'}, page_content='BB流きのこマリネの作り方です。\\n\\nまずは、以下の材料を用意します。なお、材料は2人分です。\\n\\n- お好きなきのこ\\n    - 複数種類用意するととても美味しいです\\n    - BB的には、エリンギ、椎茸、マッシュルーム、しめじ、舞茸、平茸などがおすすめです\\n- バター（無塩）: 10g\\n- にんにく: 1個\\n- マリネ用のたれ (*)\\n    - マスタード: 大さじ2\\n    - 白ワインビネガー: 大さじ1~2\\n    - ケッパー: 15粒程度\\n- パセリ: お好きな方はたくさん\\n\\nフライパンにオリーブオイルをひき、強火できのこを炒めます。ある程度炒まったらちょっと効き過ぎなんじゃないの？ってくらい塩を加えます。\\n火を弱め、きのこをフライパンの端によせ、バターとにんにくを入れ、香りを立たせます。\\nあらかじめ合わせておいたマリネ用のタレと合わせたら完成です！\\nぜひ、お酒と合わせて嗜んでください！白ワイン、ビール、ハイボールとお酒泥棒になること間違いなしでしょう。\\n')]"
      ]
     },
     "execution_count": 8,
     "metadata": {},
     "output_type": "execute_result"
    }
   ],
   "source": [
    "result = vector_store.similarity_search(query=\"カルビクッパ\")\n",
    "result"
   ]
  },
  {
   "cell_type": "markdown",
   "metadata": {},
   "source": [
    "### Retriever"
   ]
  },
  {
   "cell_type": "code",
   "execution_count": 9,
   "metadata": {},
   "outputs": [
    {
     "data": {
      "text/plain": [
       "VectorStoreRetriever(tags=['FAISS', 'CohereEmbeddings'], vectorstore=<langchain_community.vectorstores.faiss.FAISS object at 0x7f95005a2de0>)"
      ]
     },
     "execution_count": 9,
     "metadata": {},
     "output_type": "execute_result"
    }
   ],
   "source": [
    "retriever = vector_store.as_retriever()\n",
    "retriever"
   ]
  },
  {
   "cell_type": "markdown",
   "metadata": {},
   "source": [
    "### シンプルなRAGを用いたアプリケーション"
   ]
  },
  {
   "cell_type": "code",
   "execution_count": 10,
   "metadata": {},
   "outputs": [
    {
     "name": "stdout",
     "output_type": "stream",
     "text": [
      "BB流カルビクッパの作り方は、まずごま油でニンニクを炒め、香りが出たら牛肉を炒めます。つゆ（水、コチュジャン、ウェイパー、ごま油、酒、醤油、砂糖を混ぜたもの）を入れ、細かく切った野菜（大根、人参、シイタケ、ニラ、もやし）とぜんまいを加えます。最後にニラともやしを入れてシャキシャキ感を残しつつ、卵をふんわりとさせたら完成です。卵をふんわりさせるコツは、つゆを限界まで沸騰させることです。"
     ]
    }
   ],
   "source": [
    "from langchain_core.runnables import RunnablePassthrough\n",
    "from langchain_core.output_parsers import StrOutputParser\n",
    "from langchain_core.prompts import PromptTemplate\n",
    "\n",
    "from langchain_cohere.chat_models import ChatCohere\n",
    "\n",
    "chat = ChatCohere(\n",
    "    model=\"command-r-plus\"\n",
    ")\n",
    "retriever = vector_store.as_retriever()\n",
    "\n",
    "prompt_template = PromptTemplate.from_template(template=\"\"\"\n",
    "以下のコンテキストに基づいて質問に対する回答を作成してください。\n",
    "\n",
    "## コンテキスト\n",
    "\n",
    "{context}\n",
    "\n",
    "## 質問\n",
    "\n",
    "{question}\n",
    "\"\"\")\n",
    "\n",
    "chain = (\n",
    "    {\"question\": RunnablePassthrough(), \"context\": retriever}\n",
    "    | prompt_template\n",
    "    | chat\n",
    "    | StrOutputParser()\n",
    ")\n",
    "\n",
    "response = chain.stream(\"カルビクッパってどうやって作るのでしょうか？\")\n",
    "\n",
    "for chunk in response:\n",
    "    print(chunk, end=\"\")"
   ]
  }
 ],
 "metadata": {
  "kernelspec": {
   "display_name": "venv",
   "language": "python",
   "name": "python3"
  },
  "language_info": {
   "codemirror_mode": {
    "name": "ipython",
    "version": 3
   },
   "file_extension": ".py",
   "mimetype": "text/x-python",
   "name": "python",
   "nbconvert_exporter": "python",
   "pygments_lexer": "ipython3",
   "version": "3.12.6"
  }
 },
 "nbformat": 4,
 "nbformat_minor": 2
}
