{
 "cells": [
  {
   "cell_type": "markdown",
   "metadata": {},
   "source": [
    "## プロンプト管理"
   ]
  },
  {
   "cell_type": "markdown",
   "metadata": {},
   "source": [
    "必要なライブラリをダウンロードします。"
   ]
  },
  {
   "cell_type": "code",
   "execution_count": null,
   "metadata": {},
   "outputs": [],
   "source": [
    "%pip install -r ../requirements.txt"
   ]
  },
  {
   "cell_type": "markdown",
   "metadata": {},
   "source": [
    "実行に必要な環境変数を読み込みます。"
   ]
  },
  {
   "cell_type": "code",
   "execution_count": 2,
   "metadata": {},
   "outputs": [],
   "source": [
    "import os, warnings\n",
    "\n",
    "# おまじない\n",
    "warnings.filterwarnings(\"ignore\")\n",
    "\n",
    "endpoint = \"http://localhost:3000\"\n",
    "public_key = os.getenv(\"PUBLIC_KEY\")\n",
    "secret_key = os.getenv(\"SECRET_KEY\")"
   ]
  },
  {
   "cell_type": "markdown",
   "metadata": {},
   "source": [
    "SDKからプロンプトを作成します。"
   ]
  },
  {
   "cell_type": "code",
   "execution_count": 3,
   "metadata": {},
   "outputs": [],
   "source": [
    "from langfuse import Langfuse\n",
    "\n",
    "langfuse = Langfuse(\n",
    "    public_key=public_key,\n",
    "    secret_key=secret_key,\n",
    "    host=endpoint\n",
    ")"
   ]
  },
  {
   "cell_type": "code",
   "execution_count": 4,
   "metadata": {},
   "outputs": [
    {
     "data": {
      "text/plain": [
       "<langfuse.model.TextPromptClient at 0x7e5f016352b0>"
      ]
     },
     "execution_count": 4,
     "metadata": {},
     "output_type": "execute_result"
    }
   ],
   "source": [
    "\n",
    "langfuse.create_prompt(\n",
    "    name=\"test-sdk\",\n",
    "    type=\"text\",\n",
    "    prompt=\"{{topic}}について教えて\",\n",
    "    labels=[\"sdk\"],\n",
    "    config={},\n",
    ")"
   ]
  },
  {
   "cell_type": "markdown",
   "metadata": {},
   "source": [
    "SDKからプロンプトを更新します。"
   ]
  },
  {
   "cell_type": "code",
   "execution_count": 5,
   "metadata": {},
   "outputs": [
    {
     "data": {
      "text/plain": [
       "<langfuse.model.TextPromptClient at 0x7e5f00fe9940>"
      ]
     },
     "execution_count": 5,
     "metadata": {},
     "output_type": "execute_result"
    }
   ],
   "source": [
    "langfuse.create_prompt(\n",
    "    name=\"test-sdk\",\n",
    "    type=\"text\",\n",
    "    prompt=\"簡潔に{{topic}}について教えて\",\n",
    "    labels=[\"sdk\"],\n",
    "    config={},\n",
    ")"
   ]
  },
  {
   "cell_type": "markdown",
   "metadata": {},
   "source": [
    "SDKからプロンプトを利用するために `production` ラベルを付与します。"
   ]
  },
  {
   "cell_type": "code",
   "execution_count": 6,
   "metadata": {},
   "outputs": [
    {
     "data": {
      "text/plain": [
       "<langfuse.model.TextPromptClient at 0x7e5f00febf20>"
      ]
     },
     "execution_count": 6,
     "metadata": {},
     "output_type": "execute_result"
    }
   ],
   "source": [
    "langfuse.create_prompt(\n",
    "    name=\"test-sdk\",\n",
    "    type=\"text\",\n",
    "    prompt=\"簡潔に{{topic}}について教えて\",\n",
    "    labels=[\"sdk\", \"production\"],\n",
    "    config={},\n",
    ")"
   ]
  },
  {
   "cell_type": "markdown",
   "metadata": {},
   "source": [
    "SDKからプロンプトを利用します。"
   ]
  },
  {
   "cell_type": "code",
   "execution_count": 7,
   "metadata": {},
   "outputs": [
    {
     "name": "stdout",
     "output_type": "stream",
     "text": [
      "簡潔に{{topic}}について教えて\n"
     ]
    }
   ],
   "source": [
    "prompt = langfuse.get_prompt(\n",
    "    name=\"test-sdk\"\n",
    ")\n",
    "\n",
    "print(prompt.prompt)"
   ]
  },
  {
   "cell_type": "markdown",
   "metadata": {},
   "source": [
    "変数に値を埋め込みます。"
   ]
  },
  {
   "cell_type": "code",
   "execution_count": 8,
   "metadata": {},
   "outputs": [
    {
     "data": {
      "text/plain": [
       "'簡潔にカルビクッパについて教えて'"
      ]
     },
     "execution_count": 8,
     "metadata": {},
     "output_type": "execute_result"
    }
   ],
   "source": [
    "prompt.compile(topic=\"カルビクッパ\")"
   ]
  },
  {
   "cell_type": "markdown",
   "metadata": {},
   "source": [
    "LangChainのPromptTemplateとして使うための関数も用意されています。"
   ]
  },
  {
   "cell_type": "code",
   "execution_count": 9,
   "metadata": {},
   "outputs": [
    {
     "data": {
      "text/plain": [
       "'簡潔に{topic}について教えて'"
      ]
     },
     "execution_count": 9,
     "metadata": {},
     "output_type": "execute_result"
    }
   ],
   "source": [
    "prompt.get_langchain_prompt()"
   ]
  },
  {
   "cell_type": "markdown",
   "metadata": {},
   "source": [
    "（オプション）プロンプトとトレースを紐づける"
   ]
  },
  {
   "cell_type": "code",
   "execution_count": 10,
   "metadata": {},
   "outputs": [
    {
     "data": {
      "text/plain": [
       "AIMessage(content='お茶漬けは、ご飯に茶をかけた日本の伝統的な料理です。お茶は通常、緑茶や番茶が使われます。お好みで、様々な具材を乗せることができ、人気の具材としては、梅干し、鮭、たらこ、昆布などがあります。お茶漬けは、簡単に作れて、さっぱりとした味わいから、日本人のソウルフードとして愛されています。', additional_kwargs={'documents': None, 'citations': None, 'search_results': None, 'search_queries': None, 'is_search_required': None, 'generation_id': '99183a56-d412-4af9-b320-569464561e03', 'token_count': {'input_tokens': 208.0, 'output_tokens': 101.0}}, response_metadata={'documents': None, 'citations': None, 'search_results': None, 'search_queries': None, 'is_search_required': None, 'generation_id': '99183a56-d412-4af9-b320-569464561e03', 'token_count': {'input_tokens': 208.0, 'output_tokens': 101.0}}, id='run-89163564-155f-4b15-ad27-66f8d23dfae0-0', usage_metadata={'input_tokens': 208, 'output_tokens': 101, 'total_tokens': 309})"
      ]
     },
     "execution_count": 10,
     "metadata": {},
     "output_type": "execute_result"
    }
   ],
   "source": [
    "from langchain_core.prompts import PromptTemplate\n",
    "from langchain_core.output_parsers import StrOutputParser\n",
    "from langchain_core.runnables import RunnablePassthrough\n",
    "from langfuse.decorators import observe, langfuse_context\n",
    "from langfuse.model import ModelUsage\n",
    "\n",
    "@observe(as_type=\"generation\")\n",
    "def ask_the_bigbaby(query: str):\n",
    "    if os.getenv(\"OPENAPI_API_KEY\") == None:\n",
    "        from langchain_cohere.chat_models import ChatCohere\n",
    "        cohere_api_key = os.getenv(\"COHERE_API_KEY\")\n",
    "        model = \"command-r-plus\"\n",
    "        chat = ChatCohere(cohere_api_key=cohere_api_key, model=model)\n",
    "    else:\n",
    "        from langchain_openai.chat_models import ChatOpenAI\n",
    "        openai_api_key = os.getenv(\"OPENAI_API_KEY\")\n",
    "        model = \"gpt-4o-mini\"\n",
    "        chat = ChatOpenAI(api_key=openai_api_key, model=model)\n",
    "    langfuse_managed_prompt = langfuse.get_prompt(name=\"test-sdk\", version=3)\n",
    "    \n",
    "    chain = (\n",
    "        {\"topic\": RunnablePassthrough()} |\n",
    "        PromptTemplate.from_template(template=langfuse_managed_prompt.get_langchain_prompt()) |\n",
    "        chat\n",
    "    )\n",
    "    response = chain.invoke(query)\n",
    "    langfuse_context.update_current_observation(\n",
    "        prompt=langfuse_managed_prompt,\n",
    "        model=model\n",
    "    )\n",
    "    return response\n",
    "\n",
    "langfuse_context.configure(\n",
    "    public_key=public_key,\n",
    "    secret_key=secret_key,\n",
    "    host=endpoint\n",
    ")\n",
    "ask_the_bigbaby(\"お茶漬け\")"
   ]
  }
 ],
 "metadata": {
  "kernelspec": {
   "display_name": ".venv",
   "language": "python",
   "name": "python3"
  },
  "language_info": {
   "codemirror_mode": {
    "name": "ipython",
    "version": 3
   },
   "file_extension": ".py",
   "mimetype": "text/x-python",
   "name": "python",
   "nbconvert_exporter": "python",
   "pygments_lexer": "ipython3",
   "version": "3.12.5"
  }
 },
 "nbformat": 4,
 "nbformat_minor": 2
}
