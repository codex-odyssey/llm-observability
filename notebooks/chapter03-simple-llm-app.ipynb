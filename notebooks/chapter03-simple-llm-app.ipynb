{
 "cells": [
  {
   "cell_type": "markdown",
   "metadata": {},
   "source": [
    "## シンプルなLLMアプリケーション"
   ]
  },
  {
   "cell_type": "markdown",
   "metadata": {},
   "source": [
    "### 準備\n",
    "\n",
    "必要なライブラリのインストール"
   ]
  },
  {
   "cell_type": "code",
   "execution_count": 102,
   "metadata": {},
   "outputs": [
    {
     "name": "stdout",
     "output_type": "stream",
     "text": [
      "Requirement already satisfied: aiohappyeyeballs==2.4.0 in /data/ghq/github.com/codex-odyssey/llm-observability/venv/lib/python3.12/site-packages (from -r ../requirements.txt (line 1)) (2.4.0)\n",
      "Requirement already satisfied: aiohttp==3.10.5 in /data/ghq/github.com/codex-odyssey/llm-observability/venv/lib/python3.12/site-packages (from -r ../requirements.txt (line 2)) (3.10.5)\n",
      "Requirement already satisfied: aiosignal==1.3.1 in /data/ghq/github.com/codex-odyssey/llm-observability/venv/lib/python3.12/site-packages (from -r ../requirements.txt (line 3)) (1.3.1)\n",
      "Requirement already satisfied: altair==5.4.1 in /data/ghq/github.com/codex-odyssey/llm-observability/venv/lib/python3.12/site-packages (from -r ../requirements.txt (line 4)) (5.4.1)\n",
      "Requirement already satisfied: annotated-types==0.7.0 in /data/ghq/github.com/codex-odyssey/llm-observability/venv/lib/python3.12/site-packages (from -r ../requirements.txt (line 5)) (0.7.0)\n",
      "Requirement already satisfied: anyio==4.4.0 in /data/ghq/github.com/codex-odyssey/llm-observability/venv/lib/python3.12/site-packages (from -r ../requirements.txt (line 6)) (4.4.0)\n",
      "Requirement already satisfied: asttokens==2.4.1 in /data/ghq/github.com/codex-odyssey/llm-observability/venv/lib/python3.12/site-packages (from -r ../requirements.txt (line 7)) (2.4.1)\n",
      "Requirement already satisfied: attrs==24.2.0 in /data/ghq/github.com/codex-odyssey/llm-observability/venv/lib/python3.12/site-packages (from -r ../requirements.txt (line 8)) (24.2.0)\n",
      "Requirement already satisfied: backoff==2.2.1 in /data/ghq/github.com/codex-odyssey/llm-observability/venv/lib/python3.12/site-packages (from -r ../requirements.txt (line 9)) (2.2.1)\n",
      "Requirement already satisfied: blinker==1.8.2 in /data/ghq/github.com/codex-odyssey/llm-observability/venv/lib/python3.12/site-packages (from -r ../requirements.txt (line 10)) (1.8.2)\n",
      "Requirement already satisfied: boto3==1.35.10 in /data/ghq/github.com/codex-odyssey/llm-observability/venv/lib/python3.12/site-packages (from -r ../requirements.txt (line 11)) (1.35.10)\n",
      "Requirement already satisfied: botocore==1.35.10 in /data/ghq/github.com/codex-odyssey/llm-observability/venv/lib/python3.12/site-packages (from -r ../requirements.txt (line 12)) (1.35.10)\n",
      "Requirement already satisfied: bs4==0.0.2 in /data/ghq/github.com/codex-odyssey/llm-observability/venv/lib/python3.12/site-packages (from -r ../requirements.txt (line 13)) (0.0.2)\n",
      "Requirement already satisfied: cachetools==5.5.0 in /data/ghq/github.com/codex-odyssey/llm-observability/venv/lib/python3.12/site-packages (from -r ../requirements.txt (line 14)) (5.5.0)\n",
      "Requirement already satisfied: certifi==2024.8.30 in /data/ghq/github.com/codex-odyssey/llm-observability/venv/lib/python3.12/site-packages (from -r ../requirements.txt (line 15)) (2024.8.30)\n",
      "Requirement already satisfied: charset-normalizer==3.3.2 in /data/ghq/github.com/codex-odyssey/llm-observability/venv/lib/python3.12/site-packages (from -r ../requirements.txt (line 16)) (3.3.2)\n",
      "Requirement already satisfied: click==8.1.7 in /data/ghq/github.com/codex-odyssey/llm-observability/venv/lib/python3.12/site-packages (from -r ../requirements.txt (line 17)) (8.1.7)\n",
      "Requirement already satisfied: cohere==5.9.0 in /data/ghq/github.com/codex-odyssey/llm-observability/venv/lib/python3.12/site-packages (from -r ../requirements.txt (line 18)) (5.9.0)\n",
      "Requirement already satisfied: comm==0.2.2 in /data/ghq/github.com/codex-odyssey/llm-observability/venv/lib/python3.12/site-packages (from -r ../requirements.txt (line 19)) (0.2.2)\n",
      "Requirement already satisfied: dataclasses-json==0.6.7 in /data/ghq/github.com/codex-odyssey/llm-observability/venv/lib/python3.12/site-packages (from -r ../requirements.txt (line 20)) (0.6.7)\n",
      "Requirement already satisfied: debugpy==1.8.5 in /data/ghq/github.com/codex-odyssey/llm-observability/venv/lib/python3.12/site-packages (from -r ../requirements.txt (line 21)) (1.8.5)\n",
      "Requirement already satisfied: decorator==5.1.1 in /data/ghq/github.com/codex-odyssey/llm-observability/venv/lib/python3.12/site-packages (from -r ../requirements.txt (line 22)) (5.1.1)\n",
      "Collecting defusedxml==0.7.1 (from -r ../requirements.txt (line 23))\n",
      "  Using cached defusedxml-0.7.1-py2.py3-none-any.whl.metadata (32 kB)\n",
      "Requirement already satisfied: distro==1.9.0 in /data/ghq/github.com/codex-odyssey/llm-observability/venv/lib/python3.12/site-packages (from -r ../requirements.txt (line 24)) (1.9.0)\n",
      "Requirement already satisfied: executing==2.1.0 in /data/ghq/github.com/codex-odyssey/llm-observability/venv/lib/python3.12/site-packages (from -r ../requirements.txt (line 25)) (2.1.0)\n",
      "Requirement already satisfied: faiss-cpu==1.8.0.post1 in /data/ghq/github.com/codex-odyssey/llm-observability/venv/lib/python3.12/site-packages (from -r ../requirements.txt (line 26)) (1.8.0.post1)\n",
      "Requirement already satisfied: fastavro==1.9.5 in /data/ghq/github.com/codex-odyssey/llm-observability/venv/lib/python3.12/site-packages (from -r ../requirements.txt (line 27)) (1.9.5)\n",
      "Requirement already satisfied: filelock==3.15.4 in /data/ghq/github.com/codex-odyssey/llm-observability/venv/lib/python3.12/site-packages (from -r ../requirements.txt (line 28)) (3.15.4)\n",
      "Requirement already satisfied: frozenlist==1.4.1 in /data/ghq/github.com/codex-odyssey/llm-observability/venv/lib/python3.12/site-packages (from -r ../requirements.txt (line 29)) (1.4.1)\n",
      "Requirement already satisfied: fsspec==2024.6.1 in /data/ghq/github.com/codex-odyssey/llm-observability/venv/lib/python3.12/site-packages (from -r ../requirements.txt (line 30)) (2024.6.1)\n",
      "Requirement already satisfied: gitdb==4.0.11 in /data/ghq/github.com/codex-odyssey/llm-observability/venv/lib/python3.12/site-packages (from -r ../requirements.txt (line 31)) (4.0.11)\n",
      "Requirement already satisfied: GitPython==3.1.43 in /data/ghq/github.com/codex-odyssey/llm-observability/venv/lib/python3.12/site-packages (from -r ../requirements.txt (line 32)) (3.1.43)\n",
      "Requirement already satisfied: greenlet==3.0.3 in /data/ghq/github.com/codex-odyssey/llm-observability/venv/lib/python3.12/site-packages (from -r ../requirements.txt (line 33)) (3.0.3)\n",
      "Requirement already satisfied: h11==0.14.0 in /data/ghq/github.com/codex-odyssey/llm-observability/venv/lib/python3.12/site-packages (from -r ../requirements.txt (line 34)) (0.14.0)\n",
      "Requirement already satisfied: httpcore==1.0.5 in /data/ghq/github.com/codex-odyssey/llm-observability/venv/lib/python3.12/site-packages (from -r ../requirements.txt (line 35)) (1.0.5)\n",
      "Requirement already satisfied: httpx==0.27.2 in /data/ghq/github.com/codex-odyssey/llm-observability/venv/lib/python3.12/site-packages (from -r ../requirements.txt (line 36)) (0.27.2)\n",
      "Requirement already satisfied: httpx-sse==0.4.0 in /data/ghq/github.com/codex-odyssey/llm-observability/venv/lib/python3.12/site-packages (from -r ../requirements.txt (line 37)) (0.4.0)\n",
      "Requirement already satisfied: huggingface-hub==0.24.6 in /data/ghq/github.com/codex-odyssey/llm-observability/venv/lib/python3.12/site-packages (from -r ../requirements.txt (line 38)) (0.24.6)\n",
      "Requirement already satisfied: idna==3.8 in /data/ghq/github.com/codex-odyssey/llm-observability/venv/lib/python3.12/site-packages (from -r ../requirements.txt (line 39)) (3.8)\n",
      "Requirement already satisfied: ipykernel==6.29.5 in /data/ghq/github.com/codex-odyssey/llm-observability/venv/lib/python3.12/site-packages (from -r ../requirements.txt (line 40)) (6.29.5)\n",
      "Requirement already satisfied: ipython==8.27.0 in /data/ghq/github.com/codex-odyssey/llm-observability/venv/lib/python3.12/site-packages (from -r ../requirements.txt (line 41)) (8.27.0)\n",
      "Requirement already satisfied: jedi==0.19.1 in /data/ghq/github.com/codex-odyssey/llm-observability/venv/lib/python3.12/site-packages (from -r ../requirements.txt (line 42)) (0.19.1)\n",
      "Requirement already satisfied: Jinja2==3.1.4 in /data/ghq/github.com/codex-odyssey/llm-observability/venv/lib/python3.12/site-packages (from -r ../requirements.txt (line 43)) (3.1.4)\n",
      "Requirement already satisfied: jiter==0.5.0 in /data/ghq/github.com/codex-odyssey/llm-observability/venv/lib/python3.12/site-packages (from -r ../requirements.txt (line 44)) (0.5.0)\n",
      "Requirement already satisfied: jmespath==1.0.1 in /data/ghq/github.com/codex-odyssey/llm-observability/venv/lib/python3.12/site-packages (from -r ../requirements.txt (line 45)) (1.0.1)\n",
      "Requirement already satisfied: jsonpatch==1.33 in /data/ghq/github.com/codex-odyssey/llm-observability/venv/lib/python3.12/site-packages (from -r ../requirements.txt (line 46)) (1.33)\n",
      "Requirement already satisfied: jsonpointer==3.0.0 in /data/ghq/github.com/codex-odyssey/llm-observability/venv/lib/python3.12/site-packages (from -r ../requirements.txt (line 47)) (3.0.0)\n",
      "Requirement already satisfied: jsonschema==4.23.0 in /data/ghq/github.com/codex-odyssey/llm-observability/venv/lib/python3.12/site-packages (from -r ../requirements.txt (line 48)) (4.23.0)\n",
      "Requirement already satisfied: jsonschema-specifications==2023.12.1 in /data/ghq/github.com/codex-odyssey/llm-observability/venv/lib/python3.12/site-packages (from -r ../requirements.txt (line 49)) (2023.12.1)\n",
      "Requirement already satisfied: jupyter_client==8.6.2 in /data/ghq/github.com/codex-odyssey/llm-observability/venv/lib/python3.12/site-packages (from -r ../requirements.txt (line 50)) (8.6.2)\n",
      "Requirement already satisfied: jupyter_core==5.7.2 in /data/ghq/github.com/codex-odyssey/llm-observability/venv/lib/python3.12/site-packages (from -r ../requirements.txt (line 51)) (5.7.2)\n",
      "Requirement already satisfied: langchain==0.3.1 in /data/ghq/github.com/codex-odyssey/llm-observability/venv/lib/python3.12/site-packages (from -r ../requirements.txt (line 52)) (0.3.1)\n",
      "Requirement already satisfied: langchain-cohere==0.3.0 in /data/ghq/github.com/codex-odyssey/llm-observability/venv/lib/python3.12/site-packages (from -r ../requirements.txt (line 53)) (0.3.0)\n",
      "Requirement already satisfied: langchain-community==0.3.1 in /data/ghq/github.com/codex-odyssey/llm-observability/venv/lib/python3.12/site-packages (from -r ../requirements.txt (line 54)) (0.3.1)\n",
      "Requirement already satisfied: langchain-core==0.3.6 in /data/ghq/github.com/codex-odyssey/llm-observability/venv/lib/python3.12/site-packages (from -r ../requirements.txt (line 55)) (0.3.6)\n",
      "Requirement already satisfied: langchain-experimental==0.3.1.post1 in /data/ghq/github.com/codex-odyssey/llm-observability/venv/lib/python3.12/site-packages (from -r ../requirements.txt (line 56)) (0.3.1.post1)\n",
      "Requirement already satisfied: langchain-openai==0.2.1 in /data/ghq/github.com/codex-odyssey/llm-observability/venv/lib/python3.12/site-packages (from -r ../requirements.txt (line 57)) (0.2.1)\n",
      "Requirement already satisfied: langchain-text-splitters==0.3.0 in /data/ghq/github.com/codex-odyssey/llm-observability/venv/lib/python3.12/site-packages (from -r ../requirements.txt (line 58)) (0.3.0)\n",
      "Requirement already satisfied: langfuse==2.45.2 in /data/ghq/github.com/codex-odyssey/llm-observability/venv/lib/python3.12/site-packages (from -r ../requirements.txt (line 59)) (2.45.2)\n",
      "Requirement already satisfied: langgraph==0.2.32 in /data/ghq/github.com/codex-odyssey/llm-observability/venv/lib/python3.12/site-packages (from -r ../requirements.txt (line 60)) (0.2.32)\n",
      "Requirement already satisfied: langsmith==0.1.125 in /data/ghq/github.com/codex-odyssey/llm-observability/venv/lib/python3.12/site-packages (from -r ../requirements.txt (line 61)) (0.1.125)\n",
      "Requirement already satisfied: markdown-it-py==3.0.0 in /data/ghq/github.com/codex-odyssey/llm-observability/venv/lib/python3.12/site-packages (from -r ../requirements.txt (line 62)) (3.0.0)\n",
      "Requirement already satisfied: MarkupSafe==2.1.5 in /data/ghq/github.com/codex-odyssey/llm-observability/venv/lib/python3.12/site-packages (from -r ../requirements.txt (line 63)) (2.1.5)\n",
      "Requirement already satisfied: marshmallow==3.22.0 in /data/ghq/github.com/codex-odyssey/llm-observability/venv/lib/python3.12/site-packages (from -r ../requirements.txt (line 64)) (3.22.0)\n",
      "Requirement already satisfied: matplotlib-inline==0.1.7 in /data/ghq/github.com/codex-odyssey/llm-observability/venv/lib/python3.12/site-packages (from -r ../requirements.txt (line 65)) (0.1.7)\n",
      "Requirement already satisfied: mdurl==0.1.2 in /data/ghq/github.com/codex-odyssey/llm-observability/venv/lib/python3.12/site-packages (from -r ../requirements.txt (line 66)) (0.1.2)\n",
      "Requirement already satisfied: multidict==6.0.5 in /data/ghq/github.com/codex-odyssey/llm-observability/venv/lib/python3.12/site-packages (from -r ../requirements.txt (line 67)) (6.0.5)\n",
      "Requirement already satisfied: mypy-extensions==1.0.0 in /data/ghq/github.com/codex-odyssey/llm-observability/venv/lib/python3.12/site-packages (from -r ../requirements.txt (line 68)) (1.0.0)\n",
      "Requirement already satisfied: narwhals==1.7.0 in /data/ghq/github.com/codex-odyssey/llm-observability/venv/lib/python3.12/site-packages (from -r ../requirements.txt (line 69)) (1.7.0)\n",
      "Requirement already satisfied: nest-asyncio==1.6.0 in /data/ghq/github.com/codex-odyssey/llm-observability/venv/lib/python3.12/site-packages (from -r ../requirements.txt (line 70)) (1.6.0)\n",
      "Requirement already satisfied: numpy==1.26.4 in /data/ghq/github.com/codex-odyssey/llm-observability/venv/lib/python3.12/site-packages (from -r ../requirements.txt (line 71)) (1.26.4)\n",
      "Requirement already satisfied: openai==1.43.0 in /data/ghq/github.com/codex-odyssey/llm-observability/venv/lib/python3.12/site-packages (from -r ../requirements.txt (line 72)) (1.43.0)\n",
      "Requirement already satisfied: orjson==3.10.7 in /data/ghq/github.com/codex-odyssey/llm-observability/venv/lib/python3.12/site-packages (from -r ../requirements.txt (line 73)) (3.10.7)\n",
      "Requirement already satisfied: packaging==24.1 in /data/ghq/github.com/codex-odyssey/llm-observability/venv/lib/python3.12/site-packages (from -r ../requirements.txt (line 74)) (24.1)\n",
      "Requirement already satisfied: pandas==2.2.2 in /data/ghq/github.com/codex-odyssey/llm-observability/venv/lib/python3.12/site-packages (from -r ../requirements.txt (line 75)) (2.2.2)\n",
      "Requirement already satisfied: parameterized==0.9.0 in /data/ghq/github.com/codex-odyssey/llm-observability/venv/lib/python3.12/site-packages (from -r ../requirements.txt (line 76)) (0.9.0)\n",
      "Requirement already satisfied: parso==0.8.4 in /data/ghq/github.com/codex-odyssey/llm-observability/venv/lib/python3.12/site-packages (from -r ../requirements.txt (line 77)) (0.8.4)\n",
      "Requirement already satisfied: pexpect==4.9.0 in /data/ghq/github.com/codex-odyssey/llm-observability/venv/lib/python3.12/site-packages (from -r ../requirements.txt (line 78)) (4.9.0)\n",
      "Requirement already satisfied: pillow==10.4.0 in /data/ghq/github.com/codex-odyssey/llm-observability/venv/lib/python3.12/site-packages (from -r ../requirements.txt (line 79)) (10.4.0)\n",
      "Requirement already satisfied: platformdirs==4.2.2 in /data/ghq/github.com/codex-odyssey/llm-observability/venv/lib/python3.12/site-packages (from -r ../requirements.txt (line 80)) (4.2.2)\n",
      "Requirement already satisfied: prompt_toolkit==3.0.47 in /data/ghq/github.com/codex-odyssey/llm-observability/venv/lib/python3.12/site-packages (from -r ../requirements.txt (line 81)) (3.0.47)\n",
      "Requirement already satisfied: protobuf==5.28.1 in /data/ghq/github.com/codex-odyssey/llm-observability/venv/lib/python3.12/site-packages (from -r ../requirements.txt (line 82)) (5.28.1)\n",
      "Requirement already satisfied: psutil==6.0.0 in /data/ghq/github.com/codex-odyssey/llm-observability/venv/lib/python3.12/site-packages (from -r ../requirements.txt (line 83)) (6.0.0)\n",
      "Requirement already satisfied: ptyprocess==0.7.0 in /data/ghq/github.com/codex-odyssey/llm-observability/venv/lib/python3.12/site-packages (from -r ../requirements.txt (line 84)) (0.7.0)\n",
      "Requirement already satisfied: pure_eval==0.2.3 in /data/ghq/github.com/codex-odyssey/llm-observability/venv/lib/python3.12/site-packages (from -r ../requirements.txt (line 85)) (0.2.3)\n",
      "Requirement already satisfied: pyarrow==17.0.0 in /data/ghq/github.com/codex-odyssey/llm-observability/venv/lib/python3.12/site-packages (from -r ../requirements.txt (line 86)) (17.0.0)\n",
      "Requirement already satisfied: pydantic==2.8.2 in /data/ghq/github.com/codex-odyssey/llm-observability/venv/lib/python3.12/site-packages (from -r ../requirements.txt (line 87)) (2.8.2)\n",
      "Requirement already satisfied: pydantic-settings==2.5.2 in /data/ghq/github.com/codex-odyssey/llm-observability/venv/lib/python3.12/site-packages (from -r ../requirements.txt (line 88)) (2.5.2)\n",
      "Requirement already satisfied: pydantic_core==2.20.1 in /data/ghq/github.com/codex-odyssey/llm-observability/venv/lib/python3.12/site-packages (from -r ../requirements.txt (line 89)) (2.20.1)\n",
      "Requirement already satisfied: pydeck==0.9.1 in /data/ghq/github.com/codex-odyssey/llm-observability/venv/lib/python3.12/site-packages (from -r ../requirements.txt (line 90)) (0.9.1)\n",
      "Requirement already satisfied: Pygments==2.18.0 in /data/ghq/github.com/codex-odyssey/llm-observability/venv/lib/python3.12/site-packages (from -r ../requirements.txt (line 91)) (2.18.0)\n",
      "Requirement already satisfied: python-dateutil==2.9.0.post0 in /data/ghq/github.com/codex-odyssey/llm-observability/venv/lib/python3.12/site-packages (from -r ../requirements.txt (line 92)) (2.9.0.post0)\n",
      "Requirement already satisfied: python-dotenv==1.0.1 in /data/ghq/github.com/codex-odyssey/llm-observability/venv/lib/python3.12/site-packages (from -r ../requirements.txt (line 93)) (1.0.1)\n",
      "Requirement already satisfied: pytz==2024.1 in /data/ghq/github.com/codex-odyssey/llm-observability/venv/lib/python3.12/site-packages (from -r ../requirements.txt (line 94)) (2024.1)\n",
      "Requirement already satisfied: PyYAML==6.0.2 in /data/ghq/github.com/codex-odyssey/llm-observability/venv/lib/python3.12/site-packages (from -r ../requirements.txt (line 95)) (6.0.2)\n",
      "Requirement already satisfied: pyzmq==26.2.0 in /data/ghq/github.com/codex-odyssey/llm-observability/venv/lib/python3.12/site-packages (from -r ../requirements.txt (line 96)) (26.2.0)\n",
      "Requirement already satisfied: referencing==0.35.1 in /data/ghq/github.com/codex-odyssey/llm-observability/venv/lib/python3.12/site-packages (from -r ../requirements.txt (line 97)) (0.35.1)\n",
      "Requirement already satisfied: regex==2024.7.24 in /data/ghq/github.com/codex-odyssey/llm-observability/venv/lib/python3.12/site-packages (from -r ../requirements.txt (line 98)) (2024.7.24)\n",
      "Requirement already satisfied: requests==2.32.3 in /data/ghq/github.com/codex-odyssey/llm-observability/venv/lib/python3.12/site-packages (from -r ../requirements.txt (line 99)) (2.32.3)\n",
      "Requirement already satisfied: rich==13.8.1 in /data/ghq/github.com/codex-odyssey/llm-observability/venv/lib/python3.12/site-packages (from -r ../requirements.txt (line 100)) (13.8.1)\n",
      "Requirement already satisfied: rpds-py==0.20.0 in /data/ghq/github.com/codex-odyssey/llm-observability/venv/lib/python3.12/site-packages (from -r ../requirements.txt (line 101)) (0.20.0)\n",
      "Requirement already satisfied: s3transfer==0.10.2 in /data/ghq/github.com/codex-odyssey/llm-observability/venv/lib/python3.12/site-packages (from -r ../requirements.txt (line 102)) (0.10.2)\n",
      "Requirement already satisfied: six==1.16.0 in /data/ghq/github.com/codex-odyssey/llm-observability/venv/lib/python3.12/site-packages (from -r ../requirements.txt (line 103)) (1.16.0)\n",
      "Requirement already satisfied: smmap==5.0.1 in /data/ghq/github.com/codex-odyssey/llm-observability/venv/lib/python3.12/site-packages (from -r ../requirements.txt (line 104)) (5.0.1)\n",
      "Requirement already satisfied: sniffio==1.3.1 in /data/ghq/github.com/codex-odyssey/llm-observability/venv/lib/python3.12/site-packages (from -r ../requirements.txt (line 105)) (1.3.1)\n",
      "Requirement already satisfied: SQLAlchemy==2.0.32 in /data/ghq/github.com/codex-odyssey/llm-observability/venv/lib/python3.12/site-packages (from -r ../requirements.txt (line 106)) (2.0.32)\n",
      "Requirement already satisfied: stack-data==0.6.3 in /data/ghq/github.com/codex-odyssey/llm-observability/venv/lib/python3.12/site-packages (from -r ../requirements.txt (line 107)) (0.6.3)\n",
      "Requirement already satisfied: streamlit==1.38.0 in /data/ghq/github.com/codex-odyssey/llm-observability/venv/lib/python3.12/site-packages (from -r ../requirements.txt (line 108)) (1.38.0)\n",
      "Requirement already satisfied: tabulate==0.9.0 in /data/ghq/github.com/codex-odyssey/llm-observability/venv/lib/python3.12/site-packages (from -r ../requirements.txt (line 109)) (0.9.0)\n",
      "Requirement already satisfied: tenacity==8.5.0 in /data/ghq/github.com/codex-odyssey/llm-observability/venv/lib/python3.12/site-packages (from -r ../requirements.txt (line 110)) (8.5.0)\n",
      "Requirement already satisfied: tiktoken==0.7.0 in /data/ghq/github.com/codex-odyssey/llm-observability/venv/lib/python3.12/site-packages (from -r ../requirements.txt (line 111)) (0.7.0)\n",
      "Requirement already satisfied: tokenizers==0.20.0 in /data/ghq/github.com/codex-odyssey/llm-observability/venv/lib/python3.12/site-packages (from -r ../requirements.txt (line 112)) (0.20.0)\n",
      "Requirement already satisfied: toml==0.10.2 in /data/ghq/github.com/codex-odyssey/llm-observability/venv/lib/python3.12/site-packages (from -r ../requirements.txt (line 113)) (0.10.2)\n",
      "Requirement already satisfied: tornado==6.4.1 in /data/ghq/github.com/codex-odyssey/llm-observability/venv/lib/python3.12/site-packages (from -r ../requirements.txt (line 114)) (6.4.1)\n",
      "Requirement already satisfied: tqdm==4.66.5 in /data/ghq/github.com/codex-odyssey/llm-observability/venv/lib/python3.12/site-packages (from -r ../requirements.txt (line 115)) (4.66.5)\n",
      "Requirement already satisfied: traitlets==5.14.3 in /data/ghq/github.com/codex-odyssey/llm-observability/venv/lib/python3.12/site-packages (from -r ../requirements.txt (line 116)) (5.14.3)\n",
      "Requirement already satisfied: types-requests==2.32.0.20240712 in /data/ghq/github.com/codex-odyssey/llm-observability/venv/lib/python3.12/site-packages (from -r ../requirements.txt (line 117)) (2.32.0.20240712)\n",
      "Requirement already satisfied: typing-inspect==0.9.0 in /data/ghq/github.com/codex-odyssey/llm-observability/venv/lib/python3.12/site-packages (from -r ../requirements.txt (line 118)) (0.9.0)\n",
      "Requirement already satisfied: typing_extensions==4.12.2 in /data/ghq/github.com/codex-odyssey/llm-observability/venv/lib/python3.12/site-packages (from -r ../requirements.txt (line 119)) (4.12.2)\n",
      "Requirement already satisfied: tzdata==2024.1 in /data/ghq/github.com/codex-odyssey/llm-observability/venv/lib/python3.12/site-packages (from -r ../requirements.txt (line 120)) (2024.1)\n",
      "Requirement already satisfied: urllib3==2.2.2 in /data/ghq/github.com/codex-odyssey/llm-observability/venv/lib/python3.12/site-packages (from -r ../requirements.txt (line 121)) (2.2.2)\n",
      "Requirement already satisfied: watchdog==4.0.2 in /data/ghq/github.com/codex-odyssey/llm-observability/venv/lib/python3.12/site-packages (from -r ../requirements.txt (line 122)) (4.0.2)\n",
      "Requirement already satisfied: wcwidth==0.2.13 in /data/ghq/github.com/codex-odyssey/llm-observability/venv/lib/python3.12/site-packages (from -r ../requirements.txt (line 123)) (0.2.13)\n",
      "Requirement already satisfied: wrapt==1.16.0 in /data/ghq/github.com/codex-odyssey/llm-observability/venv/lib/python3.12/site-packages (from -r ../requirements.txt (line 124)) (1.16.0)\n",
      "Requirement already satisfied: yarl==1.9.7 in /data/ghq/github.com/codex-odyssey/llm-observability/venv/lib/python3.12/site-packages (from -r ../requirements.txt (line 125)) (1.9.7)\n",
      "Requirement already satisfied: beautifulsoup4 in /data/ghq/github.com/codex-odyssey/llm-observability/venv/lib/python3.12/site-packages (from bs4==0.0.2->-r ../requirements.txt (line 13)) (4.12.3)\n",
      "Requirement already satisfied: langgraph-checkpoint<3.0.0,>=2.0.0 in /data/ghq/github.com/codex-odyssey/llm-observability/venv/lib/python3.12/site-packages (from langgraph==0.2.32->-r ../requirements.txt (line 60)) (2.0.0)\n",
      "Requirement already satisfied: msgpack<2.0.0,>=1.1.0 in /data/ghq/github.com/codex-odyssey/llm-observability/venv/lib/python3.12/site-packages (from langgraph-checkpoint<3.0.0,>=2.0.0->langgraph==0.2.32->-r ../requirements.txt (line 60)) (1.1.0)\n",
      "Requirement already satisfied: soupsieve>1.2 in /data/ghq/github.com/codex-odyssey/llm-observability/venv/lib/python3.12/site-packages (from beautifulsoup4->bs4==0.0.2->-r ../requirements.txt (line 13)) (2.6)\n",
      "Using cached defusedxml-0.7.1-py2.py3-none-any.whl (25 kB)\n",
      "Installing collected packages: defusedxml\n",
      "Successfully installed defusedxml-0.7.1\n",
      "Note: you may need to restart the kernel to use updated packages.\n"
     ]
    }
   ],
   "source": [
    "%pip install -r ../requirements.txt"
   ]
  },
  {
   "cell_type": "markdown",
   "metadata": {},
   "source": [
    "環境変数の読み込み"
   ]
  },
  {
   "cell_type": "code",
   "execution_count": 1,
   "metadata": {},
   "outputs": [
    {
     "data": {
      "text/plain": [
       "True"
      ]
     },
     "execution_count": 1,
     "metadata": {},
     "output_type": "execute_result"
    }
   ],
   "source": [
    "from dotenv import load_dotenv\n",
    "import os\n",
    "\n",
    "load_dotenv(\"../.env\")"
   ]
  },
  {
   "cell_type": "markdown",
   "metadata": {},
   "source": [
    "### Chat Model\n",
    "\n",
    "Cohereを利用した例"
   ]
  },
  {
   "cell_type": "code",
   "execution_count": 11,
   "metadata": {},
   "outputs": [
    {
     "data": {
      "text/plain": [
       "AIMessage(content='こんにちは！今日はどうしましたか？', additional_kwargs={'documents': None, 'citations': None, 'search_results': None, 'search_queries': None, 'is_search_required': None, 'generation_id': '01c22606-d9a1-4dbb-8d43-047fd7ece229', 'token_count': {'input_tokens': 202.0, 'output_tokens': 12.0}}, response_metadata={'documents': None, 'citations': None, 'search_results': None, 'search_queries': None, 'is_search_required': None, 'generation_id': '01c22606-d9a1-4dbb-8d43-047fd7ece229', 'token_count': {'input_tokens': 202.0, 'output_tokens': 12.0}}, id='run-0351e511-65ce-41ef-bf5c-cdf39cf32d83-0', usage_metadata={'input_tokens': 202, 'output_tokens': 12, 'total_tokens': 214})"
      ]
     },
     "execution_count": 11,
     "metadata": {},
     "output_type": "execute_result"
    }
   ],
   "source": [
    "from langchain_cohere import ChatCohere\n",
    "\n",
    "model = ChatCohere(\n",
    "    model=\"command-r-plus\",\n",
    "    temperature=1,\n",
    ")\n",
    "\n",
    "from langchain_core.messages import HumanMessage\n",
    "\n",
    "messages = [\n",
    "    HumanMessage(\"こんにちは\"),\n",
    "]\n",
    "\n",
    "model.invoke(messages)"
   ]
  },
  {
   "cell_type": "markdown",
   "metadata": {},
   "source": [
    "### Message\n",
    "\n",
    "会話履歴を利用した例"
   ]
  },
  {
   "cell_type": "code",
   "execution_count": 12,
   "metadata": {},
   "outputs": [
    {
     "data": {
      "text/plain": [
       "AIMessage(content='あなたはBigBaBy、BBです！覚えやすい名前だね。', additional_kwargs={'documents': None, 'citations': None, 'search_results': None, 'search_queries': None, 'is_search_required': None, 'generation_id': 'f8a3d907-08a1-4f45-b0de-fb09f9cea370', 'token_count': {'input_tokens': 242.0, 'output_tokens': 16.0}}, response_metadata={'documents': None, 'citations': None, 'search_results': None, 'search_queries': None, 'is_search_required': None, 'generation_id': 'f8a3d907-08a1-4f45-b0de-fb09f9cea370', 'token_count': {'input_tokens': 242.0, 'output_tokens': 16.0}}, id='run-f26d9976-37e7-437c-96a7-d7d9ccbf0d1a-0', usage_metadata={'input_tokens': 242, 'output_tokens': 16, 'total_tokens': 258})"
      ]
     },
     "execution_count": 12,
     "metadata": {},
     "output_type": "execute_result"
    }
   ],
   "source": [
    "\n",
    "from langchain_core.messages import HumanMessage, AIMessage, SystemMessage\n",
    "\n",
    "messages = [\n",
    "    SystemMessage(\"あなたはテンションの高い返信をするアシスタントです\"),\n",
    "    HumanMessage(\"僕はBigBaBy!BBと呼んでね\"),\n",
    "    AIMessage(\"BBだね。よろしく！\"),\n",
    "    HumanMessage(\"僕は誰ですか？\"),\n",
    "]\n",
    "\n",
    "model.invoke(messages)"
   ]
  },
  {
   "cell_type": "markdown",
   "metadata": {},
   "source": [
    "nameプロパティを利用した話者の識別"
   ]
  },
  {
   "cell_type": "code",
   "execution_count": 5,
   "metadata": {},
   "outputs": [
    {
     "data": {
      "text/plain": [
       "AIMessage(content='CCだよ！シーツ―！めっちゃかっこいい名前だね！', additional_kwargs={'refusal': None}, response_metadata={'token_usage': {'completion_tokens': 25, 'prompt_tokens': 100, 'total_tokens': 125, 'prompt_tokens_details': {'cached_tokens': 0}, 'completion_tokens_details': {'reasoning_tokens': 0}}, 'model_name': 'gpt-3.5-turbo-0125', 'system_fingerprint': None, 'finish_reason': 'stop', 'logprobs': None}, id='run-a73eb9b5-8949-4a09-8c88-64c01f7332b3-0', usage_metadata={'input_tokens': 100, 'output_tokens': 25, 'total_tokens': 125})"
      ]
     },
     "execution_count": 5,
     "metadata": {},
     "output_type": "execute_result"
    }
   ],
   "source": [
    "from langchain_core.messages import HumanMessage, AIMessage, SystemMessage\n",
    "from langchain_openai import ChatOpenAI\n",
    "\n",
    "openai_model = ChatOpenAI(\n",
    "  model=\"gpt-3.5-turbo\",\n",
    "  temperature=0.7,\n",
    "  api_key=os.getenv(\"OPENAI_API_KEY\"),\n",
    ")\n",
    "\n",
    "messages = [\n",
    "    SystemMessage(\"あなたはテンションの高い返信をするアシスタントです\"),\n",
    "    HumanMessage(content=\"僕はBigBaBy!BBと呼んでね\",name=\"BB\"),\n",
    "    AIMessage(content=\"BBだね。よろしく！\"),\n",
    "    HumanMessage(content=\"私はCC!シーツ―と呼んでね\",name=\"CC\"),\n",
    "    HumanMessage(content=\"僕は誰ですか？\",name=\"CC\"),\n",
    "]\n",
    "\n",
    "openai_model.invoke(messages)"
   ]
  },
  {
   "cell_type": "markdown",
   "metadata": {},
   "source": [
    "### Prompt Template"
   ]
  },
  {
   "cell_type": "markdown",
   "metadata": {},
   "source": [
    "#### String PromptTemplates"
   ]
  },
  {
   "cell_type": "code",
   "execution_count": 13,
   "metadata": {},
   "outputs": [
    {
     "data": {
      "text/plain": [
       "StringPromptValue(text='BigBaByについて教えて')"
      ]
     },
     "execution_count": 13,
     "metadata": {},
     "output_type": "execute_result"
    }
   ],
   "source": [
    "from langchain_core.prompts import PromptTemplate\n",
    "\n",
    "prompt_template = PromptTemplate.from_template(\"{topic}について教えて\")\n",
    "\n",
    "prompt_template.invoke({\"topic\": \"BigBaBy\"})"
   ]
  },
  {
   "cell_type": "markdown",
   "metadata": {},
   "source": [
    "#### ChatPromptTemplates"
   ]
  },
  {
   "cell_type": "code",
   "execution_count": 14,
   "metadata": {},
   "outputs": [
    {
     "data": {
      "text/plain": [
       "ChatPromptValue(messages=[SystemMessage(content='あなたは有用なアシスタントです', additional_kwargs={}, response_metadata={}), HumanMessage(content='BigBaByについて教えて', additional_kwargs={}, response_metadata={})])"
      ]
     },
     "execution_count": 14,
     "metadata": {},
     "output_type": "execute_result"
    }
   ],
   "source": [
    "from langchain_core.prompts import ChatPromptTemplate\n",
    "\n",
    "prompt_template = ChatPromptTemplate.from_messages([\n",
    "    (\"system\", \"あなたは有用なアシスタントです\"),\n",
    "    (\"user\", \"{topic}について教えて\")\n",
    "])\n",
    "\n",
    "prompt_template.invoke({\"topic\": \"BigBaBy\"})"
   ]
  },
  {
   "cell_type": "markdown",
   "metadata": {},
   "source": [
    "#### MessagesPlaceholder"
   ]
  },
  {
   "cell_type": "code",
   "execution_count": 93,
   "metadata": {},
   "outputs": [
    {
     "data": {
      "text/plain": [
       "ChatPromptValue(messages=[SystemMessage(content='あなたは有用なアシスタントです', additional_kwargs={}, response_metadata={}), HumanMessage(content='こんにちは', additional_kwargs={}, response_metadata={})])"
      ]
     },
     "execution_count": 93,
     "metadata": {},
     "output_type": "execute_result"
    }
   ],
   "source": [
    "from langchain_core.prompts import ChatPromptTemplate, MessagesPlaceholder\n",
    "from langchain_core.messages import HumanMessage\n",
    "\n",
    "prompt_template = ChatPromptTemplate.from_messages([\n",
    "    (\"system\", \"あなたは有用なアシスタントです\"),\n",
    "    MessagesPlaceholder(\"msgs\")\n",
    "])\n",
    "\n",
    "prompt_template.invoke({\"msgs\": [HumanMessage(content=\"こんにちは\")]})"
   ]
  },
  {
   "cell_type": "markdown",
   "metadata": {},
   "source": [
    "### OutputParser"
   ]
  },
  {
   "cell_type": "markdown",
   "metadata": {},
   "source": [
    "CommaSeparatedListOutputParser"
   ]
  },
  {
   "cell_type": "code",
   "execution_count": 97,
   "metadata": {},
   "outputs": [
    {
     "data": {
      "text/plain": [
       "'Your response should be a list of comma separated values, eg: `foo, bar, baz` or `foo,bar,baz`'"
      ]
     },
     "execution_count": 97,
     "metadata": {},
     "output_type": "execute_result"
    }
   ],
   "source": [
    "from langchain_core.output_parsers import  CommaSeparatedListOutputParser\n",
    "\n",
    "parser = CommaSeparatedListOutputParser()\n",
    "parser.get_format_instructions()"
   ]
  },
  {
   "cell_type": "code",
   "execution_count": 99,
   "metadata": {},
   "outputs": [
    {
     "data": {
      "text/plain": [
       "['aaa', 'bbb', 'cc']"
      ]
     },
     "execution_count": 99,
     "metadata": {},
     "output_type": "execute_result"
    }
   ],
   "source": [
    "parser.invoke(\"aaa,bbb,cc\")"
   ]
  },
  {
   "cell_type": "markdown",
   "metadata": {},
   "source": [
    "XMLOutputParser"
   ]
  },
  {
   "cell_type": "code",
   "execution_count": 8,
   "metadata": {},
   "outputs": [
    {
     "data": {
      "text/plain": [
       "'The output should be formatted as a XML file.\\n1. Output should conform to the tags below. \\n2. If tags are not given, make them on your own.\\n3. Remember to always open and close all the tags.\\n\\nAs an example, for the tags [\"foo\", \"bar\", \"baz\"]:\\n1. String \"<foo>\\n   <bar>\\n      <baz></baz>\\n   </bar>\\n</foo>\" is a well-formatted instance of the schema. \\n2. String \"<foo>\\n   <bar>\\n   </foo>\" is a badly-formatted instance.\\n3. String \"<foo>\\n   <tag>\\n   </tag>\\n</foo>\" is a badly-formatted instance.\\n\\nHere are the output tags:\\n```\\nNone\\n```'"
      ]
     },
     "execution_count": 8,
     "metadata": {},
     "output_type": "execute_result"
    }
   ],
   "source": [
    "from langchain_core.output_parsers import XMLOutputParser\n",
    "\n",
    "parser = XMLOutputParser()\n",
    "parser.get_format_instructions()"
   ]
  },
  {
   "cell_type": "code",
   "execution_count": 9,
   "metadata": {},
   "outputs": [
    {
     "data": {
      "text/plain": [
       "{'bookstore': [{'book': [{'title': 'The Catcher in the Rye'},\n",
       "    {'author': 'J.D. Salinger'},\n",
       "    {'year': '1951'},\n",
       "    {'price': '6.99'}]},\n",
       "  {'book': [{'title': 'ノルウェイの森'},\n",
       "    {'author': '村上 春樹'},\n",
       "    {'year': '1987'},\n",
       "    {'price': '8.99'}]}]}"
      ]
     },
     "execution_count": 9,
     "metadata": {},
     "output_type": "execute_result"
    }
   ],
   "source": [
    "parser.invoke(\"\"\"<?xml version=\"1.0\" encoding=\"UTF-8\"?>\n",
    "<bookstore>\n",
    "  <book>\n",
    "    <title lang=\"en\">The Catcher in the Rye</title>\n",
    "    <author>J.D. Salinger</author>\n",
    "    <year>1951</year>\n",
    "    <price>6.99</price>\n",
    "  </book>\n",
    "  <book>\n",
    "    <title lang=\"ja\">ノルウェイの森</title>\n",
    "    <author>村上 春樹</author>\n",
    "    <year>1987</year>\n",
    "    <price>8.99</price>\n",
    "  </book>\n",
    "</bookstore>\n",
    "\"\"\")"
   ]
  },
  {
   "cell_type": "markdown",
   "metadata": {},
   "source": [
    "### 名前と呼び名を教えてくれるアプリケーション"
   ]
  },
  {
   "cell_type": "code",
   "execution_count": 15,
   "metadata": {},
   "outputs": [],
   "source": [
    "from langchain_core.output_parsers import JsonOutputParser\n",
    "from langchain_core.prompts import PromptTemplate,HumanMessagePromptTemplate,MessagesPlaceholder\n",
    "from pydantic import BaseModel, Field\n",
    "\n",
    "# データ構造の定義\n",
    "class Human(BaseModel):\n",
    "    name: str = Field(description=\"その人の名前\")\n",
    "    nickname: str = Field(description=\"その人の呼び名\")\n",
    "\n",
    "parser = JsonOutputParser(pydantic_object=Human)\n",
    "\n",
    "prompt = PromptTemplate(\n",
    "    template=\"質問に答えてください.\\n{format_instructions}\\n{query}\\n\",\n",
    "    input_variables=[\"query\"],\n",
    "    partial_variables={\"format_instructions\": parser.get_format_instructions()},\n",
    ")\n",
    "\n",
    "human_message_prompt = HumanMessagePromptTemplate(prompt=prompt)\n",
    "\n",
    "\n",
    "prompt_template = ChatPromptTemplate.from_messages([\n",
    "    (\"system\", \"あなたは有能なアシスタントでおもしろい呼び名を付ける才能があります\"),\n",
    "    MessagesPlaceholder(\"msgs\"),\n",
    "    human_message_prompt,\n",
    "])\n",
    "\n",
    "chain = prompt_template |model | parser\n"
   ]
  },
  {
   "cell_type": "code",
   "execution_count": 16,
   "metadata": {},
   "outputs": [
    {
     "data": {
      "text/plain": [
       "{'name': 'BigBaBy', 'nickname': 'BB'}"
      ]
     },
     "execution_count": 16,
     "metadata": {},
     "output_type": "execute_result"
    }
   ],
   "source": [
    "\n",
    "messages_history =  [\n",
    "    HumanMessage(\"おっす!僕はBigBaBy!BBと呼んでね\"),\n",
    "    AIMessage(\"分かりました。あなたのことをBBと呼びます\"),\n",
    "    ]\n",
    "chain.invoke({\"msgs\": messages_history,\"query\":\"僕は誰ですか？\"})"
   ]
  },
  {
   "cell_type": "code",
   "execution_count": 17,
   "metadata": {},
   "outputs": [
    {
     "data": {
      "text/plain": [
       "{'name': '岸田 文雄', 'nickname': 'キッシー'}"
      ]
     },
     "execution_count": 17,
     "metadata": {},
     "output_type": "execute_result"
    }
   ],
   "source": [
    "messages_history =  []\n",
    "chain.invoke({\"msgs\": messages_history,\"query\":\"総理大臣は誰ですか？\"})"
   ]
  }
 ],
 "metadata": {
  "kernelspec": {
   "display_name": "venv",
   "language": "python",
   "name": "python3"
  },
  "language_info": {
   "codemirror_mode": {
    "name": "ipython",
    "version": 3
   },
   "file_extension": ".py",
   "mimetype": "text/x-python",
   "name": "python",
   "nbconvert_exporter": "python",
   "pygments_lexer": "ipython3",
   "version": "3.12.6"
  }
 },
 "nbformat": 4,
 "nbformat_minor": 2
}
