{
 "cells": [
  {
   "cell_type": "markdown",
   "metadata": {},
   "source": [
    "## 埋込モデル"
   ]
  },
  {
   "cell_type": "markdown",
   "metadata": {},
   "source": []
  },
  {
   "cell_type": "markdown",
   "metadata": {},
   "source": [
    "### 準備\n",
    "\n",
    "必要なライブラリのインストール"
   ]
  },
  {
   "cell_type": "code",
   "execution_count": 44,
   "metadata": {},
   "outputs": [
    {
     "name": "stdout",
     "output_type": "stream",
     "text": [
      "Requirement already satisfied: aiohappyeyeballs==2.4.0 in /data/ghq/github.com/codex-odyssey/llm-observability/venv/lib/python3.12/site-packages (from -r ../requirements.txt (line 1)) (2.4.0)\n",
      "Requirement already satisfied: aiohttp==3.10.5 in /data/ghq/github.com/codex-odyssey/llm-observability/venv/lib/python3.12/site-packages (from -r ../requirements.txt (line 2)) (3.10.5)\n",
      "Requirement already satisfied: aiosignal==1.3.1 in /data/ghq/github.com/codex-odyssey/llm-observability/venv/lib/python3.12/site-packages (from -r ../requirements.txt (line 3)) (1.3.1)\n",
      "Requirement already satisfied: altair==5.4.1 in /data/ghq/github.com/codex-odyssey/llm-observability/venv/lib/python3.12/site-packages (from -r ../requirements.txt (line 4)) (5.4.1)\n",
      "Requirement already satisfied: annotated-types==0.7.0 in /data/ghq/github.com/codex-odyssey/llm-observability/venv/lib/python3.12/site-packages (from -r ../requirements.txt (line 5)) (0.7.0)\n",
      "Requirement already satisfied: anyio==4.4.0 in /data/ghq/github.com/codex-odyssey/llm-observability/venv/lib/python3.12/site-packages (from -r ../requirements.txt (line 6)) (4.4.0)\n",
      "Requirement already satisfied: asttokens==2.4.1 in /data/ghq/github.com/codex-odyssey/llm-observability/venv/lib/python3.12/site-packages (from -r ../requirements.txt (line 7)) (2.4.1)\n",
      "Requirement already satisfied: attrs==24.2.0 in /data/ghq/github.com/codex-odyssey/llm-observability/venv/lib/python3.12/site-packages (from -r ../requirements.txt (line 8)) (24.2.0)\n",
      "Requirement already satisfied: backoff==2.2.1 in /data/ghq/github.com/codex-odyssey/llm-observability/venv/lib/python3.12/site-packages (from -r ../requirements.txt (line 9)) (2.2.1)\n",
      "Requirement already satisfied: blinker==1.8.2 in /data/ghq/github.com/codex-odyssey/llm-observability/venv/lib/python3.12/site-packages (from -r ../requirements.txt (line 10)) (1.8.2)\n",
      "Requirement already satisfied: boto3==1.35.10 in /data/ghq/github.com/codex-odyssey/llm-observability/venv/lib/python3.12/site-packages (from -r ../requirements.txt (line 11)) (1.35.10)\n",
      "Requirement already satisfied: botocore==1.35.10 in /data/ghq/github.com/codex-odyssey/llm-observability/venv/lib/python3.12/site-packages (from -r ../requirements.txt (line 12)) (1.35.10)\n",
      "Requirement already satisfied: bs4==0.0.2 in /data/ghq/github.com/codex-odyssey/llm-observability/venv/lib/python3.12/site-packages (from -r ../requirements.txt (line 13)) (0.0.2)\n",
      "Requirement already satisfied: cachetools==5.5.0 in /data/ghq/github.com/codex-odyssey/llm-observability/venv/lib/python3.12/site-packages (from -r ../requirements.txt (line 14)) (5.5.0)\n",
      "Requirement already satisfied: certifi==2024.8.30 in /data/ghq/github.com/codex-odyssey/llm-observability/venv/lib/python3.12/site-packages (from -r ../requirements.txt (line 15)) (2024.8.30)\n",
      "Requirement already satisfied: charset-normalizer==3.3.2 in /data/ghq/github.com/codex-odyssey/llm-observability/venv/lib/python3.12/site-packages (from -r ../requirements.txt (line 16)) (3.3.2)\n",
      "Requirement already satisfied: click==8.1.7 in /data/ghq/github.com/codex-odyssey/llm-observability/venv/lib/python3.12/site-packages (from -r ../requirements.txt (line 17)) (8.1.7)\n",
      "Requirement already satisfied: cohere==5.9.0 in /data/ghq/github.com/codex-odyssey/llm-observability/venv/lib/python3.12/site-packages (from -r ../requirements.txt (line 18)) (5.9.0)\n",
      "Requirement already satisfied: comm==0.2.2 in /data/ghq/github.com/codex-odyssey/llm-observability/venv/lib/python3.12/site-packages (from -r ../requirements.txt (line 19)) (0.2.2)\n",
      "Requirement already satisfied: dataclasses-json==0.6.7 in /data/ghq/github.com/codex-odyssey/llm-observability/venv/lib/python3.12/site-packages (from -r ../requirements.txt (line 20)) (0.6.7)\n",
      "Requirement already satisfied: debugpy==1.8.5 in /data/ghq/github.com/codex-odyssey/llm-observability/venv/lib/python3.12/site-packages (from -r ../requirements.txt (line 21)) (1.8.5)\n",
      "Requirement already satisfied: decorator==5.1.1 in /data/ghq/github.com/codex-odyssey/llm-observability/venv/lib/python3.12/site-packages (from -r ../requirements.txt (line 22)) (5.1.1)\n",
      "Requirement already satisfied: defusedxml==0.7.1 in /data/ghq/github.com/codex-odyssey/llm-observability/venv/lib/python3.12/site-packages (from -r ../requirements.txt (line 23)) (0.7.1)\n",
      "Requirement already satisfied: distro==1.9.0 in /data/ghq/github.com/codex-odyssey/llm-observability/venv/lib/python3.12/site-packages (from -r ../requirements.txt (line 24)) (1.9.0)\n",
      "Requirement already satisfied: executing==2.1.0 in /data/ghq/github.com/codex-odyssey/llm-observability/venv/lib/python3.12/site-packages (from -r ../requirements.txt (line 25)) (2.1.0)\n",
      "Requirement already satisfied: faiss-cpu==1.8.0.post1 in /data/ghq/github.com/codex-odyssey/llm-observability/venv/lib/python3.12/site-packages (from -r ../requirements.txt (line 26)) (1.8.0.post1)\n",
      "Requirement already satisfied: fastavro==1.9.5 in /data/ghq/github.com/codex-odyssey/llm-observability/venv/lib/python3.12/site-packages (from -r ../requirements.txt (line 27)) (1.9.5)\n",
      "Requirement already satisfied: filelock==3.15.4 in /data/ghq/github.com/codex-odyssey/llm-observability/venv/lib/python3.12/site-packages (from -r ../requirements.txt (line 28)) (3.15.4)\n",
      "Requirement already satisfied: frozenlist==1.4.1 in /data/ghq/github.com/codex-odyssey/llm-observability/venv/lib/python3.12/site-packages (from -r ../requirements.txt (line 29)) (1.4.1)\n",
      "Requirement already satisfied: fsspec==2024.6.1 in /data/ghq/github.com/codex-odyssey/llm-observability/venv/lib/python3.12/site-packages (from -r ../requirements.txt (line 30)) (2024.6.1)\n",
      "Requirement already satisfied: gitdb==4.0.11 in /data/ghq/github.com/codex-odyssey/llm-observability/venv/lib/python3.12/site-packages (from -r ../requirements.txt (line 31)) (4.0.11)\n",
      "Requirement already satisfied: GitPython==3.1.43 in /data/ghq/github.com/codex-odyssey/llm-observability/venv/lib/python3.12/site-packages (from -r ../requirements.txt (line 32)) (3.1.43)\n",
      "Requirement already satisfied: greenlet==3.0.3 in /data/ghq/github.com/codex-odyssey/llm-observability/venv/lib/python3.12/site-packages (from -r ../requirements.txt (line 33)) (3.0.3)\n",
      "Requirement already satisfied: h11==0.14.0 in /data/ghq/github.com/codex-odyssey/llm-observability/venv/lib/python3.12/site-packages (from -r ../requirements.txt (line 34)) (0.14.0)\n",
      "Requirement already satisfied: httpcore==1.0.5 in /data/ghq/github.com/codex-odyssey/llm-observability/venv/lib/python3.12/site-packages (from -r ../requirements.txt (line 35)) (1.0.5)\n",
      "Requirement already satisfied: httpx==0.27.2 in /data/ghq/github.com/codex-odyssey/llm-observability/venv/lib/python3.12/site-packages (from -r ../requirements.txt (line 36)) (0.27.2)\n",
      "Requirement already satisfied: httpx-sse==0.4.0 in /data/ghq/github.com/codex-odyssey/llm-observability/venv/lib/python3.12/site-packages (from -r ../requirements.txt (line 37)) (0.4.0)\n",
      "Requirement already satisfied: huggingface-hub==0.24.6 in /data/ghq/github.com/codex-odyssey/llm-observability/venv/lib/python3.12/site-packages (from -r ../requirements.txt (line 38)) (0.24.6)\n",
      "Requirement already satisfied: idna==3.8 in /data/ghq/github.com/codex-odyssey/llm-observability/venv/lib/python3.12/site-packages (from -r ../requirements.txt (line 39)) (3.8)\n",
      "Requirement already satisfied: ipykernel==6.29.5 in /data/ghq/github.com/codex-odyssey/llm-observability/venv/lib/python3.12/site-packages (from -r ../requirements.txt (line 40)) (6.29.5)\n",
      "Requirement already satisfied: ipython==8.27.0 in /data/ghq/github.com/codex-odyssey/llm-observability/venv/lib/python3.12/site-packages (from -r ../requirements.txt (line 41)) (8.27.0)\n",
      "Requirement already satisfied: jedi==0.19.1 in /data/ghq/github.com/codex-odyssey/llm-observability/venv/lib/python3.12/site-packages (from -r ../requirements.txt (line 42)) (0.19.1)\n",
      "Requirement already satisfied: Jinja2==3.1.4 in /data/ghq/github.com/codex-odyssey/llm-observability/venv/lib/python3.12/site-packages (from -r ../requirements.txt (line 43)) (3.1.4)\n",
      "Requirement already satisfied: jiter==0.5.0 in /data/ghq/github.com/codex-odyssey/llm-observability/venv/lib/python3.12/site-packages (from -r ../requirements.txt (line 44)) (0.5.0)\n",
      "Requirement already satisfied: jmespath==1.0.1 in /data/ghq/github.com/codex-odyssey/llm-observability/venv/lib/python3.12/site-packages (from -r ../requirements.txt (line 45)) (1.0.1)\n",
      "Requirement already satisfied: jsonpatch==1.33 in /data/ghq/github.com/codex-odyssey/llm-observability/venv/lib/python3.12/site-packages (from -r ../requirements.txt (line 46)) (1.33)\n",
      "Requirement already satisfied: jsonpointer==3.0.0 in /data/ghq/github.com/codex-odyssey/llm-observability/venv/lib/python3.12/site-packages (from -r ../requirements.txt (line 47)) (3.0.0)\n",
      "Requirement already satisfied: jsonschema==4.23.0 in /data/ghq/github.com/codex-odyssey/llm-observability/venv/lib/python3.12/site-packages (from -r ../requirements.txt (line 48)) (4.23.0)\n",
      "Requirement already satisfied: jsonschema-specifications==2023.12.1 in /data/ghq/github.com/codex-odyssey/llm-observability/venv/lib/python3.12/site-packages (from -r ../requirements.txt (line 49)) (2023.12.1)\n",
      "Requirement already satisfied: jupyter_client==8.6.2 in /data/ghq/github.com/codex-odyssey/llm-observability/venv/lib/python3.12/site-packages (from -r ../requirements.txt (line 50)) (8.6.2)\n",
      "Requirement already satisfied: jupyter_core==5.7.2 in /data/ghq/github.com/codex-odyssey/llm-observability/venv/lib/python3.12/site-packages (from -r ../requirements.txt (line 51)) (5.7.2)\n",
      "Requirement already satisfied: langchain==0.3.1 in /data/ghq/github.com/codex-odyssey/llm-observability/venv/lib/python3.12/site-packages (from -r ../requirements.txt (line 52)) (0.3.1)\n",
      "Requirement already satisfied: langchain-cohere==0.3.0 in /data/ghq/github.com/codex-odyssey/llm-observability/venv/lib/python3.12/site-packages (from -r ../requirements.txt (line 53)) (0.3.0)\n",
      "Requirement already satisfied: langchain-community==0.3.1 in /data/ghq/github.com/codex-odyssey/llm-observability/venv/lib/python3.12/site-packages (from -r ../requirements.txt (line 54)) (0.3.1)\n",
      "Requirement already satisfied: langchain-core==0.3.6 in /data/ghq/github.com/codex-odyssey/llm-observability/venv/lib/python3.12/site-packages (from -r ../requirements.txt (line 55)) (0.3.6)\n",
      "Requirement already satisfied: langchain-experimental==0.3.1.post1 in /data/ghq/github.com/codex-odyssey/llm-observability/venv/lib/python3.12/site-packages (from -r ../requirements.txt (line 56)) (0.3.1.post1)\n",
      "Requirement already satisfied: langchain-openai==0.2.1 in /data/ghq/github.com/codex-odyssey/llm-observability/venv/lib/python3.12/site-packages (from -r ../requirements.txt (line 57)) (0.2.1)\n",
      "Requirement already satisfied: langchain-text-splitters==0.3.0 in /data/ghq/github.com/codex-odyssey/llm-observability/venv/lib/python3.12/site-packages (from -r ../requirements.txt (line 58)) (0.3.0)\n",
      "Requirement already satisfied: langfuse==2.45.2 in /data/ghq/github.com/codex-odyssey/llm-observability/venv/lib/python3.12/site-packages (from -r ../requirements.txt (line 59)) (2.45.2)\n",
      "Requirement already satisfied: langgraph==0.2.32 in /data/ghq/github.com/codex-odyssey/llm-observability/venv/lib/python3.12/site-packages (from -r ../requirements.txt (line 60)) (0.2.32)\n",
      "Requirement already satisfied: langsmith==0.1.125 in /data/ghq/github.com/codex-odyssey/llm-observability/venv/lib/python3.12/site-packages (from -r ../requirements.txt (line 61)) (0.1.125)\n",
      "Requirement already satisfied: markdown-it-py==3.0.0 in /data/ghq/github.com/codex-odyssey/llm-observability/venv/lib/python3.12/site-packages (from -r ../requirements.txt (line 62)) (3.0.0)\n",
      "Requirement already satisfied: MarkupSafe==2.1.5 in /data/ghq/github.com/codex-odyssey/llm-observability/venv/lib/python3.12/site-packages (from -r ../requirements.txt (line 63)) (2.1.5)\n",
      "Requirement already satisfied: marshmallow==3.22.0 in /data/ghq/github.com/codex-odyssey/llm-observability/venv/lib/python3.12/site-packages (from -r ../requirements.txt (line 64)) (3.22.0)\n",
      "Requirement already satisfied: matplotlib-inline==0.1.7 in /data/ghq/github.com/codex-odyssey/llm-observability/venv/lib/python3.12/site-packages (from -r ../requirements.txt (line 65)) (0.1.7)\n",
      "Requirement already satisfied: mdurl==0.1.2 in /data/ghq/github.com/codex-odyssey/llm-observability/venv/lib/python3.12/site-packages (from -r ../requirements.txt (line 66)) (0.1.2)\n",
      "Requirement already satisfied: multidict==6.0.5 in /data/ghq/github.com/codex-odyssey/llm-observability/venv/lib/python3.12/site-packages (from -r ../requirements.txt (line 67)) (6.0.5)\n",
      "Requirement already satisfied: mypy-extensions==1.0.0 in /data/ghq/github.com/codex-odyssey/llm-observability/venv/lib/python3.12/site-packages (from -r ../requirements.txt (line 68)) (1.0.0)\n",
      "Requirement already satisfied: narwhals==1.7.0 in /data/ghq/github.com/codex-odyssey/llm-observability/venv/lib/python3.12/site-packages (from -r ../requirements.txt (line 69)) (1.7.0)\n",
      "Requirement already satisfied: nest-asyncio==1.6.0 in /data/ghq/github.com/codex-odyssey/llm-observability/venv/lib/python3.12/site-packages (from -r ../requirements.txt (line 70)) (1.6.0)\n",
      "Requirement already satisfied: numpy==1.26.4 in /data/ghq/github.com/codex-odyssey/llm-observability/venv/lib/python3.12/site-packages (from -r ../requirements.txt (line 71)) (1.26.4)\n",
      "Requirement already satisfied: openai==1.43.0 in /data/ghq/github.com/codex-odyssey/llm-observability/venv/lib/python3.12/site-packages (from -r ../requirements.txt (line 72)) (1.43.0)\n",
      "Requirement already satisfied: orjson==3.10.7 in /data/ghq/github.com/codex-odyssey/llm-observability/venv/lib/python3.12/site-packages (from -r ../requirements.txt (line 73)) (3.10.7)\n",
      "Requirement already satisfied: packaging==24.1 in /data/ghq/github.com/codex-odyssey/llm-observability/venv/lib/python3.12/site-packages (from -r ../requirements.txt (line 74)) (24.1)\n",
      "Requirement already satisfied: pandas==2.2.2 in /data/ghq/github.com/codex-odyssey/llm-observability/venv/lib/python3.12/site-packages (from -r ../requirements.txt (line 75)) (2.2.2)\n",
      "Requirement already satisfied: parameterized==0.9.0 in /data/ghq/github.com/codex-odyssey/llm-observability/venv/lib/python3.12/site-packages (from -r ../requirements.txt (line 76)) (0.9.0)\n",
      "Requirement already satisfied: parso==0.8.4 in /data/ghq/github.com/codex-odyssey/llm-observability/venv/lib/python3.12/site-packages (from -r ../requirements.txt (line 77)) (0.8.4)\n",
      "Requirement already satisfied: pexpect==4.9.0 in /data/ghq/github.com/codex-odyssey/llm-observability/venv/lib/python3.12/site-packages (from -r ../requirements.txt (line 78)) (4.9.0)\n",
      "Requirement already satisfied: pillow==10.4.0 in /data/ghq/github.com/codex-odyssey/llm-observability/venv/lib/python3.12/site-packages (from -r ../requirements.txt (line 79)) (10.4.0)\n",
      "Requirement already satisfied: platformdirs==4.2.2 in /data/ghq/github.com/codex-odyssey/llm-observability/venv/lib/python3.12/site-packages (from -r ../requirements.txt (line 80)) (4.2.2)\n",
      "Requirement already satisfied: prompt_toolkit==3.0.47 in /data/ghq/github.com/codex-odyssey/llm-observability/venv/lib/python3.12/site-packages (from -r ../requirements.txt (line 81)) (3.0.47)\n",
      "Requirement already satisfied: protobuf==5.28.1 in /data/ghq/github.com/codex-odyssey/llm-observability/venv/lib/python3.12/site-packages (from -r ../requirements.txt (line 82)) (5.28.1)\n",
      "Requirement already satisfied: psutil==6.0.0 in /data/ghq/github.com/codex-odyssey/llm-observability/venv/lib/python3.12/site-packages (from -r ../requirements.txt (line 83)) (6.0.0)\n",
      "Requirement already satisfied: ptyprocess==0.7.0 in /data/ghq/github.com/codex-odyssey/llm-observability/venv/lib/python3.12/site-packages (from -r ../requirements.txt (line 84)) (0.7.0)\n",
      "Requirement already satisfied: pure_eval==0.2.3 in /data/ghq/github.com/codex-odyssey/llm-observability/venv/lib/python3.12/site-packages (from -r ../requirements.txt (line 85)) (0.2.3)\n",
      "Requirement already satisfied: pyarrow==17.0.0 in /data/ghq/github.com/codex-odyssey/llm-observability/venv/lib/python3.12/site-packages (from -r ../requirements.txt (line 86)) (17.0.0)\n",
      "Requirement already satisfied: pydantic==2.8.2 in /data/ghq/github.com/codex-odyssey/llm-observability/venv/lib/python3.12/site-packages (from -r ../requirements.txt (line 87)) (2.8.2)\n",
      "Requirement already satisfied: pydantic-settings==2.5.2 in /data/ghq/github.com/codex-odyssey/llm-observability/venv/lib/python3.12/site-packages (from -r ../requirements.txt (line 88)) (2.5.2)\n",
      "Requirement already satisfied: pydantic_core==2.20.1 in /data/ghq/github.com/codex-odyssey/llm-observability/venv/lib/python3.12/site-packages (from -r ../requirements.txt (line 89)) (2.20.1)\n",
      "Requirement already satisfied: pydeck==0.9.1 in /data/ghq/github.com/codex-odyssey/llm-observability/venv/lib/python3.12/site-packages (from -r ../requirements.txt (line 90)) (0.9.1)\n",
      "Requirement already satisfied: Pygments==2.18.0 in /data/ghq/github.com/codex-odyssey/llm-observability/venv/lib/python3.12/site-packages (from -r ../requirements.txt (line 91)) (2.18.0)\n",
      "Requirement already satisfied: python-dateutil==2.9.0.post0 in /data/ghq/github.com/codex-odyssey/llm-observability/venv/lib/python3.12/site-packages (from -r ../requirements.txt (line 92)) (2.9.0.post0)\n",
      "Requirement already satisfied: python-dotenv==1.0.1 in /data/ghq/github.com/codex-odyssey/llm-observability/venv/lib/python3.12/site-packages (from -r ../requirements.txt (line 93)) (1.0.1)\n",
      "Requirement already satisfied: pytz==2024.1 in /data/ghq/github.com/codex-odyssey/llm-observability/venv/lib/python3.12/site-packages (from -r ../requirements.txt (line 94)) (2024.1)\n",
      "Requirement already satisfied: PyYAML==6.0.2 in /data/ghq/github.com/codex-odyssey/llm-observability/venv/lib/python3.12/site-packages (from -r ../requirements.txt (line 95)) (6.0.2)\n",
      "Requirement already satisfied: pyzmq==26.2.0 in /data/ghq/github.com/codex-odyssey/llm-observability/venv/lib/python3.12/site-packages (from -r ../requirements.txt (line 96)) (26.2.0)\n",
      "Requirement already satisfied: referencing==0.35.1 in /data/ghq/github.com/codex-odyssey/llm-observability/venv/lib/python3.12/site-packages (from -r ../requirements.txt (line 97)) (0.35.1)\n",
      "Requirement already satisfied: regex==2024.7.24 in /data/ghq/github.com/codex-odyssey/llm-observability/venv/lib/python3.12/site-packages (from -r ../requirements.txt (line 98)) (2024.7.24)\n",
      "Requirement already satisfied: requests==2.32.3 in /data/ghq/github.com/codex-odyssey/llm-observability/venv/lib/python3.12/site-packages (from -r ../requirements.txt (line 99)) (2.32.3)\n",
      "Requirement already satisfied: rich==13.8.1 in /data/ghq/github.com/codex-odyssey/llm-observability/venv/lib/python3.12/site-packages (from -r ../requirements.txt (line 100)) (13.8.1)\n",
      "Requirement already satisfied: rpds-py==0.20.0 in /data/ghq/github.com/codex-odyssey/llm-observability/venv/lib/python3.12/site-packages (from -r ../requirements.txt (line 101)) (0.20.0)\n",
      "Requirement already satisfied: s3transfer==0.10.2 in /data/ghq/github.com/codex-odyssey/llm-observability/venv/lib/python3.12/site-packages (from -r ../requirements.txt (line 102)) (0.10.2)\n",
      "Requirement already satisfied: six==1.16.0 in /data/ghq/github.com/codex-odyssey/llm-observability/venv/lib/python3.12/site-packages (from -r ../requirements.txt (line 103)) (1.16.0)\n",
      "Requirement already satisfied: smmap==5.0.1 in /data/ghq/github.com/codex-odyssey/llm-observability/venv/lib/python3.12/site-packages (from -r ../requirements.txt (line 104)) (5.0.1)\n",
      "Requirement already satisfied: sniffio==1.3.1 in /data/ghq/github.com/codex-odyssey/llm-observability/venv/lib/python3.12/site-packages (from -r ../requirements.txt (line 105)) (1.3.1)\n",
      "Requirement already satisfied: SQLAlchemy==2.0.32 in /data/ghq/github.com/codex-odyssey/llm-observability/venv/lib/python3.12/site-packages (from -r ../requirements.txt (line 106)) (2.0.32)\n",
      "Requirement already satisfied: stack-data==0.6.3 in /data/ghq/github.com/codex-odyssey/llm-observability/venv/lib/python3.12/site-packages (from -r ../requirements.txt (line 107)) (0.6.3)\n",
      "Requirement already satisfied: streamlit==1.38.0 in /data/ghq/github.com/codex-odyssey/llm-observability/venv/lib/python3.12/site-packages (from -r ../requirements.txt (line 108)) (1.38.0)\n",
      "Requirement already satisfied: tabulate==0.9.0 in /data/ghq/github.com/codex-odyssey/llm-observability/venv/lib/python3.12/site-packages (from -r ../requirements.txt (line 109)) (0.9.0)\n",
      "Requirement already satisfied: tenacity==8.5.0 in /data/ghq/github.com/codex-odyssey/llm-observability/venv/lib/python3.12/site-packages (from -r ../requirements.txt (line 110)) (8.5.0)\n",
      "Requirement already satisfied: tiktoken==0.7.0 in /data/ghq/github.com/codex-odyssey/llm-observability/venv/lib/python3.12/site-packages (from -r ../requirements.txt (line 111)) (0.7.0)\n",
      "Requirement already satisfied: tokenizers==0.20.0 in /data/ghq/github.com/codex-odyssey/llm-observability/venv/lib/python3.12/site-packages (from -r ../requirements.txt (line 112)) (0.20.0)\n",
      "Requirement already satisfied: toml==0.10.2 in /data/ghq/github.com/codex-odyssey/llm-observability/venv/lib/python3.12/site-packages (from -r ../requirements.txt (line 113)) (0.10.2)\n",
      "Requirement already satisfied: tornado==6.4.1 in /data/ghq/github.com/codex-odyssey/llm-observability/venv/lib/python3.12/site-packages (from -r ../requirements.txt (line 114)) (6.4.1)\n",
      "Requirement already satisfied: tqdm==4.66.5 in /data/ghq/github.com/codex-odyssey/llm-observability/venv/lib/python3.12/site-packages (from -r ../requirements.txt (line 115)) (4.66.5)\n",
      "Requirement already satisfied: traitlets==5.14.3 in /data/ghq/github.com/codex-odyssey/llm-observability/venv/lib/python3.12/site-packages (from -r ../requirements.txt (line 116)) (5.14.3)\n",
      "Requirement already satisfied: types-requests==2.32.0.20240712 in /data/ghq/github.com/codex-odyssey/llm-observability/venv/lib/python3.12/site-packages (from -r ../requirements.txt (line 117)) (2.32.0.20240712)\n",
      "Requirement already satisfied: typing-inspect==0.9.0 in /data/ghq/github.com/codex-odyssey/llm-observability/venv/lib/python3.12/site-packages (from -r ../requirements.txt (line 118)) (0.9.0)\n",
      "Requirement already satisfied: typing_extensions==4.12.2 in /data/ghq/github.com/codex-odyssey/llm-observability/venv/lib/python3.12/site-packages (from -r ../requirements.txt (line 119)) (4.12.2)\n",
      "Requirement already satisfied: tzdata==2024.1 in /data/ghq/github.com/codex-odyssey/llm-observability/venv/lib/python3.12/site-packages (from -r ../requirements.txt (line 120)) (2024.1)\n",
      "Requirement already satisfied: urllib3==2.2.2 in /data/ghq/github.com/codex-odyssey/llm-observability/venv/lib/python3.12/site-packages (from -r ../requirements.txt (line 121)) (2.2.2)\n",
      "Requirement already satisfied: watchdog==4.0.2 in /data/ghq/github.com/codex-odyssey/llm-observability/venv/lib/python3.12/site-packages (from -r ../requirements.txt (line 122)) (4.0.2)\n",
      "Requirement already satisfied: wcwidth==0.2.13 in /data/ghq/github.com/codex-odyssey/llm-observability/venv/lib/python3.12/site-packages (from -r ../requirements.txt (line 123)) (0.2.13)\n",
      "Collecting wikipedia==1.4.0 (from -r ../requirements.txt (line 124))\n",
      "  Using cached wikipedia-1.4.0.tar.gz (27 kB)\n",
      "  Installing build dependencies ... \u001b[?25ldone\n",
      "\u001b[?25h  Getting requirements to build wheel ... \u001b[?25ldone\n",
      "\u001b[?25h  Preparing metadata (pyproject.toml) ... \u001b[?25ldone\n",
      "\u001b[?25hRequirement already satisfied: wrapt==1.16.0 in /data/ghq/github.com/codex-odyssey/llm-observability/venv/lib/python3.12/site-packages (from -r ../requirements.txt (line 125)) (1.16.0)\n",
      "Requirement already satisfied: yarl==1.9.7 in /data/ghq/github.com/codex-odyssey/llm-observability/venv/lib/python3.12/site-packages (from -r ../requirements.txt (line 126)) (1.9.7)\n",
      "Requirement already satisfied: beautifulsoup4 in /data/ghq/github.com/codex-odyssey/llm-observability/venv/lib/python3.12/site-packages (from bs4==0.0.2->-r ../requirements.txt (line 13)) (4.12.3)\n",
      "Requirement already satisfied: langgraph-checkpoint<3.0.0,>=2.0.0 in /data/ghq/github.com/codex-odyssey/llm-observability/venv/lib/python3.12/site-packages (from langgraph==0.2.32->-r ../requirements.txt (line 60)) (2.0.0)\n",
      "Requirement already satisfied: msgpack<2.0.0,>=1.1.0 in /data/ghq/github.com/codex-odyssey/llm-observability/venv/lib/python3.12/site-packages (from langgraph-checkpoint<3.0.0,>=2.0.0->langgraph==0.2.32->-r ../requirements.txt (line 60)) (1.1.0)\n",
      "Requirement already satisfied: soupsieve>1.2 in /data/ghq/github.com/codex-odyssey/llm-observability/venv/lib/python3.12/site-packages (from beautifulsoup4->bs4==0.0.2->-r ../requirements.txt (line 13)) (2.6)\n",
      "Building wheels for collected packages: wikipedia\n",
      "  Building wheel for wikipedia (pyproject.toml) ... \u001b[?25ldone\n",
      "\u001b[?25h  Created wheel for wikipedia: filename=wikipedia-1.4.0-py3-none-any.whl size=11679 sha256=cbb065a9791ecae1e87c7bebbd4280366f60ed7b5840b59ea69585aef2d109e9\n",
      "  Stored in directory: /data/.cache/pip/wheels/63/47/7c/a9688349aa74d228ce0a9023229c6c0ac52ca2a40fe87679b8\n",
      "Successfully built wikipedia\n",
      "Installing collected packages: wikipedia\n",
      "Successfully installed wikipedia-1.4.0\n",
      "Note: you may need to restart the kernel to use updated packages.\n"
     ]
    }
   ],
   "source": [
    "%pip install -r ../requirements.txt"
   ]
  },
  {
   "cell_type": "markdown",
   "metadata": {},
   "source": [
    "### 環境変数の設定"
   ]
  },
  {
   "cell_type": "code",
   "execution_count": 4,
   "metadata": {},
   "outputs": [
    {
     "data": {
      "text/plain": [
       "True"
      ]
     },
     "execution_count": 4,
     "metadata": {},
     "output_type": "execute_result"
    }
   ],
   "source": [
    "from dotenv import load_dotenv\n",
    "\n",
    "load_dotenv(\"../.env\")"
   ]
  },
  {
   "cell_type": "markdown",
   "metadata": {},
   "source": [
    "### 埋め込みモデル\n"
   ]
  },
  {
   "cell_type": "code",
   "execution_count": 5,
   "metadata": {},
   "outputs": [
    {
     "name": "stderr",
     "output_type": "stream",
     "text": [
      "/data/ghq/github.com/codex-odyssey/llm-observability/venv/lib/python3.12/site-packages/pydantic/_internal/_config.py:341: UserWarning: Valid config keys have changed in V2:\n",
      "* 'allow_population_by_field_name' has been renamed to 'populate_by_name'\n",
      "* 'smart_union' has been removed\n",
      "  warnings.warn(message, UserWarning)\n"
     ]
    }
   ],
   "source": [
    "from langchain_cohere import CohereEmbeddings\n",
    "\n",
    "embeddings = CohereEmbeddings(\n",
    "    model=\"embed-multilingual-v3.0\"\n",
    ")"
   ]
  },
  {
   "cell_type": "markdown",
   "metadata": {},
   "source": [
    "### Document Loader\n",
    "\n",
    "`../docs/*.txt` に格納されているテキストデータを読み込み、LangChain の Document へ変換します。"
   ]
  },
  {
   "cell_type": "code",
   "execution_count": 6,
   "metadata": {},
   "outputs": [
    {
     "data": {
      "text/plain": [
       "[Document(metadata={'source': '../app/docs/karubikuppa.txt'}, page_content='BB流カルビクッパの作り方です。\\n\\nまずは、以下の材料を用意します。なお、材料は2人分です。\\n\\n- 牛肉: 50g\\n- 大根: 半分\\n- 人参: 1本\\n- シイタケ: 2-3個\\n- ニンニク: 半分\\n- もやし: 1袋\\n- ニラ: 半分\\n- ぜんまい: 40g\\n    - BB流ポイント 「入れなくても良いですが、入れると@<ttb>{めちゃ旨}です！」\\n- つゆ (*)\\n    - 水: 800cc\\n    - コチュジャン: 大さじ2\\n        - BB流ポイント「入れれば入れるだけ美味しい！」\\n    - ウェイパー: 大さじ2\\n    - ごま油: 大さじ2\\n        - BB流ポイント「入れれば入れるだけ美味しい！」\\n    - 酒: 大さじ2\\n    - 醤油: 大さじ2\\n    - 砂糖: 大さじ2\\n- 塩コショウ:適量\\n- 卵: 2個\\n\\nごま油でニンニクを炒め、香りが出たら牛肉を炒めます。つゆ（*）をいれ、ニラともやし以外を入れてひと煮立ちさせます。\\n最後にニラともやしを入れてある程度シャキシャキ感を残しつつ、卵をふんわりさせたらBB流カルビクッパの完成です！\\nなお、卵をふんわりさせるコツはつゆを限界まで沸騰させることです！\\n'),\n",
       " Document(metadata={'source': '../app/docs/arani.txt'}, page_content='BB流！200円で作れる真鯛のアラの塩煮の作り方\\n\\n用意するもの\\n\\n- フライパン\\n- アルミホイル\\n- しょうが1欠片\\n- 真鯛のアラ（血とかは洗っておく）\\n- 塩\\n- 水\\n\\n作り方は以下の通りです。\\n\\n1．フライパンに水（落とし蓋をするのでやや少なめ）を生姜のスライスと一緒に入れる\\n2．沸騰したら塩を小さじ2（スープがしょっぱかったので少なくてもいいかも）を入れて溶かしてから真鯛のアラを入れる。沸騰してから入れると前処理無しで臭みなし\\n3．アルミホイルで落とし蓋する\\n4．火が通るまで弱火で適当に煮る\\n5．(゜Д゜)ｳﾏｰ\\n\\nおつまみにぴったりです。ぜひ作ってみてね。\\n'),\n",
       " Document(metadata={'source': '../app/docs/spice-curry.txt'}, page_content='BB流のスパイスカレーのレシピです。\\n\\nまずは、以下の材料を用意します。なお、材料は2人分です。\\n\\n- 鶏モモ肉皮なし: 200g\\n- たまねぎ1/2: 110g\\n- にんにく: 4g（チューブ8㎝）\\n- しょうが: 4g（チューブ8㎝）\\n- 塩: 2g\\n- オリーブ油: 8ｇ\\n- トマト缶1/3: 60g\\n- カレー粉: 5g\\n- ガラムマサラ: 1g\\n- ケチャップ: 18g\\n- ウスターソース: 18g\\n\\n作り方は以下の通りです。\\n\\n1. 玉ねぎを粗みじんに切る\\n2. 鶏モモは皮を外し一口大に切る\\n3. 鍋にオリーブオイルを熱したまねぎ、にんにく、しょうが、塩をいれ中火で炒める\\n4. たまねぎが半透明になったらトマト缶とカレースバイスを入れる\\n5. 強火にかけ全体を混ぜる\\n6. 鶏モモ肉、水100㎖、ケチャップ、ウスターソースを加え蓋をして中火で煮る\\n7. 鶏肉に火が通ったら蓋をとり好みのトロミ具合になるまで煮る\\n\\n鶏モモでのレシピですが、鶏むね肉やサバ缶、ノンオイルツナ缶へ変えると\\nより脂質を減らせアレンジできます\\n是非作ってみてくださいね\\n'),\n",
       " Document(metadata={'source': '../app/docs/torimomo-shiokouji.txt'}, page_content='BB流！鶏ももの塩麹漬け焼きの作り方です。晩御飯にぴったりだね。\\n\\n材料\\n- 鶏モモ（別に何でも。鮭とか鯛の切り身でも可）\\n- 塩麹\\n\\n作り方は以下の通りです。\\n\\n1. 鶏モモは厚みを揃え（めんどくさければそのまま）、ジップロックとかビニール袋に投入\\n2. 塩麹を両面に塗りつける\\n3. 冷蔵庫に投入して半日～1日そのまま。朝にやって夜に食べるとか前の晩にやっておくとか\\n4. 焦げやすいので塩麹はざっと取る\\n5. フライパンで焼く。魚なら魚焼きグリルで焼く\\n6. 味も付いて柔らかくなって(゜Д゜)ｳﾏｰ\\n\\nぜひ作ってみてね！\\n'),\n",
       " Document(metadata={'source': '../app/docs/kinoko-marine.txt'}, page_content='BB流きのこマリネの作り方です。\\n\\nまずは、以下の材料を用意します。なお、材料は2人分です。\\n\\n- お好きなきのこ\\n    - 複数種類用意するととても美味しいです\\n    - BB的には、エリンギ、椎茸、マッシュルーム、しめじ、舞茸、平茸などがおすすめです\\n- バター（無塩）: 10g\\n- にんにく: 1個\\n- マリネ用のたれ (*)\\n    - マスタード: 大さじ2\\n    - 白ワインビネガー: 大さじ1~2\\n    - ケッパー: 15粒程度\\n- パセリ: お好きな方はたくさん\\n\\nフライパンにオリーブオイルをひき、強火できのこを炒めます。ある程度炒まったらちょっと効き過ぎなんじゃないの？ってくらい塩を加えます。\\n火を弱め、きのこをフライパンの端によせ、バターとにんにくを入れ、香りを立たせます。\\nあらかじめ合わせておいたマリネ用のタレと合わせたら完成です！\\nぜひ、お酒と合わせて嗜んでください！白ワイン、ビール、ハイボールとお酒泥棒になること間違いなしでしょう。\\n'),\n",
       " Document(metadata={'source': '../app/docs/hoiruyaki.txt'}, page_content='BB流の究極のホイル焼きレシピの作り方です。\\n\\n材料\\n- アスパラガス3，4本\\n- ハーフベーコン2枚\\n- 塩\\n- ピザ用チーズ\\n- 黒胡椒\\n\\n作り方は以下の通りです。\\n\\n1. アスパラは根元の皮を剥き食べやすい長さに切る\\n2. 耐熱容器にアスパラを入れてラップを掛けて600Wの電子レンジで3分、塩を振って味を調える\\n3. アルミホイルで器を作り、アスパラと1センチ幅に切ったベーコンを入れる\\n4. ピザ用チーズを掛けてオーブントースターでチーズが溶けるまで加熱\\n5. 仕上げに黒胡椒を掛けて完成\\n\\nぜひ試してみてください\\n')]"
      ]
     },
     "execution_count": 6,
     "metadata": {},
     "output_type": "execute_result"
    }
   ],
   "source": [
    "import glob\n",
    "from langchain.document_loaders import TextLoader\n",
    "\n",
    "files = glob.glob(\"../app/docs/*.txt\")\n",
    "documents = []\n",
    "\n",
    "for file in files:\n",
    "    loader = TextLoader(file_path=file)\n",
    "    document = loader.load()\n",
    "    documents.extend(document)\n",
    "documents"
   ]
  },
  {
   "cell_type": "markdown",
   "metadata": {},
   "source": [
    "### Text Splitters"
   ]
  },
  {
   "cell_type": "code",
   "execution_count": 38,
   "metadata": {},
   "outputs": [
    {
     "data": {
      "text/plain": [
       "1"
      ]
     },
     "execution_count": 38,
     "metadata": {},
     "output_type": "execute_result"
    }
   ],
   "source": [
    "from langchain_community.document_loaders import WebBaseLoader\n",
    "\n",
    "renovate_doc = WebBaseLoader(\"https://docs.renovatebot.com/configuration-options/\").load()\n",
    "len(renovate_doc)\n"
   ]
  },
  {
   "cell_type": "code",
   "execution_count": 39,
   "metadata": {},
   "outputs": [
    {
     "data": {
      "text/plain": [
       "279"
      ]
     },
     "execution_count": 39,
     "metadata": {},
     "output_type": "execute_result"
    }
   ],
   "source": [
    "from langchain_text_splitters import RecursiveCharacterTextSplitter\n",
    "\n",
    "renovate_docs = RecursiveCharacterTextSplitter(\n",
    "    chunk_size=1000, chunk_overlap=200\n",
    ").split_documents(renovate_doc)\n",
    "len(renovate_docs)"
   ]
  },
  {
   "cell_type": "code",
   "execution_count": 41,
   "metadata": {},
   "outputs": [
    {
     "data": {
      "text/plain": [
       "[Document(metadata={'source': 'https://docs.renovatebot.com/configuration-options/', 'title': 'Configuration Options - Renovate Docs', 'description': 'Configuration Options usable in renovate.json or package.json', 'language': 'en'}, page_content='Name\\nValue\\n\\n\\n\\n\\ntype\\nboolean\\n\\n\\ndefault\\nfalse\\n\\n\\ncli\\n--separate-minor-patch\\n\\n\\nenv\\nRENOVATE_SEPARATE_MINOR_PATCH\\n\\n\\n\\nBy default, Renovate groups patch (1.0.x) and minor (1.x.0) releases into a single PR.\\nFor example: you are running version 1.0.0 of a package, which has two updates:\\n\\n1.0.1, a patch type update\\n1.1.0, a minor type update\\n\\nBy default, Renovate creates a single PR for the 1.1.0 version.\\nIf you want Renovate to create separate PRs for patch and minor upgrades, set separateMinorPatch to true.\\nGetting separate updates from Renovate can be handy when you want to, for example, automerge patch updates but manually merge minor updates.\\nseparateMultipleMajor¶\\nIf set to true, PRs will be raised separately for each available major upgrade version.\\n\\n\\n\\nName\\nValue\\n\\n\\n\\n\\ntype\\nboolean\\n\\n\\ndefault\\nfalse\\n\\n\\ncli\\n--separate-multiple-major\\n\\n\\nenv\\nRENOVATE_SEPARATE_MULTIPLE_MAJOR'),\n",
       " Document(metadata={'source': 'https://docs.renovatebot.com/configuration-options/', 'title': 'Configuration Options - Renovate Docs', 'description': 'Configuration Options usable in renovate.json or package.json', 'language': 'en'}, page_content='This option also has priority over package groups configured by packageRule.\\nSo Renovate will propose separate PRs for major and minor updates of packages even if they are grouped.\\nIf you want to enforce grouped package updates, you need to set this option to false within the packageRule.\\nseparateMinorPatch¶\\nIf set to true, Renovate will separate minor and patch updates into separate branches.'),\n",
       " Document(metadata={'source': 'https://docs.renovatebot.com/configuration-options/', 'title': 'Configuration Options - Renovate Docs', 'description': 'Configuration Options usable in renovate.json or package.json', 'language': 'en'}, page_content='Name\\nValue\\n\\n\\n\\n\\ntype\\nboolean\\n\\n\\ndefault\\nfalse\\n\\n\\ncli\\n--separate-multiple-minor\\n\\n\\nenv\\nRENOVATE_SEPARATE_MULTIPLE_MINOR\\n\\n\\n\\nEnable this for dependencies when it is important to split updates into separate PRs per minor release stream (e.g. python).\\nFor example, if you are on python@v3.9.0 currently, then by default Renovate creates a PR to upgrade you to the latest version such as python@v3.12.x.\\nBy default, Renovate skips versions in between, like python@v3.10.x.\\nBut if you set separateMultipleMinor=true then you get separate PRs for each minor stream, like python@3.9.x, python@v3.10.x and python@v3.11.x, etc.\\n\\n\\nThis feature is flagged as experimental\\nExperimental features might be changed or even removed at any time.\\n\\nskipInstalls¶\\nSkip installing modules/dependencies if lock file updating is possible without a full install.\\n\\n\\n\\nName\\nValue\\n\\n\\n\\n\\ntype\\nboolean\\n\\n\\ncli\\n--skip-installs\\n\\n\\nenv\\nRENOVATE_SKIP_INSTALLS\\n\\n\\ndefault\\nnull'),\n",
       " Document(metadata={'source': 'https://docs.renovatebot.com/configuration-options/', 'title': 'Configuration Options - Renovate Docs', 'description': 'Configuration Options usable in renovate.json or package.json', 'language': 'en'}, page_content='Name\\nValue\\n\\n\\n\\n\\ntype\\nboolean\\n\\n\\ndefault\\nfalse\\n\\n\\ncli\\n--separate-multiple-major\\n\\n\\nenv\\nRENOVATE_SEPARATE_MULTIPLE_MAJOR\\n\\n\\n\\nConfigure this to true if you wish to get one PR for every separate major version upgrade of a dependency.\\ne.g. if you are on webpack@v1 currently then default behavior is a PR for upgrading to webpack@v3 and not for webpack@v2.\\nIf this setting is true then you would get one PR for webpack@v2 and one for webpack@v3.\\nseparateMultipleMinor¶\\nIf set to true, Renovate creates separate PRs for each minor stream.\\n\\n\\n\\nName\\nValue\\n\\n\\n\\n\\ntype\\nboolean\\n\\n\\ndefault\\nfalse\\n\\n\\ncli\\n--separate-multiple-minor\\n\\n\\nenv\\nRENOVATE_SEPARATE_MULTIPLE_MINOR')]"
      ]
     },
     "execution_count": 41,
     "metadata": {},
     "output_type": "execute_result"
    }
   ],
   "source": [
    "from langchain_community.vectorstores import FAISS\n",
    "\n",
    "renovate_db = FAISS.from_documents(renovate_docs, CohereEmbeddings(model=\"embed-multilingual-v3.0\"))\n",
    "result = renovate_db.similarity_search(\"Please tell me how to set up the PR to separate it into minor and patch versions ?\")\n",
    "result"
   ]
  },
  {
   "cell_type": "markdown",
   "metadata": {},
   "source": [
    "### Vector Store"
   ]
  },
  {
   "cell_type": "markdown",
   "metadata": {},
   "source": [
    "自然言語を用いた類似度検索を行います。"
   ]
  },
  {
   "cell_type": "code",
   "execution_count": 9,
   "metadata": {},
   "outputs": [
    {
     "data": {
      "text/plain": [
       "[Document(metadata={'source': '../app/docs/karubikuppa.txt'}, page_content='BB流カルビクッパの作り方です。\\n\\nまずは、以下の材料を用意します。なお、材料は2人分です。\\n\\n- 牛肉: 50g\\n- 大根: 半分\\n- 人参: 1本\\n- シイタケ: 2-3個\\n- ニンニク: 半分\\n- もやし: 1袋\\n- ニラ: 半分\\n- ぜんまい: 40g\\n    - BB流ポイント 「入れなくても良いですが、入れると@<ttb>{めちゃ旨}です！」\\n- つゆ (*)\\n    - 水: 800cc\\n    - コチュジャン: 大さじ2\\n        - BB流ポイント「入れれば入れるだけ美味しい！」\\n    - ウェイパー: 大さじ2\\n    - ごま油: 大さじ2\\n        - BB流ポイント「入れれば入れるだけ美味しい！」\\n    - 酒: 大さじ2\\n    - 醤油: 大さじ2\\n    - 砂糖: 大さじ2\\n- 塩コショウ:適量\\n- 卵: 2個\\n\\nごま油でニンニクを炒め、香りが出たら牛肉を炒めます。つゆ（*）をいれ、ニラともやし以外を入れてひと煮立ちさせます。\\n最後にニラともやしを入れてある程度シャキシャキ感を残しつつ、卵をふんわりさせたらBB流カルビクッパの完成です！\\nなお、卵をふんわりさせるコツはつゆを限界まで沸騰させることです！\\n'),\n",
       " Document(metadata={'source': '../app/docs/spice-curry.txt'}, page_content='BB流のスパイスカレーのレシピです。\\n\\nまずは、以下の材料を用意します。なお、材料は2人分です。\\n\\n- 鶏モモ肉皮なし: 200g\\n- たまねぎ1/2: 110g\\n- にんにく: 4g（チューブ8㎝）\\n- しょうが: 4g（チューブ8㎝）\\n- 塩: 2g\\n- オリーブ油: 8ｇ\\n- トマト缶1/3: 60g\\n- カレー粉: 5g\\n- ガラムマサラ: 1g\\n- ケチャップ: 18g\\n- ウスターソース: 18g\\n\\n作り方は以下の通りです。\\n\\n1. 玉ねぎを粗みじんに切る\\n2. 鶏モモは皮を外し一口大に切る\\n3. 鍋にオリーブオイルを熱したまねぎ、にんにく、しょうが、塩をいれ中火で炒める\\n4. たまねぎが半透明になったらトマト缶とカレースバイスを入れる\\n5. 強火にかけ全体を混ぜる\\n6. 鶏モモ肉、水100㎖、ケチャップ、ウスターソースを加え蓋をして中火で煮る\\n7. 鶏肉に火が通ったら蓋をとり好みのトロミ具合になるまで煮る\\n\\n鶏モモでのレシピですが、鶏むね肉やサバ缶、ノンオイルツナ缶へ変えると\\nより脂質を減らせアレンジできます\\n是非作ってみてくださいね\\n'),\n",
       " Document(metadata={'source': '../app/docs/hoiruyaki.txt'}, page_content='BB流の究極のホイル焼きレシピの作り方です。\\n\\n材料\\n- アスパラガス3，4本\\n- ハーフベーコン2枚\\n- 塩\\n- ピザ用チーズ\\n- 黒胡椒\\n\\n作り方は以下の通りです。\\n\\n1. アスパラは根元の皮を剥き食べやすい長さに切る\\n2. 耐熱容器にアスパラを入れてラップを掛けて600Wの電子レンジで3分、塩を振って味を調える\\n3. アルミホイルで器を作り、アスパラと1センチ幅に切ったベーコンを入れる\\n4. ピザ用チーズを掛けてオーブントースターでチーズが溶けるまで加熱\\n5. 仕上げに黒胡椒を掛けて完成\\n\\nぜひ試してみてください\\n'),\n",
       " Document(metadata={'source': '../app/docs/kinoko-marine.txt'}, page_content='BB流きのこマリネの作り方です。\\n\\nまずは、以下の材料を用意します。なお、材料は2人分です。\\n\\n- お好きなきのこ\\n    - 複数種類用意するととても美味しいです\\n    - BB的には、エリンギ、椎茸、マッシュルーム、しめじ、舞茸、平茸などがおすすめです\\n- バター（無塩）: 10g\\n- にんにく: 1個\\n- マリネ用のたれ (*)\\n    - マスタード: 大さじ2\\n    - 白ワインビネガー: 大さじ1~2\\n    - ケッパー: 15粒程度\\n- パセリ: お好きな方はたくさん\\n\\nフライパンにオリーブオイルをひき、強火できのこを炒めます。ある程度炒まったらちょっと効き過ぎなんじゃないの？ってくらい塩を加えます。\\n火を弱め、きのこをフライパンの端によせ、バターとにんにくを入れ、香りを立たせます。\\nあらかじめ合わせておいたマリネ用のタレと合わせたら完成です！\\nぜひ、お酒と合わせて嗜んでください！白ワイン、ビール、ハイボールとお酒泥棒になること間違いなしでしょう。\\n')]"
      ]
     },
     "execution_count": 9,
     "metadata": {},
     "output_type": "execute_result"
    }
   ],
   "source": [
    "db = FAISS.from_documents(documents, embeddings)\n",
    "result = db.similarity_search(query=\"カルビクッパ\")\n",
    "result"
   ]
  },
  {
   "cell_type": "markdown",
   "metadata": {},
   "source": [
    "### Retriever\n",
    "\n",
    "Vector StoreからRetrieverの生成"
   ]
  },
  {
   "cell_type": "code",
   "execution_count": 23,
   "metadata": {},
   "outputs": [
    {
     "data": {
      "text/plain": [
       "VectorStoreRetriever(tags=['FAISS', 'CohereEmbeddings'], vectorstore=<langchain_community.vectorstores.faiss.FAISS object at 0x7f1eeceb9250>, search_kwargs={})"
      ]
     },
     "execution_count": 23,
     "metadata": {},
     "output_type": "execute_result"
    }
   ],
   "source": [
    "retriever = db.as_retriever()\n",
    "retriever"
   ]
  },
  {
   "cell_type": "markdown",
   "metadata": {},
   "source": [
    "WikipediaRetriever"
   ]
  },
  {
   "cell_type": "code",
   "execution_count": 53,
   "metadata": {},
   "outputs": [
    {
     "data": {
      "text/plain": [
       "21"
      ]
     },
     "execution_count": 53,
     "metadata": {},
     "output_type": "execute_result"
    }
   ],
   "source": [
    "from langchain_community.retrievers import WikipediaRetriever\n",
    "\n",
    "retriever = WikipediaRetriever()\n",
    "docs = retriever.invoke(\"Mobile Suit Gundam SEED Freedom\")\n",
    "#docs[0].page_content\n",
    "\n",
    "renovate_docs = RecursiveCharacterTextSplitter(\n",
    "    chunk_size=1000, chunk_overlap=200\n",
    ").split_documents(docs)\n",
    "len(renovate_docs)"
   ]
  },
  {
   "cell_type": "markdown",
   "metadata": {},
   "source": [
    "### BB流のレシピを教えてくれるアプリケーション"
   ]
  },
  {
   "cell_type": "code",
   "execution_count": 60,
   "metadata": {},
   "outputs": [
    {
     "name": "stdout",
     "output_type": "stream",
     "text": [
      "BB流カルビクッパの作り方は、以下の通りです。\n",
      "\n",
      "材料（2人分）\n",
      "- 牛肉: 50g\n",
      "- 大根: 半分\n",
      "- 人参: 1本\n",
      "- シイタケ: 2-3個\n",
      "- ニンニク: 半分\n",
      "- もやし: 1袋\n",
      "- ニラ: 半分\n",
      "- ぜんまい: 40g（オプション）\n",
      "- つゆ:\n",
      "  - 水: 800cc\n",
      "  - コチュジャン: 大さじ2\n",
      "  - ウェイパー: 大さじ2\n",
      "  - ごま油: 大さじ2\n",
      "  - 酒: 大さじ2\n",
      "  - 醤油: 大さじ2\n",
      "  - 砂糖: 大さじ2\n",
      "- 塩コショウ: 適量\n",
      "- 卵: 2個\n",
      "\n",
      "作り方\n",
      "1. ごま油でニンニクを炒め、香りが出たら牛肉を炒めます。\n",
      "2. つゆをいれ、ニラともやし以外を入れてひと煮立ちさせます。\n",
      "3. 最後にニラともやしを入れてある程度シャキシャキ感を残しつつ、卵をふんわりさせたら完成です。卵をふんわりさせるコツは、つゆを限界まで沸騰させることです。\n",
      "\n",
      "ぜんまいは入れなくても良いですが、入れるとより一層美味しくなるそうです。また、ごま油とコチュジャンは「入れれば入れるだけ美味しい」とのことです。\n",
      "\n",
      "以上です。お試しください！"
     ]
    }
   ],
   "source": [
    "from langchain_core.runnables import RunnablePassthrough\n",
    "from langchain_core.output_parsers import StrOutputParser\n",
    "from langchain_core.prompts import PromptTemplate\n",
    "\n",
    "from langchain_cohere.chat_models import ChatCohere\n",
    "\n",
    "chat = ChatCohere(\n",
    "    model=\"command-r-plus\"\n",
    ")\n",
    "retriever = db.as_retriever()\n",
    "\n",
    "prompt_template = PromptTemplate.from_template(template=\"\"\"\n",
    "あなたは有能なアシスタントです。\n",
    "以下のコンテキストに基づいて質問に対する回答を作成してください。\n",
    "分からない場合は分からないと回答してください。\n",
    "\n",
    "## コンテキスト\n",
    "\n",
    "{context}\n",
    "\n",
    "## 質問\n",
    "\n",
    "{question}\n",
    "\"\"\")\n",
    "\n",
    "chain = (\n",
    "    {\"question\": RunnablePassthrough(), \"context\": retriever}\n",
    "    | prompt_template\n",
    "    | chat\n",
    "    | StrOutputParser()\n",
    ")\n",
    "\n",
    "response = chain.stream(\"カルビクッパってどうやって作るのでしょうか？\")\n",
    "\n",
    "for chunk in response:\n",
    "    print(chunk, end=\"\")\n"
   ]
  },
  {
   "cell_type": "markdown",
   "metadata": {},
   "source": [
    "### xQL完全ガイドについて教えてくれるアプリケーション"
   ]
  },
  {
   "cell_type": "code",
   "execution_count": 61,
   "metadata": {},
   "outputs": [],
   "source": [
    "xql_doc = WebBaseLoader(\"https://techbookfest.org/product/vwEgK9fAmzRphNukv4E83P?productVariantID=b6iAh0AVyEs4hCUczPiy\").load()\n",
    "xql_db = FAISS.from_documents(xql_doc, CohereEmbeddings(model=\"embed-multilingual-v3.0\"))\n",
    "xql_retriever = xql_db.as_retriever()"
   ]
  },
  {
   "cell_type": "code",
   "execution_count": 36,
   "metadata": {},
   "outputs": [
    {
     "name": "stdout",
     "output_type": "stream",
     "text": [
      "xQL 完全ガイドは、Prometheus、Grafana Loki、Grafana Tempo などのモニタリング ツールで使用されるクエリ言語、PromQL、LogQL、TraceQL について解説したガイドブックです。これらのツールで計測したテレメトリー シグナルの中から、必要なメトリクス、ログ、トレースを探索する方法を学習できます。ガイドでは、各クエリ言語の解説に加え、参考問題やサンプル アプリ、Docker 環境が提供されており、読者が実際に手を動かしながら学ぶことができるようになっています。このガイドを通じて、システムのオブザーバビリティを高め、クラウドネイティブなアプリケーションの運用を効率化することが期待されます。"
     ]
    }
   ],
   "source": [
    "\n",
    "chain = (\n",
    "    {\"question\": RunnablePassthrough(), \"context\": xql_retriever}\n",
    "    | prompt_template\n",
    "    | chat\n",
    "    | StrOutputParser()\n",
    ")\n",
    "\n",
    "response = chain.stream(\"xQL完全ガイドってなに？\")\n",
    "\n",
    "for chunk in response:\n",
    "    print(chunk, end=\"\")\n"
   ]
  },
  {
   "cell_type": "code",
   "execution_count": 59,
   "metadata": {},
   "outputs": [
    {
     "name": "stdout",
     "output_type": "stream",
     "text": [
      "LangChain v0.3 では、いくつかの古いチェーンが廃止予定となっており、LangChain 1.0.0 で削除される予定です。これらのチェーンには、以下のものがあります。\n",
      "\n",
      "- ConstitutionalChain\n",
      "- ConversationalChain\n",
      "- ConversationalRetrievalChain\n",
      "- LLMChain\n",
      "- LLMMathChain\n",
      "- LLMRouterChain\n",
      "- DocumentsChain\n",
      "- MapRerankDocumentsChain\n",
      "- MultiPromptChain\n",
      "- RefineDocumentsChain\n",
      "- RetrievalQA\n",
      "- StuffDocumentsChain\n",
      "\n",
      "LangChain のドキュメントには、これらのチェーンのそれぞれに対する移行ガイドが記載されています。"
     ]
    }
   ],
   "source": [
    "xql_doc = WebBaseLoader(\"https://python.langchain.com/docs/versions/v0_3/\").load()\n",
    "xql_db = FAISS.from_documents(xql_doc, CohereEmbeddings(model=\"embed-multilingual-v3.0\"))\n",
    "xql_retriever = xql_db.as_retriever()\n",
    "\n",
    "chain = (\n",
    "    {\"question\": RunnablePassthrough(), \"context\": xql_retriever}\n",
    "    | prompt_template\n",
    "    | chat\n",
    "    | StrOutputParser()\n",
    ")\n",
    "\n",
    "response = chain.stream(\"LangChain v3で廃止予定となったチェーンってなに？\")\n",
    "\n",
    "for chunk in response:\n",
    "    print(chunk, end=\"\")"
   ]
  }
 ],
 "metadata": {
  "kernelspec": {
   "display_name": "venv",
   "language": "python",
   "name": "python3"
  },
  "language_info": {
   "codemirror_mode": {
    "name": "ipython",
    "version": 3
   },
   "file_extension": ".py",
   "mimetype": "text/x-python",
   "name": "python",
   "nbconvert_exporter": "python",
   "pygments_lexer": "ipython3",
   "version": "3.12.6"
  }
 },
 "nbformat": 4,
 "nbformat_minor": 2
}
